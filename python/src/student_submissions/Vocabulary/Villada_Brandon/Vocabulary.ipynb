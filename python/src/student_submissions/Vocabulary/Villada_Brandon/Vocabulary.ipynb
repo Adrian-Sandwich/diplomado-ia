{
  "nbformat": 4,
  "nbformat_minor": 0,
  "metadata": {
    "colab": {
      "provenance": []
    },
    "kernelspec": {
      "name": "python3",
      "display_name": "Python 3"
    },
    "language_info": {
      "name": "python"
    }
  },
  "cells": [
    {
      "cell_type": "code",
      "execution_count": 2,
      "metadata": {
        "colab": {
          "base_uri": "https://localhost:8080/"
        },
        "id": "lmA44Tzuyzla",
        "outputId": "c35b2d42-f5ac-4cee-a803-ea2a3cdf3645"
      },
      "outputs": [
        {
          "output_type": "stream",
          "name": "stdout",
          "text": [
            "Collecting pdfplumber\n",
            "  Downloading pdfplumber-0.11.5-py3-none-any.whl.metadata (42 kB)\n",
            "\u001b[?25l     \u001b[90m━━━━━━━━━━━━━━━━━━━━━━━━━━━━━━━━━━━━━━━━\u001b[0m \u001b[32m0.0/42.5 kB\u001b[0m \u001b[31m?\u001b[0m eta \u001b[36m-:--:--\u001b[0m\r\u001b[2K     \u001b[90m━━━━━━━━━━━━━━━━━━━━━━━━━━━━━━━━━━━━━━━━\u001b[0m \u001b[32m42.5/42.5 kB\u001b[0m \u001b[31m1.7 MB/s\u001b[0m eta \u001b[36m0:00:00\u001b[0m\n",
            "\u001b[?25hCollecting pdfminer.six==20231228 (from pdfplumber)\n",
            "  Downloading pdfminer.six-20231228-py3-none-any.whl.metadata (4.2 kB)\n",
            "Requirement already satisfied: Pillow>=9.1 in /usr/local/lib/python3.11/dist-packages (from pdfplumber) (11.1.0)\n",
            "Collecting pypdfium2>=4.18.0 (from pdfplumber)\n",
            "  Downloading pypdfium2-4.30.1-py3-none-manylinux_2_17_x86_64.manylinux2014_x86_64.whl.metadata (48 kB)\n",
            "\u001b[2K     \u001b[90m━━━━━━━━━━━━━━━━━━━━━━━━━━━━━━━━━━━━━━━━\u001b[0m \u001b[32m48.2/48.2 kB\u001b[0m \u001b[31m3.1 MB/s\u001b[0m eta \u001b[36m0:00:00\u001b[0m\n",
            "\u001b[?25hRequirement already satisfied: charset-normalizer>=2.0.0 in /usr/local/lib/python3.11/dist-packages (from pdfminer.six==20231228->pdfplumber) (3.4.1)\n",
            "Requirement already satisfied: cryptography>=36.0.0 in /usr/local/lib/python3.11/dist-packages (from pdfminer.six==20231228->pdfplumber) (43.0.3)\n",
            "Requirement already satisfied: cffi>=1.12 in /usr/local/lib/python3.11/dist-packages (from cryptography>=36.0.0->pdfminer.six==20231228->pdfplumber) (1.17.1)\n",
            "Requirement already satisfied: pycparser in /usr/local/lib/python3.11/dist-packages (from cffi>=1.12->cryptography>=36.0.0->pdfminer.six==20231228->pdfplumber) (2.22)\n",
            "Downloading pdfplumber-0.11.5-py3-none-any.whl (59 kB)\n",
            "\u001b[2K   \u001b[90m━━━━━━━━━━━━━━━━━━━━━━━━━━━━━━━━━━━━━━━━\u001b[0m \u001b[32m59.5/59.5 kB\u001b[0m \u001b[31m4.1 MB/s\u001b[0m eta \u001b[36m0:00:00\u001b[0m\n",
            "\u001b[?25hDownloading pdfminer.six-20231228-py3-none-any.whl (5.6 MB)\n",
            "\u001b[2K   \u001b[90m━━━━━━━━━━━━━━━━━━━━━━━━━━━━━━━━━━━━━━━━\u001b[0m \u001b[32m5.6/5.6 MB\u001b[0m \u001b[31m45.9 MB/s\u001b[0m eta \u001b[36m0:00:00\u001b[0m\n",
            "\u001b[?25hDownloading pypdfium2-4.30.1-py3-none-manylinux_2_17_x86_64.manylinux2014_x86_64.whl (2.9 MB)\n",
            "\u001b[2K   \u001b[90m━━━━━━━━━━━━━━━━━━━━━━━━━━━━━━━━━━━━━━━━\u001b[0m \u001b[32m2.9/2.9 MB\u001b[0m \u001b[31m58.9 MB/s\u001b[0m eta \u001b[36m0:00:00\u001b[0m\n",
            "\u001b[?25hInstalling collected packages: pypdfium2, pdfminer.six, pdfplumber\n",
            "Successfully installed pdfminer.six-20231228 pdfplumber-0.11.5 pypdfium2-4.30.1\n"
          ]
        }
      ],
      "source": [
        "import re\n",
        "import pandas as pd\n",
        "!pip install pdfplumber\n",
        "import pdfplumber"
      ]
    },
    {
      "cell_type": "code",
      "source": [
        "# Función para extraer texto de un PDF y guardarlo en un CSV\n",
        "def pdf_a_csv(archivo_pdf, archivo_csv):\n",
        "    with pdfplumber.open(archivo_pdf) as pdf:\n",
        "        texto = \"\\n\".join([page.extract_text() for page in pdf.pages if page.extract_text()])\n",
        "\n",
        "    df = pd.DataFrame({'texto': [texto]})\n",
        "    df.to_csv(archivo_csv, index=False, encoding=\"utf-8\")\n",
        "    return texto\n",
        "\n",
        "# Función simplificada para limpiar el texto\n",
        "def limpiar_texto(texto):\n",
        "    texto = texto.lower()\n",
        "    texto = re.sub(r'[^a-záéíóúüñ\\s]', '', texto)\n",
        "    return texto\n",
        "\n",
        "# Convertir PDF a CSV\n",
        "archivo_pdf = \"./Los-miserables.pdf\"\n",
        "archivo_csv = \"./Los-miserables.csv\"\n",
        "texto = pdf_a_csv(archivo_pdf, archivo_csv)\n",
        "\n",
        "# Procesar texto y construir vocabulario\n",
        "palabras = limpiar_texto(texto).split()\n",
        "vocabulario = {}\n",
        "for palabra in palabras:\n",
        "    vocabulario[palabra] = vocabulario.get(palabra, 0) + 1\n",
        "\n",
        "# Ordenar por frecuencia\n",
        "valores_ord = sorted(vocabulario.items(), key=lambda x: x[1], reverse=True)\n",
        "\n",
        "# Mostrar estadísticas\n",
        "print(f\"Total de palabras: {len(palabras)}\")\n",
        "print(f\"Total de palabras no repetidas: {len(vocabulario)}\")\n",
        "print(\"100 palabras más frecuentes:\", valores_ord[:100])\n",
        "print(\"100 palabras menos frecuentes:\", valores_ord[-100:])\n",
        "\n",
        "# Guardar en parquet\n",
        "pd.DataFrame(valores_ord, columns=['word', 'count']).to_parquet('MiserablesVocabulary.parquet')"
      ],
      "metadata": {
        "colab": {
          "base_uri": "https://localhost:8080/"
        },
        "id": "9_6vrp48zEoL",
        "outputId": "da858f69-1e3d-4c84-8e02-fd7b8f702b6d"
      },
      "execution_count": 4,
      "outputs": [
        {
          "output_type": "stream",
          "name": "stdout",
          "text": [
            "Total de palabras: 109276\n",
            "Total de palabras no repetidas: 13255\n",
            "100 palabras más frecuentes: [('de', 5324), ('la', 3918), ('que', 3505), ('y', 3123), ('el', 3081), ('en', 2836), ('a', 2489), ('se', 1633), ('un', 1601), ('no', 1498), ('los', 1353), ('una', 1316), ('su', 1245), ('por', 936), ('las', 935), ('con', 924), ('había', 858), ('del', 813), ('al', 756), ('es', 749), ('lo', 717), ('le', 667), ('era', 650), ('más', 510), ('como', 509), ('para', 504), ('señor', 447), ('pero', 372), ('hombre', 363), ('sus', 344), ('todo', 327), ('me', 326), ('él', 313), ('qué', 313), ('sin', 311), ('obispo', 286), ('dijo', 281), ('estaba', 273), ('sobre', 269), ('cuando', 265), ('dos', 264), ('aquel', 247), ('esta', 237), ('si', 233), ('ya', 229), ('este', 219), ('yo', 218), ('esto', 218), ('madeleine', 214), ('tenía', 211), ('jean', 200), ('ha', 199), ('mi', 196), ('fantine', 194), ('valjean', 192), ('aquella', 186), ('hay', 186), ('he', 182), ('ser', 181), ('muy', 178), ('javert', 175), ('nada', 174), ('mismo', 173), ('o', 164), ('os', 163), ('poco', 158), ('tan', 158), ('bien', 157), ('ni', 156), ('ella', 155), ('alcalde', 149), ('vez', 148), ('después', 146), ('fue', 145), ('todos', 141), ('puerta', 139), ('años', 136), ('está', 134), ('hubiera', 133), ('dios', 130), ('mujer', 128), ('momento', 125), ('sí', 125), ('tiempo', 124), ('sido', 124), ('casa', 123), ('cual', 122), ('son', 121), ('aquí', 120), ('noche', 119), ('hecho', 118), ('hacia', 116), ('tres', 115), ('día', 114), ('luego', 113), ('cabeza', 113), ('decir', 112), ('voz', 111), ('allí', 107), ('ojos', 107)]\n",
            "100 palabras menos frecuentes: [('réprobo', 1), ('emocionantes', 1), ('florecer', 1), ('pálidos', 1), ('fulgor', 1), ('sepultura', 1), ('recluyó', 1), ('lugares', 1), ('conversaciones', 1), ('béjean', 1), ('bojean', 1), ('boujean', 1), ('almibarado', 1), ('rehusado', 1), ('perillanes', 1), ('sucia', 1), ('abundaron', 1), ('abonada', 1), ('drapeau', 1), ('blanc', 1), ('enseñará', 1), ('partidarios', 1), ('despavorida', 1), ('reflexionando', 1), ('puestos', 1), ('velaban', 1), ('colgó', 1), ('esperara', 1), ('inconscientemente', 1), ('ensimismamiento', 1), ('candela', 1), ('boquiabierta', 1), ('retenido', 1), ('embargada', 1), ('barrote', 1), ('guardaría', 1), ('maestra', 1), ('lateral', 1), ('registrado', 1), ('conducían', 1), ('peldaños', 1), ('deshecha', 1), ('huella', 1), ('penúltima', 1), ('obtuvo', 1), ('envolvió', 1), ('embalaba', 1), ('mordiendo', 1), ('comprobado', 1), ('migas', 1), ('encontradas', 1), ('pesquisas', 1), ('enrojecidos', 1), ('violencias', 1), ('íntegros', 1), ('entrañas', 1), ('obligan', 1), ('doblar', 1), ('leerlo', 1), ('servirá', 1), ('sonidos', 1), ('inarticulados', 1), ('persiguiéndome', 1), ('turbaría', 1), ('alboroto', 1), ('murmullos', 1), ('protestas', 1), ('ambiente', 1), ('respirable', 1), ('íntegramente', 1), ('objeción', 1), ('correcto', 1), ('amuralladas', 1), ('retirarse', 1), ('quedarse', 1), ('aventurar', 1), ('desfallecer', 1), ('insista', 1), ('evadido', 1), ('mintió', 1), ('seguidas', 1), ('holocausto', 1), ('valga', 1), ('reparó', 1), ('singularidad', 1), ('bujía', 1), ('marchando', 1), ('brumas', 1), ('alejaba', 1), ('devuelta', 1), ('posiblemente', 1), ('reservar', 1), ('simplificó', 1), ('estricto', 1), ('enterrada', 1), ('gratuito', 1), ('cementerio', 1), ('encontrados', 1), ('sufrió', 1), ('promiscuidad', 1)]\n"
          ]
        }
      ]
    }
  ]
}