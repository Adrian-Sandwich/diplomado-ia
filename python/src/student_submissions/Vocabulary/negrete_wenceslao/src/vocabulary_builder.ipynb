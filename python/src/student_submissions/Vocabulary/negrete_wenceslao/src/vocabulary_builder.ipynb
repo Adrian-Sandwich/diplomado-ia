{
 "cells": [
  {
   "cell_type": "markdown",
   "metadata": {},
   "source": [
    "# Vocabulary Builder\n",
    "\n",
    "This notebook will:\n",
    "1. Clean the CSV file of Los Miserables\n",
    "2. Standardize the text (lowercase, no whitespace, no punctuation, no accents)\n",
    "3. Create a vocabulary with word frequencies\n",
    "4. Store the vocabulary on disk in parquet format\n",
    "5. Compute and display statistics"
   ]
  },
  {
   "cell_type": "code",
   "execution_count": 13,
   "metadata": {},
   "outputs": [],
   "source": [
    "# Import required libraries\n",
    "import pandas as pd\n",
    "import re\n",
    "import string\n",
    "from collections import Counter\n",
    "from unidecode import unidecode\n",
    "import os\n",
    "import matplotlib.pyplot as plt\n",
    "\n",
    "# Create output directories if they don't exist\n",
    "os.makedirs('../fig', exist_ok=True)\n",
    "os.makedirs('../report', exist_ok=True)"
   ]
  },
  {
   "cell_type": "markdown",
   "metadata": {},
   "source": [
    "## 1. Load the CSV data"
   ]
  },
  {
   "cell_type": "code",
   "execution_count": 14,
   "metadata": {},
   "outputs": [
    {
     "name": "stdout",
     "output_type": "stream",
     "text": [
      "CSV contains 305 rows and 2 columns\n"
     ]
    },
    {
     "data": {
      "text/html": [
       "<div>\n",
       "<style scoped>\n",
       "    .dataframe tbody tr th:only-of-type {\n",
       "        vertical-align: middle;\n",
       "    }\n",
       "\n",
       "    .dataframe tbody tr th {\n",
       "        vertical-align: top;\n",
       "    }\n",
       "\n",
       "    .dataframe thead th {\n",
       "        text-align: right;\n",
       "    }\n",
       "</style>\n",
       "<table border=\"1\" class=\"dataframe\">\n",
       "  <thead>\n",
       "    <tr style=\"text-align: right;\">\n",
       "      <th></th>\n",
       "      <th>page_number</th>\n",
       "      <th>text</th>\n",
       "    </tr>\n",
       "  </thead>\n",
       "  <tbody>\n",
       "    <tr>\n",
       "      <th>0</th>\n",
       "      <td>1</td>\n",
       "      <td>NaN</td>\n",
       "    </tr>\n",
       "    <tr>\n",
       "      <th>1</th>\n",
       "      <td>2</td>\n",
       "      <td>2 Los miserables I Hugo, Victor Novela Se reco...</td>\n",
       "    </tr>\n",
       "    <tr>\n",
       "      <th>2</th>\n",
       "      <td>3</td>\n",
       "      <td>3 PRIMERA PARTE Fantine</td>\n",
       "    </tr>\n",
       "    <tr>\n",
       "      <th>3</th>\n",
       "      <td>4</td>\n",
       "      <td>4 LIBRO PRIMERO Un justo</td>\n",
       "    </tr>\n",
       "    <tr>\n",
       "      <th>4</th>\n",
       "      <td>5</td>\n",
       "      <td>5 I El señor Myriel En 1815, monseñor Charles-...</td>\n",
       "    </tr>\n",
       "  </tbody>\n",
       "</table>\n",
       "</div>"
      ],
      "text/plain": [
       "   page_number                                               text\n",
       "0            1                                                NaN\n",
       "1            2  2 Los miserables I Hugo, Victor Novela Se reco...\n",
       "2            3                            3 PRIMERA PARTE Fantine\n",
       "3            4                           4 LIBRO PRIMERO Un justo\n",
       "4            5  5 I El señor Myriel En 1815, monseñor Charles-..."
      ]
     },
     "execution_count": 14,
     "metadata": {},
     "output_type": "execute_result"
    }
   ],
   "source": [
    "# File paths\n",
    "csv_path = '../dat/Los-miserables.csv'\n",
    "vocab_path = '../dat/Los-miserables-vocabulary.parquet'\n",
    "stats_path = '../report/statistics.txt'\n",
    "\n",
    "# Read the CSV file containing the text\n",
    "df = pd.read_csv(csv_path)\n",
    "\n",
    "# Display first few rows to understand the structure\n",
    "print(f\"CSV contains {len(df)} rows and {len(df.columns)} columns\")\n",
    "df.head()"
   ]
  },
  {
   "cell_type": "markdown",
   "metadata": {},
   "source": [
    "## 2. Standardize Text\n",
    "\n",
    "We'll define a function to standardize text by:\n",
    "- Converting to lowercase\n",
    "- Removing punctuation\n",
    "- Removing accents\n",
    "- Removing extra whitespace"
   ]
  },
  {
   "cell_type": "code",
   "execution_count": 15,
   "metadata": {},
   "outputs": [],
   "source": [
    "def standardize_text(text):\n",
    "    \"\"\"\n",
    "    Standardize text by:\n",
    "    - Converting to lowercase\n",
    "    - Removing punctuation\n",
    "    - Removing accents\n",
    "    - Removing extra whitespace\n",
    "    \"\"\"\n",
    "    # Convert to lowercase\n",
    "    text = text.lower()\n",
    "    \n",
    "    # Remove accents\n",
    "    text = unidecode(text)\n",
    "    \n",
    "    # Remove punctuation\n",
    "    text = text.translate(str.maketrans('', '', string.punctuation))\n",
    "    \n",
    "    # Remove numbers\n",
    "    text = re.sub(r'\\d+', '', text)\n",
    "    \n",
    "    # Remove extra whitespace\n",
    "    text = re.sub(r'\\s+', ' ', text).strip()\n",
    "    \n",
    "    return text"
   ]
  },
  {
   "cell_type": "markdown",
   "metadata": {},
   "source": [
    "## 3. Process Text and Create Vocabulary"
   ]
  },
  {
   "cell_type": "code",
   "execution_count": 16,
   "metadata": {},
   "outputs": [
    {
     "name": "stdout",
     "output_type": "stream",
     "text": [
      "Combining all text...\n",
      "Standardizing text...\n",
      "\n",
      "Sample of standardized text:\n",
      "nan los miserables i hugo victor novela se reconocen los derechos morales de hugo victor obra de dominio publico distribucion gratuita prohibida su venta y distribucion en medios ajenos a la fundacion carlos slim fundacion carlos slim lago zurich plaza carso ii piso col ampliacion granada c p ciudad de mexico mexico contactopruebatorg primera parte fantine libro primero un justo i el senor myriel en monsenor charlesfrancoisbienvenu myriel era obispo de digne era un anciano de cerca de setenta y  ...\n"
     ]
    }
   ],
   "source": [
    "print(\"Combining all text...\")\n",
    "# Combine all text into a single string\n",
    "all_text = ' '.join(df['text'].astype(str).tolist())\n",
    "\n",
    "print(\"Standardizing text...\")\n",
    "# Standardize text\n",
    "standardized_text = standardize_text(all_text)\n",
    "\n",
    "# Display a sample of the standardized text\n",
    "print(\"\\nSample of standardized text:\")\n",
    "print(standardized_text[:500], \"...\")"
   ]
  },
  {
   "cell_type": "code",
   "execution_count": 17,
   "metadata": {},
   "outputs": [
    {
     "name": "stdout",
     "output_type": "stream",
     "text": [
      "Creating vocabulary...\n",
      "Vocabulary contains 13106 unique words\n"
     ]
    },
    {
     "data": {
      "text/html": [
       "<div>\n",
       "<style scoped>\n",
       "    .dataframe tbody tr th:only-of-type {\n",
       "        vertical-align: middle;\n",
       "    }\n",
       "\n",
       "    .dataframe tbody tr th {\n",
       "        vertical-align: top;\n",
       "    }\n",
       "\n",
       "    .dataframe thead th {\n",
       "        text-align: right;\n",
       "    }\n",
       "</style>\n",
       "<table border=\"1\" class=\"dataframe\">\n",
       "  <thead>\n",
       "    <tr style=\"text-align: right;\">\n",
       "      <th></th>\n",
       "      <th>word</th>\n",
       "      <th>frequency</th>\n",
       "    </tr>\n",
       "  </thead>\n",
       "  <tbody>\n",
       "    <tr>\n",
       "      <th>11</th>\n",
       "      <td>de</td>\n",
       "      <td>5325</td>\n",
       "    </tr>\n",
       "    <tr>\n",
       "      <th>25</th>\n",
       "      <td>la</td>\n",
       "      <td>3918</td>\n",
       "    </tr>\n",
       "    <tr>\n",
       "      <th>76</th>\n",
       "      <td>que</td>\n",
       "      <td>3818</td>\n",
       "    </tr>\n",
       "    <tr>\n",
       "      <th>50</th>\n",
       "      <td>el</td>\n",
       "      <td>3394</td>\n",
       "    </tr>\n",
       "    <tr>\n",
       "      <th>20</th>\n",
       "      <td>y</td>\n",
       "      <td>3123</td>\n",
       "    </tr>\n",
       "    <tr>\n",
       "      <th>21</th>\n",
       "      <td>en</td>\n",
       "      <td>2836</td>\n",
       "    </tr>\n",
       "    <tr>\n",
       "      <th>24</th>\n",
       "      <td>a</td>\n",
       "      <td>2489</td>\n",
       "    </tr>\n",
       "    <tr>\n",
       "      <th>7</th>\n",
       "      <td>se</td>\n",
       "      <td>1681</td>\n",
       "    </tr>\n",
       "    <tr>\n",
       "      <th>48</th>\n",
       "      <td>un</td>\n",
       "      <td>1601</td>\n",
       "    </tr>\n",
       "    <tr>\n",
       "      <th>69</th>\n",
       "      <td>no</td>\n",
       "      <td>1499</td>\n",
       "    </tr>\n",
       "  </tbody>\n",
       "</table>\n",
       "</div>"
      ],
      "text/plain": [
       "   word  frequency\n",
       "11   de       5325\n",
       "25   la       3918\n",
       "76  que       3818\n",
       "50   el       3394\n",
       "20    y       3123\n",
       "21   en       2836\n",
       "24    a       2489\n",
       "7    se       1681\n",
       "48   un       1601\n",
       "69   no       1499"
      ]
     },
     "execution_count": 17,
     "metadata": {},
     "output_type": "execute_result"
    }
   ],
   "source": [
    "print(\"Creating vocabulary...\")\n",
    "# Split into words and count frequencies\n",
    "words = standardized_text.split()\n",
    "\n",
    "# Count total words in original text\n",
    "total_words = len(words)\n",
    "\n",
    "# Create vocabulary with word frequencies\n",
    "word_counts = Counter(words)\n",
    "\n",
    "# Create DataFrame for vocabulary\n",
    "vocab_df = pd.DataFrame({\n",
    "    'word': list(word_counts.keys()),\n",
    "    'frequency': list(word_counts.values())\n",
    "}).sort_values(by='frequency', ascending=False)\n",
    "\n",
    "# Display vocabulary sample\n",
    "print(f\"Vocabulary contains {len(vocab_df)} unique words\")\n",
    "vocab_df.head(10)"
   ]
  },
  {
   "cell_type": "markdown",
   "metadata": {},
   "source": [
    "## 4. Store Vocabulary in Parquet Format"
   ]
  },
  {
   "cell_type": "code",
   "execution_count": 18,
   "metadata": {},
   "outputs": [
    {
     "name": "stdout",
     "output_type": "stream",
     "text": [
      "Vocabulary saved to ../dat/Los-miserables-vocabulary.parquet\n",
      "File size: 121.12 KB\n"
     ]
    }
   ],
   "source": [
    "# Store vocabulary in parquet format\n",
    "vocab_df.to_parquet(vocab_path, index=False)\n",
    "print(f\"Vocabulary saved to {vocab_path}\")\n",
    "\n",
    "# Verify file was created\n",
    "if os.path.exists(vocab_path):\n",
    "    file_size = os.path.getsize(vocab_path) / 1024  # Size in KB\n",
    "    print(f\"File size: {file_size:.2f} KB\")\n",
    "else:\n",
    "    print(\"Failed to create parquet file\")"
   ]
  },
  {
   "cell_type": "markdown",
   "metadata": {},
   "source": [
    "## 5. Compute and Display Statistics"
   ]
  },
  {
   "cell_type": "code",
   "execution_count": 19,
   "metadata": {},
   "outputs": [
    {
     "name": "stdout",
     "output_type": "stream",
     "text": [
      "\n",
      "--- Summary Statistics ---\n",
      "Total words in original text: 109264\n",
      "Number of unique words in vocabulary: 13106\n",
      "Average frequency: 8.34 occurrences per word\n"
     ]
    }
   ],
   "source": [
    "# Calculate statistics\n",
    "unique_words = len(word_counts)\n",
    "most_frequent = vocab_df.head(100)\n",
    "least_frequent = vocab_df.tail(100)\n",
    "\n",
    "# Print summary statistics\n",
    "print(\"\\n--- Summary Statistics ---\")\n",
    "print(f\"Total words in original text: {total_words}\")\n",
    "print(f\"Number of unique words in vocabulary: {unique_words}\")\n",
    "print(f\"Average frequency: {total_words / unique_words:.2f} occurrences per word\")"
   ]
  },
  {
   "cell_type": "markdown",
   "metadata": {},
   "source": [
    "### Word Frequency Distribution Visualization"
   ]
  },
  {
   "cell_type": "code",
   "execution_count": 20,
   "metadata": {},
   "outputs": [
    {
     "data": {
      "image/png": "[encoded data removed]",
      "text/plain": [
       "<Figure size 1200x600 with 1 Axes>"
      ]
     },
     "metadata": {},
     "output_type": "display_data"
    }
   ],
   "source": [
    "# Create a distribution plot for word frequencies\n",
    "plt.figure(figsize=(12, 6))\n",
    "sns.histplot(vocab_df['frequency'], bins=50, log_scale=(False, True))\n",
    "plt.title('Word Frequency Distribution (Log Scale)')\n",
    "plt.xlabel('Frequency')\n",
    "plt.ylabel('Count of Words (Log Scale)')\n",
    "plt.grid(True, alpha=0.3)\n",
    "plt.savefig('../fig/word_frequency_distribution.png')\n",
    "plt.show()"
   ]
  },
  {
   "cell_type": "code",
   "execution_count": 21,
   "metadata": {},
   "outputs": [
    {
     "data": {
      "image/png": "[encoded data removed]",
      "text/plain": [
       "<Figure size 1400x800 with 1 Axes>"
      ]
     },
     "metadata": {},
     "output_type": "display_data"
    }
   ],
   "source": [
    "# Top 20 most frequent words visualization\n",
    "plt.figure(figsize=(14, 8))\n",
    "top20 = vocab_df.head(20)\n",
    "sns.barplot(x='word', y='frequency', data=top20)\n",
    "plt.title('Top 20 Most Frequent Words')\n",
    "plt.xticks(rotation=45, ha='right')\n",
    "plt.grid(True, axis='y', alpha=0.3)\n",
    "plt.tight_layout()\n",
    "plt.savefig('../fig/top20_words.png')\n",
    "plt.show()"
   ]
  },
  {
   "cell_type": "markdown",
   "metadata": {},
   "source": [
    "## 6. Most Frequent Words (Top 100)"
   ]
  },
  {
   "cell_type": "code",
   "execution_count": 22,
   "metadata": {},
   "outputs": [
    {
     "name": "stdout",
     "output_type": "stream",
     "text": [
      "\n",
      "--- 100 Most Frequent Words ---\n"
     ]
    },
    {
     "data": {
      "text/html": [
       "<div>\n",
       "<style scoped>\n",
       "    .dataframe tbody tr th:only-of-type {\n",
       "        vertical-align: middle;\n",
       "    }\n",
       "\n",
       "    .dataframe tbody tr th {\n",
       "        vertical-align: top;\n",
       "    }\n",
       "\n",
       "    .dataframe thead th {\n",
       "        text-align: right;\n",
       "    }\n",
       "</style>\n",
       "<table border=\"1\" class=\"dataframe\">\n",
       "  <thead>\n",
       "    <tr style=\"text-align: right;\">\n",
       "      <th></th>\n",
       "      <th>word</th>\n",
       "      <th>frequency</th>\n",
       "    </tr>\n",
       "  </thead>\n",
       "  <tbody>\n",
       "    <tr>\n",
       "      <th>11</th>\n",
       "      <td>de</td>\n",
       "      <td>5325</td>\n",
       "    </tr>\n",
       "    <tr>\n",
       "      <th>25</th>\n",
       "      <td>la</td>\n",
       "      <td>3918</td>\n",
       "    </tr>\n",
       "    <tr>\n",
       "      <th>76</th>\n",
       "      <td>que</td>\n",
       "      <td>3818</td>\n",
       "    </tr>\n",
       "    <tr>\n",
       "      <th>50</th>\n",
       "      <td>el</td>\n",
       "      <td>3394</td>\n",
       "    </tr>\n",
       "    <tr>\n",
       "      <th>20</th>\n",
       "      <td>y</td>\n",
       "      <td>3123</td>\n",
       "    </tr>\n",
       "    <tr>\n",
       "      <th>...</th>\n",
       "      <td>...</td>\n",
       "      <td>...</td>\n",
       "    </tr>\n",
       "    <tr>\n",
       "      <th>663</th>\n",
       "      <td>voz</td>\n",
       "      <td>111</td>\n",
       "    </tr>\n",
       "    <tr>\n",
       "      <th>171</th>\n",
       "      <td>alli</td>\n",
       "      <td>107</td>\n",
       "    </tr>\n",
       "    <tr>\n",
       "      <th>452</th>\n",
       "      <td>ojos</td>\n",
       "      <td>107</td>\n",
       "    </tr>\n",
       "    <tr>\n",
       "      <th>191</th>\n",
       "      <td>aun</td>\n",
       "      <td>105</td>\n",
       "    </tr>\n",
       "    <tr>\n",
       "      <th>53</th>\n",
       "      <td>monsenor</td>\n",
       "      <td>105</td>\n",
       "    </tr>\n",
       "  </tbody>\n",
       "</table>\n",
       "<p>100 rows × 2 columns</p>\n",
       "</div>"
      ],
      "text/plain": [
       "         word  frequency\n",
       "11         de       5325\n",
       "25         la       3918\n",
       "76        que       3818\n",
       "50         el       3394\n",
       "20          y       3123\n",
       "..        ...        ...\n",
       "663       voz        111\n",
       "171      alli        107\n",
       "452      ojos        107\n",
       "191       aun        105\n",
       "53   monsenor        105\n",
       "\n",
       "[100 rows x 2 columns]"
      ]
     },
     "execution_count": 22,
     "metadata": {},
     "output_type": "execute_result"
    }
   ],
   "source": [
    "# Display most frequent words\n",
    "print(\"\\n--- 100 Most Frequent Words ---\")\n",
    "most_frequent"
   ]
  },
  {
   "cell_type": "markdown",
   "metadata": {},
   "source": [
    "## 7. Least Frequent Words (Bottom 100)"
   ]
  },
  {
   "cell_type": "code",
   "execution_count": 23,
   "metadata": {},
   "outputs": [
    {
     "name": "stdout",
     "output_type": "stream",
     "text": [
      "\n",
      "--- 100 Least Frequent Words ---\n"
     ]
    },
    {
     "data": {
      "text/html": [
       "<div>\n",
       "<style scoped>\n",
       "    .dataframe tbody tr th:only-of-type {\n",
       "        vertical-align: middle;\n",
       "    }\n",
       "\n",
       "    .dataframe tbody tr th {\n",
       "        vertical-align: top;\n",
       "    }\n",
       "\n",
       "    .dataframe thead th {\n",
       "        text-align: right;\n",
       "    }\n",
       "</style>\n",
       "<table border=\"1\" class=\"dataframe\">\n",
       "  <thead>\n",
       "    <tr style=\"text-align: right;\">\n",
       "      <th></th>\n",
       "      <th>word</th>\n",
       "      <th>frequency</th>\n",
       "    </tr>\n",
       "  </thead>\n",
       "  <tbody>\n",
       "    <tr>\n",
       "      <th>12973</th>\n",
       "      <td>respondedme</td>\n",
       "      <td>1</td>\n",
       "    </tr>\n",
       "    <tr>\n",
       "      <th>12972</th>\n",
       "      <td>dices</td>\n",
       "      <td>1</td>\n",
       "    </tr>\n",
       "    <tr>\n",
       "      <th>12971</th>\n",
       "      <td>irte</td>\n",
       "      <td>1</td>\n",
       "    </tr>\n",
       "    <tr>\n",
       "      <th>12970</th>\n",
       "      <td>pides</td>\n",
       "      <td>1</td>\n",
       "    </tr>\n",
       "    <tr>\n",
       "      <th>13001</th>\n",
       "      <td>emocionantes</td>\n",
       "      <td>1</td>\n",
       "    </tr>\n",
       "    <tr>\n",
       "      <th>...</th>\n",
       "      <td>...</td>\n",
       "      <td>...</td>\n",
       "    </tr>\n",
       "    <tr>\n",
       "      <th>13095</th>\n",
       "      <td>devuelta</td>\n",
       "      <td>1</td>\n",
       "    </tr>\n",
       "    <tr>\n",
       "      <th>13094</th>\n",
       "      <td>alejaba</td>\n",
       "      <td>1</td>\n",
       "    </tr>\n",
       "    <tr>\n",
       "      <th>13093</th>\n",
       "      <td>brumas</td>\n",
       "      <td>1</td>\n",
       "    </tr>\n",
       "    <tr>\n",
       "      <th>13092</th>\n",
       "      <td>marchando</td>\n",
       "      <td>1</td>\n",
       "    </tr>\n",
       "    <tr>\n",
       "      <th>13091</th>\n",
       "      <td>bujia</td>\n",
       "      <td>1</td>\n",
       "    </tr>\n",
       "  </tbody>\n",
       "</table>\n",
       "<p>100 rows × 2 columns</p>\n",
       "</div>"
      ],
      "text/plain": [
       "               word  frequency\n",
       "12973   respondedme          1\n",
       "12972         dices          1\n",
       "12971          irte          1\n",
       "12970         pides          1\n",
       "13001  emocionantes          1\n",
       "...             ...        ...\n",
       "13095      devuelta          1\n",
       "13094       alejaba          1\n",
       "13093        brumas          1\n",
       "13092     marchando          1\n",
       "13091         bujia          1\n",
       "\n",
       "[100 rows x 2 columns]"
      ]
     },
     "execution_count": 23,
     "metadata": {},
     "output_type": "execute_result"
    }
   ],
   "source": [
    "# Display least frequent words\n",
    "print(\"\\n--- 100 Least Frequent Words ---\")\n",
    "least_frequent"
   ]
  },
  {
   "cell_type": "markdown",
   "metadata": {},
   "source": [
    "## 8. Save Statistics to File"
   ]
  },
  {
   "cell_type": "code",
   "execution_count": 24,
   "metadata": {},
   "outputs": [
    {
     "name": "stdout",
     "output_type": "stream",
     "text": [
      "\n",
      "Statistics saved to ../report/statistics.txt\n"
     ]
    }
   ],
   "source": [
    "# Save statistics to a text file\n",
    "with open(stats_path, 'w', encoding='utf-8') as f:\n",
    "    f.write(\"=== Los Miserables Text Analysis ===\\n\\n\")\n",
    "    f.write(f\"Total words in original text: {total_words}\\n\")\n",
    "    f.write(f\"Number of unique words in vocabulary: {unique_words}\\n\")\n",
    "    f.write(f\"Average frequency: {total_words / unique_words:.2f} occurrences per word\\n\\n\")\n",
    "    \n",
    "    f.write(\"=== 100 Most Frequent Words ===\\n\\n\")\n",
    "    f.write(most_frequent.to_string(index=False) + \"\\n\\n\")\n",
    "    \n",
    "    f.write(\"=== 100 Least Frequent Words ===\\n\\n\")\n",
    "    f.write(least_frequent.to_string(index=False) + \"\\n\\n\")\n",
    "\n",
    "print(f\"\\nStatistics saved to {stats_path}\")"
   ]
  }
 ],
 "metadata": {
  "kernelspec": {
   "display_name": "Python 3",
   "language": "python",
   "name": "python3"
  },
  "language_info": {
   "codemirror_mode": {
    "name": "ipython",
    "version": 3
   },
   "file_extension": ".py",
   "mimetype": "text/x-python",
   "name": "python",
   "nbconvert_exporter": "python",
   "pygments_lexer": "ipython3",
   "version": "3.10.16"
  }
 },
 "nbformat": 4,
 "nbformat_minor": 4
}
