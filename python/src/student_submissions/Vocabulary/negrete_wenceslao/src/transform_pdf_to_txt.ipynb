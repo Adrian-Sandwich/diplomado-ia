{
  "cells": [
    {
      "cell_type": "markdown",
      "metadata": {},
      "source": [
        "# PDF to Text Conversion\n",
        "\n",
        "This notebook converts 'Los-miserables.pdf' to text and saves it in CSV format."
      ]
    },
    {
      "cell_type": "code",
      "execution_count": null,
      "metadata": {},
      "outputs": [
        {
          "ename": "",
          "evalue": "",
          "output_type": "error",
          "traceback": [
            "\u001b[1;31mRunning cells with 'Python 3.13.0' requires the ipykernel package.\n",
            "\u001b[1;31mRun the following command to install 'ipykernel' into the Python environment. \n",
            "\u001b[1;31mCommand: '/usr/local/bin/python3 -m pip install ipykernel -U --user --force-reinstall'"
          ]
        }
      ],
      "source": [
        "# Install required packages if not already installed\n",
        "!pip install PyPDF2 pandas"
      ]
    },
    {
      "cell_type": "code",
      "execution_count": 1,
      "metadata": {},
      "outputs": [],
      "source": [
        "import os\n",
        "import PyPDF2\n",
        "import pandas as pd\n",
        "import re"
      ]
    },
    {
      "cell_type": "code",
      "execution_count": 2,
      "metadata": {},
      "outputs": [
        {
          "name": "stdout",
          "output_type": "stream",
          "text": [
            "Found PDF file at ../dat/Los-miserables.pdf\n"
          ]
        }
      ],
      "source": [
        "# Define file paths\n",
        "pdf_path = '../dat/Los-miserables.pdf'\n",
        "output_csv_path = '../dat/Los-miserables.csv'\n",
        "\n",
        "# Check if the PDF file exists\n",
        "if not os.path.exists(pdf_path):\n",
        "    raise FileNotFoundError(f\"The PDF file was not found at {pdf_path}\")\n",
        "else:\n",
        "    print(f\"Found PDF file at {pdf_path}\")"
      ]
    },
    {
      "cell_type": "code",
      "execution_count": 3,
      "metadata": {},
      "outputs": [],
      "source": [
        "def extract_text_from_pdf(pdf_path):\n",
        "    \"\"\"\n",
        "    Extract text from a PDF file page by page\n",
        "    \"\"\"\n",
        "    # Open the PDF file\n",
        "    with open(pdf_path, 'rb') as file:\n",
        "        # Create a PDF reader object\n",
        "        pdf_reader = PyPDF2.PdfReader(file)\n",
        "        \n",
        "        # Get total number of pages\n",
        "        num_pages = len(pdf_reader.pages)\n",
        "        print(f\"Total pages in PDF: {num_pages}\")\n",
        "        \n",
        "        # List to store text from each page\n",
        "        all_text = []\n",
        "        \n",
        "        # Extract text from each page\n",
        "        for page_num in range(num_pages):\n",
        "            # Get a specific page\n",
        "            page = pdf_reader.pages[page_num]\n",
        "            \n",
        "            # Extract text from page\n",
        "            text = page.extract_text()\n",
        "            \n",
        "            if text:\n",
        "                # Add page number and text to list\n",
        "                all_text.append({\n",
        "                    'page_number': page_num + 1,\n",
        "                    'text': text\n",
        "                })\n",
        "            \n",
        "            # Print progress every 10 pages\n",
        "            if (page_num + 1) % 10 == 0 or page_num == 0 or page_num == num_pages - 1:\n",
        "                print(f\"Processed page {page_num + 1} of {num_pages}\")\n",
        "        \n",
        "        return all_text"
      ]
    },
    {
      "cell_type": "code",
      "execution_count": 4,
      "metadata": {},
      "outputs": [
        {
          "name": "stdout",
          "output_type": "stream",
          "text": [
            "Total pages in PDF: 305\n",
            "Processed page 1 of 305\n",
            "Processed page 10 of 305\n",
            "Processed page 20 of 305\n",
            "Processed page 30 of 305\n",
            "Processed page 40 of 305\n",
            "Processed page 50 of 305\n",
            "Processed page 60 of 305\n",
            "Processed page 70 of 305\n",
            "Processed page 80 of 305\n",
            "Processed page 90 of 305\n",
            "Processed page 100 of 305\n",
            "Processed page 110 of 305\n",
            "Processed page 120 of 305\n",
            "Processed page 130 of 305\n",
            "Processed page 140 of 305\n",
            "Processed page 150 of 305\n",
            "Processed page 160 of 305\n",
            "Processed page 170 of 305\n",
            "Processed page 180 of 305\n",
            "Processed page 190 of 305\n",
            "Processed page 200 of 305\n",
            "Processed page 210 of 305\n",
            "Processed page 220 of 305\n",
            "Processed page 230 of 305\n",
            "Processed page 240 of 305\n",
            "Processed page 250 of 305\n",
            "Processed page 260 of 305\n",
            "Processed page 270 of 305\n",
            "Processed page 280 of 305\n",
            "Processed page 290 of 305\n",
            "Processed page 300 of 305\n",
            "Processed page 305 of 305\n",
            "Extracted text from 305 pages\n"
          ]
        }
      ],
      "source": [
        "# Extract text from the PDF\n",
        "extracted_text = extract_text_from_pdf(pdf_path)\n",
        "print(f\"Extracted text from {len(extracted_text)} pages\")"
      ]
    },
    {
      "cell_type": "code",
      "execution_count": 5,
      "metadata": {},
      "outputs": [
        {
          "name": "stdout",
          "output_type": "stream",
          "text": [
            "\n",
            "Preview of extracted text:\n"
          ]
        },
        {
          "data": {
            "text/html": [
              "<div>\n",
              "<style scoped>\n",
              "    .dataframe tbody tr th:only-of-type {\n",
              "        vertical-align: middle;\n",
              "    }\n",
              "\n",
              "    .dataframe tbody tr th {\n",
              "        vertical-align: top;\n",
              "    }\n",
              "\n",
              "    .dataframe thead th {\n",
              "        text-align: right;\n",
              "    }\n",
              "</style>\n",
              "<table border=\"1\" class=\"dataframe\">\n",
              "  <thead>\n",
              "    <tr style=\"text-align: right;\">\n",
              "      <th></th>\n",
              "      <th>page_number</th>\n",
              "      <th>text</th>\n",
              "    </tr>\n",
              "  </thead>\n",
              "  <tbody>\n",
              "    <tr>\n",
              "      <th>0</th>\n",
              "      <td>1</td>\n",
              "      <td>\\n</td>\n",
              "    </tr>\n",
              "    <tr>\n",
              "      <th>1</th>\n",
              "      <td>2</td>\n",
              "      <td>2 \\n\\tLos miserables I Hugo, Victor Novela \\t...</td>\n",
              "    </tr>\n",
              "    <tr>\n",
              "      <th>2</th>\n",
              "      <td>3</td>\n",
              "      <td>3 \\nPRIMERA PARTE Fantine</td>\n",
              "    </tr>\n",
              "    <tr>\n",
              "      <th>3</th>\n",
              "      <td>4</td>\n",
              "      <td>4 \\nLIBRO PRIMERO Un justo</td>\n",
              "    </tr>\n",
              "    <tr>\n",
              "      <th>4</th>\n",
              "      <td>5</td>\n",
              "      <td>5 \\nI El señor Myriel \\nEn 1815, monseñor Cha...</td>\n",
              "    </tr>\n",
              "  </tbody>\n",
              "</table>\n",
              "</div>"
            ],
            "text/plain": [
              "   page_number                                               text\n",
              "0            1                                                 \\n\n",
              "1            2   2 \\n\\tLos miserables I Hugo, Victor Novela \\t...\n",
              "2            3                         3 \\nPRIMERA PARTE Fantine \n",
              "3            4                        4 \\nLIBRO PRIMERO Un justo \n",
              "4            5   5 \\nI El señor Myriel \\nEn 1815, monseñor Cha..."
            ]
          },
          "metadata": {},
          "output_type": "display_data"
        }
      ],
      "source": [
        "# Create a DataFrame from the extracted text\n",
        "df = pd.DataFrame(extracted_text)\n",
        "\n",
        "# Display the first few rows\n",
        "print(\"\\nPreview of extracted text:\")\n",
        "display(df.head())"
      ]
    },
    {
      "cell_type": "code",
      "execution_count": 6,
      "metadata": {},
      "outputs": [
        {
          "name": "stdout",
          "output_type": "stream",
          "text": [
            "\n",
            "Saved text to CSV: ../dat/Los-miserables.csv\n"
          ]
        }
      ],
      "source": [
        "# Clean text (optional) - remove extra whitespace\n",
        "df['text'] = df['text'].apply(lambda x: re.sub(r'\\s+', ' ', x).strip())\n",
        "\n",
        "# Save to CSV\n",
        "df.to_csv(output_csv_path, index=False)\n",
        "print(f\"\\nSaved text to CSV: {output_csv_path}\")"
      ]
    },
    {
      "cell_type": "code",
      "execution_count": 7,
      "metadata": {},
      "outputs": [
        {
          "name": "stdout",
          "output_type": "stream",
          "text": [
            "CSV file created successfully: ../dat/Los-miserables.csv\n",
            "File size: 646.12 KB\n",
            "\n",
            "CSV contains 305 rows and 2 columns\n"
          ]
        },
        {
          "data": {
            "text/html": [
              "<div>\n",
              "<style scoped>\n",
              "    .dataframe tbody tr th:only-of-type {\n",
              "        vertical-align: middle;\n",
              "    }\n",
              "\n",
              "    .dataframe tbody tr th {\n",
              "        vertical-align: top;\n",
              "    }\n",
              "\n",
              "    .dataframe thead th {\n",
              "        text-align: right;\n",
              "    }\n",
              "</style>\n",
              "<table border=\"1\" class=\"dataframe\">\n",
              "  <thead>\n",
              "    <tr style=\"text-align: right;\">\n",
              "      <th></th>\n",
              "      <th>page_number</th>\n",
              "      <th>text</th>\n",
              "    </tr>\n",
              "  </thead>\n",
              "  <tbody>\n",
              "    <tr>\n",
              "      <th>0</th>\n",
              "      <td>1</td>\n",
              "      <td>NaN</td>\n",
              "    </tr>\n",
              "    <tr>\n",
              "      <th>1</th>\n",
              "      <td>2</td>\n",
              "      <td>2 Los miserables I Hugo, Victor Novela Se reco...</td>\n",
              "    </tr>\n",
              "    <tr>\n",
              "      <th>2</th>\n",
              "      <td>3</td>\n",
              "      <td>3 PRIMERA PARTE Fantine</td>\n",
              "    </tr>\n",
              "    <tr>\n",
              "      <th>3</th>\n",
              "      <td>4</td>\n",
              "      <td>4 LIBRO PRIMERO Un justo</td>\n",
              "    </tr>\n",
              "    <tr>\n",
              "      <th>4</th>\n",
              "      <td>5</td>\n",
              "      <td>5 I El señor Myriel En 1815, monseñor Charles-...</td>\n",
              "    </tr>\n",
              "  </tbody>\n",
              "</table>\n",
              "</div>"
            ],
            "text/plain": [
              "   page_number                                               text\n",
              "0            1                                                NaN\n",
              "1            2  2 Los miserables I Hugo, Victor Novela Se reco...\n",
              "2            3                            3 PRIMERA PARTE Fantine\n",
              "3            4                           4 LIBRO PRIMERO Un justo\n",
              "4            5  5 I El señor Myriel En 1815, monseñor Charles-..."
            ]
          },
          "metadata": {},
          "output_type": "display_data"
        }
      ],
      "source": [
        "# Verify the CSV file was created and show its size\n",
        "if os.path.exists(output_csv_path):\n",
        "    file_size = os.path.getsize(output_csv_path) / 1024  # Size in KB\n",
        "    print(f\"CSV file created successfully: {output_csv_path}\")\n",
        "    print(f\"File size: {file_size:.2f} KB\")\n",
        "    \n",
        "    # Read back the CSV and display a sample\n",
        "    csv_df = pd.read_csv(output_csv_path)\n",
        "    print(f\"\\nCSV contains {len(csv_df)} rows and {len(csv_df.columns)} columns\")\n",
        "    display(csv_df.head())\n",
        "else:\n",
        "    print(f\"Failed to create CSV file at {output_csv_path}\")"
      ]
    }
  ],
  "metadata": {
    "kernelspec": {
      "display_name": "Python 3",
      "language": "python",
      "name": "python3"
    },
    "language_info": {
      "codemirror_mode": {
        "name": "ipython",
        "version": 3
      },
      "file_extension": ".py",
      "mimetype": "text/x-python",
      "name": "python",
      "nbconvert_exporter": "python",
      "pygments_lexer": "ipython3",
      "version": "3.13.0"
    }
  },
  "nbformat": 4,
  "nbformat_minor": 4
}
