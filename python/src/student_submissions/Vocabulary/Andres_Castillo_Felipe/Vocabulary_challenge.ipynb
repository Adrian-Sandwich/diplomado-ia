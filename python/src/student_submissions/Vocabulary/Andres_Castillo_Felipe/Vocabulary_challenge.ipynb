{
 "cells": [
  {
   "cell_type": "markdown",
   "id": "5e7c8b20-bde4-42ef-8970-95648932884e",
   "metadata": {},
   "source": [
    "# **Vocabulary challenge**\n",
    "_Felipe Andres Castillo_"
   ]
  },
  {
   "cell_type": "code",
   "execution_count": 1,
   "id": "75422ceb-5c28-4342-90cd-2ce8463f0892",
   "metadata": {},
   "outputs": [],
   "source": [
    "import pymupdf\n",
    "import csv\n",
    "import re\n",
    "import pandas as pd\n",
    "import numpy as np"
   ]
  },
  {
   "cell_type": "markdown",
   "id": "96ac667b-c45b-4b60-9846-21e287b54d9e",
   "metadata": {},
   "source": [
    "## 1. Obtención de palabras"
   ]
  },
  {
   "cell_type": "code",
   "execution_count": 2,
   "id": "cda27ef5-93ac-4785-9860-c73ede09cd0a",
   "metadata": {},
   "outputs": [],
   "source": [
    "def standardize_word(word):\n",
    "    # Se elimina cualquier caracter especial que no sea una letra\n",
    "    std_word = re.sub(r'[^a-zA-ZáéíóúÁÉÍÓÚñÑ]', '', word)\n",
    "    # Se covierten todas las letras a minusculas\n",
    "    return std_word.lower()"
   ]
  },
  {
   "cell_type": "code",
   "execution_count": 3,
   "id": "b3d95335-2e55-402d-bc28-d437a72e0dc4",
   "metadata": {
    "scrolled": true
   },
   "outputs": [],
   "source": [
    "# Se abre el archivo\n",
    "doc = pymupdf.open(\"Los miserables.pdf\")\n",
    "\n",
    "# Esta lista contendrá todas las palabras extraidas del PDF\n",
    "words_list = []\n",
    "# Obtención de palabras\n",
    "for page in doc:\n",
    "    # Por cada página del PDF, con .get_text() se obtiene una lista de listas, \n",
    "    # donde cada lista está asociada a cada palabra   \n",
    "    words = page.get_text(\"words\")  \n",
    "    for word in words:\n",
    "        # Cada lista (words) tiene el formato (x0, y0, x1, y1, \"word\", block_no, line_no, word_no) \n",
    "        # siendo los primeros 4 valores las coordenadas de la palabra, y la siguiente (quinta posición) es la palabra en sí\n",
    "        # FORMATEO de cada palabra: \n",
    "        std_word = standardize_word(word[4])\n",
    "        if std_word != \"\":\n",
    "            words_list.append([std_word]) \n",
    "\n",
    "# Guardar CSV con palabras formateadas\n",
    "with open(\"palabras.csv\", \"w\", newline=\"\", encoding=\"utf-8\") as file:\n",
    "    writer = csv.writer(file)\n",
    "    writer.writerows(words_list)"
   ]
  },
  {
   "cell_type": "markdown",
   "id": "20b68d86-9b6d-488e-b6b7-5aceda7a84df",
   "metadata": {},
   "source": [
    "## 2. Creación del vocabulario"
   ]
  },
  {
   "cell_type": "code",
   "execution_count": null,
   "id": "f22c698a-1831-4cbf-994a-30136db8d580",
   "metadata": {},
   "outputs": [],
   "source": [
    "# Creación de la clase Word, la cual tiene dos atributos: la palabra y su frecuencia de aparición\n",
    "# class Word:\n",
    "#     def __init__(self, word, freq):\n",
    "#         self.word = word\n",
    "#         self.freq = freq\n",
    "#     def __repr__(self):\n",
    "#         return f\"({self.word}, {self.freq})\"\n",
    "#     def __str__(self):\n",
    "#         return f\"Word: {self.word}, Frequency: {self.freq}\" "
   ]
  },
  {
   "cell_type": "code",
   "execution_count": 4,
   "id": "be3e0f53-f24d-4854-a1f6-3a69a032f64f",
   "metadata": {},
   "outputs": [],
   "source": [
    "# Diccionario-Vocabulario -> apoyo para determinar la frecuencia de cada palabra\n",
    "Vocabulary_dict = {}\n",
    "\n",
    "with open(\"palabras.csv\", \"r\", encoding=\"utf-8\") as file:\n",
    "    text = csv.reader(file)\n",
    "    for word in text:\n",
    "        if word[0] in Vocabulary_dict:\n",
    "            Vocabulary_dict[word[0]] += 1\n",
    "        else:\n",
    "            Vocabulary_dict[word[0]] = 1  "
   ]
  },
  {
   "cell_type": "code",
   "execution_count": 5,
   "id": "4942a56b-1893-4c01-b794-d253ca6c3280",
   "metadata": {},
   "outputs": [],
   "source": [
    "# DataFrame-Vocabulario -> para estadistica de los valores de frecuencia obtenidos\n",
    "Vocabulary_df = pd.DataFrame.from_dict(Vocabulary_dict, orient=\"index\", columns=[\"frequency\"]).reset_index()\n",
    "Vocabulary_df.columns = [\"words\", \"frequency\"]"
   ]
  },
  {
   "cell_type": "code",
   "execution_count": 6,
   "id": "949d3823-59ae-483d-a082-9a9a65ae61c0",
   "metadata": {},
   "outputs": [],
   "source": [
    "# Se guarda el Vocabulario en formato parquet (en particular, que se guarden en orden según su frecuencia)\n",
    "df = Vocabulary_df.sort_values(by = \"frequency\", ascending=False)\n",
    "df.to_parquet(\"Vocabulary.parquet\", engine=\"pyarrow\", index=False)"
   ]
  },
  {
   "cell_type": "code",
   "execution_count": 7,
   "id": "85d2e887-df5e-4284-a2fa-df6c0df3fec2",
   "metadata": {},
   "outputs": [
    {
     "name": "stdout",
     "output_type": "stream",
     "text": [
      "             words  frequency\n",
      "0               de       5321\n",
      "1               la       3917\n",
      "2              que       3505\n",
      "3                y       3122\n",
      "4               el       3081\n",
      "...            ...        ...\n",
      "13235     seguidas          1\n",
      "13236       mintió          1\n",
      "13237      evadido          1\n",
      "13238      insista          1\n",
      "13239  desfallecer          1\n",
      "\n",
      "[13240 rows x 2 columns]\n"
     ]
    }
   ],
   "source": [
    "# Lectura desde el archivo parquet generado\n",
    "Vocabulary = pd.read_parquet(\"Vocabulary.parquet\", engine=\"pyarrow\")\n",
    "print(Vocabulary)"
   ]
  },
  {
   "cell_type": "markdown",
   "id": "e9abc489-82c6-41df-b54d-9a613b5866b1",
   "metadata": {},
   "source": [
    "## 3. Algunas estadísticas "
   ]
  },
  {
   "cell_type": "markdown",
   "id": "22757519-d524-4abc-b952-4debc4bd586c",
   "metadata": {},
   "source": [
    "¿Cuántas palabras hay en total?"
   ]
  },
  {
   "cell_type": "code",
   "execution_count": 8,
   "id": "e6367a66-8c72-4a2a-83e8-c5b04660537d",
   "metadata": {},
   "outputs": [
    {
     "name": "stdout",
     "output_type": "stream",
     "text": [
      "Hay 109224 palabras en el PDF\n"
     ]
    }
   ],
   "source": [
    "print(f\"Hay {len(words_list)} palabras en el PDF\")"
   ]
  },
  {
   "cell_type": "markdown",
   "id": "9ae62e9e-0b0e-45ac-802c-610cc0e426b7",
   "metadata": {},
   "source": [
    "¿Cuántas palabras diferentes hay en el libro?"
   ]
  },
  {
   "cell_type": "code",
   "execution_count": 9,
   "id": "b6041a89-57fa-4a94-ab31-610cb36243dd",
   "metadata": {},
   "outputs": [
    {
     "name": "stdout",
     "output_type": "stream",
     "text": [
      "Hay 13240 palabras diferentes\n"
     ]
    }
   ],
   "source": [
    "print(f\"Hay {len(Vocabulary)} palabras diferentes\")"
   ]
  },
  {
   "cell_type": "markdown",
   "id": "81e0d80a-048f-481d-ac8c-578010a60532",
   "metadata": {},
   "source": [
    "¿Cuáles son las 10 palabras más frecuentes?"
   ]
  },
  {
   "cell_type": "code",
   "execution_count": 10,
   "id": "50615c69-4f4e-40f5-9238-eae0be25df92",
   "metadata": {},
   "outputs": [
    {
     "data": {
      "text/html": [
       "<div>\n",
       "<style scoped>\n",
       "    .dataframe tbody tr th:only-of-type {\n",
       "        vertical-align: middle;\n",
       "    }\n",
       "\n",
       "    .dataframe tbody tr th {\n",
       "        vertical-align: top;\n",
       "    }\n",
       "\n",
       "    .dataframe thead th {\n",
       "        text-align: right;\n",
       "    }\n",
       "</style>\n",
       "<table border=\"1\" class=\"dataframe\">\n",
       "  <thead>\n",
       "    <tr style=\"text-align: right;\">\n",
       "      <th></th>\n",
       "      <th>words</th>\n",
       "      <th>frequency</th>\n",
       "    </tr>\n",
       "  </thead>\n",
       "  <tbody>\n",
       "    <tr>\n",
       "      <th>0</th>\n",
       "      <td>de</td>\n",
       "      <td>5321</td>\n",
       "    </tr>\n",
       "    <tr>\n",
       "      <th>1</th>\n",
       "      <td>la</td>\n",
       "      <td>3917</td>\n",
       "    </tr>\n",
       "    <tr>\n",
       "      <th>2</th>\n",
       "      <td>que</td>\n",
       "      <td>3505</td>\n",
       "    </tr>\n",
       "    <tr>\n",
       "      <th>3</th>\n",
       "      <td>y</td>\n",
       "      <td>3122</td>\n",
       "    </tr>\n",
       "    <tr>\n",
       "      <th>4</th>\n",
       "      <td>el</td>\n",
       "      <td>3081</td>\n",
       "    </tr>\n",
       "    <tr>\n",
       "      <th>5</th>\n",
       "      <td>en</td>\n",
       "      <td>2835</td>\n",
       "    </tr>\n",
       "    <tr>\n",
       "      <th>6</th>\n",
       "      <td>a</td>\n",
       "      <td>2488</td>\n",
       "    </tr>\n",
       "    <tr>\n",
       "      <th>7</th>\n",
       "      <td>se</td>\n",
       "      <td>1632</td>\n",
       "    </tr>\n",
       "    <tr>\n",
       "      <th>8</th>\n",
       "      <td>un</td>\n",
       "      <td>1601</td>\n",
       "    </tr>\n",
       "    <tr>\n",
       "      <th>9</th>\n",
       "      <td>no</td>\n",
       "      <td>1498</td>\n",
       "    </tr>\n",
       "  </tbody>\n",
       "</table>\n",
       "</div>"
      ],
      "text/plain": [
       "  words  frequency\n",
       "0    de       5321\n",
       "1    la       3917\n",
       "2   que       3505\n",
       "3     y       3122\n",
       "4    el       3081\n",
       "5    en       2835\n",
       "6     a       2488\n",
       "7    se       1632\n",
       "8    un       1601\n",
       "9    no       1498"
      ]
     },
     "execution_count": 10,
     "metadata": {},
     "output_type": "execute_result"
    }
   ],
   "source": [
    "Vocabulary[0:10]"
   ]
  },
  {
   "cell_type": "markdown",
   "id": "6e0f3ea8-12d9-44ec-88d9-2c5651b956f1",
   "metadata": {},
   "source": [
    "¿Cuáles son las 10 palabras menos frecuentes?"
   ]
  },
  {
   "cell_type": "code",
   "execution_count": 11,
   "id": "76d31a45-5997-4079-8033-8cfbcbdd31cf",
   "metadata": {},
   "outputs": [
    {
     "data": {
      "text/html": [
       "<div>\n",
       "<style scoped>\n",
       "    .dataframe tbody tr th:only-of-type {\n",
       "        vertical-align: middle;\n",
       "    }\n",
       "\n",
       "    .dataframe tbody tr th {\n",
       "        vertical-align: top;\n",
       "    }\n",
       "\n",
       "    .dataframe thead th {\n",
       "        text-align: right;\n",
       "    }\n",
       "</style>\n",
       "<table border=\"1\" class=\"dataframe\">\n",
       "  <thead>\n",
       "    <tr style=\"text-align: right;\">\n",
       "      <th></th>\n",
       "      <th>words</th>\n",
       "      <th>frequency</th>\n",
       "    </tr>\n",
       "  </thead>\n",
       "  <tbody>\n",
       "    <tr>\n",
       "      <th>13230</th>\n",
       "      <td>bujía</td>\n",
       "      <td>1</td>\n",
       "    </tr>\n",
       "    <tr>\n",
       "      <th>13231</th>\n",
       "      <td>singularidad</td>\n",
       "      <td>1</td>\n",
       "    </tr>\n",
       "    <tr>\n",
       "      <th>13232</th>\n",
       "      <td>reparó</td>\n",
       "      <td>1</td>\n",
       "    </tr>\n",
       "    <tr>\n",
       "      <th>13233</th>\n",
       "      <td>valga</td>\n",
       "      <td>1</td>\n",
       "    </tr>\n",
       "    <tr>\n",
       "      <th>13234</th>\n",
       "      <td>holocausto</td>\n",
       "      <td>1</td>\n",
       "    </tr>\n",
       "    <tr>\n",
       "      <th>13235</th>\n",
       "      <td>seguidas</td>\n",
       "      <td>1</td>\n",
       "    </tr>\n",
       "    <tr>\n",
       "      <th>13236</th>\n",
       "      <td>mintió</td>\n",
       "      <td>1</td>\n",
       "    </tr>\n",
       "    <tr>\n",
       "      <th>13237</th>\n",
       "      <td>evadido</td>\n",
       "      <td>1</td>\n",
       "    </tr>\n",
       "    <tr>\n",
       "      <th>13238</th>\n",
       "      <td>insista</td>\n",
       "      <td>1</td>\n",
       "    </tr>\n",
       "    <tr>\n",
       "      <th>13239</th>\n",
       "      <td>desfallecer</td>\n",
       "      <td>1</td>\n",
       "    </tr>\n",
       "  </tbody>\n",
       "</table>\n",
       "</div>"
      ],
      "text/plain": [
       "              words  frequency\n",
       "13230         bujía          1\n",
       "13231  singularidad          1\n",
       "13232        reparó          1\n",
       "13233         valga          1\n",
       "13234    holocausto          1\n",
       "13235      seguidas          1\n",
       "13236        mintió          1\n",
       "13237       evadido          1\n",
       "13238       insista          1\n",
       "13239   desfallecer          1"
      ]
     },
     "execution_count": 11,
     "metadata": {},
     "output_type": "execute_result"
    }
   ],
   "source": [
    "Vocabulary[-10:]"
   ]
  },
  {
   "cell_type": "markdown",
   "id": "15a7d07c-8578-49f9-a791-a60722d4d9dd",
   "metadata": {},
   "source": [
    "¿Cuántas palabras solo aparecen una vez?"
   ]
  },
  {
   "cell_type": "code",
   "execution_count": 12,
   "id": "2eeaeabe-1d12-4908-a32e-e6b27b3e59f7",
   "metadata": {},
   "outputs": [
    {
     "name": "stdout",
     "output_type": "stream",
     "text": [
      "Hay 7297 palabras que solo aparecen una vez\n"
     ]
    }
   ],
   "source": [
    "once = Vocabulary[Vocabulary.frequency == 1]\n",
    "print(f\"Hay {len(once)} palabras que solo aparecen una vez\") "
   ]
  },
  {
   "cell_type": "markdown",
   "id": "fcbf796a-093a-4573-b424-1de6b99aa0f6",
   "metadata": {},
   "source": [
    "Una función para saber cuantas palabras hay con determinada frecuencia:"
   ]
  },
  {
   "cell_type": "code",
   "execution_count": 13,
   "id": "23fd77c9-5165-442e-9419-440ef0277af5",
   "metadata": {},
   "outputs": [],
   "source": [
    "def f_word(vocabulary, freq):\n",
    "    sub_voc = Vocabulary[Vocabulary.frequency == freq]\n",
    "    print(f\"Hay {len(sub_voc)} palabras con frecuencia {freq}\")"
   ]
  },
  {
   "cell_type": "code",
   "execution_count": 14,
   "id": "e8129263-2a48-4fed-a83a-a8118b57102d",
   "metadata": {},
   "outputs": [
    {
     "name": "stdout",
     "output_type": "stream",
     "text": [
      "Hay 42 palabras con frecuencia 18\n"
     ]
    }
   ],
   "source": [
    "# Ejemplo\n",
    "f_word(Vocabulary, 18)"
   ]
  },
  {
   "cell_type": "markdown",
   "id": "f1886568-bf44-4862-815e-64789baf4952",
   "metadata": {},
   "source": [
    "## 4. Eliminando algunos nexos"
   ]
  },
  {
   "cell_type": "markdown",
   "id": "ae076b87-6d51-4e3f-9261-c964d3d45dfc",
   "metadata": {},
   "source": [
    "Los nexos, en el contexto del lenguaje y la gramática, son palabras o grupos de palabras que se utilizan para conectar oraciones, frases o partes de un texto con el fin de establecer relaciones lógicas y coherencia en la comunicación escrita o hablada. Es natural que las palabras más frecuentes sean ejemplos de nexos. Si omitimos aquellas palabras que tengan menos de 4 letras, podríamos obtener palabras más relevantes."
   ]
  },
  {
   "cell_type": "code",
   "execution_count": 16,
   "id": "80b6cb14-d0f7-4730-979a-3f86d80ce185",
   "metadata": {},
   "outputs": [
    {
     "data": {
      "text/html": [
       "<div>\n",
       "<style scoped>\n",
       "    .dataframe tbody tr th:only-of-type {\n",
       "        vertical-align: middle;\n",
       "    }\n",
       "\n",
       "    .dataframe tbody tr th {\n",
       "        vertical-align: top;\n",
       "    }\n",
       "\n",
       "    .dataframe thead th {\n",
       "        text-align: right;\n",
       "    }\n",
       "</style>\n",
       "<table border=\"1\" class=\"dataframe\">\n",
       "  <thead>\n",
       "    <tr style=\"text-align: right;\">\n",
       "      <th></th>\n",
       "      <th>words</th>\n",
       "      <th>frequency</th>\n",
       "    </tr>\n",
       "  </thead>\n",
       "  <tbody>\n",
       "    <tr>\n",
       "      <th>16</th>\n",
       "      <td>había</td>\n",
       "      <td>858</td>\n",
       "    </tr>\n",
       "    <tr>\n",
       "      <th>26</th>\n",
       "      <td>señor</td>\n",
       "      <td>447</td>\n",
       "    </tr>\n",
       "    <tr>\n",
       "      <th>28</th>\n",
       "      <td>hombre</td>\n",
       "      <td>363</td>\n",
       "    </tr>\n",
       "    <tr>\n",
       "      <th>35</th>\n",
       "      <td>obispo</td>\n",
       "      <td>286</td>\n",
       "    </tr>\n",
       "    <tr>\n",
       "      <th>37</th>\n",
       "      <td>estaba</td>\n",
       "      <td>273</td>\n",
       "    </tr>\n",
       "    <tr>\n",
       "      <th>38</th>\n",
       "      <td>sobre</td>\n",
       "      <td>269</td>\n",
       "    </tr>\n",
       "    <tr>\n",
       "      <th>39</th>\n",
       "      <td>cuando</td>\n",
       "      <td>265</td>\n",
       "    </tr>\n",
       "    <tr>\n",
       "      <th>41</th>\n",
       "      <td>aquel</td>\n",
       "      <td>247</td>\n",
       "    </tr>\n",
       "    <tr>\n",
       "      <th>48</th>\n",
       "      <td>madeleine</td>\n",
       "      <td>214</td>\n",
       "    </tr>\n",
       "    <tr>\n",
       "      <th>49</th>\n",
       "      <td>tenía</td>\n",
       "      <td>211</td>\n",
       "    </tr>\n",
       "  </tbody>\n",
       "</table>\n",
       "</div>"
      ],
      "text/plain": [
       "        words  frequency\n",
       "16      había        858\n",
       "26      señor        447\n",
       "28     hombre        363\n",
       "35     obispo        286\n",
       "37     estaba        273\n",
       "38      sobre        269\n",
       "39     cuando        265\n",
       "41      aquel        247\n",
       "48  madeleine        214\n",
       "49      tenía        211"
      ]
     },
     "execution_count": 16,
     "metadata": {},
     "output_type": "execute_result"
    }
   ],
   "source": [
    "df = Vocabulary[Vocabulary.words.str.len() > 4]\n",
    "df[0:10]"
   ]
  },
  {
   "cell_type": "code",
   "execution_count": 17,
   "id": "82f64d15-7bc0-492e-a904-f5632fd1bbcf",
   "metadata": {},
   "outputs": [
    {
     "data": {
      "text/plain": [
       "12435"
      ]
     },
     "execution_count": 17,
     "metadata": {},
     "output_type": "execute_result"
    }
   ],
   "source": [
    "len(df)"
   ]
  }
 ],
 "metadata": {
  "kernelspec": {
   "display_name": "Python 3 (ipykernel)",
   "language": "python",
   "name": "python3"
  },
  "language_info": {
   "codemirror_mode": {
    "name": "ipython",
    "version": 3
   },
   "file_extension": ".py",
   "mimetype": "text/x-python",
   "name": "python",
   "nbconvert_exporter": "python",
   "pygments_lexer": "ipython3",
   "version": "3.13.2"
  }
 },
 "nbformat": 4,
 "nbformat_minor": 5
}
