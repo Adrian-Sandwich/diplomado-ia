{
  "nbformat": 4,
  "nbformat_minor": 0,
  "metadata": {
    "colab": {
      "provenance": [],
      "gpuType": "T4"
    },
    "kernelspec": {
      "name": "python3",
      "display_name": "Python 3"
    },
    "language_info": {
      "name": "python"
    },
    "accelerator": "GPU"
  },
  "cells": [
    {
      "cell_type": "code",
      "source": [
        "# Configuración inicial\n",
        "import os\n",
        "os.environ[\"KERAS_BACKEND\"] = \"tensorflow\"\n",
        "\n",
        "import pathlib\n",
        "import random\n",
        "import string\n",
        "import re\n",
        "import numpy as np\n",
        "\n",
        "import tensorflow.data as tf_data\n",
        "import tensorflow.strings as tf_strings\n",
        "\n",
        "import keras\n",
        "from keras import layers\n",
        "from keras import ops\n",
        "from keras.layers import TextVectorization"
      ],
      "metadata": {
        "id": "ttmTB3UXcjyS"
      },
      "execution_count": 1,
      "outputs": []
    },
    {
      "cell_type": "code",
      "source": [
        "# Descargar los datos\n",
        "text_file = keras.utils.get_file(\n",
        "    fname=\"spa-eng.zip\",\n",
        "    origin=\"http://storage.googleapis.com/download.tensorflow.org/data/spa-eng.zip\",\n",
        "    extract=True,\n",
        ")\n",
        "text_file = pathlib.Path(text_file) / \"spa-eng\" / \"spa.txt\""
      ],
      "metadata": {
        "id": "aJnTLlINcpAE"
      },
      "execution_count": 2,
      "outputs": []
    },
    {
      "cell_type": "code",
      "execution_count": 3,
      "metadata": {
        "id": "v5C4uhbsU5yA"
      },
      "outputs": [],
      "source": [
        "with open(text_file) as f:\n",
        "    lines = f.read().split(\"\\n\")[:-1]\n",
        "text_pairs = []\n",
        "for line in lines:\n",
        "    eng, spa = line.split(\"\\t\")\n",
        "    spa = \"[start] \" + spa + \" [end]\"\n",
        "    text_pairs.append((eng, spa))"
      ]
    },
    {
      "cell_type": "code",
      "execution_count": 4,
      "metadata": {
        "id": "ZhzePJYBU5yB",
        "colab": {
          "base_uri": "https://localhost:8080/"
        },
        "outputId": "7c6a1729-6e9c-4991-fc20-a27c1bb40a74"
      },
      "outputs": [
        {
          "output_type": "stream",
          "name": "stdout",
          "text": [
            "('She fell from the tree.', '[start] Ella cayó del árbol. [end]')\n",
            "('She watched the passengers get off the bus.', '[start] Ella miraba a los pasajeros bajarse del bus. [end]')\n",
            "('I want to know how much money I should bring with me.', '[start] Quiero saber cuanto dinero traer conmigo. [end]')\n",
            "('I found the comic book very interesting.', '[start] Encuentro el comic muy interesante. [end]')\n",
            "('You will never defeat me!', '[start] ¡Nunca me derrotarás! [end]')\n"
          ]
        }
      ],
      "source": [
        "for _ in range(5):\n",
        "    print(random.choice(text_pairs))"
      ]
    },
    {
      "cell_type": "code",
      "execution_count": 5,
      "metadata": {
        "id": "3b26YxHnU5yC",
        "colab": {
          "base_uri": "https://localhost:8080/"
        },
        "outputId": "6e962253-d379-48ad-edd1-1606e072a7c9"
      },
      "outputs": [
        {
          "output_type": "stream",
          "name": "stdout",
          "text": [
            "118964 total pairs\n",
            "83276 training pairs\n",
            "17844 validation pairs\n",
            "17844 test pairs\n"
          ]
        }
      ],
      "source": [
        "random.shuffle(text_pairs)\n",
        "num_val_samples = int(0.15 * len(text_pairs))\n",
        "num_train_samples = len(text_pairs) - 2 * num_val_samples\n",
        "train_pairs = text_pairs[:num_train_samples]\n",
        "val_pairs = text_pairs[num_train_samples : num_train_samples + num_val_samples]\n",
        "test_pairs = text_pairs[num_train_samples + num_val_samples :]\n",
        "\n",
        "print(f\"{len(text_pairs)} total pairs\")\n",
        "print(f\"{len(train_pairs)} training pairs\")\n",
        "print(f\"{len(val_pairs)} validation pairs\")\n",
        "print(f\"{len(test_pairs)} test pairs\")"
      ]
    },
    {
      "cell_type": "code",
      "execution_count": 6,
      "metadata": {
        "id": "pTmnDM0CU5yD"
      },
      "outputs": [],
      "source": [
        "strip_chars = string.punctuation + \"¿\"\n",
        "strip_chars = strip_chars.replace(\"[\", \"\")\n",
        "strip_chars = strip_chars.replace(\"]\", \"\")\n",
        "\n",
        "vocab_size = 15000\n",
        "sequence_length = 20\n",
        "batch_size = 64\n",
        "\n",
        "\n",
        "def custom_standardization(input_string):\n",
        "    lowercase = tf_strings.lower(input_string)\n",
        "    return tf_strings.regex_replace(lowercase, \"[%s]\" % re.escape(strip_chars), \"\")\n",
        "\n",
        "\n",
        "eng_vectorization = TextVectorization(\n",
        "    max_tokens=vocab_size,\n",
        "    output_mode=\"int\",\n",
        "    output_sequence_length=sequence_length,\n",
        ")\n",
        "spa_vectorization = TextVectorization(\n",
        "    max_tokens=vocab_size,\n",
        "    output_mode=\"int\",\n",
        "    output_sequence_length=sequence_length + 1,\n",
        "    standardize=custom_standardization,\n",
        ")\n",
        "train_eng_texts = [pair[0] for pair in train_pairs]\n",
        "train_spa_texts = [pair[1] for pair in train_pairs]\n",
        "eng_vectorization.adapt(train_eng_texts)\n",
        "spa_vectorization.adapt(train_spa_texts)"
      ]
    },
    {
      "cell_type": "code",
      "source": [
        "!wget https://downloads.cs.stanford.edu/nlp/data/glove.6B.zip\n",
        "!unzip -q glove.6B.zip"
      ],
      "metadata": {
        "id": "Kv4RsQ8qi9Ae",
        "colab": {
          "base_uri": "https://localhost:8080/"
        },
        "outputId": "15d17d77-66c0-4069-ca76-0a8aa80d1c68"
      },
      "execution_count": 7,
      "outputs": [
        {
          "output_type": "stream",
          "name": "stdout",
          "text": [
            "--2025-03-22 14:26:45--  https://downloads.cs.stanford.edu/nlp/data/glove.6B.zip\n",
            "Resolving downloads.cs.stanford.edu (downloads.cs.stanford.edu)... 171.64.64.22\n",
            "Connecting to downloads.cs.stanford.edu (downloads.cs.stanford.edu)|171.64.64.22|:443... connected.\n",
            "HTTP request sent, awaiting response... 200 OK\n",
            "Length: 862182613 (822M) [application/zip]\n",
            "Saving to: ‘glove.6B.zip’\n",
            "\n",
            "glove.6B.zip        100%[===================>] 822.24M  2.78MB/s    in 8m 8s   \n",
            "\n",
            "2025-03-22 14:34:59 (1.68 MB/s) - ‘glove.6B.zip’ saved [862182613/862182613]\n",
            "\n"
          ]
        }
      ]
    },
    {
      "cell_type": "code",
      "source": [
        "# Cargar embeddings preentrenados de GloVe\n",
        "embedding_dim = 300  # Dimensión de los embeddings de GloVe\n",
        "embeddings_index = {}\n",
        "with open(\"glove.6B.300d.txt\", encoding=\"utf-8\") as f:\n",
        "    for line in f:\n",
        "        word, coefs = line.split(maxsplit=1)\n",
        "        coefs = np.fromstring(coefs, \"f\", sep=\" \")\n",
        "        embeddings_index[word] = coefs\n",
        "\n",
        "# Crear matriz de embeddings para el vocabulario de inglés\n",
        "embedding_matrix = np.zeros((vocab_size, embedding_dim))\n",
        "for i, word in enumerate(eng_vectorization.get_vocabulary()):\n",
        "    embedding_vector = embeddings_index.get(word)\n",
        "    if embedding_vector is not None:\n",
        "        embedding_matrix[i] = embedding_vector"
      ],
      "metadata": {
        "id": "WFjnMAo3lSvQ"
      },
      "execution_count": 7,
      "outputs": []
    },
    {
      "cell_type": "code",
      "execution_count": 8,
      "metadata": {
        "id": "laVpS9u-U5yE"
      },
      "outputs": [],
      "source": [
        "\n",
        "def format_dataset(eng, spa):\n",
        "    eng = eng_vectorization(eng)\n",
        "    spa = spa_vectorization(spa)\n",
        "    return (\n",
        "        {\n",
        "            \"encoder_inputs\": eng,\n",
        "            \"decoder_inputs\": spa[:, :-1],\n",
        "        },\n",
        "        spa[:, 1:],\n",
        "    )\n",
        "\n",
        "\n",
        "def make_dataset(pairs):\n",
        "    eng_texts, spa_texts = zip(*pairs)\n",
        "    eng_texts = list(eng_texts)\n",
        "    spa_texts = list(spa_texts)\n",
        "    dataset = tf_data.Dataset.from_tensor_slices((eng_texts, spa_texts))\n",
        "    dataset = dataset.batch(batch_size)\n",
        "    dataset = dataset.map(format_dataset)\n",
        "    return dataset.cache().shuffle(2048).prefetch(16)\n",
        "\n",
        "\n",
        "train_ds = make_dataset(train_pairs)\n",
        "val_ds = make_dataset(val_pairs)"
      ]
    },
    {
      "cell_type": "code",
      "execution_count": 9,
      "metadata": {
        "id": "LTxPiih_U5yF",
        "colab": {
          "base_uri": "https://localhost:8080/"
        },
        "outputId": "b4889924-c0cc-4bc9-c5db-25323a419092"
      },
      "outputs": [
        {
          "output_type": "stream",
          "name": "stdout",
          "text": [
            "inputs[\"encoder_inputs\"].shape: (64, 20)\n",
            "inputs[\"decoder_inputs\"].shape: (64, 20)\n",
            "targets.shape: (64, 20)\n"
          ]
        }
      ],
      "source": [
        "for inputs, targets in train_ds.take(1):\n",
        "    print(f'inputs[\"encoder_inputs\"].shape: {inputs[\"encoder_inputs\"].shape}')\n",
        "    print(f'inputs[\"decoder_inputs\"].shape: {inputs[\"decoder_inputs\"].shape}')\n",
        "    print(f\"targets.shape: {targets.shape}\")"
      ]
    },
    {
      "cell_type": "code",
      "execution_count": 10,
      "metadata": {
        "id": "1fcxDURBVZuP",
        "colab": {
          "base_uri": "https://localhost:8080/",
          "height": 1000
        },
        "outputId": "155d7f9c-d34a-4704-f8cb-3395918034ed"
      },
      "outputs": [
        {
          "output_type": "display_data",
          "data": {
            "text/plain": [
              "\u001b[1mModel: \"transformer\"\u001b[0m\n"
            ],
            "text/html": [
              "<pre style=\"white-space:pre;overflow-x:auto;line-height:normal;font-family:Menlo,'DejaVu Sans Mono',consolas,'Courier New',monospace\"><span style=\"font-weight: bold\">Model: \"transformer\"</span>\n",
              "</pre>\n"
            ]
          },
          "metadata": {}
        },
        {
          "output_type": "display_data",
          "data": {
            "text/plain": [
              "┏━━━━━━━━━━━━━━━━━━━━━━━━━━━┳━━━━━━━━━━━━━━━━━━━━━━━━┳━━━━━━━━━━━━━━━━┳━━━━━━━━━━━━━━━━━━━━━━━━┓\n",
              "┃\u001b[1m \u001b[0m\u001b[1mLayer (type)             \u001b[0m\u001b[1m \u001b[0m┃\u001b[1m \u001b[0m\u001b[1mOutput Shape          \u001b[0m\u001b[1m \u001b[0m┃\u001b[1m \u001b[0m\u001b[1m       Param #\u001b[0m\u001b[1m \u001b[0m┃\u001b[1m \u001b[0m\u001b[1mConnected to          \u001b[0m\u001b[1m \u001b[0m┃\n",
              "┡━━━━━━━━━━━━━━━━━━━━━━━━━━━╇━━━━━━━━━━━━━━━━━━━━━━━━╇━━━━━━━━━━━━━━━━╇━━━━━━━━━━━━━━━━━━━━━━━━┩\n",
              "│ encoder_inputs            │ (\u001b[38;5;45mNone\u001b[0m, \u001b[38;5;45mNone\u001b[0m)           │              \u001b[38;5;34m0\u001b[0m │ -                      │\n",
              "│ (\u001b[38;5;33mInputLayer\u001b[0m)              │                        │                │                        │\n",
              "├───────────────────────────┼────────────────────────┼────────────────┼────────────────────────┤\n",
              "│ decoder_inputs            │ (\u001b[38;5;45mNone\u001b[0m, \u001b[38;5;45mNone\u001b[0m)           │              \u001b[38;5;34m0\u001b[0m │ -                      │\n",
              "│ (\u001b[38;5;33mInputLayer\u001b[0m)              │                        │                │                        │\n",
              "├───────────────────────────┼────────────────────────┼────────────────┼────────────────────────┤\n",
              "│ positional_embedding      │ (\u001b[38;5;45mNone\u001b[0m, \u001b[38;5;45mNone\u001b[0m, \u001b[38;5;34m300\u001b[0m)      │      \u001b[38;5;34m4,506,000\u001b[0m │ encoder_inputs[\u001b[38;5;34m0\u001b[0m][\u001b[38;5;34m0\u001b[0m]   │\n",
              "│ (\u001b[38;5;33mPositionalEmbedding\u001b[0m)     │                        │                │                        │\n",
              "├───────────────────────────┼────────────────────────┼────────────────┼────────────────────────┤\n",
              "│ not_equal (\u001b[38;5;33mNotEqual\u001b[0m)      │ (\u001b[38;5;45mNone\u001b[0m, \u001b[38;5;45mNone\u001b[0m)           │              \u001b[38;5;34m0\u001b[0m │ encoder_inputs[\u001b[38;5;34m0\u001b[0m][\u001b[38;5;34m0\u001b[0m]   │\n",
              "├───────────────────────────┼────────────────────────┼────────────────┼────────────────────────┤\n",
              "│ positional_embedding_1    │ (\u001b[38;5;45mNone\u001b[0m, \u001b[38;5;45mNone\u001b[0m, \u001b[38;5;34m300\u001b[0m)      │      \u001b[38;5;34m4,506,000\u001b[0m │ decoder_inputs[\u001b[38;5;34m0\u001b[0m][\u001b[38;5;34m0\u001b[0m]   │\n",
              "│ (\u001b[38;5;33mPositionalEmbedding\u001b[0m)     │                        │                │                        │\n",
              "├───────────────────────────┼────────────────────────┼────────────────┼────────────────────────┤\n",
              "│ transformer_encoder       │ [(\u001b[38;5;45mNone\u001b[0m, \u001b[38;5;45mNone\u001b[0m, \u001b[38;5;34m300\u001b[0m),    │      \u001b[38;5;34m4,119,848\u001b[0m │ positional_embedding[\u001b[38;5;34m…\u001b[0m │\n",
              "│ (\u001b[38;5;33mTransformerEncoder\u001b[0m)      │ (\u001b[38;5;45mNone\u001b[0m, \u001b[38;5;34m8\u001b[0m, \u001b[38;5;45mNone\u001b[0m, \u001b[38;5;45mNone\u001b[0m)] │                │ not_equal[\u001b[38;5;34m0\u001b[0m][\u001b[38;5;34m0\u001b[0m]        │\n",
              "├───────────────────────────┼────────────────────────┼────────────────┼────────────────────────┤\n",
              "│ not_equal_1 (\u001b[38;5;33mNotEqual\u001b[0m)    │ (\u001b[38;5;45mNone\u001b[0m, \u001b[38;5;45mNone\u001b[0m)           │              \u001b[38;5;34m0\u001b[0m │ decoder_inputs[\u001b[38;5;34m0\u001b[0m][\u001b[38;5;34m0\u001b[0m]   │\n",
              "├───────────────────────────┼────────────────────────┼────────────────┼────────────────────────┤\n",
              "│ transformer_decoder       │ [(\u001b[38;5;45mNone\u001b[0m, \u001b[38;5;45mNone\u001b[0m, \u001b[38;5;34m300\u001b[0m),    │      \u001b[38;5;34m7,007,948\u001b[0m │ positional_embedding_… │\n",
              "│ (\u001b[38;5;33mTransformerDecoder\u001b[0m)      │ (\u001b[38;5;45mNone\u001b[0m, \u001b[38;5;34m8\u001b[0m, \u001b[38;5;45mNone\u001b[0m, \u001b[38;5;45mNone\u001b[0m), │                │ transformer_encoder[\u001b[38;5;34m0\u001b[0m… │\n",
              "│                           │ (\u001b[38;5;45mNone\u001b[0m, \u001b[38;5;34m8\u001b[0m, \u001b[38;5;45mNone\u001b[0m, \u001b[38;5;45mNone\u001b[0m)] │                │ not_equal_1[\u001b[38;5;34m0\u001b[0m][\u001b[38;5;34m0\u001b[0m],     │\n",
              "│                           │                        │                │ not_equal[\u001b[38;5;34m0\u001b[0m][\u001b[38;5;34m0\u001b[0m]        │\n",
              "├───────────────────────────┼────────────────────────┼────────────────┼────────────────────────┤\n",
              "│ dropout_3 (\u001b[38;5;33mDropout\u001b[0m)       │ (\u001b[38;5;45mNone\u001b[0m, \u001b[38;5;45mNone\u001b[0m, \u001b[38;5;34m300\u001b[0m)      │              \u001b[38;5;34m0\u001b[0m │ transformer_decoder[\u001b[38;5;34m0\u001b[0m… │\n",
              "├───────────────────────────┼────────────────────────┼────────────────┼────────────────────────┤\n",
              "│ dense_4 (\u001b[38;5;33mDense\u001b[0m)           │ (\u001b[38;5;45mNone\u001b[0m, \u001b[38;5;45mNone\u001b[0m, \u001b[38;5;34m15000\u001b[0m)    │      \u001b[38;5;34m4,515,000\u001b[0m │ dropout_3[\u001b[38;5;34m0\u001b[0m][\u001b[38;5;34m0\u001b[0m]        │\n",
              "└───────────────────────────┴────────────────────────┴────────────────┴────────────────────────┘\n"
            ],
            "text/html": [
              "<pre style=\"white-space:pre;overflow-x:auto;line-height:normal;font-family:Menlo,'DejaVu Sans Mono',consolas,'Courier New',monospace\">┏━━━━━━━━━━━━━━━━━━━━━━━━━━━┳━━━━━━━━━━━━━━━━━━━━━━━━┳━━━━━━━━━━━━━━━━┳━━━━━━━━━━━━━━━━━━━━━━━━┓\n",
              "┃<span style=\"font-weight: bold\"> Layer (type)              </span>┃<span style=\"font-weight: bold\"> Output Shape           </span>┃<span style=\"font-weight: bold\">        Param # </span>┃<span style=\"font-weight: bold\"> Connected to           </span>┃\n",
              "┡━━━━━━━━━━━━━━━━━━━━━━━━━━━╇━━━━━━━━━━━━━━━━━━━━━━━━╇━━━━━━━━━━━━━━━━╇━━━━━━━━━━━━━━━━━━━━━━━━┩\n",
              "│ encoder_inputs            │ (<span style=\"color: #00d7ff; text-decoration-color: #00d7ff\">None</span>, <span style=\"color: #00d7ff; text-decoration-color: #00d7ff\">None</span>)           │              <span style=\"color: #00af00; text-decoration-color: #00af00\">0</span> │ -                      │\n",
              "│ (<span style=\"color: #0087ff; text-decoration-color: #0087ff\">InputLayer</span>)              │                        │                │                        │\n",
              "├───────────────────────────┼────────────────────────┼────────────────┼────────────────────────┤\n",
              "│ decoder_inputs            │ (<span style=\"color: #00d7ff; text-decoration-color: #00d7ff\">None</span>, <span style=\"color: #00d7ff; text-decoration-color: #00d7ff\">None</span>)           │              <span style=\"color: #00af00; text-decoration-color: #00af00\">0</span> │ -                      │\n",
              "│ (<span style=\"color: #0087ff; text-decoration-color: #0087ff\">InputLayer</span>)              │                        │                │                        │\n",
              "├───────────────────────────┼────────────────────────┼────────────────┼────────────────────────┤\n",
              "│ positional_embedding      │ (<span style=\"color: #00d7ff; text-decoration-color: #00d7ff\">None</span>, <span style=\"color: #00d7ff; text-decoration-color: #00d7ff\">None</span>, <span style=\"color: #00af00; text-decoration-color: #00af00\">300</span>)      │      <span style=\"color: #00af00; text-decoration-color: #00af00\">4,506,000</span> │ encoder_inputs[<span style=\"color: #00af00; text-decoration-color: #00af00\">0</span>][<span style=\"color: #00af00; text-decoration-color: #00af00\">0</span>]   │\n",
              "│ (<span style=\"color: #0087ff; text-decoration-color: #0087ff\">PositionalEmbedding</span>)     │                        │                │                        │\n",
              "├───────────────────────────┼────────────────────────┼────────────────┼────────────────────────┤\n",
              "│ not_equal (<span style=\"color: #0087ff; text-decoration-color: #0087ff\">NotEqual</span>)      │ (<span style=\"color: #00d7ff; text-decoration-color: #00d7ff\">None</span>, <span style=\"color: #00d7ff; text-decoration-color: #00d7ff\">None</span>)           │              <span style=\"color: #00af00; text-decoration-color: #00af00\">0</span> │ encoder_inputs[<span style=\"color: #00af00; text-decoration-color: #00af00\">0</span>][<span style=\"color: #00af00; text-decoration-color: #00af00\">0</span>]   │\n",
              "├───────────────────────────┼────────────────────────┼────────────────┼────────────────────────┤\n",
              "│ positional_embedding_1    │ (<span style=\"color: #00d7ff; text-decoration-color: #00d7ff\">None</span>, <span style=\"color: #00d7ff; text-decoration-color: #00d7ff\">None</span>, <span style=\"color: #00af00; text-decoration-color: #00af00\">300</span>)      │      <span style=\"color: #00af00; text-decoration-color: #00af00\">4,506,000</span> │ decoder_inputs[<span style=\"color: #00af00; text-decoration-color: #00af00\">0</span>][<span style=\"color: #00af00; text-decoration-color: #00af00\">0</span>]   │\n",
              "│ (<span style=\"color: #0087ff; text-decoration-color: #0087ff\">PositionalEmbedding</span>)     │                        │                │                        │\n",
              "├───────────────────────────┼────────────────────────┼────────────────┼────────────────────────┤\n",
              "│ transformer_encoder       │ [(<span style=\"color: #00d7ff; text-decoration-color: #00d7ff\">None</span>, <span style=\"color: #00d7ff; text-decoration-color: #00d7ff\">None</span>, <span style=\"color: #00af00; text-decoration-color: #00af00\">300</span>),    │      <span style=\"color: #00af00; text-decoration-color: #00af00\">4,119,848</span> │ positional_embedding[<span style=\"color: #00af00; text-decoration-color: #00af00\">…</span> │\n",
              "│ (<span style=\"color: #0087ff; text-decoration-color: #0087ff\">TransformerEncoder</span>)      │ (<span style=\"color: #00d7ff; text-decoration-color: #00d7ff\">None</span>, <span style=\"color: #00af00; text-decoration-color: #00af00\">8</span>, <span style=\"color: #00d7ff; text-decoration-color: #00d7ff\">None</span>, <span style=\"color: #00d7ff; text-decoration-color: #00d7ff\">None</span>)] │                │ not_equal[<span style=\"color: #00af00; text-decoration-color: #00af00\">0</span>][<span style=\"color: #00af00; text-decoration-color: #00af00\">0</span>]        │\n",
              "├───────────────────────────┼────────────────────────┼────────────────┼────────────────────────┤\n",
              "│ not_equal_1 (<span style=\"color: #0087ff; text-decoration-color: #0087ff\">NotEqual</span>)    │ (<span style=\"color: #00d7ff; text-decoration-color: #00d7ff\">None</span>, <span style=\"color: #00d7ff; text-decoration-color: #00d7ff\">None</span>)           │              <span style=\"color: #00af00; text-decoration-color: #00af00\">0</span> │ decoder_inputs[<span style=\"color: #00af00; text-decoration-color: #00af00\">0</span>][<span style=\"color: #00af00; text-decoration-color: #00af00\">0</span>]   │\n",
              "├───────────────────────────┼────────────────────────┼────────────────┼────────────────────────┤\n",
              "│ transformer_decoder       │ [(<span style=\"color: #00d7ff; text-decoration-color: #00d7ff\">None</span>, <span style=\"color: #00d7ff; text-decoration-color: #00d7ff\">None</span>, <span style=\"color: #00af00; text-decoration-color: #00af00\">300</span>),    │      <span style=\"color: #00af00; text-decoration-color: #00af00\">7,007,948</span> │ positional_embedding_… │\n",
              "│ (<span style=\"color: #0087ff; text-decoration-color: #0087ff\">TransformerDecoder</span>)      │ (<span style=\"color: #00d7ff; text-decoration-color: #00d7ff\">None</span>, <span style=\"color: #00af00; text-decoration-color: #00af00\">8</span>, <span style=\"color: #00d7ff; text-decoration-color: #00d7ff\">None</span>, <span style=\"color: #00d7ff; text-decoration-color: #00d7ff\">None</span>), │                │ transformer_encoder[<span style=\"color: #00af00; text-decoration-color: #00af00\">0</span>… │\n",
              "│                           │ (<span style=\"color: #00d7ff; text-decoration-color: #00d7ff\">None</span>, <span style=\"color: #00af00; text-decoration-color: #00af00\">8</span>, <span style=\"color: #00d7ff; text-decoration-color: #00d7ff\">None</span>, <span style=\"color: #00d7ff; text-decoration-color: #00d7ff\">None</span>)] │                │ not_equal_1[<span style=\"color: #00af00; text-decoration-color: #00af00\">0</span>][<span style=\"color: #00af00; text-decoration-color: #00af00\">0</span>],     │\n",
              "│                           │                        │                │ not_equal[<span style=\"color: #00af00; text-decoration-color: #00af00\">0</span>][<span style=\"color: #00af00; text-decoration-color: #00af00\">0</span>]        │\n",
              "├───────────────────────────┼────────────────────────┼────────────────┼────────────────────────┤\n",
              "│ dropout_3 (<span style=\"color: #0087ff; text-decoration-color: #0087ff\">Dropout</span>)       │ (<span style=\"color: #00d7ff; text-decoration-color: #00d7ff\">None</span>, <span style=\"color: #00d7ff; text-decoration-color: #00d7ff\">None</span>, <span style=\"color: #00af00; text-decoration-color: #00af00\">300</span>)      │              <span style=\"color: #00af00; text-decoration-color: #00af00\">0</span> │ transformer_decoder[<span style=\"color: #00af00; text-decoration-color: #00af00\">0</span>… │\n",
              "├───────────────────────────┼────────────────────────┼────────────────┼────────────────────────┤\n",
              "│ dense_4 (<span style=\"color: #0087ff; text-decoration-color: #0087ff\">Dense</span>)           │ (<span style=\"color: #00d7ff; text-decoration-color: #00d7ff\">None</span>, <span style=\"color: #00d7ff; text-decoration-color: #00d7ff\">None</span>, <span style=\"color: #00af00; text-decoration-color: #00af00\">15000</span>)    │      <span style=\"color: #00af00; text-decoration-color: #00af00\">4,515,000</span> │ dropout_3[<span style=\"color: #00af00; text-decoration-color: #00af00\">0</span>][<span style=\"color: #00af00; text-decoration-color: #00af00\">0</span>]        │\n",
              "└───────────────────────────┴────────────────────────┴────────────────┴────────────────────────┘\n",
              "</pre>\n"
            ]
          },
          "metadata": {}
        },
        {
          "output_type": "display_data",
          "data": {
            "text/plain": [
              "\u001b[1m Total params: \u001b[0m\u001b[38;5;34m24,654,796\u001b[0m (94.05 MB)\n"
            ],
            "text/html": [
              "<pre style=\"white-space:pre;overflow-x:auto;line-height:normal;font-family:Menlo,'DejaVu Sans Mono',consolas,'Courier New',monospace\"><span style=\"font-weight: bold\"> Total params: </span><span style=\"color: #00af00; text-decoration-color: #00af00\">24,654,796</span> (94.05 MB)\n",
              "</pre>\n"
            ]
          },
          "metadata": {}
        },
        {
          "output_type": "display_data",
          "data": {
            "text/plain": [
              "\u001b[1m Trainable params: \u001b[0m\u001b[38;5;34m20,154,796\u001b[0m (76.88 MB)\n"
            ],
            "text/html": [
              "<pre style=\"white-space:pre;overflow-x:auto;line-height:normal;font-family:Menlo,'DejaVu Sans Mono',consolas,'Courier New',monospace\"><span style=\"font-weight: bold\"> Trainable params: </span><span style=\"color: #00af00; text-decoration-color: #00af00\">20,154,796</span> (76.88 MB)\n",
              "</pre>\n"
            ]
          },
          "metadata": {}
        },
        {
          "output_type": "display_data",
          "data": {
            "text/plain": [
              "\u001b[1m Non-trainable params: \u001b[0m\u001b[38;5;34m4,500,000\u001b[0m (17.17 MB)\n"
            ],
            "text/html": [
              "<pre style=\"white-space:pre;overflow-x:auto;line-height:normal;font-family:Menlo,'DejaVu Sans Mono',consolas,'Courier New',monospace\"><span style=\"font-weight: bold\"> Non-trainable params: </span><span style=\"color: #00af00; text-decoration-color: #00af00\">4,500,000</span> (17.17 MB)\n",
              "</pre>\n"
            ]
          },
          "metadata": {}
        },
        {
          "output_type": "stream",
          "name": "stdout",
          "text": [
            "Epoch 1/50\n",
            "\u001b[1m1302/1302\u001b[0m \u001b[32m━━━━━━━━━━━━━━━━━━━━\u001b[0m\u001b[37m\u001b[0m \u001b[1m130s\u001b[0m 86ms/step - dense_4_accuracy: 0.0598 - loss: 10.2250 - val_dense_4_accuracy: 0.1067 - val_loss: 4.8702 - learning_rate: 1.0000e-04\n",
            "Epoch 2/50\n",
            "\u001b[1m1302/1302\u001b[0m \u001b[32m━━━━━━━━━━━━━━━━━━━━\u001b[0m\u001b[37m\u001b[0m \u001b[1m117s\u001b[0m 76ms/step - dense_4_accuracy: 0.1152 - loss: 4.7786 - val_dense_4_accuracy: 0.1445 - val_loss: 4.0496 - learning_rate: 1.0000e-04\n",
            "Epoch 3/50\n",
            "\u001b[1m1302/1302\u001b[0m \u001b[32m━━━━━━━━━━━━━━━━━━━━\u001b[0m\u001b[37m\u001b[0m \u001b[1m98s\u001b[0m 76ms/step - dense_4_accuracy: 0.1472 - loss: 4.0204 - val_dense_4_accuracy: 0.1689 - val_loss: 3.4927 - learning_rate: 1.0000e-04\n",
            "Epoch 4/50\n",
            "\u001b[1m1302/1302\u001b[0m \u001b[32m━━━━━━━━━━━━━━━━━━━━\u001b[0m\u001b[37m\u001b[0m \u001b[1m148s\u001b[0m 80ms/step - dense_4_accuracy: 0.1658 - loss: 3.5574 - val_dense_4_accuracy: 0.1833 - val_loss: 3.1506 - learning_rate: 1.0000e-04\n",
            "Epoch 5/50\n",
            "\u001b[1m1302/1302\u001b[0m \u001b[32m━━━━━━━━━━━━━━━━━━━━\u001b[0m\u001b[37m\u001b[0m \u001b[1m98s\u001b[0m 75ms/step - dense_4_accuracy: 0.1795 - loss: 3.2361 - val_dense_4_accuracy: 0.1926 - val_loss: 2.9267 - learning_rate: 1.0000e-04\n",
            "Epoch 6/50\n",
            "\u001b[1m1302/1302\u001b[0m \u001b[32m━━━━━━━━━━━━━━━━━━━━\u001b[0m\u001b[37m\u001b[0m \u001b[1m103s\u001b[0m 79ms/step - dense_4_accuracy: 0.1896 - loss: 3.0129 - val_dense_4_accuracy: 0.1999 - val_loss: 2.7587 - learning_rate: 1.0000e-04\n",
            "Epoch 7/50\n",
            "\u001b[1m1302/1302\u001b[0m \u001b[32m━━━━━━━━━━━━━━━━━━━━\u001b[0m\u001b[37m\u001b[0m \u001b[1m98s\u001b[0m 75ms/step - dense_4_accuracy: 0.1958 - loss: 2.8406 - val_dense_4_accuracy: 0.2049 - val_loss: 2.6337 - learning_rate: 1.0000e-04\n",
            "Epoch 8/50\n",
            "\u001b[1m1302/1302\u001b[0m \u001b[32m━━━━━━━━━━━━━━━━━━━━\u001b[0m\u001b[37m\u001b[0m \u001b[1m143s\u001b[0m 76ms/step - dense_4_accuracy: 0.2026 - loss: 2.6901 - val_dense_4_accuracy: 0.2088 - val_loss: 2.5355 - learning_rate: 1.0000e-04\n",
            "Epoch 9/50\n",
            "\u001b[1m1302/1302\u001b[0m \u001b[32m━━━━━━━━━━━━━━━━━━━━\u001b[0m\u001b[37m\u001b[0m \u001b[1m98s\u001b[0m 76ms/step - dense_4_accuracy: 0.2078 - loss: 2.5833 - val_dense_4_accuracy: 0.2123 - val_loss: 2.4560 - learning_rate: 1.0000e-04\n",
            "Epoch 10/50\n",
            "\u001b[1m1302/1302\u001b[0m \u001b[32m━━━━━━━━━━━━━━━━━━━━\u001b[0m\u001b[37m\u001b[0m \u001b[1m143s\u001b[0m 76ms/step - dense_4_accuracy: 0.2113 - loss: 2.4895 - val_dense_4_accuracy: 0.2137 - val_loss: 2.3998 - learning_rate: 1.0000e-04\n",
            "Epoch 11/50\n",
            "\u001b[1m1302/1302\u001b[0m \u001b[32m━━━━━━━━━━━━━━━━━━━━\u001b[0m\u001b[37m\u001b[0m \u001b[1m98s\u001b[0m 76ms/step - dense_4_accuracy: 0.2150 - loss: 2.4115 - val_dense_4_accuracy: 0.2173 - val_loss: 2.3405 - learning_rate: 1.0000e-04\n",
            "Epoch 12/50\n",
            "\u001b[1m1302/1302\u001b[0m \u001b[32m━━━━━━━━━━━━━━━━━━━━\u001b[0m\u001b[37m\u001b[0m \u001b[1m98s\u001b[0m 75ms/step - dense_4_accuracy: 0.2187 - loss: 2.3254 - val_dense_4_accuracy: 0.2197 - val_loss: 2.2862 - learning_rate: 1.0000e-04\n",
            "Epoch 13/50\n",
            "\u001b[1m1302/1302\u001b[0m \u001b[32m━━━━━━━━━━━━━━━━━━━━\u001b[0m\u001b[37m\u001b[0m \u001b[1m98s\u001b[0m 75ms/step - dense_4_accuracy: 0.2212 - loss: 2.2859 - val_dense_4_accuracy: 0.2218 - val_loss: 2.2438 - learning_rate: 1.0000e-04\n",
            "Epoch 14/50\n",
            "\u001b[1m1302/1302\u001b[0m \u001b[32m━━━━━━━━━━━━━━━━━━━━\u001b[0m\u001b[37m\u001b[0m \u001b[1m143s\u001b[0m 76ms/step - dense_4_accuracy: 0.2240 - loss: 2.2217 - val_dense_4_accuracy: 0.2232 - val_loss: 2.2151 - learning_rate: 1.0000e-04\n",
            "Epoch 15/50\n",
            "\u001b[1m1302/1302\u001b[0m \u001b[32m━━━━━━━━━━━━━━━━━━━━\u001b[0m\u001b[37m\u001b[0m \u001b[1m103s\u001b[0m 79ms/step - dense_4_accuracy: 0.2257 - loss: 2.1763 - val_dense_4_accuracy: 0.2247 - val_loss: 2.1946 - learning_rate: 1.0000e-04\n",
            "Epoch 16/50\n",
            "\u001b[1m1302/1302\u001b[0m \u001b[32m━━━━━━━━━━━━━━━━━━━━\u001b[0m\u001b[37m\u001b[0m \u001b[1m98s\u001b[0m 76ms/step - dense_4_accuracy: 0.2278 - loss: 2.1334 - val_dense_4_accuracy: 0.2264 - val_loss: 2.1736 - learning_rate: 1.0000e-04\n",
            "Epoch 17/50\n",
            "\u001b[1m1302/1302\u001b[0m \u001b[32m━━━━━━━━━━━━━━━━━━━━\u001b[0m\u001b[37m\u001b[0m \u001b[1m98s\u001b[0m 76ms/step - dense_4_accuracy: 0.2303 - loss: 2.0914 - val_dense_4_accuracy: 0.2269 - val_loss: 2.1506 - learning_rate: 1.0000e-04\n",
            "Epoch 18/50\n",
            "\u001b[1m1302/1302\u001b[0m \u001b[32m━━━━━━━━━━━━━━━━━━━━\u001b[0m\u001b[37m\u001b[0m \u001b[1m98s\u001b[0m 75ms/step - dense_4_accuracy: 0.2325 - loss: 2.0526 - val_dense_4_accuracy: 0.2274 - val_loss: 2.1553 - learning_rate: 1.0000e-04\n",
            "Epoch 19/50\n",
            "\u001b[1m1302/1302\u001b[0m \u001b[32m━━━━━━━━━━━━━━━━━━━━\u001b[0m\u001b[37m\u001b[0m \u001b[1m97s\u001b[0m 75ms/step - dense_4_accuracy: 0.2343 - loss: 2.0294 - val_dense_4_accuracy: 0.2288 - val_loss: 2.1298 - learning_rate: 1.0000e-04\n",
            "Epoch 20/50\n",
            "\u001b[1m1302/1302\u001b[0m \u001b[32m━━━━━━━━━━━━━━━━━━━━\u001b[0m\u001b[37m\u001b[0m \u001b[1m143s\u001b[0m 76ms/step - dense_4_accuracy: 0.2357 - loss: 2.0074 - val_dense_4_accuracy: 0.2289 - val_loss: 2.1239 - learning_rate: 1.0000e-04\n",
            "Epoch 21/50\n",
            "\u001b[1m1302/1302\u001b[0m \u001b[32m━━━━━━━━━━━━━━━━━━━━\u001b[0m\u001b[37m\u001b[0m \u001b[1m102s\u001b[0m 79ms/step - dense_4_accuracy: 0.2372 - loss: 1.9714 - val_dense_4_accuracy: 0.2294 - val_loss: 2.1022 - learning_rate: 1.0000e-04\n",
            "Epoch 22/50\n",
            "\u001b[1m1302/1302\u001b[0m \u001b[32m━━━━━━━━━━━━━━━━━━━━\u001b[0m\u001b[37m\u001b[0m \u001b[1m143s\u001b[0m 79ms/step - dense_4_accuracy: 0.2389 - loss: 1.9469 - val_dense_4_accuracy: 0.2303 - val_loss: 2.1116 - learning_rate: 1.0000e-04\n",
            "Epoch 23/50\n",
            "\u001b[1m1302/1302\u001b[0m \u001b[32m━━━━━━━━━━━━━━━━━━━━\u001b[0m\u001b[37m\u001b[0m \u001b[1m98s\u001b[0m 75ms/step - dense_4_accuracy: 0.2399 - loss: 1.9266 - val_dense_4_accuracy: 0.2312 - val_loss: 2.1067 - learning_rate: 1.0000e-04\n",
            "Epoch 24/50\n",
            "\u001b[1m1302/1302\u001b[0m \u001b[32m━━━━━━━━━━━━━━━━━━━━\u001b[0m\u001b[37m\u001b[0m \u001b[1m147s\u001b[0m 79ms/step - dense_4_accuracy: 0.2432 - loss: 1.8893 - val_dense_4_accuracy: 0.2315 - val_loss: 2.1056 - learning_rate: 1.0000e-04\n",
            "Epoch 25/50\n",
            "\u001b[1m1302/1302\u001b[0m \u001b[32m━━━━━━━━━━━━━━━━━━━━\u001b[0m\u001b[37m\u001b[0m \u001b[1m98s\u001b[0m 75ms/step - dense_4_accuracy: 0.2460 - loss: 1.8358 - val_dense_4_accuracy: 0.2336 - val_loss: 2.0571 - learning_rate: 5.0000e-05\n",
            "Epoch 26/50\n",
            "\u001b[1m1302/1302\u001b[0m \u001b[32m━━━━━━━━━━━━━━━━━━━━\u001b[0m\u001b[37m\u001b[0m \u001b[1m97s\u001b[0m 75ms/step - dense_4_accuracy: 0.2473 - loss: 1.8111 - val_dense_4_accuracy: 0.2338 - val_loss: 2.0518 - learning_rate: 5.0000e-05\n",
            "Epoch 27/50\n",
            "\u001b[1m1302/1302\u001b[0m \u001b[32m━━━━━━━━━━━━━━━━━━━━\u001b[0m\u001b[37m\u001b[0m \u001b[1m97s\u001b[0m 75ms/step - dense_4_accuracy: 0.2473 - loss: 1.8036 - val_dense_4_accuracy: 0.2341 - val_loss: 2.0571 - learning_rate: 5.0000e-05\n",
            "Epoch 28/50\n",
            "\u001b[1m1302/1302\u001b[0m \u001b[32m━━━━━━━━━━━━━━━━━━━━\u001b[0m\u001b[37m\u001b[0m \u001b[1m148s\u001b[0m 79ms/step - dense_4_accuracy: 0.2492 - loss: 1.7909 - val_dense_4_accuracy: 0.2342 - val_loss: 2.0616 - learning_rate: 5.0000e-05\n",
            "Epoch 29/50\n",
            "\u001b[1m1302/1302\u001b[0m \u001b[32m━━━━━━━━━━━━━━━━━━━━\u001b[0m\u001b[37m\u001b[0m \u001b[1m102s\u001b[0m 79ms/step - dense_4_accuracy: 0.2498 - loss: 1.7723 - val_dense_4_accuracy: 0.2341 - val_loss: 2.0657 - learning_rate: 5.0000e-05\n",
            "Epoch 30/50\n",
            "\u001b[1m1302/1302\u001b[0m \u001b[32m━━━━━━━━━━━━━━━━━━━━\u001b[0m\u001b[37m\u001b[0m \u001b[1m138s\u001b[0m 75ms/step - dense_4_accuracy: 0.2521 - loss: 1.7442 - val_dense_4_accuracy: 0.2352 - val_loss: 2.0550 - learning_rate: 2.5000e-05\n",
            "Epoch 31/50\n",
            "\u001b[1m1302/1302\u001b[0m \u001b[32m━━━━━━━━━━━━━━━━━━━━\u001b[0m\u001b[37m\u001b[0m \u001b[1m97s\u001b[0m 75ms/step - dense_4_accuracy: 0.2533 - loss: 1.7220 - val_dense_4_accuracy: 0.2352 - val_loss: 2.0526 - learning_rate: 2.5000e-05\n"
          ]
        },
        {
          "output_type": "execute_result",
          "data": {
            "text/plain": [
              "<keras.src.callbacks.history.History at 0x7d6a6d30af10>"
            ]
          },
          "metadata": {},
          "execution_count": 10
        }
      ],
      "source": [
        "import matplotlib.pyplot as plt\n",
        "import numpy as np\n",
        "\n",
        "\n",
        "# Modificar TransformerEncoder para devolver los pesos de atención\n",
        "class TransformerEncoder(layers.Layer):\n",
        "    def __init__(self, embed_dim, dense_dim, num_heads, **kwargs):\n",
        "        super().__init__(**kwargs)\n",
        "        self.embed_dim = embed_dim\n",
        "        self.dense_dim = dense_dim\n",
        "        self.num_heads = num_heads\n",
        "        self.attention = layers.MultiHeadAttention(\n",
        "            num_heads=num_heads, key_dim=embed_dim\n",
        "        )\n",
        "        self.dense_proj = keras.Sequential(\n",
        "            [\n",
        "                layers.Dense(dense_dim, activation=\"relu\", kernel_regularizer=keras.regularizers.l2(0.01)),\n",
        "                layers.Dense(embed_dim),\n",
        "            ]\n",
        "        )\n",
        "        self.layernorm_1 = layers.LayerNormalization()\n",
        "        self.layernorm_2 = layers.LayerNormalization()\n",
        "        self.supports_masking = True\n",
        "\n",
        "    def call(self, inputs, mask=None):\n",
        "        if mask is not None:\n",
        "            padding_mask = ops.cast(mask[:, None, :], dtype=\"int32\")\n",
        "        else:\n",
        "            padding_mask = None\n",
        "\n",
        "        attention_output, attention_scores = self.attention(\n",
        "            query=inputs, value=inputs, key=inputs, attention_mask=padding_mask, return_attention_scores=True\n",
        "        )\n",
        "        proj_input = self.layernorm_1(inputs + attention_output)\n",
        "        proj_output = self.dense_proj(proj_input)\n",
        "        return self.layernorm_2(proj_input + proj_output), attention_scores\n",
        "\n",
        "    def get_config(self):\n",
        "        config = super().get_config()\n",
        "        config.update(\n",
        "            {\n",
        "                \"embed_dim\": self.embed_dim,\n",
        "                \"dense_dim\": self.dense_dim,\n",
        "                \"num_heads\": self.num_heads,\n",
        "            }\n",
        "        )\n",
        "        return config\n",
        "\n",
        "class PositionalEmbedding(layers.Layer):\n",
        "    def __init__(self, sequence_length, vocab_size, embed_dim, **kwargs):\n",
        "        super().__init__(**kwargs)\n",
        "        self.token_embeddings = layers.Embedding(\n",
        "            input_dim=vocab_size, output_dim=embed_dim\n",
        "        )\n",
        "        self.position_embeddings = layers.Embedding(\n",
        "            input_dim=sequence_length, output_dim=embed_dim\n",
        "        )\n",
        "        self.sequence_length = sequence_length\n",
        "        self.vocab_size = vocab_size\n",
        "        self.embed_dim = embed_dim\n",
        "\n",
        "    def call(self, inputs):\n",
        "        length = ops.shape(inputs)[-1]\n",
        "        positions = ops.arange(0, length, 1)\n",
        "        embedded_tokens = self.token_embeddings(inputs)\n",
        "        embedded_positions = self.position_embeddings(positions)\n",
        "        return embedded_tokens + embedded_positions\n",
        "\n",
        "    def compute_mask(self, inputs, mask=None):\n",
        "        return ops.not_equal(inputs, 0)\n",
        "\n",
        "    def get_config(self):\n",
        "        config = super().get_config()\n",
        "        config.update(\n",
        "            {\n",
        "                \"sequence_length\": self.sequence_length,\n",
        "                \"vocab_size\": self.vocab_size,\n",
        "                \"embed_dim\": self.embed_dim,\n",
        "            }\n",
        "        )\n",
        "        return config\n",
        "\n",
        "# Modificar TransformerDecoder para devolver los pesos de atención\n",
        "class TransformerDecoder(layers.Layer):\n",
        "    def __init__(self, embed_dim, latent_dim, num_heads, **kwargs):\n",
        "        super().__init__(**kwargs)\n",
        "        self.embed_dim = embed_dim\n",
        "        self.latent_dim = latent_dim\n",
        "        self.num_heads = num_heads\n",
        "        self.attention_1 = layers.MultiHeadAttention(\n",
        "            num_heads=num_heads, key_dim=embed_dim\n",
        "        )\n",
        "        self.attention_2 = layers.MultiHeadAttention(\n",
        "            num_heads=num_heads, key_dim=embed_dim\n",
        "        )\n",
        "        self.dense_proj = keras.Sequential(\n",
        "            [\n",
        "                layers.Dense(latent_dim, activation=\"relu\", kernel_regularizer=keras.regularizers.l2(0.01)),\n",
        "                layers.Dense(embed_dim),\n",
        "            ]\n",
        "        )\n",
        "        self.layernorm_1 = layers.LayerNormalization()\n",
        "        self.layernorm_2 = layers.LayerNormalization()\n",
        "        self.layernorm_3 = layers.LayerNormalization()\n",
        "        self.supports_masking = True\n",
        "\n",
        "    def call(self, inputs, mask=None):\n",
        "        inputs, encoder_outputs = inputs\n",
        "        causal_mask = self.get_causal_attention_mask(inputs)\n",
        "\n",
        "        if mask is None:\n",
        "            inputs_padding_mask, encoder_outputs_padding_mask = None, None\n",
        "        else:\n",
        "            inputs_padding_mask, encoder_outputs_padding_mask = mask\n",
        "\n",
        "        attention_output_1, attention_scores_1 = self.attention_1(\n",
        "            query=inputs,\n",
        "            value=inputs,\n",
        "            key=inputs,\n",
        "            attention_mask=causal_mask,\n",
        "            query_mask=inputs_padding_mask,\n",
        "            return_attention_scores=True\n",
        "        )\n",
        "        out_1 = self.layernorm_1(inputs + attention_output_1)\n",
        "\n",
        "        attention_output_2, attention_scores_2 = self.attention_2(\n",
        "            query=out_1,\n",
        "            value=encoder_outputs,\n",
        "            key=encoder_outputs,\n",
        "            query_mask=inputs_padding_mask,\n",
        "            key_mask=encoder_outputs_padding_mask,\n",
        "            return_attention_scores=True\n",
        "        )\n",
        "        out_2 = self.layernorm_2(out_1 + attention_output_2)\n",
        "\n",
        "        proj_output = self.dense_proj(out_2)\n",
        "        return self.layernorm_3(out_2 + proj_output), attention_scores_1, attention_scores_2\n",
        "\n",
        "    def get_causal_attention_mask(self, inputs):\n",
        "        input_shape = ops.shape(inputs)\n",
        "        batch_size, sequence_length = input_shape[0], input_shape[1]\n",
        "        i = ops.arange(sequence_length)[:, None]\n",
        "        j = ops.arange(sequence_length)\n",
        "        mask = ops.cast(i >= j, dtype=\"int32\")\n",
        "        mask = ops.reshape(mask, (1, input_shape[1], input_shape[1]))\n",
        "        mult = ops.concatenate(\n",
        "            [ops.expand_dims(batch_size, -1), ops.convert_to_tensor([1, 1])],\n",
        "            axis=0,\n",
        "        )\n",
        "        return ops.tile(mask, mult)\n",
        "\n",
        "    def get_config(self):\n",
        "        config = super().get_config()\n",
        "        config.update(\n",
        "            {\n",
        "                \"embed_dim\": self.embed_dim,\n",
        "                \"latent_dim\": self.latent_dim,\n",
        "                \"num_heads\": self.num_heads,\n",
        "            }\n",
        "        )\n",
        "        return config\n",
        "\n",
        "embed_dim = 300 #256\n",
        "latent_dim = 2048\n",
        "num_heads = 8\n",
        "\n",
        "# Ensamblar el modelo con las modificaciones\n",
        "encoder_inputs = keras.Input(shape=(None,), dtype=\"int64\", name=\"encoder_inputs\")\n",
        "x = PositionalEmbedding(sequence_length, vocab_size, embed_dim)(encoder_inputs)\n",
        "\n",
        "# Crear un encoder con 6 capas\n",
        "#encoder_outputs = encoder_inputs\n",
        "#for _ in range(6):\n",
        "#    encoder_outputs, _ = TransformerEncoder(embed_dim, latent_dim, num_heads)(encoder_outputs)\n",
        "\n",
        "encoder_outputs, encoder_attention_scores = TransformerEncoder(embed_dim, latent_dim, num_heads)(x)\n",
        "encoder = keras.Model(encoder_inputs, [encoder_outputs, encoder_attention_scores])\n",
        "\n",
        "decoder_inputs = keras.Input(shape=(None,), dtype=\"int64\", name=\"decoder_inputs\")\n",
        "encoded_seq_inputs = keras.Input(shape=(None, embed_dim), name=\"decoder_state_inputs\")\n",
        "x = PositionalEmbedding(sequence_length, vocab_size, embed_dim)(decoder_inputs)\n",
        "x, decoder_attention_scores_1, decoder_attention_scores_2 = TransformerDecoder(embed_dim, latent_dim, num_heads)([x, encoder_outputs])\n",
        "x = layers.Dropout(0.5)(x)\n",
        "\n",
        "# Crear un decoder con 6 capas\n",
        "#decoder_outputs = decoder_inputs\n",
        "#for _ in range(6):\n",
        "#    decoder_outputs, _, _ = TransformerDecoder(embed_dim, latent_dim, num_heads)([decoder_outputs, encoder_outputs])\n",
        "\n",
        "decoder_outputs = layers.Dense(vocab_size, activation=\"softmax\")(x)\n",
        "decoder = keras.Model([decoder_inputs, encoded_seq_inputs], [decoder_outputs, decoder_attention_scores_1, decoder_attention_scores_2])\n",
        "\n",
        "transformer = keras.Model(\n",
        "    {\"encoder_inputs\": encoder_inputs, \"decoder_inputs\": decoder_inputs},\n",
        "    [decoder_outputs, decoder_attention_scores_1, decoder_attention_scores_2],\n",
        "    name=\"transformer\",\n",
        ")\n",
        "\n",
        "# Asignar los embeddings preentrenados de GloVe a la capa de embeddings del encoder\n",
        "embedding_layer = transformer.get_layer(\"positional_embedding\").token_embeddings\n",
        "embedding_layer.set_weights([embedding_matrix])\n",
        "embedding_layer.trainable = False  # Congelar los embeddings\n",
        "\n",
        "\n",
        "epochs = 50\n",
        "\n",
        "from keras.optimizers import RMSprop\n",
        "from keras.callbacks import ReduceLROnPlateau\n",
        "\n",
        "optimizer = RMSprop(learning_rate=0.0001)  # Prueba con una tasa de aprendizaje más baja\n",
        "lr_scheduler = ReduceLROnPlateau(monitor='val_loss', factor=0.5, patience=3, min_lr=1e-6)\n",
        "\n",
        "from keras.optimizers.schedules import ExponentialDecay\n",
        "\n",
        "#initial_learning_rate = 0.0001\n",
        "#lr_scheduler = ExponentialDecay(\n",
        "#    initial_learning_rate, decay_steps=10000, decay_rate=0.95, staircase=True\n",
        "#)\n",
        "#optimizer = keras.optimizers.Adam(learning_rate=lr_scheduler, beta_1=0.9, beta_2=0.98, epsilon=1e-9)\n",
        "\n",
        "from keras.callbacks import EarlyStopping\n",
        "\n",
        "early_stopping = EarlyStopping(monitor='val_loss', patience=5, restore_best_weights=True)\n",
        "\n",
        "# Entrenar el modelo (esto no cambia)\n",
        "transformer.summary()\n",
        "transformer.compile(\n",
        "    optimizer=optimizer,\n",
        "    #\"rmsprop\",\n",
        "    #loss=keras.losses.SparseCategoricalCrossentropy(ignore_class=0),\n",
        "    #loss={\"decoder_outputs\": keras.losses.SparseCategoricalCrossentropy(ignore_class=0)},\n",
        "    loss=[keras.losses.SparseCategoricalCrossentropy(ignore_class=0), None, None],  # Solo aplicamos pérdida a la primera salida\n",
        "    loss_weights=[1.0, 0.0, 0.0],  # Solo aplicamos pérdida a la primera salida\n",
        "    metrics=[[\"accuracy\"], None, None],\n",
        ")\n",
        "transformer.fit(train_ds, epochs=epochs, validation_data=val_ds, callbacks=[early_stopping, lr_scheduler])"
      ]
    },
    {
      "cell_type": "code",
      "source": [
        "# Guardar el modelo\n",
        "transformer.save(\"transformer_model.keras\")"
      ],
      "metadata": {
        "id": "-xjBWj_hq_Ja"
      },
      "execution_count": 11,
      "outputs": []
    },
    {
      "cell_type": "code",
      "execution_count": 12,
      "metadata": {
        "id": "D4Hqjt1eU5yI",
        "colab": {
          "base_uri": "https://localhost:8080/"
        },
        "outputId": "24b10b0c-35e3-4b70-9764-39837cecb042"
      },
      "outputs": [
        {
          "output_type": "stream",
          "name": "stdout",
          "text": [
            "She always speaks to him in a loud voice. [start] ella siempre habla con él en voz alta [end]\n",
            "She didn't accept the invitation. [start] ella no aceptó la invitación [end]\n",
            "He isn't perfect. [start] Él no es perfecto [end]\n",
            "I woke up at sunrise. [start] me desperté en el momento [end]\n",
            "Hold on a sec. [start] [UNK] una [UNK] [end]\n",
            "Tom chose to ignore Mary's comment. [start] tom decidió [UNK] la tarde de mary [end]\n",
            "Tom didn't look like a freak. [start] tom no se le gustaba un [UNK] [end]\n",
            "Tom passed most of the time fishing. [start] tom murió la de la mayoría de tiempo [end]\n",
            "It just came out. [start] solo se salió [end]\n",
            "Can you give me an explanation? [start] puedes darme una explicación [end]\n",
            "I'm not optimistic. [start] no estoy [UNK] [end]\n",
            "How long will you be at your aunt's house? [start] cuánto tiempo vas a estar en la casa de tu tía [end]\n",
            "You're going to screw this up. [start] vas a [UNK] esto [end]\n",
            "I thought you'd be thrilled. [start] pensé que [UNK] [UNK] [end]\n",
            "I don't want to remember. [start] no quiero recordar [end]\n",
            "The show is over. [start] el espectáculo se ha terminado [end]\n",
            "What about me? [start] qué me [end]\n",
            "He told us an interesting story. [start] Él nos contó una historia interesante [end]\n",
            "Would you like to come shopping with me? [start] te gustaría venir de compras conmigo [end]\n",
            "I rescheduled. [start] [end]\n",
            "The bat was stolen yesterday, along with the balls. [start] el pelota fue ayer por el [UNK] [end]\n",
            "She wore a red blouse. [start] ella llevaba una camisa rojo [end]\n",
            "Did he get married when he was in Germany? [start] Él se casó con los casado cuando estaba en alemania [end]\n",
            "He'll be there, rain or shine. [start] Él estará allí o lluvia o [UNK] [end]\n",
            "I found him working in the garden. [start] lo encontré trabajando en el jardín [end]\n",
            "I thought you didn't care about money. [start] pensé que no le importa el dinero [end]\n",
            "Be careful on your way back home. [start] cuidado de tu camino a casa [end]\n",
            "She tasted the cake to see if it was sweet enough. [start] ella se vino a ver la torta si era lo suficientemente dulce [end]\n",
            "Without water, we cannot exist. [start] sin agua no podemos no [end]\n",
            "Do you want to take care of that? [start] quieres [UNK] de eso [end]\n"
          ]
        }
      ],
      "source": [
        "spa_vocab = spa_vectorization.get_vocabulary()\n",
        "spa_index_lookup = dict(zip(range(len(spa_vocab)), spa_vocab))\n",
        "max_decoded_sentence_length = 20\n",
        "\n",
        "\n",
        "def decode_sequence(input_sentence):\n",
        "    tokenized_input_sentence = eng_vectorization([input_sentence])\n",
        "    decoded_sentence = \"[start]\"\n",
        "    for i in range(max_decoded_sentence_length):\n",
        "        tokenized_target_sentence = spa_vectorization([decoded_sentence])[:, :-1]\n",
        "        predictions, _, _ = transformer(\n",
        "            {\n",
        "                \"encoder_inputs\": tokenized_input_sentence,\n",
        "                \"decoder_inputs\": tokenized_target_sentence,\n",
        "            }\n",
        "        )\n",
        "\n",
        "        # ops.argmax(predictions[0, i, :]) is not a concrete value for jax here\n",
        "        sampled_token_index = ops.convert_to_numpy(\n",
        "            ops.argmax(predictions[0, i, :])\n",
        "        ).item(0)\n",
        "        sampled_token = spa_index_lookup[sampled_token_index]\n",
        "        decoded_sentence += \" \" + sampled_token\n",
        "\n",
        "        if sampled_token == \"[end]\":\n",
        "            break\n",
        "    return decoded_sentence\n",
        "\n",
        "\n",
        "test_eng_texts = [pair[0] for pair in test_pairs]\n",
        "for _ in range(30):\n",
        "    input_sentence = random.choice(test_eng_texts)\n",
        "    translated = decode_sequence(input_sentence)\n",
        "    print(input_sentence, translated)"
      ]
    },
    {
      "cell_type": "code",
      "source": [
        "# Función para visualizar los pesos de atención con tamaño dinámico\n",
        "def plot_attention_weights(attention_scores, source_sentence, target_sentence, layer_name):\n",
        "    # Obtener las palabras de las frases\n",
        "    source_words = source_sentence.split()\n",
        "    target_words = target_sentence.split()\n",
        "\n",
        "    # Recortar la matriz de atención al tamaño de las frases\n",
        "    attention_scores = attention_scores[0]  # Seleccionar el primer elemento del batch\n",
        "    attention_scores = attention_scores[:len(target_words), :len(source_words)]  # Recortar la matriz\n",
        "\n",
        "    # Crear el heatmap\n",
        "    fig, ax = plt.subplots(figsize=(len(source_words), len(target_words)))  # Tamaño dinámico\n",
        "    cax = ax.matshow(attention_scores, cmap='viridis')\n",
        "\n",
        "    # Configurar ejes\n",
        "    ax.set_xticks(range(len(source_words)))\n",
        "    ax.set_yticks(range(len(target_words)))\n",
        "    ax.set_xticklabels(source_words, rotation=90)\n",
        "    ax.set_yticklabels(target_words)\n",
        "\n",
        "    # Mostrar los valores de los attention_scores en cada celda\n",
        "    for i in range(len(target_words)):\n",
        "        for j in range(len(source_words)):\n",
        "            ax.text(j, i, f\"{attention_scores[i, j]:.2f}\", ha=\"center\", va=\"center\", color=\"white\")\n",
        "\n",
        "    # Añadir etiquetas y título\n",
        "    ax.set_xlabel(\"Source Sentence\")\n",
        "    ax.set_ylabel(\"Target Sentence\")\n",
        "    ax.set_title(f\"Attention Weights - {layer_name}\")\n",
        "\n",
        "    # Añadir barra de color\n",
        "    fig.colorbar(cax)\n",
        "    plt.show()\n",
        "\n",
        "# Probar con una frase de ejemplo\n",
        "input_sentence = random.choice(test_eng_texts)\n",
        "#print(\"Input Sentence:\", input_sentence)\n",
        "translated_sentence = decode_sequence(input_sentence)\n",
        "\n",
        "# Obtener los pesos de atención\n",
        "_, decoder_attention_scores_1, decoder_attention_scores_2 = transformer.predict({\n",
        "    \"encoder_inputs\": eng_vectorization([input_sentence]),\n",
        "    \"decoder_inputs\": spa_vectorization([translated_sentence])[:, :-1]\n",
        "})\n",
        "\n",
        "# Visualizar los pesos de atención\n",
        "plot_attention_weights(decoder_attention_scores_1[0], input_sentence, translated_sentence, \"Decoder Layer 1\")\n",
        "plot_attention_weights(decoder_attention_scores_2[0], input_sentence, translated_sentence, \"Decoder Layer 2\")"
      ],
      "metadata": {
        "colab": {
          "base_uri": "https://localhost:8080/",
          "height": 1000
        },
        "id": "XE1_BJZsc1ly",
        "outputId": "63c9da51-0ee8-40e0-cd7f-2dfd0ceace53"
      },
      "execution_count": 21,
      "outputs": [
        {
          "output_type": "stream",
          "name": "stdout",
          "text": [
            "\u001b[1m1/1\u001b[0m \u001b[32m━━━━━━━━━━━━━━━━━━━━\u001b[0m\u001b[37m\u001b[0m \u001b[1m0s\u001b[0m 31ms/step\n"
          ]
        },
        {
          "output_type": "display_data",
          "data": {
            "text/plain": [
              "<Figure size 900x1100 with 2 Axes>"
            ],
            "image/png": "[encoded data removed]"
          },
          "metadata": {}
        },
        {
          "output_type": "display_data",
          "data": {
            "text/plain": [
              "<Figure size 900x1100 with 2 Axes>"
            ],
            "image/png": "[encoded data removed]"
          },
          "metadata": {}
        }
      ]
    },
    {
      "cell_type": "code",
      "source": [
        "pip install nltk rouge"
      ],
      "metadata": {
        "colab": {
          "base_uri": "https://localhost:8080/"
        },
        "id": "8pp6yPfIiwF4",
        "outputId": "f9ebe847-6df3-4926-b7a0-f6a220ef3b45"
      },
      "execution_count": 22,
      "outputs": [
        {
          "output_type": "stream",
          "name": "stdout",
          "text": [
            "Requirement already satisfied: nltk in /usr/local/lib/python3.11/dist-packages (3.9.1)\n",
            "Collecting rouge\n",
            "  Downloading rouge-1.0.1-py3-none-any.whl.metadata (4.1 kB)\n",
            "Requirement already satisfied: click in /usr/local/lib/python3.11/dist-packages (from nltk) (8.1.8)\n",
            "Requirement already satisfied: joblib in /usr/local/lib/python3.11/dist-packages (from nltk) (1.4.2)\n",
            "Requirement already satisfied: regex>=2021.8.3 in /usr/local/lib/python3.11/dist-packages (from nltk) (2024.11.6)\n",
            "Requirement already satisfied: tqdm in /usr/local/lib/python3.11/dist-packages (from nltk) (4.67.1)\n",
            "Requirement already satisfied: six in /usr/local/lib/python3.11/dist-packages (from rouge) (1.17.0)\n",
            "Downloading rouge-1.0.1-py3-none-any.whl (13 kB)\n",
            "Installing collected packages: rouge\n",
            "Successfully installed rouge-1.0.1\n"
          ]
        }
      ]
    },
    {
      "cell_type": "code",
      "source": [
        "from nltk.translate.bleu_score import sentence_bleu, SmoothingFunction\n",
        "from rouge import Rouge\n",
        "\n",
        "# Función para calcular el score BLEU\n",
        "def calculate_bleu(reference, candidate):\n",
        "    smoothing = SmoothingFunction().method1  # Usar una función de suavizado\n",
        "    return sentence_bleu([reference], candidate, smoothing_function=smoothing)\n",
        "\n",
        "# Función para calcular el score ROUGE\n",
        "def calculate_rouge(reference, candidate):\n",
        "    rouge = Rouge()\n",
        "    scores = rouge.get_scores(\" \".join(candidate), \" \".join(reference))\n",
        "    return scores[0]  # Devuelve el diccionario de scores\n",
        "\n",
        "# Ejemplo de uso\n",
        "reference = [\"this\", \"is\", \"a\", \"test\"]\n",
        "candidate = [\"this\", \"is\", \"a\", \"test\"]\n",
        "\n",
        "bleu_score = calculate_bleu(reference, candidate)\n",
        "rouge_score = calculate_rouge(reference, candidate)\n",
        "\n",
        "print(f\"BLEU Score: {bleu_score}\")\n",
        "print(f\"ROUGE Score: {rouge_score}\")"
      ],
      "metadata": {
        "colab": {
          "base_uri": "https://localhost:8080/"
        },
        "id": "ck0UCzO6iybI",
        "outputId": "7afa4025-bf9c-410f-84b3-9cf5790ac77a"
      },
      "execution_count": 23,
      "outputs": [
        {
          "output_type": "stream",
          "name": "stdout",
          "text": [
            "BLEU Score: 1.0\n",
            "ROUGE Score: {'rouge-1': {'r': 1.0, 'p': 1.0, 'f': 0.999999995}, 'rouge-2': {'r': 1.0, 'p': 1.0, 'f': 0.999999995}, 'rouge-l': {'r': 1.0, 'p': 1.0, 'f': 0.999999995}}\n"
          ]
        }
      ]
    },
    {
      "cell_type": "code",
      "source": [
        "# Función para evaluar el modelo con BLEU y ROUGE en un subconjunto\n",
        "def evaluate_model(model, test_pairs, eng_vectorization, spa_vectorization, num_samples=100):\n",
        "    bleu_scores = []\n",
        "    rouge_scores = []\n",
        "\n",
        "    # Limitar el número de muestras a evaluar\n",
        "    test_subset = test_pairs[:num_samples]\n",
        "\n",
        "    for eng, spa in test_subset:\n",
        "        # Traducir la frase en inglés\n",
        "        translated_sentence = decode_sequence(eng)\n",
        "        translated_tokens = translated_sentence.split()\n",
        "\n",
        "        # Obtener la referencia (frase en español sin [start] y [end])\n",
        "        reference_tokens = spa.replace(\"[start]\", \"\").replace(\"[end]\", \"\").split()\n",
        "\n",
        "        # Calcular BLEU y ROUGE\n",
        "        bleu_score = calculate_bleu(reference_tokens, translated_tokens)\n",
        "        rouge_score = calculate_rouge(reference_tokens, translated_tokens)\n",
        "\n",
        "        bleu_scores.append(bleu_score)\n",
        "        rouge_scores.append(rouge_score)\n",
        "\n",
        "    # Calcular promedios\n",
        "    avg_bleu = np.mean(bleu_scores)\n",
        "    #avg_rouge = {key: np.mean([score[key] for score in rouge_scores]) for key in rouge_scores[0].keys()}\n",
        "\n",
        "    avg_rouge = {\n",
        "        metric: np.mean([score[metric]['f'] for score in rouge_scores])\n",
        "        for metric in rouge_scores[0].keys()\n",
        "    }\n",
        "\n",
        "    return avg_bleu, avg_rouge\n",
        "\n",
        "# Evaluar el modelo en un subconjunto de 100 frases\n",
        "avg_bleu, avg_rouge = evaluate_model(transformer, test_pairs, eng_vectorization, spa_vectorization, num_samples=100)\n",
        "print(f\"Average BLEU Score: {avg_bleu}\")\n",
        "print(f\"Average ROUGE Score: {avg_rouge}\")"
      ],
      "metadata": {
        "colab": {
          "base_uri": "https://localhost:8080/"
        },
        "id": "rpIdIFs2j4Rg",
        "outputId": "fc345ad9-c826-4f63-8a9a-570ff1c52ac7"
      },
      "execution_count": 24,
      "outputs": [
        {
          "output_type": "stream",
          "name": "stdout",
          "text": [
            "Average BLEU Score: 0.09559299695904923\n",
            "Average ROUGE Score: {'rouge-1': np.float64(0.37313894467530245), 'rouge-2': np.float64(0.226229737166373), 'rouge-l': np.float64(0.3656191034054612)}\n"
          ]
        }
      ]
    },
    {
      "cell_type": "code",
      "source": [
        "# Función para evaluar el modelo con BLEU y ROUGE con todos los elementos del conjunto TEST\n",
        "def evaluate_model(model, test_pairs, eng_vectorization, spa_vectorization):\n",
        "    bleu_scores = []\n",
        "    rouge_scores = []\n",
        "\n",
        "    for eng, spa in test_pairs:\n",
        "        # Traducir la frase en inglés\n",
        "        translated_sentence = decode_sequence(eng)\n",
        "        translated_tokens = translated_sentence.split()\n",
        "\n",
        "        # Obtener la referencia (frase en español sin [start] y [end])\n",
        "        reference_tokens = spa.replace(\"[start]\", \"\").replace(\"[end]\", \"\").split()\n",
        "\n",
        "        # Calcular BLEU y ROUGE\n",
        "        bleu_score = calculate_bleu(reference_tokens, translated_tokens)\n",
        "        rouge_score = calculate_rouge(reference_tokens, translated_tokens)\n",
        "\n",
        "        bleu_scores.append(bleu_score)\n",
        "        rouge_scores.append(rouge_score)\n",
        "\n",
        "    # Calcular promedios\n",
        "    avg_bleu = np.mean(bleu_scores)\n",
        "    avg_rouge = {key: np.mean([score[key] for score in rouge_scores]) for key in rouge_scores[0].keys()}\n",
        "\n",
        "    return avg_bleu, avg_rouge\n",
        "\n",
        "# Evaluar el modelo\n",
        "avg_bleu, avg_rouge = evaluate_model(transformer, test_pairs, eng_vectorization, spa_vectorization)\n",
        "print(f\"Average BLEU Score: {avg_bleu}\")\n",
        "print(f\"Average ROUGE Score: {avg_rouge}\")"
      ],
      "metadata": {
        "id": "gHz7gWOMi4ZY"
      },
      "execution_count": null,
      "outputs": []
    },
    {
      "cell_type": "code",
      "source": [
        "# Modelo auxiliar que devuelve las predicciones y los attention_scores\n",
        "auxiliary_model = keras.Model(\n",
        "    inputs=transformer.input,\n",
        "    outputs=[transformer.output[0], transformer.output[1], transformer.output[2]],\n",
        "    name=\"auxiliary_model\"\n",
        ")"
      ],
      "metadata": {
        "id": "7C1Tdihetu76"
      },
      "execution_count": 25,
      "outputs": []
    },
    {
      "cell_type": "code",
      "source": [
        "# Guardar el modelo principal\n",
        "transformer.save('transformer_model.keras')\n",
        "\n",
        "# Guardar el modelo auxiliar\n",
        "auxiliary_model.save('auxiliary_model.keras')"
      ],
      "metadata": {
        "id": "5sAst0wluSRf"
      },
      "execution_count": 26,
      "outputs": []
    },
    {
      "cell_type": "code",
      "source": [
        "from tensorflow.keras.models import load_model\n",
        "\n",
        "# Cargar el modelo principal\n",
        "loaded_transformer = load_model('transformer_model.keras', custom_objects={\n",
        "    'TransformerEncoder': TransformerEncoder,\n",
        "    'TransformerDecoder': TransformerDecoder,\n",
        "    'PositionalEmbedding': PositionalEmbedding\n",
        "})\n",
        "\n",
        "# Cargar el modelo auxiliar\n",
        "loaded_auxiliary_model = load_model('auxiliary_model.keras', custom_objects={\n",
        "    'TransformerEncoder': TransformerEncoder,\n",
        "    'TransformerDecoder': TransformerDecoder,\n",
        "    'PositionalEmbedding': PositionalEmbedding\n",
        "})"
      ],
      "metadata": {
        "colab": {
          "base_uri": "https://localhost:8080/"
        },
        "id": "RnF3FryHuhn3",
        "outputId": "07e2790e-c88d-4f35-de2e-49987eddd5ba"
      },
      "execution_count": 27,
      "outputs": [
        {
          "output_type": "stream",
          "name": "stderr",
          "text": [
            "/usr/local/lib/python3.11/dist-packages/keras/src/layers/layer.py:393: UserWarning: `build()` was called on layer 'positional_embedding', however the layer does not have a `build()` method implemented and it looks like it has unbuilt state. This will cause the layer to be marked as built, despite not being actually built, which may cause failures down the line. Make sure to implement a proper `build()` method.\n",
            "  warnings.warn(\n",
            "/usr/local/lib/python3.11/dist-packages/keras/src/layers/layer.py:393: UserWarning: `build()` was called on layer 'positional_embedding_1', however the layer does not have a `build()` method implemented and it looks like it has unbuilt state. This will cause the layer to be marked as built, despite not being actually built, which may cause failures down the line. Make sure to implement a proper `build()` method.\n",
            "  warnings.warn(\n",
            "/usr/local/lib/python3.11/dist-packages/keras/src/layers/layer.py:393: UserWarning: `build()` was called on layer 'transformer_encoder', however the layer does not have a `build()` method implemented and it looks like it has unbuilt state. This will cause the layer to be marked as built, despite not being actually built, which may cause failures down the line. Make sure to implement a proper `build()` method.\n",
            "  warnings.warn(\n",
            "/usr/local/lib/python3.11/dist-packages/keras/src/layers/layer.py:393: UserWarning: `build()` was called on layer 'transformer_decoder', however the layer does not have a `build()` method implemented and it looks like it has unbuilt state. This will cause the layer to be marked as built, despite not being actually built, which may cause failures down the line. Make sure to implement a proper `build()` method.\n",
            "  warnings.warn(\n",
            "/usr/local/lib/python3.11/dist-packages/keras/src/saving/saving_lib.py:757: UserWarning: Skipping variable loading for optimizer 'rmsprop', because it has 50 variables whereas the saved optimizer has 49 variables. \n",
            "  saveable.load_own_variables(weights_store.get(inner_path))\n"
          ]
        }
      ]
    }
  ]
}