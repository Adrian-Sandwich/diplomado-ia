{
  "nbformat": 4,
  "nbformat_minor": 0,
  "metadata": {
    "colab": {
      "provenance": [],
      "collapsed_sections": [
        "wDsgQ27F_ooV",
        "cu9ZOEQg_5aQ",
        "zaWliybtAHa4",
        "7fSsaUKFAoSu",
        "KaxvR7X8H_KY",
        "kegr5SyaIoRQ",
        "8kfrWOzpIxVa",
        "714RP11rXgN0",
        "kQtVmWq7YRvx"
      ],
      "gpuType": "T4"
    },
    "kernelspec": {
      "name": "python3",
      "display_name": "Python 3"
    },
    "language_info": {
      "name": "python"
    },
    "accelerator": "GPU"
  },
  "cells": [
    {
      "cell_type": "markdown",
      "source": [
        "# English-to-Spanish translation with a sequence-to-sequence Transformer\n",
        "_Felipe Andres Castillo_\n",
        "\n",
        "**Original author:** [fchollet](https://twitter.com/fchollet)<br>\n",
        "**Description:** Implementing a sequence-to-sequence Transformer and training it on a machine translation task. The code featured here is adapted from the book\n",
        "[Deep Learning with Python, Second Edition](https://www.manning.com/books/deep-learning-with-python-second-edition)\n",
        "(chapter 11: Deep learning for text)."
      ],
      "metadata": {
        "id": "YNtuEbJu-9aB"
      }
    },
    {
      "cell_type": "markdown",
      "source": [
        "## Setup"
      ],
      "metadata": {
        "id": "wDsgQ27F_ooV"
      }
    },
    {
      "cell_type": "code",
      "execution_count": 41,
      "metadata": {
        "id": "oEuiQKa3pLMX"
      },
      "outputs": [],
      "source": [
        "import os\n",
        "os.environ[\"KERAS_BACKEND\"] = \"tensorflow\"\n",
        "\n",
        "import pathlib          # Manejo de rutas de archivos\n",
        "import random           # Generación de números aleatorios\n",
        "import string           # Utilidades para manejar cadenas de texto\n",
        "import re               # Expresiones regulares\n",
        "import numpy as np      # Numpy para operaciones numéricas\n",
        "import seaborn as sns   # Para gráficar heatmaps\n",
        "import matplotlib.pyplot as plt\n",
        "\n",
        "import tensorflow.data as tf_data\n",
        "import tensorflow.strings as tf_strings\n",
        "\n",
        "import keras\n",
        "import keras.ops as ops   # Proporciona operaciones matemáticas\n",
        "from keras import layers  # Capas predefinidas de Keras\n",
        "from keras.layers import TextVectorization  # Capa clave para procesar texto antes de alimentar los datos al modelo"
      ]
    },
    {
      "cell_type": "markdown",
      "source": [
        "## Downloading the data"
      ],
      "metadata": {
        "id": "cu9ZOEQg_5aQ"
      }
    },
    {
      "cell_type": "markdown",
      "source": [
        "Se descarga el dataset que contiene las frases en inglés y español, obtenido de [Anki](https://www.manythings.org/anki/)."
      ],
      "metadata": {
        "id": "wzxwUHO8_-b0"
      }
    },
    {
      "cell_type": "code",
      "execution_count": 43,
      "metadata": {
        "id": "GTSb4WjjpLMY"
      },
      "outputs": [],
      "source": [
        "text_file = keras.utils.get_file(\n",
        "    fname=\"spa-eng.zip\",\n",
        "    origin=\"http://storage.googleapis.com/download.tensorflow.org/data/spa-eng.zip\",\n",
        "    extract=True,\n",
        ")\n",
        "text_file = pathlib.Path(text_file).parent / \"spa-eng_extracted\" / \"spa-eng\" / \"spa.txt\""
      ]
    },
    {
      "cell_type": "markdown",
      "source": [
        "## Parsing the data"
      ],
      "metadata": {
        "id": "zaWliybtAHa4"
      }
    },
    {
      "cell_type": "markdown",
      "source": [
        "Se lee el archivo de texto, procesa cada línea y genera pares de oraciones en inglés (source sequence) y español (target sequence), agregando los tokens especiales \"[start]\" y \"[end]\" a las oraciones en español."
      ],
      "metadata": {
        "id": "InNL9ieJAMCZ"
      }
    },
    {
      "cell_type": "code",
      "execution_count": 44,
      "metadata": {
        "id": "EE8V9qRapLMZ"
      },
      "outputs": [],
      "source": [
        "with open(text_file) as f:\n",
        "  # Lee el contenido y lo divide en líneas usando el carácter de nueva línea \\n\n",
        "  # [:-1] elimina la última línea si está vacía (para evitar errores en el procesamiento)\n",
        "  lines = f.read().split(\"\\n\")[:-1]\n",
        "text_pairs = []\n",
        "for line in lines:\n",
        "  # Cada línea tiene una oración en inglés y su traducción en español, separadas por un tabulador (\\t).\n",
        "  # Se agregan los tokens especiales [start] y [end] a la oración en español.\n",
        "  # Esto es útil para que el modelo aprenda a detectar el inicio y final de la secuencia de traducción.\n",
        "  eng, spa = line.split(\"\\t\")\n",
        "  spa = \"[start] \" + spa + \" [end]\"\n",
        "  text_pairs.append((eng, spa))"
      ]
    },
    {
      "cell_type": "code",
      "source": [
        "# Ejemplos de los pares de oraciones inglés-español\n",
        "for _ in range(5):\n",
        "    print(random.choice(text_pairs))"
      ],
      "metadata": {
        "id": "XSDpXe6IAcU4",
        "colab": {
          "base_uri": "https://localhost:8080/"
        },
        "outputId": "344da3e6-f756-42f0-89d8-6c5cb8404640"
      },
      "execution_count": 45,
      "outputs": [
        {
          "output_type": "stream",
          "name": "stdout",
          "text": [
            "('I want to talk to you about Tom.', '[start] Quiero hablar con vosotros sobre Tom. [end]')\n",
            "('I know that it is highly unlikely that anyone would be willing to help me.', '[start] Sé que es muy poco probable que alguien esté dispuesto a ayudarme. [end]')\n",
            "('Are you happy with your weight?', '[start] ¿Estás conforme con tu peso? [end]')\n",
            "('The apple fell from the tree.', '[start] La manzana cayó del árbol. [end]')\n",
            "('The paper is white.', '[start] El papel es blanco. [end]')\n"
          ]
        }
      ]
    },
    {
      "cell_type": "markdown",
      "source": [
        "Se dividen los datos en conjuntos de entrenamiento, validación y prueba de manera aleatoria."
      ],
      "metadata": {
        "id": "dcJRahZUAjf8"
      }
    },
    {
      "cell_type": "code",
      "execution_count": 46,
      "metadata": {
        "id": "vtbny5hbpLMa",
        "colab": {
          "base_uri": "https://localhost:8080/"
        },
        "outputId": "f950de64-0c36-4260-fc53-5b35f1d35f32"
      },
      "outputs": [
        {
          "output_type": "stream",
          "name": "stdout",
          "text": [
            "118964 total pairs\n",
            "83276 training pairs\n",
            "17844 validation pairs\n",
            "17844 test pairs\n"
          ]
        }
      ],
      "source": [
        "random.shuffle(text_pairs)\n",
        "num_val_samples = int(0.15 * len(text_pairs))\n",
        "num_train_samples = len(text_pairs) - 2 * num_val_samples\n",
        "train_pairs = text_pairs[:num_train_samples]\n",
        "val_pairs = text_pairs[num_train_samples : num_train_samples + num_val_samples]\n",
        "test_pairs = text_pairs[num_train_samples + num_val_samples :]\n",
        "\n",
        "print(f\"{len(text_pairs)} total pairs\")\n",
        "print(f\"{len(train_pairs)} training pairs\")\n",
        "print(f\"{len(val_pairs)} validation pairs\")\n",
        "print(f\"{len(test_pairs)} test pairs\")"
      ]
    },
    {
      "cell_type": "markdown",
      "source": [
        "## Vectorizing the text data"
      ],
      "metadata": {
        "id": "7fSsaUKFAoSu"
      }
    },
    {
      "cell_type": "markdown",
      "source": [
        "Se configuran dos funciones para vectorizar el texto (TextVectorization), una para inglés y otra para español.\n",
        "\n",
        "Se normaliza el texto, es decir, se eliminan los signos de puntuación y otros caracteres especiales. Se definen las caracteristicas del vocabulario que se han de tomar en cuenta cuando se vectorizen las palabras."
      ],
      "metadata": {
        "id": "09gPCAtqBKJO"
      }
    },
    {
      "cell_type": "code",
      "execution_count": 50,
      "metadata": {
        "id": "YBqVDjycpLMa"
      },
      "outputs": [],
      "source": [
        "# string.punctuation contiene signos de puntuación estándar como .,!?;: y se agrega manualmente \"¿\"\n",
        "# Entre los caracteres especial no se consideran [ y ] porque en el dataset se utilizan en los tokens [start] y [end]\n",
        "strip_chars = string.punctuation + \"¿\"\n",
        "strip_chars = strip_chars.replace(\"[\", \"\")\n",
        "strip_chars = strip_chars.replace(\"]\", \"\")\n",
        "\n",
        "vocab_size = 15000    # Tamaño del vocabulario (número máximo de palabras únicas)\n",
        "sequence_length = 20  # Longitud máxima de las secuencias de entrada\n",
        "batch_size = 64       # Tamaño del batch para entrenamiento\n",
        "\n",
        "# Esta función convierte el texto a minúsculas y elimina caracteres no deseados (definidos en strip_chars)\n",
        "def custom_standardization(input_string):\n",
        "    lowercase = tf_strings.lower(input_string)\n",
        "    return tf_strings.regex_replace(lowercase, \"[%s]\" % re.escape(strip_chars), \"\")\n",
        "\n",
        "\n",
        "# TextVectorization para las frases en inglés\n",
        "eng_vectorization = TextVectorization(\n",
        "    max_tokens = vocab_size,                  # Usa solo las 15,000 palabras más frecuentes.\n",
        "    output_mode = \"int\",                      # Convierte el texto en secuencias de índices enteros\n",
        "    output_sequence_length = sequence_length, # Cada secuencia tendrá un tamaño fijo\n",
        ")\n",
        "# TextVectorization para las frases en español\n",
        "spa_vectorization = TextVectorization(\n",
        "    max_tokens = vocab_size,\n",
        "    output_mode = \"int\",\n",
        "    output_sequence_length = sequence_length + 1, # +1 porque la salida tiene un token extra ([start])\n",
        "    standardize = custom_standardization,\n",
        ")\n",
        "\n",
        "train_eng_texts = [pair[0] for pair in train_pairs] # Extrae oraciones en inglés\n",
        "train_spa_texts = [pair[1] for pair in train_pairs] # Extrae oraciones en español\n",
        "\n",
        "# adapt() analiza las frases, y construye un vocabulario, asignando índices a las palabras más frecuentes\n",
        "eng_vectorization.adapt(train_eng_texts)\n",
        "spa_vectorization.adapt(train_spa_texts)"
      ]
    },
    {
      "cell_type": "markdown",
      "metadata": {
        "id": "ib08kTWxpLMa"
      },
      "source": [
        "Lo siguiente es formatear los datasets.\n",
        "\n",
        "En cada paso del entrenamiento, el modelo buscará predecir la palabra N+1 utilizando la oración en inglés (source sentence) y las N palabras objetivo (target words).\n",
        "\n",
        "El conjunto de datos de entrenamiento producirá una tupla `(inputs, targets)`, donde:\n",
        "- `inputs` es un diccionario con las claves `encoder_inputs` y `decoder_inputs`\n",
        "- `encoder_inputs` es la oración en inglés vectorizada, mientras que `decoder_inputs` es la oración objetivo que se tiene hasta el momento (0 a N palabras) que es utilizada para predecir la palabra N+1 (y las consecuentes palabras) de la oración en español.\n",
        "- `target` es la oración objetivo desplzada un paso; es decir, proporciona las siguientes palabras que el modelo intentará predecir."
      ]
    },
    {
      "cell_type": "code",
      "execution_count": 51,
      "metadata": {
        "id": "R2gOq9lRpLMa"
      },
      "outputs": [],
      "source": [
        "def format_dataset(eng, spa):\n",
        "    eng = eng_vectorization(eng) # Convierte la oración en inglés en secuencia de enteros, es decir, es vectorizada\n",
        "    spa = spa_vectorization(spa) # Se vectoriza la oración en español\n",
        "    # Se retorna un diccionario con entradas para el modelo\n",
        "    return (\n",
        "        {\n",
        "            \"encoder_inputs\": eng,          # Secuencia en inglés para el encoder\n",
        "            \"decoder_inputs\": spa[:, :-1],  # Secuencia en español sin el último token\n",
        "        },\n",
        "        spa[:, 1:], # Este es el segundo elemento de la tupla (target): secuencia en español sin el primer token (desplazada un paso a la derecha)\n",
        "    )\n",
        "\n",
        "\n",
        "def make_dataset(pairs):\n",
        "    eng_texts, spa_texts = zip(*pairs)  # Separa las oraciones en inglés y español\n",
        "    eng_texts = list(eng_texts)\n",
        "    spa_texts = list(spa_texts)\n",
        "    dataset = tf_data.Dataset.from_tensor_slices((eng_texts, spa_texts))  # Crea un dataset de TensorFlow\n",
        "    dataset = dataset.batch(batch_size)                                   # Agrupa en batches\n",
        "    dataset = dataset.map(format_dataset)                                 # Aplica format_dataset() a cada batch para vectorizarlo\n",
        "    # Optimización del dataset:\n",
        "    # .cache(): Almacena en caché para evitar recalcular en cada época\n",
        "    # .shuffle(2048): Mezcla los datos con un buffer de 2048 elementos\n",
        "    # .prefetch(16): Mejora el rendimiento cargando hasta 16 batches en memoria anticipadamente\n",
        "    return dataset.cache().shuffle(2048).prefetch(16)\n",
        "\n",
        "# Creación de datasets de entrenamiento y validación\n",
        "train_ds = make_dataset(train_pairs)\n",
        "val_ds = make_dataset(val_pairs)"
      ]
    },
    {
      "cell_type": "markdown",
      "metadata": {
        "id": "3tutMPrtpLMb"
      },
      "source": [
        "Si se toma un batch de datos de train_ds, podemos revisar las dimensiones de sus tensores para verificar que los datos están correctamente formateados.\n",
        "- 64 → Tamaño del batch (64 frases por batch).\n",
        "- 20 → Longitud máxima de cada oración (cortadas o rellenadas con padding)."
      ]
    },
    {
      "cell_type": "code",
      "execution_count": 52,
      "metadata": {
        "id": "FdyO-9sTpLMb",
        "colab": {
          "base_uri": "https://localhost:8080/"
        },
        "outputId": "39f0a72c-7119-4bb8-b8b8-077b70cbedff"
      },
      "outputs": [
        {
          "output_type": "stream",
          "name": "stdout",
          "text": [
            "inputs[\"encoder_inputs\"].shape: (64, 20)\n",
            "inputs[\"decoder_inputs\"].shape: (64, 20)\n",
            "targets.shape: (64, 20)\n"
          ]
        }
      ],
      "source": [
        "for inputs, targets in train_ds.take(1):\n",
        "    print(f'inputs[\"encoder_inputs\"].shape: {inputs[\"encoder_inputs\"].shape}')\n",
        "    print(f'inputs[\"decoder_inputs\"].shape: {inputs[\"decoder_inputs\"].shape}')\n",
        "    print(f\"targets.shape: {targets.shape}\")"
      ]
    },
    {
      "cell_type": "markdown",
      "source": [
        "## Building the model"
      ],
      "metadata": {
        "id": "KaxvR7X8H_KY"
      }
    },
    {
      "cell_type": "markdown",
      "metadata": {
        "id": "l195SJvkpLMb"
      },
      "source": [
        "El sequence-to-sequence Transformer consiste en un `TransformerEncoder` y en un\n",
        "`TransformerDecoder` encadenados. Para que el modelo reconozca el orden de las palabras se utiliza una `PositionalEmbedding` layer.\n",
        "\n",
        "La secuencia en inglés (source sequence) pasa al `TransformerEncoder`, el cual producirá una nueva representación de ella. Esta nueva representación pasará al `TransformerDecoder`, junto con la secuencia en español (target sequence) que se tiene hasta el momento. El `TransformerDecoder`intentará predecir las siguientes palabras de la secuencia objetivo.\n",
        "\n",
        "El detalle clave que hace posible esto es el \"enmascaramiento\" (`get_causal_attention_mask()` en el `TransformerDecoder`).\n",
        "El `TransformerDecoder` ve todas las secuencias a la vez, por lo que se debe garantizar que solo use la información proveniente de los 0 a N tokens objetivo para predecir el token N+1 (de lo contrario, podría utilizar información del futuro, lo que resultaría en un modelo inutilizable en la inferencia)."
      ]
    },
    {
      "cell_type": "markdown",
      "source": [
        "### Encoder"
      ],
      "metadata": {
        "id": "M5BIqnB6IjA9"
      }
    },
    {
      "cell_type": "code",
      "source": [
        "# La capa Encoder se encarga de procesar las oraciones en inglés antes de pasarlas al Decoder\n",
        "class TransformerEncoder(layers.Layer):\n",
        "    def __init__(self, embed_dim, dense_dim, num_heads, **kwargs):\n",
        "        super().__init__(**kwargs)\n",
        "        self.embed_dim = embed_dim\n",
        "        self.dense_dim = dense_dim\n",
        "        self.num_heads = num_heads\n",
        "        # Capa Multi-Head Attention: aprende relaciones entre palabras en la oración\n",
        "        self.attention = layers.MultiHeadAttention(\n",
        "            num_heads=num_heads, key_dim=embed_dim\n",
        "        )\n",
        "        # Capa feedforward: para mejorar la representación\n",
        "        self.dense_proj = keras.Sequential(\n",
        "            [\n",
        "                layers.Dense(dense_dim, activation=\"relu\"),\n",
        "                layers.Dense(embed_dim),\n",
        "            ]\n",
        "        )\n",
        "        # Normalización: ayuda a estabilizar el entrenamiento y mejorar la convergencia\n",
        "        self.layernorm_1 = layers.LayerNormalization()\n",
        "        self.layernorm_2 = layers.LayerNormalization()\n",
        "        # Enmascarar para evitar que afecte la atención\n",
        "        self.supports_masking = True\n",
        "\n",
        "    # Esta función recibe un batch de embeddings de palabras\n",
        "    def call(self, inputs, mask=None):\n",
        "        if mask is not None:\n",
        "            padding_mask = ops.cast(mask[:, None, :], dtype=\"int32\")\n",
        "        else:\n",
        "            padding_mask = None\n",
        "        # SE CAPTURA LA SALIDA Y PESOS DEL ATTENTION LAYER\n",
        "        attention_output, attention_weights = self.attention(\n",
        "            query=inputs, value=inputs, key=inputs, attention_mask=padding_mask, return_attention_scores=True\n",
        "        )\n",
        "        proj_input = self.layernorm_1(inputs + attention_output)\n",
        "        proj_output = self.dense_proj(proj_input)\n",
        "        encoder_output = self.layernorm_2(proj_input + proj_output)\n",
        "        return encoder_output, attention_weights\n",
        "\n",
        "    def get_config(self):\n",
        "        config = super().get_config()\n",
        "        config.update(\n",
        "            {\n",
        "                \"embed_dim\": self.embed_dim,\n",
        "                \"dense_dim\": self.dense_dim,\n",
        "                \"num_heads\": self.num_heads,\n",
        "            }\n",
        "        )\n",
        "        return config"
      ],
      "metadata": {
        "id": "Ovww5-y9IC36"
      },
      "execution_count": 53,
      "outputs": []
    },
    {
      "cell_type": "markdown",
      "source": [
        "### Positional Embedding"
      ],
      "metadata": {
        "id": "kegr5SyaIoRQ"
      }
    },
    {
      "cell_type": "code",
      "source": [
        "# EL PositionalEmbedding ayuda al Transformer a entender el orden de las palabras,\n",
        "# ya que, a diferencia de los modelos recurrentes, no procesa palabras en secuencia\n",
        "class PositionalEmbedding(layers.Layer):\n",
        "    def __init__(self, sequence_length, vocab_size, embed_dim, **kwargs):\n",
        "        super().__init__(**kwargs)\n",
        "        # Convierte cada token en un vector de dimensión embed_dim\n",
        "        self.token_embeddings = layers.Embedding(\n",
        "            input_dim=vocab_size, output_dim=embed_dim\n",
        "        )\n",
        "        # Aprende un embedding para cada posición de la secuencia\n",
        "        self.position_embeddings = layers.Embedding(\n",
        "            input_dim=sequence_length, output_dim=embed_dim\n",
        "        )\n",
        "        self.sequence_length = sequence_length\n",
        "        self.vocab_size = vocab_size\n",
        "        self.embed_dim = embed_dim\n",
        "\n",
        "    # Los inputs son la secuencia de tokens\n",
        "    def call(self, inputs):\n",
        "        length = ops.shape(inputs)[-1]\n",
        "        positions = ops.arange(0, length, 1)\n",
        "        embedded_tokens = self.token_embeddings(inputs) # convierte tokens en vectores\n",
        "        embedded_positions = self.position_embeddings(positions) # asigna un vector a cada posición\n",
        "        # La suma permite que el Transformer capture tanto el significado de cada palabra\n",
        "        # como su posición en el contexto, sin necesidad de procesar la secuencia de manera recurrente\n",
        "        return embedded_tokens + embedded_positions\n",
        "\n",
        "    def compute_mask(self, inputs, mask=None):\n",
        "        return ops.not_equal(inputs, 0)\n",
        "\n",
        "    def get_config(self):\n",
        "        config = super().get_config()\n",
        "        config.update(\n",
        "            {\n",
        "                \"sequence_length\": self.sequence_length,\n",
        "                \"vocab_size\": self.vocab_size,\n",
        "                \"embed_dim\": self.embed_dim,\n",
        "            }\n",
        "        )\n",
        "        return config"
      ],
      "metadata": {
        "id": "qxBm5dPFIrgO"
      },
      "execution_count": 56,
      "outputs": []
    },
    {
      "cell_type": "markdown",
      "source": [
        "### Decoder"
      ],
      "metadata": {
        "id": "8kfrWOzpIxVa"
      }
    },
    {
      "cell_type": "code",
      "source": [
        "# El Decoder procesa la entrada del decodificador (inputs) y la salida del encoder (encoder_outputs)\n",
        "# usando mecanismos de atención para generar la salida traducida\n",
        "class TransformerDecoder(layers.Layer):\n",
        "    def __init__(self, embed_dim, latent_dim, num_heads, **kwargs):\n",
        "        super().__init__(**kwargs)\n",
        "        self.embed_dim = embed_dim\n",
        "        self.latent_dim = latent_dim\n",
        "        self.num_heads = num_heads\n",
        "        # Self-Attention en el decodificador\n",
        "        self.attention_1 = layers.MultiHeadAttention(\n",
        "            num_heads=num_heads, key_dim=embed_dim\n",
        "        )\n",
        "        # Cross-Attention con el encoder\n",
        "        self.attention_2 = layers.MultiHeadAttention(\n",
        "            num_heads=num_heads, key_dim=embed_dim\n",
        "        )\n",
        "        self.dense_proj = keras.Sequential(\n",
        "            [\n",
        "                layers.Dense(latent_dim, activation=\"relu\"),\n",
        "                layers.Dense(embed_dim),\n",
        "            ]\n",
        "        )\n",
        "        self.layernorm_1 = layers.LayerNormalization()\n",
        "        self.layernorm_2 = layers.LayerNormalization()\n",
        "        self.layernorm_3 = layers.LayerNormalization()\n",
        "        self.supports_masking = True\n",
        "\n",
        "    def call(self, inputs, mask=None):\n",
        "        inputs, encoder_outputs = inputs\n",
        "        causal_mask = self.get_causal_attention_mask(inputs)\n",
        "        if mask is None:\n",
        "            inputs_padding_mask, encoder_outputs_padding_mask = None, None\n",
        "        else:\n",
        "            inputs_padding_mask, encoder_outputs_padding_mask = mask\n",
        "        # Relaciona cada token con los tokens previos\n",
        "        attention_output_1, attn_weights_1 = self.attention_1(\n",
        "            query=inputs,\n",
        "            value=inputs,\n",
        "            key=inputs,\n",
        "            attention_mask=causal_mask,\n",
        "            query_mask=inputs_padding_mask,\n",
        "            return_attention_scores=True  # SE DEVUELVEN LOS PESOS\n",
        "        )\n",
        "        out_1 = self.layernorm_1(inputs + attention_output_1)\n",
        "        # Relaciona la representación del decodificador con la salida del encoder para obtener información sobre el contexto\n",
        "        attention_output_2, attn_weights_2 = self.attention_2(\n",
        "            query=out_1,\n",
        "            value=encoder_outputs,\n",
        "            key=encoder_outputs,\n",
        "            query_mask=inputs_padding_mask,\n",
        "            key_mask=encoder_outputs_padding_mask,\n",
        "            return_attention_scores=True  # SE DEVUELVEN LOS PESOS\n",
        "        )\n",
        "        out_2 = self.layernorm_2(out_1 + attention_output_2)\n",
        "        # Transformación no lineal para refinar la representación\n",
        "        proj_output = self.dense_proj(out_2)\n",
        "        decoder_output = self.layernorm_3(out_2 + proj_output)\n",
        "        return decoder_output, attn_weights_1, attn_weights_2\n",
        "\n",
        "    def get_causal_attention_mask(self, inputs):\n",
        "        input_shape = ops.shape(inputs)\n",
        "        batch_size, sequence_length = input_shape[0], input_shape[1]\n",
        "        i = ops.arange(sequence_length)[:, None]\n",
        "        j = ops.arange(sequence_length)\n",
        "        mask = ops.cast(i >= j, dtype=\"int32\")\n",
        "        mask = ops.reshape(mask, (1, input_shape[1], input_shape[1]))\n",
        "        mult = ops.concatenate(\n",
        "            [ops.expand_dims(batch_size, -1), ops.convert_to_tensor([1, 1])],\n",
        "            axis=0,\n",
        "        )\n",
        "        return ops.tile(mask, mult)\n",
        "\n",
        "    def get_config(self):\n",
        "        config = super().get_config()\n",
        "        config.update(\n",
        "            {\n",
        "                \"embed_dim\": self.embed_dim,\n",
        "                \"latent_dim\": self.latent_dim,\n",
        "                \"num_heads\": self.num_heads,\n",
        "            }\n",
        "        )\n",
        "        return config"
      ],
      "metadata": {
        "id": "890IKxbwIyji"
      },
      "execution_count": 55,
      "outputs": []
    },
    {
      "cell_type": "markdown",
      "source": [
        "### Ensamble del modelo"
      ],
      "metadata": {
        "id": "gqsCZVbRI3zD"
      }
    },
    {
      "cell_type": "code",
      "source": [
        "embed_dim = 300 #256\n",
        "latent_dim = 2048\n",
        "num_heads = 8\n",
        "\n",
        "\n",
        "# 1. Se define una entrada de secuencia encoder_inputs (tamaño arbitrario None)\n",
        "# 2. Se aplica PositionalEmbedding para obtener representaciones enriquecidas con información posicional\n",
        "# 3. Se pasa la salida por el TransformerEncoder, que aplica self-attention y feedforward\n",
        "# 4. Se crea el modelo del Encoder\n",
        "encoder_inputs = keras.Input(shape=(None,), dtype=\"int64\", name=\"encoder_inputs\")\n",
        "x = PositionalEmbedding(sequence_length, vocab_size, embed_dim)(encoder_inputs)\n",
        "encoder_outputs, encoder_attn_weights = TransformerEncoder(embed_dim, latent_dim, num_heads)(x)\n",
        "encoder = keras.Model(encoder_inputs, [encoder_outputs, encoder_attn_weights])\n",
        "\n",
        "# 1. Se definen dos entradas: para la secuencia de palabras en español y para la representación latente generada por el encoder\n",
        "# 2. Se aplica PositionalEmbedding a la entrada del decoder\n",
        "# 3. Se pasa esta entrada al TransformerDecoder, junto con la salida del encoder\n",
        "# 4. Se aplica dropout\n",
        "# 5. Se pasa por una capa densa con softmax, que genera la distribución de probabilidad sobre el vocabulario\n",
        "# 6. Se crea el modelo del Decoder\n",
        "decoder_inputs = keras.Input(shape=(None,), dtype=\"int64\", name=\"decoder_inputs\")\n",
        "encoded_seq_inputs = keras.Input(shape=(None, embed_dim), name=\"decoder_state_inputs\")\n",
        "x = PositionalEmbedding(sequence_length, vocab_size, embed_dim)(decoder_inputs)\n",
        "decoder_outputs, decoder_attn_weights, cross_attn_weights = TransformerDecoder(embed_dim, latent_dim, num_heads)([x, encoder_outputs])\n",
        "x = layers.Dropout(0.5)(decoder_outputs)\n",
        "decoder_outputs = layers.Dense(vocab_size, activation=\"softmax\")(x)\n",
        "decoder = keras.Model([decoder_inputs, encoded_seq_inputs],\n",
        "                      [decoder_outputs, decoder_attn_weights, cross_attn_weights])\n",
        "\n",
        "# Se combinan el encoder y el decoder en un solo modelo transformer,\n",
        "# con entradas {encoder_inputs, decoder_inputs} y [salida decoder_outputs, encoder_attn_weights, decoder_attn_weights, cross_attn_weights]\n",
        "transformer = keras.Model(\n",
        "    {\"encoder_inputs\": encoder_inputs, \"decoder_inputs\": decoder_inputs},\n",
        "    [decoder_outputs, decoder_attn_weights, cross_attn_weights],\n",
        "    name=\"transformer\",\n",
        ")"
      ],
      "metadata": {
        "id": "Vg3u_QR1I7f6"
      },
      "execution_count": 58,
      "outputs": []
    },
    {
      "cell_type": "markdown",
      "source": [
        "### Embeddings preentrenados de GloVe"
      ],
      "metadata": {
        "id": "07BYVWwDa10b"
      }
    },
    {
      "cell_type": "markdown",
      "source": [
        "Lo siguiente es descargar y utiliza embeddings preentrenados de GloVe (Global Vectors for Word Representation) para inicializar una matriz de embeddings en el modelo."
      ],
      "metadata": {
        "id": "hkplKzlhbBdv"
      }
    },
    {
      "cell_type": "code",
      "source": [
        "#  Se descargan y extraen los embeddings de GloVe\n",
        "!wget https://downloads.cs.stanford.edu/nlp/data/glove.6B.zip\n",
        "!unzip -q glove.6B.zip\n",
        "\n",
        "# Se cargan los embeddings en un diccionario\n",
        "# De entre los archivos extraidos, se escoge el de 300 dimensiones\n",
        "embedding_dim = 300\n",
        "embeddings_index = {}\n",
        "with open(\"glove.6B.300d.txt\", encoding=\"utf-8\") as f:\n",
        "  for line in f:\n",
        "    word, coefs = line.split(maxsplit=1)\n",
        "    coefs = np.fromstring(coefs, \"f\", sep=\" \")\n",
        "    embeddings_index[word] = coefs # embeddings_index es un diccionario que mapea palabras a vectores de 300 dimensiones\n",
        "\n",
        "# Se crea la matriz de embeddings para el vocabulario de inglés\n",
        "embedding_matrix = np.zeros((vocab_size, embedding_dim))\n",
        "for i, word in enumerate(eng_vectorization.get_vocabulary()):\n",
        "  embedding_vector = embeddings_index.get(word)\n",
        "  if embedding_vector is not None:\n",
        "    embedding_matrix[i] = embedding_vector"
      ],
      "metadata": {
        "id": "xxGUOlXUNy4s",
        "colab": {
          "base_uri": "https://localhost:8080/"
        },
        "outputId": "32cb5f3b-076a-470b-97ca-2fe8114654f7"
      },
      "execution_count": 57,
      "outputs": [
        {
          "output_type": "stream",
          "name": "stdout",
          "text": [
            "--2025-03-23 04:50:47--  https://downloads.cs.stanford.edu/nlp/data/glove.6B.zip\n",
            "Resolving downloads.cs.stanford.edu (downloads.cs.stanford.edu)... 171.64.64.22\n",
            "Connecting to downloads.cs.stanford.edu (downloads.cs.stanford.edu)|171.64.64.22|:443... connected.\n",
            "HTTP request sent, awaiting response... 200 OK\n",
            "Length: 862182613 (822M) [application/zip]\n",
            "Saving to: ‘glove.6B.zip’\n",
            "\n",
            "glove.6B.zip        100%[===================>] 822.24M  1.99MB/s    in 9m 53s  \n",
            "\n",
            "2025-03-23 05:00:50 (1.39 MB/s) - ‘glove.6B.zip’ saved [862182613/862182613]\n",
            "\n"
          ]
        }
      ]
    },
    {
      "cell_type": "code",
      "source": [
        "# Asignar los embeddings preentrenados de GloVe a la capa de embeddings del encoder\n",
        "embedding_layer = transformer.get_layer(\"positional_embedding_2\").token_embeddings\n",
        "embedding_layer.set_weights([embedding_matrix])\n",
        "embedding_layer.trainable = False"
      ],
      "metadata": {
        "id": "TavX8sO8OMs6"
      },
      "execution_count": 61,
      "outputs": []
    },
    {
      "cell_type": "markdown",
      "source": [
        "## Training the model"
      ],
      "metadata": {
        "id": "714RP11rXgN0"
      }
    },
    {
      "cell_type": "code",
      "source": [
        "epochs = 30  # This should be at least 30 for convergence\n",
        "\n",
        "transformer.summary()\n",
        "transformer.compile(\n",
        "    \"rmsprop\",\n",
        "    loss=[keras.losses.SparseCategoricalCrossentropy(ignore_class=0), None, None],\n",
        "    #loss_weights=[1.0, 0.0, 0.0],\n",
        "    metrics=[[\"accuracy\"], None, None],\n",
        ")\n",
        "transformer.fit(train_ds, epochs=epochs, validation_data=val_ds)"
      ],
      "metadata": {
        "id": "xgU60_pRXkqG",
        "colab": {
          "base_uri": "https://localhost:8080/",
          "height": 612
        },
        "outputId": "514d10c2-818f-422d-b94b-28f7601b435b"
      },
      "execution_count": 62,
      "outputs": [
        {
          "output_type": "display_data",
          "data": {
            "text/plain": [
              "\u001b[1mModel: \"transformer\"\u001b[0m\n"
            ],
            "text/html": [
              "<pre style=\"white-space:pre;overflow-x:auto;line-height:normal;font-family:Menlo,'DejaVu Sans Mono',consolas,'Courier New',monospace\"><span style=\"font-weight: bold\">Model: \"transformer\"</span>\n",
              "</pre>\n"
            ]
          },
          "metadata": {}
        },
        {
          "output_type": "display_data",
          "data": {
            "text/plain": [
              "┏━━━━━━━━━━━━━━━━━━━━━━━━━━━┳━━━━━━━━━━━━━━━━━━━━━━━━┳━━━━━━━━━━━━━━━━┳━━━━━━━━━━━━━━━━━━━━━━━━┓\n",
              "┃\u001b[1m \u001b[0m\u001b[1mLayer (type)             \u001b[0m\u001b[1m \u001b[0m┃\u001b[1m \u001b[0m\u001b[1mOutput Shape          \u001b[0m\u001b[1m \u001b[0m┃\u001b[1m \u001b[0m\u001b[1m       Param #\u001b[0m\u001b[1m \u001b[0m┃\u001b[1m \u001b[0m\u001b[1mConnected to          \u001b[0m\u001b[1m \u001b[0m┃\n",
              "┡━━━━━━━━━━━━━━━━━━━━━━━━━━━╇━━━━━━━━━━━━━━━━━━━━━━━━╇━━━━━━━━━━━━━━━━╇━━━━━━━━━━━━━━━━━━━━━━━━┩\n",
              "│ encoder_inputs            │ (\u001b[38;5;45mNone\u001b[0m, \u001b[38;5;45mNone\u001b[0m)           │              \u001b[38;5;34m0\u001b[0m │ -                      │\n",
              "│ (\u001b[38;5;33mInputLayer\u001b[0m)              │                        │                │                        │\n",
              "├───────────────────────────┼────────────────────────┼────────────────┼────────────────────────┤\n",
              "│ decoder_inputs            │ (\u001b[38;5;45mNone\u001b[0m, \u001b[38;5;45mNone\u001b[0m)           │              \u001b[38;5;34m0\u001b[0m │ -                      │\n",
              "│ (\u001b[38;5;33mInputLayer\u001b[0m)              │                        │                │                        │\n",
              "├───────────────────────────┼────────────────────────┼────────────────┼────────────────────────┤\n",
              "│ positional_embedding_2    │ (\u001b[38;5;45mNone\u001b[0m, \u001b[38;5;45mNone\u001b[0m, \u001b[38;5;34m300\u001b[0m)      │      \u001b[38;5;34m4,506,000\u001b[0m │ encoder_inputs[\u001b[38;5;34m0\u001b[0m][\u001b[38;5;34m0\u001b[0m]   │\n",
              "│ (\u001b[38;5;33mPositionalEmbedding\u001b[0m)     │                        │                │                        │\n",
              "├───────────────────────────┼────────────────────────┼────────────────┼────────────────────────┤\n",
              "│ not_equal_2 (\u001b[38;5;33mNotEqual\u001b[0m)    │ (\u001b[38;5;45mNone\u001b[0m, \u001b[38;5;45mNone\u001b[0m)           │              \u001b[38;5;34m0\u001b[0m │ encoder_inputs[\u001b[38;5;34m0\u001b[0m][\u001b[38;5;34m0\u001b[0m]   │\n",
              "├───────────────────────────┼────────────────────────┼────────────────┼────────────────────────┤\n",
              "│ positional_embedding_3    │ (\u001b[38;5;45mNone\u001b[0m, \u001b[38;5;45mNone\u001b[0m, \u001b[38;5;34m300\u001b[0m)      │      \u001b[38;5;34m4,506,000\u001b[0m │ decoder_inputs[\u001b[38;5;34m0\u001b[0m][\u001b[38;5;34m0\u001b[0m]   │\n",
              "│ (\u001b[38;5;33mPositionalEmbedding\u001b[0m)     │                        │                │                        │\n",
              "├───────────────────────────┼────────────────────────┼────────────────┼────────────────────────┤\n",
              "│ transformer_encoder_1     │ [(\u001b[38;5;45mNone\u001b[0m, \u001b[38;5;45mNone\u001b[0m, \u001b[38;5;34m300\u001b[0m),    │      \u001b[38;5;34m4,119,848\u001b[0m │ positional_embedding_… │\n",
              "│ (\u001b[38;5;33mTransformerEncoder\u001b[0m)      │ (\u001b[38;5;45mNone\u001b[0m, \u001b[38;5;34m8\u001b[0m, \u001b[38;5;45mNone\u001b[0m, \u001b[38;5;45mNone\u001b[0m)] │                │ not_equal_2[\u001b[38;5;34m0\u001b[0m][\u001b[38;5;34m0\u001b[0m]      │\n",
              "├───────────────────────────┼────────────────────────┼────────────────┼────────────────────────┤\n",
              "│ not_equal_3 (\u001b[38;5;33mNotEqual\u001b[0m)    │ (\u001b[38;5;45mNone\u001b[0m, \u001b[38;5;45mNone\u001b[0m)           │              \u001b[38;5;34m0\u001b[0m │ decoder_inputs[\u001b[38;5;34m0\u001b[0m][\u001b[38;5;34m0\u001b[0m]   │\n",
              "├───────────────────────────┼────────────────────────┼────────────────┼────────────────────────┤\n",
              "│ transformer_decoder_1     │ [(\u001b[38;5;45mNone\u001b[0m, \u001b[38;5;45mNone\u001b[0m, \u001b[38;5;34m300\u001b[0m),    │      \u001b[38;5;34m7,007,948\u001b[0m │ positional_embedding_… │\n",
              "│ (\u001b[38;5;33mTransformerDecoder\u001b[0m)      │ (\u001b[38;5;45mNone\u001b[0m, \u001b[38;5;34m8\u001b[0m, \u001b[38;5;45mNone\u001b[0m, \u001b[38;5;45mNone\u001b[0m), │                │ transformer_encoder_1… │\n",
              "│                           │ (\u001b[38;5;45mNone\u001b[0m, \u001b[38;5;34m8\u001b[0m, \u001b[38;5;45mNone\u001b[0m, \u001b[38;5;45mNone\u001b[0m)] │                │ not_equal_3[\u001b[38;5;34m0\u001b[0m][\u001b[38;5;34m0\u001b[0m],     │\n",
              "│                           │                        │                │ not_equal_2[\u001b[38;5;34m0\u001b[0m][\u001b[38;5;34m0\u001b[0m]      │\n",
              "├───────────────────────────┼────────────────────────┼────────────────┼────────────────────────┤\n",
              "│ dropout_7 (\u001b[38;5;33mDropout\u001b[0m)       │ (\u001b[38;5;45mNone\u001b[0m, \u001b[38;5;45mNone\u001b[0m, \u001b[38;5;34m300\u001b[0m)      │              \u001b[38;5;34m0\u001b[0m │ transformer_decoder_1… │\n",
              "├───────────────────────────┼────────────────────────┼────────────────┼────────────────────────┤\n",
              "│ dense_9 (\u001b[38;5;33mDense\u001b[0m)           │ (\u001b[38;5;45mNone\u001b[0m, \u001b[38;5;45mNone\u001b[0m, \u001b[38;5;34m15000\u001b[0m)    │      \u001b[38;5;34m4,515,000\u001b[0m │ dropout_7[\u001b[38;5;34m0\u001b[0m][\u001b[38;5;34m0\u001b[0m]        │\n",
              "└───────────────────────────┴────────────────────────┴────────────────┴────────────────────────┘\n"
            ],
            "text/html": [
              "<pre style=\"white-space:pre;overflow-x:auto;line-height:normal;font-family:Menlo,'DejaVu Sans Mono',consolas,'Courier New',monospace\">┏━━━━━━━━━━━━━━━━━━━━━━━━━━━┳━━━━━━━━━━━━━━━━━━━━━━━━┳━━━━━━━━━━━━━━━━┳━━━━━━━━━━━━━━━━━━━━━━━━┓\n",
              "┃<span style=\"font-weight: bold\"> Layer (type)              </span>┃<span style=\"font-weight: bold\"> Output Shape           </span>┃<span style=\"font-weight: bold\">        Param # </span>┃<span style=\"font-weight: bold\"> Connected to           </span>┃\n",
              "┡━━━━━━━━━━━━━━━━━━━━━━━━━━━╇━━━━━━━━━━━━━━━━━━━━━━━━╇━━━━━━━━━━━━━━━━╇━━━━━━━━━━━━━━━━━━━━━━━━┩\n",
              "│ encoder_inputs            │ (<span style=\"color: #00d7ff; text-decoration-color: #00d7ff\">None</span>, <span style=\"color: #00d7ff; text-decoration-color: #00d7ff\">None</span>)           │              <span style=\"color: #00af00; text-decoration-color: #00af00\">0</span> │ -                      │\n",
              "│ (<span style=\"color: #0087ff; text-decoration-color: #0087ff\">InputLayer</span>)              │                        │                │                        │\n",
              "├───────────────────────────┼────────────────────────┼────────────────┼────────────────────────┤\n",
              "│ decoder_inputs            │ (<span style=\"color: #00d7ff; text-decoration-color: #00d7ff\">None</span>, <span style=\"color: #00d7ff; text-decoration-color: #00d7ff\">None</span>)           │              <span style=\"color: #00af00; text-decoration-color: #00af00\">0</span> │ -                      │\n",
              "│ (<span style=\"color: #0087ff; text-decoration-color: #0087ff\">InputLayer</span>)              │                        │                │                        │\n",
              "├───────────────────────────┼────────────────────────┼────────────────┼────────────────────────┤\n",
              "│ positional_embedding_2    │ (<span style=\"color: #00d7ff; text-decoration-color: #00d7ff\">None</span>, <span style=\"color: #00d7ff; text-decoration-color: #00d7ff\">None</span>, <span style=\"color: #00af00; text-decoration-color: #00af00\">300</span>)      │      <span style=\"color: #00af00; text-decoration-color: #00af00\">4,506,000</span> │ encoder_inputs[<span style=\"color: #00af00; text-decoration-color: #00af00\">0</span>][<span style=\"color: #00af00; text-decoration-color: #00af00\">0</span>]   │\n",
              "│ (<span style=\"color: #0087ff; text-decoration-color: #0087ff\">PositionalEmbedding</span>)     │                        │                │                        │\n",
              "├───────────────────────────┼────────────────────────┼────────────────┼────────────────────────┤\n",
              "│ not_equal_2 (<span style=\"color: #0087ff; text-decoration-color: #0087ff\">NotEqual</span>)    │ (<span style=\"color: #00d7ff; text-decoration-color: #00d7ff\">None</span>, <span style=\"color: #00d7ff; text-decoration-color: #00d7ff\">None</span>)           │              <span style=\"color: #00af00; text-decoration-color: #00af00\">0</span> │ encoder_inputs[<span style=\"color: #00af00; text-decoration-color: #00af00\">0</span>][<span style=\"color: #00af00; text-decoration-color: #00af00\">0</span>]   │\n",
              "├───────────────────────────┼────────────────────────┼────────────────┼────────────────────────┤\n",
              "│ positional_embedding_3    │ (<span style=\"color: #00d7ff; text-decoration-color: #00d7ff\">None</span>, <span style=\"color: #00d7ff; text-decoration-color: #00d7ff\">None</span>, <span style=\"color: #00af00; text-decoration-color: #00af00\">300</span>)      │      <span style=\"color: #00af00; text-decoration-color: #00af00\">4,506,000</span> │ decoder_inputs[<span style=\"color: #00af00; text-decoration-color: #00af00\">0</span>][<span style=\"color: #00af00; text-decoration-color: #00af00\">0</span>]   │\n",
              "│ (<span style=\"color: #0087ff; text-decoration-color: #0087ff\">PositionalEmbedding</span>)     │                        │                │                        │\n",
              "├───────────────────────────┼────────────────────────┼────────────────┼────────────────────────┤\n",
              "│ transformer_encoder_1     │ [(<span style=\"color: #00d7ff; text-decoration-color: #00d7ff\">None</span>, <span style=\"color: #00d7ff; text-decoration-color: #00d7ff\">None</span>, <span style=\"color: #00af00; text-decoration-color: #00af00\">300</span>),    │      <span style=\"color: #00af00; text-decoration-color: #00af00\">4,119,848</span> │ positional_embedding_… │\n",
              "│ (<span style=\"color: #0087ff; text-decoration-color: #0087ff\">TransformerEncoder</span>)      │ (<span style=\"color: #00d7ff; text-decoration-color: #00d7ff\">None</span>, <span style=\"color: #00af00; text-decoration-color: #00af00\">8</span>, <span style=\"color: #00d7ff; text-decoration-color: #00d7ff\">None</span>, <span style=\"color: #00d7ff; text-decoration-color: #00d7ff\">None</span>)] │                │ not_equal_2[<span style=\"color: #00af00; text-decoration-color: #00af00\">0</span>][<span style=\"color: #00af00; text-decoration-color: #00af00\">0</span>]      │\n",
              "├───────────────────────────┼────────────────────────┼────────────────┼────────────────────────┤\n",
              "│ not_equal_3 (<span style=\"color: #0087ff; text-decoration-color: #0087ff\">NotEqual</span>)    │ (<span style=\"color: #00d7ff; text-decoration-color: #00d7ff\">None</span>, <span style=\"color: #00d7ff; text-decoration-color: #00d7ff\">None</span>)           │              <span style=\"color: #00af00; text-decoration-color: #00af00\">0</span> │ decoder_inputs[<span style=\"color: #00af00; text-decoration-color: #00af00\">0</span>][<span style=\"color: #00af00; text-decoration-color: #00af00\">0</span>]   │\n",
              "├───────────────────────────┼────────────────────────┼────────────────┼────────────────────────┤\n",
              "│ transformer_decoder_1     │ [(<span style=\"color: #00d7ff; text-decoration-color: #00d7ff\">None</span>, <span style=\"color: #00d7ff; text-decoration-color: #00d7ff\">None</span>, <span style=\"color: #00af00; text-decoration-color: #00af00\">300</span>),    │      <span style=\"color: #00af00; text-decoration-color: #00af00\">7,007,948</span> │ positional_embedding_… │\n",
              "│ (<span style=\"color: #0087ff; text-decoration-color: #0087ff\">TransformerDecoder</span>)      │ (<span style=\"color: #00d7ff; text-decoration-color: #00d7ff\">None</span>, <span style=\"color: #00af00; text-decoration-color: #00af00\">8</span>, <span style=\"color: #00d7ff; text-decoration-color: #00d7ff\">None</span>, <span style=\"color: #00d7ff; text-decoration-color: #00d7ff\">None</span>), │                │ transformer_encoder_1… │\n",
              "│                           │ (<span style=\"color: #00d7ff; text-decoration-color: #00d7ff\">None</span>, <span style=\"color: #00af00; text-decoration-color: #00af00\">8</span>, <span style=\"color: #00d7ff; text-decoration-color: #00d7ff\">None</span>, <span style=\"color: #00d7ff; text-decoration-color: #00d7ff\">None</span>)] │                │ not_equal_3[<span style=\"color: #00af00; text-decoration-color: #00af00\">0</span>][<span style=\"color: #00af00; text-decoration-color: #00af00\">0</span>],     │\n",
              "│                           │                        │                │ not_equal_2[<span style=\"color: #00af00; text-decoration-color: #00af00\">0</span>][<span style=\"color: #00af00; text-decoration-color: #00af00\">0</span>]      │\n",
              "├───────────────────────────┼────────────────────────┼────────────────┼────────────────────────┤\n",
              "│ dropout_7 (<span style=\"color: #0087ff; text-decoration-color: #0087ff\">Dropout</span>)       │ (<span style=\"color: #00d7ff; text-decoration-color: #00d7ff\">None</span>, <span style=\"color: #00d7ff; text-decoration-color: #00d7ff\">None</span>, <span style=\"color: #00af00; text-decoration-color: #00af00\">300</span>)      │              <span style=\"color: #00af00; text-decoration-color: #00af00\">0</span> │ transformer_decoder_1… │\n",
              "├───────────────────────────┼────────────────────────┼────────────────┼────────────────────────┤\n",
              "│ dense_9 (<span style=\"color: #0087ff; text-decoration-color: #0087ff\">Dense</span>)           │ (<span style=\"color: #00d7ff; text-decoration-color: #00d7ff\">None</span>, <span style=\"color: #00d7ff; text-decoration-color: #00d7ff\">None</span>, <span style=\"color: #00af00; text-decoration-color: #00af00\">15000</span>)    │      <span style=\"color: #00af00; text-decoration-color: #00af00\">4,515,000</span> │ dropout_7[<span style=\"color: #00af00; text-decoration-color: #00af00\">0</span>][<span style=\"color: #00af00; text-decoration-color: #00af00\">0</span>]        │\n",
              "└───────────────────────────┴────────────────────────┴────────────────┴────────────────────────┘\n",
              "</pre>\n"
            ]
          },
          "metadata": {}
        },
        {
          "output_type": "display_data",
          "data": {
            "text/plain": [
              "\u001b[1m Total params: \u001b[0m\u001b[38;5;34m24,654,796\u001b[0m (94.05 MB)\n"
            ],
            "text/html": [
              "<pre style=\"white-space:pre;overflow-x:auto;line-height:normal;font-family:Menlo,'DejaVu Sans Mono',consolas,'Courier New',monospace\"><span style=\"font-weight: bold\"> Total params: </span><span style=\"color: #00af00; text-decoration-color: #00af00\">24,654,796</span> (94.05 MB)\n",
              "</pre>\n"
            ]
          },
          "metadata": {}
        },
        {
          "output_type": "display_data",
          "data": {
            "text/plain": [
              "\u001b[1m Trainable params: \u001b[0m\u001b[38;5;34m20,154,796\u001b[0m (76.88 MB)\n"
            ],
            "text/html": [
              "<pre style=\"white-space:pre;overflow-x:auto;line-height:normal;font-family:Menlo,'DejaVu Sans Mono',consolas,'Courier New',monospace\"><span style=\"font-weight: bold\"> Trainable params: </span><span style=\"color: #00af00; text-decoration-color: #00af00\">20,154,796</span> (76.88 MB)\n",
              "</pre>\n"
            ]
          },
          "metadata": {}
        },
        {
          "output_type": "display_data",
          "data": {
            "text/plain": [
              "\u001b[1m Non-trainable params: \u001b[0m\u001b[38;5;34m4,500,000\u001b[0m (17.17 MB)\n"
            ],
            "text/html": [
              "<pre style=\"white-space:pre;overflow-x:auto;line-height:normal;font-family:Menlo,'DejaVu Sans Mono',consolas,'Courier New',monospace\"><span style=\"font-weight: bold\"> Non-trainable params: </span><span style=\"color: #00af00; text-decoration-color: #00af00\">4,500,000</span> (17.17 MB)\n",
              "</pre>\n"
            ]
          },
          "metadata": {}
        },
        {
          "output_type": "stream",
          "name": "stdout",
          "text": [
            "\u001b[1m1302/1302\u001b[0m \u001b[32m━━━━━━━━━━━━━━━━━━━━\u001b[0m\u001b[37m\u001b[0m \u001b[1m127s\u001b[0m 85ms/step - dense_9_accuracy: 0.1053 - loss: 4.9821 - val_dense_9_accuracy: 0.1933 - val_loss: 2.7849\n"
          ]
        },
        {
          "output_type": "execute_result",
          "data": {
            "text/plain": [
              "<keras.src.callbacks.history.History at 0x7c47b4765a50>"
            ]
          },
          "metadata": {},
          "execution_count": 62
        }
      ]
    },
    {
      "cell_type": "code",
      "source": [
        "# Se guarda el modelo\n",
        "from google.colab import drive\n",
        "drive.mount('/content/drive')\n",
        "\n",
        "transformer.save(\"/content/drive/My Drive/NMT_transformer.keras\")"
      ],
      "metadata": {
        "id": "d0544CnXYMHS"
      },
      "execution_count": null,
      "outputs": []
    },
    {
      "cell_type": "markdown",
      "source": [
        "## Decoding test sentences"
      ],
      "metadata": {
        "id": "kQtVmWq7YRvx"
      }
    },
    {
      "cell_type": "markdown",
      "source": [
        "Finalmente es turno de traducir nuevas oraciones en inglés; para ello se define la función `decode_sequence`, la cual devuelve la oración traducida, además del conjunto de matrices de pesos."
      ],
      "metadata": {
        "id": "YPHKnm6RYV_H"
      }
    },
    {
      "cell_type": "code",
      "source": [
        "# Se obtiene el vocabulario del español\n",
        "spa_vocab = spa_vectorization.get_vocabulary()\n",
        "# Se crea un diccionario para mapear los índices a las palabras en español\n",
        "spa_index_lookup = dict(zip(range(len(spa_vocab)), spa_vocab))\n",
        "max_decoded_sentence_length = 20\n",
        "\n",
        "# eng_vocab = eng_vectorization.get_vocabulary()\n",
        "# eng_index_lookup = dict(zip(range(len(eng_vocab)), eng_vocab))"
      ],
      "metadata": {
        "id": "6uww8lpFYUHm"
      },
      "execution_count": 27,
      "outputs": []
    },
    {
      "cell_type": "code",
      "source": [
        "def decode_sequence(input_sentence):\n",
        "  # Se tokeniza la oración en inglés\n",
        "  tokenized_input_sentence = eng_vectorization([input_sentence])\n",
        "  # Se inicializa la oración traducida como \"[start]\"\n",
        "  decoded_sentence = \"[start]\"\n",
        "\n",
        "  # Se guardan los pesos\n",
        "  # Se genera una matriz por palabra, pero sólo nos ineteresa la última, cuando la traducción está completa\n",
        "  cross_attention_matrices = []\n",
        "\n",
        "  # Se genera la traducción palabra por palabra\n",
        "  for i in range(max_decoded_sentence_length):\n",
        "    # Se tokeniza la oración parcial en español\n",
        "    tokenized_target_sentence = spa_vectorization([decoded_sentence])[:, :-1]\n",
        "    # Se obtiene la predicción del modelo\n",
        "    predictions, _, cross_attn_weights = transformer(\n",
        "        {\n",
        "          \"encoder_inputs\": tokenized_input_sentence,\n",
        "          \"decoder_inputs\": tokenized_target_sentence,\n",
        "        }\n",
        "      )\n",
        "    # Se guardan los pesos\n",
        "    cross_attention_matrices.append(cross_attn_weights[0])\n",
        "    # Se selecciona el índice con la mayor probabilidad, y se convierte en una palabra en español\n",
        "    sampled_token_index = ops.convert_to_numpy(ops.argmax(predictions[0, i, :])).item(0)\n",
        "    sampled_token = spa_index_lookup[sampled_token_index]\n",
        "    # Se agrega la nueva palabra\n",
        "    decoded_sentence += \" \" + sampled_token\n",
        "    if sampled_token == \"[end]\":\n",
        "      break\n",
        "  # el número de matrices en cross_attention_matrices[-1] será igual al número de heads\n",
        "  return decoded_sentence, cross_attention_matrices[-1]"
      ],
      "metadata": {
        "id": "bMLSf2DtA9KX"
      },
      "execution_count": 28,
      "outputs": []
    },
    {
      "cell_type": "code",
      "source": [
        "test_eng_texts = [pair[0] for pair in test_pairs]\n",
        "for i in range(10):\n",
        "    input_sentence = random.choice(test_eng_texts)\n",
        "    translated, _ = decode_sequence(input_sentence)\n",
        "    print(i, \"Input:\", input_sentence)\n",
        "    print(\"Traducción:\", translated.replace(\"[start]\", \"\").replace(\"[end]\", \"\"))"
      ],
      "metadata": {
        "id": "Pwg8Kei3TBeB",
        "colab": {
          "base_uri": "https://localhost:8080/"
        },
        "outputId": "57dec3b4-6be7-4572-9318-3d18fefd2164"
      },
      "execution_count": 30,
      "outputs": [
        {
          "output_type": "stream",
          "name": "stdout",
          "text": [
            "0 Input: I'm great at advice.\n",
            "Traducción:  estoy muy bien \n",
            "1 Input: Tom tried to comfort Mary.\n",
            "Traducción:  tom trató de [UNK] a mary \n",
            "2 Input: Tom doesn't like me.\n",
            "Traducción:  a tom no me gusta \n",
            "3 Input: I can't understand that word.\n",
            "Traducción:  no puedo entender esa palabra \n",
            "4 Input: Everyone stood.\n",
            "Traducción:  todos los [UNK] \n",
            "5 Input: Tom and his friends went to the circus.\n",
            "Traducción:  tom y sus amigos se fue a los amigos \n",
            "6 Input: Tom is now a happy little boy.\n",
            "Traducción:  tom está ahora un poco feliz \n",
            "7 Input: Working alone is no fun.\n",
            "Traducción:  a la [UNK] no es divertido \n",
            "8 Input: Today I love the entire world.\n",
            "Traducción:  hoy me encanta la última vez \n",
            "9 Input: What kind of ice cream do you like?\n",
            "Traducción:  qué tipo de acuerdo contigo \n"
          ]
        }
      ]
    },
    {
      "cell_type": "code",
      "source": [
        "input_sentence = random.choice(test_eng_texts)\n",
        "translated_sentence, attn_weights = decode_sequence(input_sentence)\n",
        "\n",
        "print(\"Input:\", input_sentence)\n",
        "print(\"Traducción:\", translated_sentence.replace(\"[start]\", \"\").replace(\"[end]\", \"\"))\n",
        "#print(\"Número de matrices de atención guardadas:\", len(attn_weights))"
      ],
      "metadata": {
        "colab": {
          "base_uri": "https://localhost:8080/"
        },
        "id": "nVDrnRjAhdTt",
        "outputId": "96e2d2ea-7076-4617-f634-2ac49cd619d1"
      },
      "execution_count": 38,
      "outputs": [
        {
          "output_type": "stream",
          "name": "stdout",
          "text": [
            "Input: This letter contains sensitive information that may offend some people.\n",
            "Traducción:  esta carta [UNK] de la [UNK] que puede [UNK] a las personas \n"
          ]
        }
      ]
    },
    {
      "cell_type": "code",
      "source": [
        "translated_tokens = translated_sentence.replace(\"[start]\", \"\").replace(\"[end]\", \"\").split()\n",
        "input_tokens = input_sentence.split()\n",
        "\n",
        "fig = plt.figure(figsize=(16, 8))\n",
        "plt.title(\"Cross Attention Weights\")\n",
        "plt.axis('off')\n",
        "\n",
        "for h, attn_matrix in enumerate(attn_weights):\n",
        "  attn_matrix = attn_matrix[:len(translated_tokens), :len(input_tokens)]\n",
        "  ax = fig.add_subplot(2, 4, h+1)\n",
        "  sns.heatmap(attn_matrix, xticklabels=input_tokens, yticklabels=translated_tokens, cmap=\"viridis\", annot=False, fmt=\".2f\", ax=ax, cbar=True)\n",
        "  ax.set_xlabel(f'Head {h+1}')\n",
        "\n",
        "plt.tight_layout()\n",
        "plt.show()"
      ],
      "metadata": {
        "id": "Rllp98vPB9gQ",
        "colab": {
          "base_uri": "https://localhost:8080/",
          "height": 642
        },
        "outputId": "a35f581c-c4c3-4e4b-8428-dd9b9f7da709"
      },
      "execution_count": 39,
      "outputs": [
        {
          "output_type": "display_data",
          "data": {
            "text/plain": [
              "<Figure size 1600x800 with 17 Axes>"
            ],
            "image/png": "[encoded data removed]"
          },
          "metadata": {}
        }
      ]
    },
    {
      "cell_type": "code",
      "source": [],
      "metadata": {
        "id": "j4xOTnDOQ667"
      },
      "execution_count": null,
      "outputs": []
    }
  ]
}