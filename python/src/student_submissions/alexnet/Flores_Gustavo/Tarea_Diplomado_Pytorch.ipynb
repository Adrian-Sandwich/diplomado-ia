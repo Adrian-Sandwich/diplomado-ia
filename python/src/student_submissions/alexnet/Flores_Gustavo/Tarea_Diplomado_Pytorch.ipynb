{
  "nbformat": 4,
  "nbformat_minor": 0,
  "metadata": {
    "colab": {
      "provenance": [],
      "gpuType": "T4"
    },
    "kernelspec": {
      "name": "python3",
      "display_name": "Python 3"
    },
    "language_info": {
      "name": "python"
    },
    "accelerator": "GPU"
  },
  "cells": [
    {
      "cell_type": "markdown",
      "source": [
        "Diplomado IA\n",
        "Nombre: Gustavo Alfredo Flores Pérez\n",
        "\n",
        "Introducción\n",
        "\n",
        "Recrear AlexNet de Scratch utilizando Pytorch an TensorFlow/Keras\n",
        "\n",
        "La red debe tener 5 capas convolucionalesy 3 de max pool y 3 capas densas.\n",
        "Se debe utilizar el dataset CIFAR -10\n"
      ],
      "metadata": {
        "id": "nmPcItQkmb96"
      }
    },
    {
      "cell_type": "code",
      "execution_count": 1,
      "metadata": {
        "colab": {
          "base_uri": "https://localhost:8080/"
        },
        "id": "1Ui_n0c3NXSJ",
        "outputId": "d0cc407d-b8f9-4fe2-c33b-19dffb44b9c5"
      },
      "outputs": [
        {
          "output_type": "stream",
          "name": "stdout",
          "text": [
            "Usando dispositivo: cuda\n"
          ]
        }
      ],
      "source": [
        "#Librerias que utilizaremos para nuestros modelos\n",
        "import numpy as np\n",
        "import matplotlib.pyplot as plt\n",
        "\n",
        "# PyTorch Imports\n",
        "import torch\n",
        "import torchvision\n",
        "import torchvision.transforms as transforms\n",
        "import torch.nn as nn\n",
        "import torch.optim as optim\n",
        "\n",
        "# TensorFlow/Keras Imports\n",
        "import tensorflow as tf\n",
        "from tensorflow.keras.models import Sequential\n",
        "from tensorflow.keras.layers import Conv2D, MaxPooling2D, Flatten, Dense\n",
        "from tensorflow.keras.optimizers import SGD\n",
        "from tensorflow.keras.datasets import cifar10\n",
        "\n",
        "# Configuracion del Dispositivo - para PyTorch\n",
        "device = torch.device(\"cuda\" if torch.cuda.is_available() else \"cpu\")\n",
        "print(f\"Usando dispositivo: {device}\")"
      ]
    },
    {
      "cell_type": "code",
      "source": [
        "# --------------------------------------------------------------------------------\n",
        "# PASO 2: Carga y Preprocesamiento del Dataset CIFAR-10\n",
        "# --------------------------------------------------------------------------------\n",
        "\n",
        "# Transformaciones para PyTorch\n",
        "transform_pytorch = transforms.Compose([\n",
        "    transforms.Resize(224),  # AlexNet espera imagenes de 224x224\n",
        "    transforms.ToTensor(),\n",
        "    transforms.Normalize((0.5, 0.5, 0.5), (0.5, 0.5, 0.5))\n",
        "])\n",
        "\n",
        "# Dataset CIFAR-10 para PyTorch\n",
        "trainset_pytorch = torchvision.datasets.CIFAR10(root='./data', train=True,\n",
        "                                                download=True, transform=transform_pytorch)\n",
        "trainloader_pytorch = torch.utils.data.DataLoader(trainset_pytorch, batch_size=100,\n",
        "                                                  shuffle=True, num_workers=4)\n",
        "\n",
        "testset_pytorch = torchvision.datasets.CIFAR10(root='./data', train=False,\n",
        "                                               download=True, transform=transform_pytorch)\n",
        "testloader_pytorch = torch.utils.data.DataLoader(testset_pytorch, batch_size=100,\n",
        "                                                 shuffle=False, num_workers=4)\n",
        "\n",
        "classes = ('plane', 'car', 'bird', 'cat',\n",
        "           'deer', 'dog', 'frog', 'horse', 'ship', 'truck')\n",
        "\n",
        "print(\"Datasets CIFAR-10 para PyTorch cargados\")\n",
        "\n",
        "# Dataset CIFAR-10 para TensorFlow/Keras\n",
        "(x_train_keras, y_train_keras), (x_test_keras, y_test_keras) = cifar10.load_data()\n",
        "\n",
        "# Preprocesamiento para TensorFlow/Keras\n",
        "def preprocess_keras(x):\n",
        "    x = x.astype('float32') / 255.0\n",
        "    # No normalizacion como en PyTorch para mantener la comparacion lo mas directa posible con el modelo scratch\n",
        "    return x\n",
        "\n",
        "x_train_keras = preprocess_keras(x_train_keras)\n",
        "x_test_keras = preprocess_keras(x_test_keras)\n",
        "\n",
        "y_train_keras = tf.keras.utils.to_categorical(y_train_keras, num_classes=10)\n",
        "y_test_keras = tf.keras.utils.to_categorical(y_test_keras, num_classes=10)\n",
        "\n",
        "\n",
        "print(\"Datasets CIFAR-10 para Keras cargados y preprocesados\")"
      ],
      "metadata": {
        "colab": {
          "base_uri": "https://localhost:8080/"
        },
        "id": "-s_f5SssQhUH",
        "outputId": "3f4d6a24-1a54-42d3-e982-0b16bc807277"
      },
      "execution_count": 2,
      "outputs": [
        {
          "output_type": "stream",
          "name": "stdout",
          "text": [
            "Downloading https://www.cs.toronto.edu/~kriz/cifar-10-python.tar.gz to ./data/cifar-10-python.tar.gz\n"
          ]
        },
        {
          "output_type": "stream",
          "name": "stderr",
          "text": [
            "100%|██████████| 170M/170M [00:03<00:00, 43.5MB/s]\n"
          ]
        },
        {
          "output_type": "stream",
          "name": "stdout",
          "text": [
            "Extracting ./data/cifar-10-python.tar.gz to ./data\n"
          ]
        },
        {
          "output_type": "stream",
          "name": "stderr",
          "text": [
            "/usr/local/lib/python3.11/dist-packages/torch/utils/data/dataloader.py:617: UserWarning: This DataLoader will create 4 worker processes in total. Our suggested max number of worker in current system is 2, which is smaller than what this DataLoader is going to create. Please be aware that excessive worker creation might get DataLoader running slow or even freeze, lower the worker number to avoid potential slowness/freeze if necessary.\n",
            "  warnings.warn(\n"
          ]
        },
        {
          "output_type": "stream",
          "name": "stdout",
          "text": [
            "Files already downloaded and verified\n",
            "Datasets CIFAR-10 para PyTorch cargados\n",
            "Downloading data from https://www.cs.toronto.edu/~kriz/cifar-10-python.tar.gz\n",
            "\u001b[1m170498071/170498071\u001b[0m \u001b[32m━━━━━━━━━━━━━━━━━━━━\u001b[0m\u001b[37m\u001b[0m \u001b[1m4s\u001b[0m 0us/step\n",
            "Datasets CIFAR-10 para Keras cargados y preprocesados\n"
          ]
        }
      ]
    },
    {
      "cell_type": "code",
      "source": [
        "# --------------------------------------------------------------------------------\n",
        "# PASO 3: Definicion de Modelos AlexNet desde Cero\n",
        "# --------------------------------------------------------------------------------\n",
        "\n",
        "# --- 3.1 Modelo AlexNet desde Cero en PyTorch ---\n",
        "class AlexNetScratch_PyTorch(nn.Module):\n",
        "    def __init__(self, num_classes=10):\n",
        "        super(AlexNetScratch_PyTorch, self).__init__()\n",
        "        self.features = nn.Sequential(\n",
        "            nn.Conv2d(3, 64, kernel_size=3, stride=1, padding=1), # Menos params, kernel 3 en vez de 11\n",
        "            nn.ReLU(inplace=True),\n",
        "            nn.MaxPool2d(kernel_size=2, stride=2), # kernel y stride modificados\n",
        "\n",
        "            nn.Conv2d(64, 192, kernel_size=3, padding=1), # kernel 3 en vez de 5\n",
        "            nn.ReLU(inplace=True),\n",
        "            nn.MaxPool2d(kernel_size=2, stride=2), # kernel y stride modificados\n",
        "\n",
        "            nn.Conv2d(192, 384, kernel_size=3, padding=1),\n",
        "            nn.ReLU(inplace=True),\n",
        "            nn.Conv2d(384, 256, kernel_size=3, padding=1),\n",
        "            nn.ReLU(inplace=True),\n",
        "            nn.Conv2d(256, 256, kernel_size=3, padding=1),\n",
        "            nn.ReLU(inplace=True),\n",
        "            nn.MaxPool2d(kernel_size=2, stride=2), # kernel y stride modificados\n",
        "        )\n",
        "        self.avgpool = nn.AdaptiveAvgPool2d((6, 6)) # Adaptado para entradas 224x224\n",
        "        self.classifier = nn.Sequential(\n",
        "            nn.Dropout(),\n",
        "            nn.Linear(256 * 6 * 6, 4096),\n",
        "            nn.ReLU(inplace=True),\n",
        "            nn.Dropout(),\n",
        "            nn.Linear(4096, 4096),\n",
        "            nn.ReLU(inplace=True),\n",
        "            nn.Linear(4096, num_classes),\n",
        "        )\n",
        "\n",
        "    def forward(self, x):\n",
        "        x = self.features(x)\n",
        "        x = self.avgpool(x)\n",
        "        x = torch.flatten(x, 1)\n",
        "        x = self.classifier(x)\n",
        "        return x\n",
        "\n",
        "# --- 3.2 Modelo AlexNet desde Cero con TensorFlow/Keras ---\n",
        "def AlexNetScratch_Keras(input_shape=(224, 224, 3), num_classes=10):\n",
        "    model = Sequential([\n",
        "        Conv2D(64, (3, 3), activation='relu', padding='same', input_shape=input_shape), # Kernel y stride modificados\n",
        "        MaxPooling2D((2, 2), strides=(2,2)), # Kernel y stride modificados\n",
        "\n",
        "        Conv2D(192, (3, 3), activation='relu', padding='same'), # Kernel modificado\n",
        "        MaxPooling2D((2, 2), strides=(2,2)), # Kernel y stride modificados\n",
        "\n",
        "        Conv2D(384, (3, 3), activation='relu', padding='same'),\n",
        "        Conv2D(256, (3, 3), activation='relu', padding='same'),\n",
        "        Conv2D(256, (3, 3), activation='relu', padding='same'),\n",
        "        MaxPooling2D((2, 2), strides=(2,2)), # Kernel y stride modificados\n",
        "\n",
        "        Flatten(),\n",
        "        Dense(512, activation='relu'),  # <--- MODIFICADO a 512\n",
        "        Dense(512, activation='relu'),  # <--- MODIFICADO a 512\n",
        "        Dense(num_classes, activation='softmax') # softmax para clasificacion multiclase\n",
        "    ])\n",
        "    return model\n",
        "\n",
        "# --- 3.3 Modelo Pre-entrenado AlexNet en PyTorch ---\n",
        "pretrained_alexnet_pytorch = torchvision.models.alexnet(pretrained=True)\n",
        "# Modifica la ultima capa para CIFAR-10 (10 clases)\n",
        "num_features_pytorch = pretrained_alexnet_pytorch.classifier[6].in_features\n",
        "pretrained_alexnet_pytorch.classifier[6] = nn.Linear(num_features_pytorch, 10)\n",
        "\n",
        "\n",
        "print(\"Modelos AlexNet definidos (desde cero y pre-entrenado)\")"
      ],
      "metadata": {
        "colab": {
          "base_uri": "https://localhost:8080/"
        },
        "id": "5s0b2QJIQqGh",
        "outputId": "14db9870-d033-4bfa-a455-8fb5d52f2760"
      },
      "execution_count": 12,
      "outputs": [
        {
          "output_type": "stream",
          "name": "stdout",
          "text": [
            "Modelos AlexNet definidos (desde cero y pre-entrenado)\n"
          ]
        }
      ]
    },
    {
      "cell_type": "code",
      "source": [
        "# --------------------------------------------------------------------------------\n",
        "# PASO 4: Funciones de Entrenamiento y Evaluacion\n",
        "# --------------------------------------------------------------------------------\n",
        "\n",
        "# --- 4.1 Funciones para PyTorch ---\n",
        "def train_pytorch_model(model, trainloader, criterion, optimizer, device, epochs=2):\n",
        "    model.to(device) # Mueve el modelo a la GPU si está disponible\n",
        "    model.train() # Modo entrenamiento\n",
        "    for epoch in range(epochs):\n",
        "        running_loss = 0.0\n",
        "        for i, data in enumerate(trainloader, 0):\n",
        "            inputs, labels = data[0].to(device), data[1].to(device)\n",
        "            optimizer.zero_grad() # Limpia los gradientes anteriores\n",
        "            outputs = model(inputs) # Pasa los datos a través del modelo\n",
        "            loss = criterion(outputs, labels) # Calcula la pérdida\n",
        "            loss.backward() # Backpropagation\n",
        "            optimizer.step() # Actualiza los pesos\n",
        "            running_loss += loss.item()\n",
        "            if i % 2000 == 1999:    # Imprime cada 2000 mini-batches\n",
        "                print(f'[{epoch + 1}, {i + 1:5d}] loss: {running_loss / 2000:.3f}')\n",
        "                running_loss = 0.0\n",
        "    print('Entrenamiento Finalizado (PyTorch)')\n",
        "\n",
        "def evaluate_pytorch_model(model, testloader, device):\n",
        "    model.to(device) # Asegura que el modelo esté en el mismo dispositivo que los datos\n",
        "    model.eval() # Modo evaluacion\n",
        "    correct = 0\n",
        "    total = 0\n",
        "    with torch.no_grad(): # Desactiva el cálculo de gradientes durante la evaluacion\n",
        "        for data in testloader:\n",
        "            images, labels = data[0].to(device), data[1].to(device)\n",
        "            outputs = model(images)\n",
        "            _, predicted = torch.max(outputs.data, 1) # Obtiene las predicciones de la clase\n",
        "            total += labels.size(0) # Cuenta el numero total de muestras\n",
        "            correct += (predicted == labels).sum().item() # Suma las predicciones correctas\n",
        "    accuracy = 100 * correct / total\n",
        "    print(f'Accuracy del modelo en PyTorch en las 10000 imagenes de prueba: {accuracy:.2f} %')\n",
        "    return accuracy\n",
        "\n",
        "# --- 4.2 Funciones para TensorFlow/Keras ---\n",
        "def train_keras_model(model, x_train, y_train, x_val, y_val, epochs=2, batch_size=64):\n",
        "    model.compile(optimizer=SGD(learning_rate=0.001, momentum=0.9), # Optimizador y learning rate como en PyTorch\n",
        "                  loss='categorical_crossentropy', #  loss para clasificación multiclase\n",
        "                  metrics=['accuracy']) # Metrica para evaluar\n",
        "\n",
        "    history = model.fit(x_train, y_train,\n",
        "                        epochs=epochs,\n",
        "                        batch_size=batch_size,\n",
        "                        validation_data=(x_val, y_val), # Datos de validacion\n",
        "                        verbose=1) # Muestra el progreso del entrenamiento\n",
        "\n",
        "    print('Entrenamiento Finalizado (Keras)')\n",
        "    return history\n",
        "\n",
        "def evaluate_keras_model(model, x_test, y_test):\n",
        "    _, accuracy = model.evaluate(x_test, y_test, verbose=0) # Evalua el modelo en datos de prueba\n",
        "    print(f'Accuracy del modelo en Keras en las 10000 imagenes de prueba: {accuracy*100:.2f} %')\n",
        "    return accuracy\n",
        "\n",
        "print(\"Funciones de entrenamiento y evaluación definidas para PyTorch y Keras\")"
      ],
      "metadata": {
        "colab": {
          "base_uri": "https://localhost:8080/"
        },
        "id": "VB6nLlPcQspJ",
        "outputId": "0bc3cea9-8a5f-48b8-9d8e-252ffea36526"
      },
      "execution_count": 4,
      "outputs": [
        {
          "output_type": "stream",
          "name": "stdout",
          "text": [
            "Funciones de entrenamiento y evaluación definidas para PyTorch y Keras\n"
          ]
        }
      ]
    },
    {
      "cell_type": "code",
      "source": [
        "epochs = 5 # Numero de epochs para entrenamiento, puedes aumentarlo para mejores resultados\n",
        "\n",
        "# --- 5.1 Entrenamiento de AlexNet desde Cero en PyTorch ---\n",
        "alexnet_scratch_pytorch = AlexNetScratch_PyTorch()\n",
        "criterion_pytorch = nn.CrossEntropyLoss()\n",
        "optimizer_pytorch = optim.SGD(alexnet_scratch_pytorch.parameters(), lr=0.001, momentum=0.9)\n",
        "\n",
        "print(\"\\nEntrenando AlexNet desde cero en PyTorch...\")\n",
        "train_pytorch_model(alexnet_scratch_pytorch, trainloader_pytorch, criterion_pytorch, optimizer_pytorch, device, epochs)\n",
        "\n"
      ],
      "metadata": {
        "colab": {
          "base_uri": "https://localhost:8080/"
        },
        "id": "zLRZcUG6jo56",
        "outputId": "2634c81a-ba94-4721-c5ba-4dff1a95dcb2"
      },
      "execution_count": 5,
      "outputs": [
        {
          "output_type": "stream",
          "name": "stdout",
          "text": [
            "\n",
            "Entrenando AlexNet desde cero en PyTorch...\n",
            "Entrenamiento Finalizado (PyTorch)\n"
          ]
        }
      ]
    },
    {
      "cell_type": "code",
      "source": [
        "# @title PASO 5.2: Evaluación de AlexNet desde Cero en PyTorch\n",
        "\n",
        "# --- 5.2 Evaluación de AlexNet desde Cero en PyTorch ---\n",
        "accuracy_scratch_pytorch = evaluate_pytorch_model(alexnet_scratch_pytorch, testloader_pytorch, device)\n",
        "print(f\"Accuracy AlexNet desde cero (PyTorch): {accuracy_scratch_pytorch:.2f} %\")"
      ],
      "metadata": {
        "colab": {
          "base_uri": "https://localhost:8080/"
        },
        "id": "AiVGoB0hjoz2",
        "outputId": "3c91bba9-c475-4319-eb6f-da0373a4c15b"
      },
      "execution_count": 6,
      "outputs": [
        {
          "output_type": "stream",
          "name": "stdout",
          "text": [
            "Accuracy del modelo en PyTorch en las 10000 imagenes de prueba: 20.09 %\n",
            "Accuracy AlexNet desde cero (PyTorch): 20.09 %\n"
          ]
        }
      ]
    },
    {
      "cell_type": "code",
      "source": [
        "# @title PASO 5.3: Creación de AlexNet desde Cero en TensorFlow/Keras\n",
        "\n",
        "# --- 5.3 Creación de AlexNet desde Cero en TensorFlow/Keras ---\n",
        "alexnet_scratch_keras = AlexNetScratch_Keras(input_shape=(224, 224, 3))\n",
        "\n",
        "print(\"\\nModelo AlexNet desde cero en Keras creado.\")"
      ],
      "metadata": {
        "id": "BxBLlvV5wXZx"
      },
      "execution_count": null,
      "outputs": []
    },
    {
      "cell_type": "code",
      "source": [
        "# @title PASO 5.4: Entrenamiento de AlexNet desde Cero en TensorFlow/Keras\n",
        "\n",
        "# --- 5.4 Entrenamiento de AlexNet desde Cero en TensorFlow/Keras ---\n",
        "print(\"\\nEntrenando AlexNet desde cero en Keras...\")\n",
        "history_scratch_keras = train_keras_model(alexnet_scratch_keras, x_train_keras, y_train_keras, x_test_keras, y_test_keras, epochs) # Usamos test set como val set por simplicidad"
      ],
      "metadata": {
        "id": "02dS9AMijxWe"
      },
      "execution_count": null,
      "outputs": []
    },
    {
      "cell_type": "code",
      "source": [
        "# @title PASO 5.5: Evaluación de AlexNet desde Cero en TensorFlow/Keras\n",
        "\n",
        "# --- 5.5 Evaluación de AlexNet desde Cero en TensorFlow/Keras ---\n",
        "accuracy_scratch_keras = evaluate_keras_model(alexnet_scratch_keras, x_test_keras, y_test_keras)\n",
        "print(f\"Accuracy AlexNet desde cero (Keras): {accuracy_scratch_keras*100:.2f} %\") # Keras accuracy está en escala [0, 1]"
      ],
      "metadata": {
        "id": "X4IrHZPujyVN"
      },
      "execution_count": null,
      "outputs": []
    },
    {
      "cell_type": "code",
      "source": [
        "# @title PASO 5.6: Entrenamiento y Evaluación de AlexNet Pre-entrenado en PyTorch\n",
        "\n",
        "# --- 5.6 Entrenamiento y Evaluación de AlexNet Pre-entrenado en PyTorch ---\n",
        "pretrained_optimizer_pytorch = optim.SGD(pretrained_alexnet_pytorch.parameters(), lr=0.001, momentum=0.9) # Optimizador para modelo pre-entrenado\n",
        "\n",
        "print(\"\\nEntrenando AlexNet Pre-entrenado en PyTorch...\")\n",
        "train_pytorch_model(pretrained_alexnet_pytorch, trainloader_pytorch, criterion_pytorch, pretrained_optimizer_pytorch, device, epochs)\n",
        "accuracy_pretrained_pytorch = evaluate_pytorch_model(pretrained_alexnet_pytorch, testloader_pytorch, device)\n",
        "print(f\"Accuracy AlexNet Pre-entrenado (PyTorch): {accuracy_pretrained_pytorch:.2f} %\")"
      ],
      "metadata": {
        "id": "sXZA46Eyjzri"
      },
      "execution_count": null,
      "outputs": []
    },
    {
      "cell_type": "code",
      "source": [
        "# @title PASO 5.7: Resultados de Comparación\n",
        "\n",
        "# --- 5.7: Resultados de Comparación ---\n",
        "print(\"\\n--- Resultados de Comparación ---\")\n",
        "print(f\"Accuracy AlexNet desde cero (PyTorch): {accuracy_scratch_pytorch:.2f} %\")\n",
        "print(f\"Accuracy AlexNet desde cero (Keras): {accuracy_scratch_keras*100:.2f} %\") # Keras accuracy está en escala [0, 1]\n",
        "print(f\"Accuracy AlexNet Pre-entrenado (PyTorch): {accuracy_pretrained_pytorch:.2f} %\")\n",
        "\n",
        "print(\"\\n¡Tarea completada!\")"
      ],
      "metadata": {
        "id": "_ZacLyVKj4qu"
      },
      "execution_count": null,
      "outputs": []
    },
    {
      "cell_type": "code",
      "source": [
        "# --------------------------------------------------------------------------------\n",
        "# PASO 6: (Opcional) Visualización Adicional\n",
        "# --------------------------------------------------------------------------------\n",
        "\n",
        "# --- 6.1 Visualización de algunas imagenes de prueba y predicciones (PyTorch Scratch Model) ---\n",
        "def imshow(img):\n",
        "    img = img / 2 + 0.5     # Desnormalizar\n",
        "    npimg = img.numpy()\n",
        "    plt.imshow(np.transpose(npimg, (1, 2, 0)))\n",
        "    plt.show()\n",
        "\n",
        "dataiter = iter(testloader_pytorch)\n",
        "images, labels = next(dataiter)\n",
        "\n",
        "# Muestra imagenes\n",
        "imshow(torchvision.utils.make_grid(images[:4]))\n",
        "print('Etiquetas reales: ', ' '.join(classes[labels[:4]]))\n",
        "\n",
        "# Prediccion con modelo scratch PyTorch\n",
        "outputs_scratch_pytorch = alexnet_scratch_pytorch(images.to(device))\n",
        "_, predicted_scratch_pytorch = torch.max(outputs_scratch_pytorch, 1)\n",
        "print('Predicciones AlexNet Scratch PyTorch: ', ' '.join(classes[predicted_scratch_pytorch[:4]]))\n",
        "\n",
        "\n",
        "# --- 6.2 (Opcional) Grafica de la historia de entrenamiento de Keras ---\n",
        "if 'history_scratch_keras' in locals(): # Verifica si 'history_scratch_keras' existe\n",
        "    plt.figure(figsize=(12, 4))\n",
        "    plt.subplot(1, 2, 1)\n",
        "    plt.plot(history_scratch_keras.history['accuracy'])\n",
        "    plt.plot(history_scratch_keras.history['val_accuracy'])\n",
        "    plt.title('Accuracy del modelo Keras')\n",
        "    plt.ylabel('Accuracy')\n",
        "    plt.xlabel('Epoch')\n",
        "    plt.legend(['Train', 'Validation'], loc='upper left')\n",
        "\n",
        "    plt.subplot(1, 2, 2)\n",
        "    plt.plot(history_scratch_keras.history['loss'])\n",
        "    plt.plot(history_scratch_keras.history['val_loss'])\n",
        "    plt.title('Pérdida del modelo Keras')\n",
        "    plt.ylabel('Pérdida')\n",
        "    plt.xlabel('Epoch')\n",
        "    plt.legend(['Train', 'Validation'], loc='upper left')\n",
        "    plt.show()"
      ],
      "metadata": {
        "id": "FqLVC10aQx0n"
      },
      "execution_count": null,
      "outputs": []
    }
  ]
}