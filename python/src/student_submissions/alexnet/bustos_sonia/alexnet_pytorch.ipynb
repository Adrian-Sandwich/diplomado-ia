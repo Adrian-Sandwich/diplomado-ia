{
  "cells": [
    {
      "cell_type": "code",
      "execution_count": 1,
      "metadata": {
        "id": "Ez5g4_oaNjst"
      },
      "outputs": [],
      "source": [
        "import torch\n",
        "import torch.nn as nn\n",
        "import torch.optim as optim\n",
        "import torchvision.transforms as transforms\n",
        "import torchvision.datasets as datasets\n",
        "from torch.utils.data import DataLoader\n",
        "import torchvision.models as models\n",
        "from torchvision.models import AlexNet_Weights"
      ]
    },
    {
      "cell_type": "code",
      "execution_count": 2,
      "metadata": {
        "id": "Vgy7rV4QNeZf"
      },
      "outputs": [],
      "source": [
        "class AlexNetScratchPyTorch(nn.Module):\n",
        "    def __init__(self, num_classes=10):\n",
        "        super(AlexNetScratchPyTorch, self).__init__()\n",
        "        self.features = nn.Sequential(\n",
        "            nn.Conv2d(3, 64, kernel_size=3, stride=1, padding=1),  # Cambiar tamaño del kernel\n",
        "            nn.ReLU(inplace=True),\n",
        "            nn.MaxPool2d(kernel_size=2, stride=2),\n",
        "\n",
        "            nn.Conv2d(64, 192, kernel_size=3, stride=1, padding=1),\n",
        "            nn.ReLU(inplace=True),\n",
        "            nn.MaxPool2d(kernel_size=2, stride=2),\n",
        "\n",
        "            nn.Conv2d(192, 384, kernel_size=3, stride=1, padding=1),\n",
        "            nn.ReLU(inplace=True),\n",
        "\n",
        "            nn.Conv2d(384, 256, kernel_size=3, stride=1, padding=1),\n",
        "            nn.ReLU(inplace=True),\n",
        "\n",
        "            nn.Conv2d(256, 256, kernel_size=3, stride=1, padding=1),\n",
        "            nn.ReLU(inplace=True),\n",
        "            nn.MaxPool2d(kernel_size=2, stride=2)\n",
        "        )\n",
        "        self.classifier = nn.Sequential(\n",
        "            nn.Linear(256 * 4 * 4, 4096),  # Ajustar tamaño de entrada según dimensiones\n",
        "            nn.ReLU(inplace=True),\n",
        "            nn.Dropout(),\n",
        "            nn.Linear(4096, 4096),\n",
        "            nn.ReLU(inplace=True),\n",
        "            nn.Dropout(),\n",
        "            nn.Linear(4096, num_classes)\n",
        "        )\n",
        "\n",
        "    def forward(self, x):\n",
        "        x = self.features(x)\n",
        "        x = torch.flatten(x, 1)\n",
        "        x = self.classifier(x)\n",
        "        return x"
      ]
    },
    {
      "cell_type": "code",
      "execution_count": 3,
      "metadata": {
        "id": "ik8dic6DN5wc"
      },
      "outputs": [],
      "source": [
        "# Cargar dataset CIFAR-10 con imágenes redimensionadas a 224x224\n",
        "def load_cifar10(batch_size=32):\n",
        "    transform = transforms.Compose([\n",
        "        transforms.Resize(32),  # AlexNet espera imágenes de 224x224\n",
        "        transforms.ToTensor(),\n",
        "        transforms.Normalize((0.5, 0.5, 0.5), (0.5, 0.5, 0.5))\n",
        "    ])\n",
        "    trainset = datasets.CIFAR10(root='./data', train=True, download=True, transform=transform)\n",
        "    trainloader = DataLoader(trainset, batch_size=batch_size, shuffle=True, num_workers=2)\n",
        "    testset = datasets.CIFAR10(root='./data', train=False, download=True, transform=transform)\n",
        "    testloader = DataLoader(testset, batch_size=batch_size, shuffle=False, num_workers=2)\n",
        "    return trainloader, testloader"
      ]
    },
    {
      "cell_type": "code",
      "execution_count": 4,
      "metadata": {
        "id": "FBq2hPw_OEVj"
      },
      "outputs": [],
      "source": [
        "# Función para evaluar el modelo\n",
        "def evaluate_model_pytorch(model, testloader):\n",
        "    device = torch.device(\"cuda\" if torch.cuda.is_available() else \"cpu\")\n",
        "    model.eval()\n",
        "    correct = 0\n",
        "    total = 0\n",
        "    with torch.no_grad():\n",
        "        for images, labels in testloader:\n",
        "            images, labels = images.to(device), labels.to(device)\n",
        "            outputs = model(images)\n",
        "            _, predicted = outputs.max(1)\n",
        "            total += labels.size(0)\n",
        "            correct += predicted.eq(labels).sum().item()\n",
        "    accuracy = 100 * correct / total\n",
        "    print(f\"Test Accuracy: {accuracy:.2f}%\")"
      ]
    },
    {
      "cell_type": "code",
      "execution_count": 5,
      "metadata": {
        "id": "Q5j2r7iqOY25"
      },
      "outputs": [],
      "source": [
        "# Inicializar modelo, criterio y optimizador\n",
        "def train_alexnet_pytorch():\n",
        "    trainloader, testloader = load_cifar10(batch_size=32)\n",
        "    device = torch.device(\"cuda\" if torch.cuda.is_available() else \"cpu\")\n",
        "    model = AlexNetScratchPyTorch(num_classes=10).to(device)\n",
        "    criterion = nn.CrossEntropyLoss()\n",
        "    optimizer = optim.Adam(model.parameters(), lr=0.001)\n",
        "\n",
        "    # Entrenamiento del modelo\n",
        "    model.train()\n",
        "    epochs = 10\n",
        "    for epoch in range(epochs):\n",
        "        running_loss = 0.0\n",
        "        correct = 0\n",
        "        total = 0\n",
        "        for images, labels in trainloader:\n",
        "            images, labels = images.to(device), labels.to(device)\n",
        "            optimizer.zero_grad()\n",
        "            outputs = model(images)\n",
        "            loss = criterion(outputs, labels)\n",
        "            loss.backward()\n",
        "            optimizer.step()\n",
        "            running_loss += loss.item()\n",
        "            _, predicted = outputs.max(1)\n",
        "            total += labels.size(0)\n",
        "            correct += predicted.eq(labels).sum().item()\n",
        "        print(f\"Epoch {epoch+1}, Loss: {running_loss/len(trainloader):.4f}, Accuracy: {100 * correct / total:.2f}%\")\n",
        "\n",
        "    # Evaluación\n",
        "    evaluate_model_pytorch(model, testloader)"
      ]
    },
    {
      "cell_type": "code",
      "execution_count": 6,
      "metadata": {
        "colab": {
          "base_uri": "https://localhost:8080/"
        },
        "id": "_IHcePEFOe1p",
        "outputId": "f5ea6a9b-da0e-483b-dc77-808557a9fdd1"
      },
      "outputs": [
        {
          "name": "stdout",
          "output_type": "stream",
          "text": [
            "Downloading https://www.cs.toronto.edu/~kriz/cifar-10-python.tar.gz to ./data/cifar-10-python.tar.gz\n"
          ]
        },
        {
          "name": "stderr",
          "output_type": "stream",
          "text": [
            "100%|██████████| 170M/170M [00:12<00:00, 13.2MB/s]\n"
          ]
        },
        {
          "name": "stdout",
          "output_type": "stream",
          "text": [
            "Extracting ./data/cifar-10-python.tar.gz to ./data\n",
            "Files already downloaded and verified\n",
            "Epoch 1, Loss: 1.5860, Accuracy: 40.70%\n",
            "Epoch 2, Loss: 1.2203, Accuracy: 55.83%\n",
            "Epoch 3, Loss: 1.0603, Accuracy: 62.44%\n",
            "Epoch 4, Loss: 0.9570, Accuracy: 66.40%\n",
            "Epoch 5, Loss: 0.8821, Accuracy: 69.08%\n",
            "Epoch 6, Loss: 0.8234, Accuracy: 71.22%\n",
            "Epoch 7, Loss: 0.7809, Accuracy: 72.91%\n",
            "Epoch 8, Loss: 0.7477, Accuracy: 74.12%\n",
            "Epoch 9, Loss: 0.7109, Accuracy: 75.49%\n",
            "Epoch 10, Loss: 0.6899, Accuracy: 76.12%\n",
            "Test Accuracy: 70.93%\n"
          ]
        }
      ],
      "source": [
        "# Entrenar el modelo desde cero\n",
        "train_alexnet_pytorch() #5:33 min"
      ]
    },
    {
      "cell_type": "code",
      "execution_count": 10,
      "metadata": {
        "id": "2nhM5VQiOx9m"
      },
      "outputs": [],
      "source": [
        "# Cargar dataset CIFAR-10 con imágenes redimensionadas a 224x224\n",
        "def load_cifar10_2(batch_size=32):\n",
        "    transform = transforms.Compose([\n",
        "        transforms.Resize(224),  # AlexNet espera imágenes de 224x224\n",
        "        transforms.ToTensor(),\n",
        "        transforms.Normalize((0.5, 0.5, 0.5), (0.5, 0.5, 0.5))\n",
        "    ])\n",
        "    trainset = datasets.CIFAR10(root='./data', train=True, download=True, transform=transform)\n",
        "    trainloader = DataLoader(trainset, batch_size=batch_size, shuffle=True, num_workers=2)\n",
        "    testset = datasets.CIFAR10(root='./data', train=False, download=True, transform=transform)\n",
        "    testloader = DataLoader(testset, batch_size=batch_size, shuffle=False, num_workers=2)\n",
        "    return trainloader, testloader\n",
        "\n",
        "# Función para cargar el modelo preentrenado AlexNet y adaptarlo para CIFAR-10\n",
        "def get_pretrained_alexnet_pytorch():\n",
        "    # Carga el modelo AlexNet preentrenado utilizando los pesos IMAGENET1K_V1\n",
        "    # Estos pesos corresponden a un modelo entrenado previamente en el conjunto de datos ImageNet (1000 clases)\n",
        "    model = models.alexnet(weights=AlexNet_Weights.IMAGENET1K_V1)\n",
        "\n",
        "    # Modifica la última capa de la parte \"classifier\" del modelo\n",
        "    # La arquitectura original de AlexNet tiene una última capa densa con 1000 salidas para las clases de ImageNet\n",
        "    # Aquí, se reemplaza con una capa con 10 salidas (para las 10 clases de CIFAR-10)\n",
        "    model.classifier[6] = nn.Linear(4096, 10)  # nn.Linear(entrada, salida)\n",
        "\n",
        "    # Devuelve el modelo ajustado\n",
        "    return model\n",
        "\n",
        "# Entrenar el modelo preentrenado\n",
        "def train_pretrained_alexnet_pytorch():\n",
        "    trainloader, testloader = load_cifar10_2(batch_size=32)\n",
        "    device = torch.device(\"cuda\" if torch.cuda.is_available() else \"cpu\")\n",
        "    model = get_pretrained_alexnet_pytorch().to(device)\n",
        "    criterion = nn.CrossEntropyLoss()\n",
        "    optimizer = optim.Adam(model.parameters(), lr=0.001)\n",
        "\n",
        "    # Entrenar el modelo\n",
        "    model.train()\n",
        "    epochs = 10\n",
        "    for epoch in range(epochs):\n",
        "        running_loss = 0.0\n",
        "        correct = 0\n",
        "        total = 0\n",
        "        for images, labels in trainloader:\n",
        "            images, labels = images.to(device), labels.to(device)\n",
        "            optimizer.zero_grad()\n",
        "            outputs = model(images)\n",
        "            loss = criterion(outputs, labels)\n",
        "            loss.backward()\n",
        "            optimizer.step()\n",
        "            running_loss += loss.item()\n",
        "            _, predicted = outputs.max(1)\n",
        "            total += labels.size(0)\n",
        "            correct += predicted.eq(labels).sum().item()\n",
        "        print(f\"Epoch {epoch+1}, Loss: {running_loss/len(trainloader):.4f}, Accuracy: {100 * correct / total:.2f}%\")\n",
        "\n",
        "    # Evaluación\n",
        "    evaluate_model_pytorch(model, testloader)\n"
      ]
    },
    {
      "cell_type": "code",
      "execution_count": 11,
      "metadata": {
        "colab": {
          "base_uri": "https://localhost:8080/"
        },
        "id": "kffcuNseO7uG",
        "outputId": "daee6b45-7e4e-4122-cf01-49581a45b91e"
      },
      "outputs": [
        {
          "name": "stdout",
          "output_type": "stream",
          "text": [
            "Files already downloaded and verified\n",
            "Files already downloaded and verified\n"
          ]
        },
        {
          "name": "stderr",
          "output_type": "stream",
          "text": [
            "Downloading: \"https://download.pytorch.org/models/alexnet-owt-7be5be79.pth\" to /root/.cache/torch/hub/checkpoints/alexnet-owt-7be5be79.pth\n",
            "100%|██████████| 233M/233M [00:01<00:00, 190MB/s]\n"
          ]
        },
        {
          "name": "stdout",
          "output_type": "stream",
          "text": [
            "Epoch 1, Loss: 2.3047, Accuracy: 10.00%\n",
            "Epoch 2, Loss: 2.3034, Accuracy: 10.03%\n",
            "Epoch 3, Loss: 2.3033, Accuracy: 9.91%\n",
            "Epoch 4, Loss: 2.3033, Accuracy: 9.85%\n",
            "Epoch 5, Loss: 2.3032, Accuracy: 10.00%\n",
            "Epoch 6, Loss: 2.3033, Accuracy: 10.02%\n",
            "Epoch 7, Loss: 2.3031, Accuracy: 10.25%\n",
            "Epoch 8, Loss: 2.3032, Accuracy: 9.93%\n",
            "Epoch 9, Loss: 2.3032, Accuracy: 9.89%\n",
            "Epoch 10, Loss: 2.3031, Accuracy: 9.84%\n",
            "Test Accuracy: 10.00%\n"
          ]
        }
      ],
      "source": [
        "# Entrenar el modelo corregido\n",
        "train_pretrained_alexnet_pytorch() # 18 min"
      ]
    }
  ],
  "metadata": {
    "accelerator": "GPU",
    "colab": {
      "collapsed_sections": [
        "La2kmFGQQKTg",
        "g_YAJLC2QVFh"
      ],
      "gpuType": "T4",
      "provenance": []
    },
    "kernelspec": {
      "display_name": "Python 3",
      "name": "python3"
    },
    "language_info": {
      "codemirror_mode": {
        "name": "ipython",
        "version": 3
      },
      "file_extension": ".py",
      "mimetype": "text/x-python",
      "name": "python",
      "nbconvert_exporter": "python",
      "pygments_lexer": "ipython3",
      "version": "3.11.1"
    }
  },
  "nbformat": 4,
  "nbformat_minor": 0
}
