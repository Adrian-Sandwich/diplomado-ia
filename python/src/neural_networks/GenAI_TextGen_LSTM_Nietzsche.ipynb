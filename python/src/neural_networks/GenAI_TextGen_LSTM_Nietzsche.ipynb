{
 "cells": [
  {
   "cell_type": "markdown",
   "metadata": {},
   "source": [
    "### Text Gen with LSTM \n",
    "\n",
    "Notebook does Text Gen with a simple LSTM model with the following layers: Embedding, LSTM, Dense\n",
    "\n",
    "Data comes from  https://s3.amazonaws.com/text-datasets/nietzsche.txt\n",
    "\n",
    "Use as prompt: \"new faculty and the jubilation reached its climax when kant\" to generate text\n",
    "\n"
   ]
  },
  {
   "cell_type": "code",
   "execution_count": 1,
   "metadata": {},
   "outputs": [
    {
     "name": "stderr",
     "output_type": "stream",
     "text": [
      "2025-03-28 09:18:10.576935: E external/local_xla/xla/stream_executor/cuda/cuda_fft.cc:467] Unable to register cuFFT factory: Attempting to register factory for plugin cuFFT when one has already been registered\n",
      "WARNING: All log messages before absl::InitializeLog() is called are written to STDERR\n",
      "E0000 00:00:1743167890.588786   10948 cuda_dnn.cc:8579] Unable to register cuDNN factory: Attempting to register factory for plugin cuDNN when one has already been registered\n",
      "E0000 00:00:1743167890.592310   10948 cuda_blas.cc:1407] Unable to register cuBLAS factory: Attempting to register factory for plugin cuBLAS when one has already been registered\n",
      "W0000 00:00:1743167890.602278   10948 computation_placer.cc:177] computation placer already registered. Please check linkage and avoid linking the same target more than once.\n",
      "W0000 00:00:1743167890.602292   10948 computation_placer.cc:177] computation placer already registered. Please check linkage and avoid linking the same target more than once.\n",
      "W0000 00:00:1743167890.602294   10948 computation_placer.cc:177] computation placer already registered. Please check linkage and avoid linking the same target more than once.\n",
      "W0000 00:00:1743167890.602295   10948 computation_placer.cc:177] computation placer already registered. Please check linkage and avoid linking the same target more than once.\n",
      "2025-03-28 09:18:10.605388: I tensorflow/core/platform/cpu_feature_guard.cc:210] This TensorFlow binary is optimized to use available CPU instructions in performance-critical operations.\n",
      "To enable the following instructions: AVX2 FMA, in other operations, rebuild TensorFlow with the appropriate compiler flags.\n"
     ]
    }
   ],
   "source": [
    "import tensorflow as tf\n",
    "from tensorflow import keras\n",
    "import numpy as np\n",
    "import re"
   ]
  },
  {
   "cell_type": "code",
   "execution_count": 2,
   "metadata": {},
   "outputs": [],
   "source": [
    "def preprocess_text(text):\n",
    "    \"\"\"Cleans and tokenizes the text.\"\"\"\n",
    "    text = text.lower()\n",
    "    text = re.sub(r'[^\\w\\s]', '', text)\n",
    "    tokens = text.split()\n",
    "    return tokens\n",
    "\n"
   ]
  },
  {
   "cell_type": "markdown",
   "metadata": {},
   "source": [
    "The function \n",
    "\n",
    "        create_Sequences(tokens, seq_lengt)\n",
    "        \n",
    "takes a list of tokens and an integer seq_length as input to generate a list of sequences from the given tokens.\n",
    "\n",
    "+ The primary goal is to transform a flat list of tokens into a set of **overlapping sequences** which are commonly used in NLP and/or time-series prediction.\n",
    "\n",
    "+ Each sequence consists of seq_length input tokens followed by one output token.\n",
    "\n",
    "+ tokens: is a list of items (e.g., words, characters, numbers). These are the raw data from which the sequences will be constructed.\n",
    "\n",
    "+ seq_length: An integer that determines the length of the input portion of each sequence.\n",
    "\n",
    "+ Example: \n",
    "\n",
    "+ If tokens = [1, 2, 3, 4, 5, 6] and seq_length is 3, the output is :\n",
    "\n",
    "    `[[1, 2, 3, 4], [2, 3, 4, 5], [3, 4, 5, 6]]`\n",
    "\n",
    "Note that each inner list contains 4 elements. The first three are the input, and the last is the output.\n"
   ]
  },
  {
   "cell_type": "code",
   "execution_count": null,
   "metadata": {},
   "outputs": [],
   "source": [
    "##     Create input-output sequences\n",
    "\n",
    "def create_sequences(tokens, seq_length):\n",
    "    \"\"\"Creates input-output sequences.\"\"\"\n",
    "    sequences = []\n",
    "    for i in range(seq_length, len(tokens)):\n",
    "        seq = tokens[i - seq_length:i + 1]\n",
    "        sequences.append(seq)\n",
    "    return sequences\n"
   ]
  },
  {
   "cell_type": "code",
   "execution_count": null,
   "metadata": {},
   "outputs": [],
   "source": [
    " ##     Create token-to-index and index-to-token mappings\n",
    "\n",
    "def create_token_index(tokens):\n",
    "    \"\"\"Creates token-to-index and index-to-token mappings.\"\"\"\n",
    "    unique_tokens = sorted(list(set(tokens)))\n",
    "    token_index = {token: index for index, token in enumerate(unique_tokens)}\n",
    "    index_token = {index: token for index, token in enumerate(unique_tokens)}\n",
    "    return token_index, index_token"
   ]
  },
  {
   "cell_type": "code",
   "execution_count": null,
   "metadata": {},
   "outputs": [],
   "source": [
    "##   Create input and output datasets.\n",
    "\n",
    "def create_dataset(sequences, token_index, seq_length):\n",
    "    \"\"\"Creates input and output datasets.\"\"\"\n",
    "    x = []\n",
    "    y = []\n",
    "    for seq in sequences:\n",
    "        input_seq = seq[:-1]\n",
    "        output_token = seq[-1]\n",
    "        x.append([token_index[token] for token in input_seq])\n",
    "        y.append(token_index[output_token])\n",
    "    x = np.array(x)\n",
    "    y = np.array(y)\n",
    "    return x, y"
   ]
  },
  {
   "cell_type": "code",
   "execution_count": null,
   "metadata": {},
   "outputs": [],
   "source": [
    "## The code in this cell did not work. Ignore\n",
    "\n",
    "def build_lstm_model_bad(vocab_size, embedding_dim, rnn_units, batch_size):\n",
    "    \"\"\"Builds the LSTM model.\"\"\"\n",
    "    model = keras.Sequential([\n",
    "        keras.layers.Embedding(vocab_size, embedding_dim, batch_input_shape=[batch_size, None]), # Correct usage\n",
    "        keras.layers.LSTM(rnn_units, return_sequences=True, stateful=True, recurrent_initializer='glorot_uniform'),\n",
    "        keras.layers.Dense(vocab_size)\n",
    "    ])\n",
    "    return model"
   ]
  },
  {
   "cell_type": "code",
   "execution_count": null,
   "metadata": {},
   "outputs": [],
   "source": [
    "\n",
    "##    Build the LSTM model\n",
    "\n",
    "def build_lstm_model(vocab_size, embedding_dim, rnn_units, batch_size):\n",
    "    \"\"\"Builds the LSTM model.\"\"\"\n",
    "    model = keras.Sequential([\n",
    "        keras.layers.Embedding(vocab_size, embedding_dim), # Removed batch_input_shape\n",
    "        # keras.layers.LSTM(rnn_units, return_sequences=True, stateful=True, recurrent_initializer='glorot_uniform'),\n",
    "\n",
    "        # keras.layers.LSTM(rnn_units, return_sequences=True, recurrent_initializer='glorot_uniform'),\n",
    "        keras.layers.LSTM(rnn_units, recurrent_initializer='glorot_uniform'),\n",
    "\n",
    "        keras.layers.Dense(vocab_size)\n",
    "    ])\n",
    "    return model"
   ]
  },
  {
   "cell_type": "code",
   "execution_count": null,
   "metadata": {},
   "outputs": [],
   "source": [
    "\n",
    "##    Generates text using the trained LSTM model. Note temperature=1.0\n",
    "\n",
    "def generate_text_lstm(model, start_string, token_index, index_token, num_generate, seq_length, temperature=1.0):\n",
    "    \"\"\"Generates text using the trained LSTM model.\"\"\"\n",
    "    input_eval = [token_index[s] for s in start_string.split()]\n",
    "    input_eval = tf.expand_dims(input_eval, 0) #Keep this.\n",
    "    text_generated = start_string.split()\n",
    "\n",
    "    for i in range(num_generate):\n",
    "        predictions = model(input_eval)\n",
    "        predictions = tf.squeeze(predictions, 0)\n",
    "        predictions = predictions / temperature\n",
    "        predicted_id = tf.random.categorical(tf.expand_dims(predictions, 0), num_samples=1)[-1, 0].numpy() #Added expand_dims here.\n",
    "        text_generated.append(index_token[predicted_id])\n",
    "        input_eval = tf.expand_dims([predicted_id], 0)\n",
    "\n",
    "    return ' '.join(text_generated)"
   ]
  },
  {
   "cell_type": "code",
   "execution_count": null,
   "metadata": {},
   "outputs": [
    {
     "name": "stdout",
     "output_type": "stream",
     "text": [
      "Corpus length: 600893\n"
     ]
    }
   ],
   "source": [
    "## Dataset is the collected works by F. Nietzsche\n",
    "\n",
    "path = keras.utils.get_file(\n",
    "'nietzsche.txt',\n",
    "origin='https://s3.amazonaws.com/text-datasets/nietzsche.txt')\n",
    "text = open(path).read().lower()\n",
    "print('Corpus length:', len(text))"
   ]
  },
  {
   "cell_type": "code",
   "execution_count": null,
   "metadata": {},
   "outputs": [],
   "source": [
    "\n",
    "## Simpler text used for testing. \n",
    "\n",
    "# Example usage: Use text from cell above \n",
    "# #text = \"\"\"\n",
    "#The quick brown fox jumps over the lazy dog.\n",
    "#The dog was very lazy.\n",
    "#The fox was very quick.\n",
    "#\"\"\"\n"
   ]
  },
  {
   "cell_type": "code",
   "execution_count": 15,
   "metadata": {},
   "outputs": [],
   "source": [
    "tokens = preprocess_text(text)\n",
    "seq_length = 5\n",
    "sequences = create_sequences(tokens, seq_length)\n",
    "token_index, index_token = create_token_index(tokens)\n",
    "vocab_size = len(token_index)\n",
    "x, y = create_dataset(sequences, token_index, seq_length)"
   ]
  },
  {
   "cell_type": "code",
   "execution_count": 16,
   "metadata": {},
   "outputs": [],
   "source": [
    "embedding_dim = 256\n",
    "rnn_units = 1024\n",
    "batch_size = 64\n"
   ]
  },
  {
   "cell_type": "code",
   "execution_count": 17,
   "metadata": {},
   "outputs": [
    {
     "name": "stderr",
     "output_type": "stream",
     "text": [
      "I0000 00:00:1743167893.310382   10948 gpu_device.cc:2019] Created device /job:localhost/replica:0/task:0/device:GPU:0 with 9311 MB memory:  -> device: 0, name: NVIDIA GeForce RTX 3060, pci bus id: 0000:08:00.0, compute capability: 8.6\n"
     ]
    }
   ],
   "source": [
    "lstm_model = build_lstm_model(vocab_size, embedding_dim, rnn_units, batch_size)\n",
    "lstm_model.compile(optimizer='adam', loss=keras.losses.SparseCategoricalCrossentropy(from_logits=True))"
   ]
  },
  {
   "cell_type": "code",
   "execution_count": 18,
   "metadata": {},
   "outputs": [
    {
     "name": "stdout",
     "output_type": "stream",
     "text": [
      "Epoch 1/50\n"
     ]
    },
    {
     "name": "stderr",
     "output_type": "stream",
     "text": [
      "I0000 00:00:1743167895.132069   11060 cuda_dnn.cc:529] Loaded cuDNN version 90501\n"
     ]
    },
    {
     "name": "stdout",
     "output_type": "stream",
     "text": [
      "\u001b[1m1549/1549\u001b[0m \u001b[32m━━━━━━━━━━━━━━━━━━━━\u001b[0m\u001b[37m\u001b[0m \u001b[1m24s\u001b[0m 14ms/step - loss: 6.9784\n",
      "Epoch 2/50\n",
      "\u001b[1m1549/1549\u001b[0m \u001b[32m━━━━━━━━━━━━━━━━━━━━\u001b[0m\u001b[37m\u001b[0m \u001b[1m22s\u001b[0m 14ms/step - loss: 6.0068\n",
      "Epoch 3/50\n",
      "\u001b[1m1549/1549\u001b[0m \u001b[32m━━━━━━━━━━━━━━━━━━━━\u001b[0m\u001b[37m\u001b[0m \u001b[1m22s\u001b[0m 14ms/step - loss: 5.4299\n",
      "Epoch 4/50\n",
      "\u001b[1m1549/1549\u001b[0m \u001b[32m━━━━━━━━━━━━━━━━━━━━\u001b[0m\u001b[37m\u001b[0m \u001b[1m22s\u001b[0m 14ms/step - loss: 4.6785\n",
      "Epoch 5/50\n",
      "\u001b[1m1549/1549\u001b[0m \u001b[32m━━━━━━━━━━━━━━━━━━━━\u001b[0m\u001b[37m\u001b[0m \u001b[1m22s\u001b[0m 14ms/step - loss: 3.6587\n",
      "Epoch 6/50\n",
      "\u001b[1m1549/1549\u001b[0m \u001b[32m━━━━━━━━━━━━━━━━━━━━\u001b[0m\u001b[37m\u001b[0m \u001b[1m22s\u001b[0m 14ms/step - loss: 2.5476\n",
      "Epoch 7/50\n",
      "\u001b[1m1549/1549\u001b[0m \u001b[32m━━━━━━━━━━━━━━━━━━━━\u001b[0m\u001b[37m\u001b[0m \u001b[1m22s\u001b[0m 14ms/step - loss: 1.6134\n",
      "Epoch 8/50\n",
      "\u001b[1m1549/1549\u001b[0m \u001b[32m━━━━━━━━━━━━━━━━━━━━\u001b[0m\u001b[37m\u001b[0m \u001b[1m22s\u001b[0m 14ms/step - loss: 0.8876\n",
      "Epoch 9/50\n",
      "\u001b[1m1549/1549\u001b[0m \u001b[32m━━━━━━━━━━━━━━━━━━━━\u001b[0m\u001b[37m\u001b[0m \u001b[1m22s\u001b[0m 14ms/step - loss: 0.4152\n",
      "Epoch 10/50\n",
      "\u001b[1m1549/1549\u001b[0m \u001b[32m━━━━━━━━━━━━━━━━━━━━\u001b[0m\u001b[37m\u001b[0m \u001b[1m22s\u001b[0m 14ms/step - loss: 0.1822\n",
      "Epoch 11/50\n",
      "\u001b[1m1549/1549\u001b[0m \u001b[32m━━━━━━━━━━━━━━━━━━━━\u001b[0m\u001b[37m\u001b[0m \u001b[1m22s\u001b[0m 14ms/step - loss: 0.0961\n",
      "Epoch 12/50\n",
      "\u001b[1m1549/1549\u001b[0m \u001b[32m━━━━━━━━━━━━━━━━━━━━\u001b[0m\u001b[37m\u001b[0m \u001b[1m22s\u001b[0m 14ms/step - loss: 0.0740\n",
      "Epoch 13/50\n",
      "\u001b[1m1549/1549\u001b[0m \u001b[32m━━━━━━━━━━━━━━━━━━━━\u001b[0m\u001b[37m\u001b[0m \u001b[1m22s\u001b[0m 14ms/step - loss: 0.0955\n",
      "Epoch 14/50\n",
      "\u001b[1m1549/1549\u001b[0m \u001b[32m━━━━━━━━━━━━━━━━━━━━\u001b[0m\u001b[37m\u001b[0m \u001b[1m22s\u001b[0m 14ms/step - loss: 0.0695\n",
      "Epoch 15/50\n",
      "\u001b[1m1549/1549\u001b[0m \u001b[32m━━━━━━━━━━━━━━━━━━━━\u001b[0m\u001b[37m\u001b[0m \u001b[1m22s\u001b[0m 14ms/step - loss: 0.0512\n",
      "Epoch 16/50\n",
      "\u001b[1m1549/1549\u001b[0m \u001b[32m━━━━━━━━━━━━━━━━━━━━\u001b[0m\u001b[37m\u001b[0m \u001b[1m22s\u001b[0m 14ms/step - loss: 0.0581\n",
      "Epoch 17/50\n",
      "\u001b[1m1549/1549\u001b[0m \u001b[32m━━━━━━━━━━━━━━━━━━━━\u001b[0m\u001b[37m\u001b[0m \u001b[1m22s\u001b[0m 14ms/step - loss: 0.0680\n",
      "Epoch 18/50\n",
      "\u001b[1m1549/1549\u001b[0m \u001b[32m━━━━━━━━━━━━━━━━━━━━\u001b[0m\u001b[37m\u001b[0m \u001b[1m22s\u001b[0m 14ms/step - loss: 0.0496\n",
      "Epoch 19/50\n",
      "\u001b[1m1549/1549\u001b[0m \u001b[32m━━━━━━━━━━━━━━━━━━━━\u001b[0m\u001b[37m\u001b[0m \u001b[1m22s\u001b[0m 14ms/step - loss: 0.0450\n",
      "Epoch 20/50\n",
      "\u001b[1m1549/1549\u001b[0m \u001b[32m━━━━━━━━━━━━━━━━━━━━\u001b[0m\u001b[37m\u001b[0m \u001b[1m22s\u001b[0m 14ms/step - loss: 0.0541\n",
      "Epoch 21/50\n",
      "\u001b[1m1549/1549\u001b[0m \u001b[32m━━━━━━━━━━━━━━━━━━━━\u001b[0m\u001b[37m\u001b[0m \u001b[1m22s\u001b[0m 14ms/step - loss: 0.0539\n",
      "Epoch 22/50\n",
      "\u001b[1m1549/1549\u001b[0m \u001b[32m━━━━━━━━━━━━━━━━━━━━\u001b[0m\u001b[37m\u001b[0m \u001b[1m22s\u001b[0m 14ms/step - loss: 0.0398\n",
      "Epoch 23/50\n",
      "\u001b[1m1549/1549\u001b[0m \u001b[32m━━━━━━━━━━━━━━━━━━━━\u001b[0m\u001b[37m\u001b[0m \u001b[1m22s\u001b[0m 14ms/step - loss: 0.0467\n",
      "Epoch 24/50\n",
      "\u001b[1m1549/1549\u001b[0m \u001b[32m━━━━━━━━━━━━━━━━━━━━\u001b[0m\u001b[37m\u001b[0m \u001b[1m22s\u001b[0m 14ms/step - loss: 0.0481\n",
      "Epoch 25/50\n",
      "\u001b[1m1549/1549\u001b[0m \u001b[32m━━━━━━━━━━━━━━━━━━━━\u001b[0m\u001b[37m\u001b[0m \u001b[1m22s\u001b[0m 14ms/step - loss: 0.0435\n",
      "Epoch 26/50\n",
      "\u001b[1m1549/1549\u001b[0m \u001b[32m━━━━━━━━━━━━━━━━━━━━\u001b[0m\u001b[37m\u001b[0m \u001b[1m22s\u001b[0m 14ms/step - loss: 0.0407\n",
      "Epoch 27/50\n",
      "\u001b[1m1549/1549\u001b[0m \u001b[32m━━━━━━━━━━━━━━━━━━━━\u001b[0m\u001b[37m\u001b[0m \u001b[1m21s\u001b[0m 14ms/step - loss: 0.0458\n",
      "Epoch 28/50\n",
      "\u001b[1m1549/1549\u001b[0m \u001b[32m━━━━━━━━━━━━━━━━━━━━\u001b[0m\u001b[37m\u001b[0m \u001b[1m20s\u001b[0m 13ms/step - loss: 0.0438\n",
      "Epoch 29/50\n",
      "\u001b[1m1549/1549\u001b[0m \u001b[32m━━━━━━━━━━━━━━━━━━━━\u001b[0m\u001b[37m\u001b[0m \u001b[1m20s\u001b[0m 13ms/step - loss: 0.0382\n",
      "Epoch 30/50\n",
      "\u001b[1m1549/1549\u001b[0m \u001b[32m━━━━━━━━━━━━━━━━━━━━\u001b[0m\u001b[37m\u001b[0m \u001b[1m20s\u001b[0m 13ms/step - loss: 0.0417\n",
      "Epoch 31/50\n",
      "\u001b[1m1549/1549\u001b[0m \u001b[32m━━━━━━━━━━━━━━━━━━━━\u001b[0m\u001b[37m\u001b[0m \u001b[1m20s\u001b[0m 13ms/step - loss: 0.0414\n",
      "Epoch 32/50\n",
      "\u001b[1m1549/1549\u001b[0m \u001b[32m━━━━━━━━━━━━━━━━━━━━\u001b[0m\u001b[37m\u001b[0m \u001b[1m20s\u001b[0m 13ms/step - loss: 0.0449\n",
      "Epoch 33/50\n",
      "\u001b[1m1549/1549\u001b[0m \u001b[32m━━━━━━━━━━━━━━━━━━━━\u001b[0m\u001b[37m\u001b[0m \u001b[1m21s\u001b[0m 13ms/step - loss: 0.0383\n",
      "Epoch 34/50\n",
      "\u001b[1m1549/1549\u001b[0m \u001b[32m━━━━━━━━━━━━━━━━━━━━\u001b[0m\u001b[37m\u001b[0m \u001b[1m22s\u001b[0m 14ms/step - loss: 0.0368\n",
      "Epoch 35/50\n",
      "\u001b[1m1549/1549\u001b[0m \u001b[32m━━━━━━━━━━━━━━━━━━━━\u001b[0m\u001b[37m\u001b[0m \u001b[1m22s\u001b[0m 14ms/step - loss: 0.0419\n",
      "Epoch 36/50\n",
      "\u001b[1m1549/1549\u001b[0m \u001b[32m━━━━━━━━━━━━━━━━━━━━\u001b[0m\u001b[37m\u001b[0m \u001b[1m22s\u001b[0m 14ms/step - loss: 0.0451\n",
      "Epoch 37/50\n",
      "\u001b[1m1549/1549\u001b[0m \u001b[32m━━━━━━━━━━━━━━━━━━━━\u001b[0m\u001b[37m\u001b[0m \u001b[1m22s\u001b[0m 14ms/step - loss: 0.0380\n",
      "Epoch 38/50\n",
      "\u001b[1m1549/1549\u001b[0m \u001b[32m━━━━━━━━━━━━━━━━━━━━\u001b[0m\u001b[37m\u001b[0m \u001b[1m22s\u001b[0m 14ms/step - loss: 0.0346\n",
      "Epoch 39/50\n",
      "\u001b[1m1549/1549\u001b[0m \u001b[32m━━━━━━━━━━━━━━━━━━━━\u001b[0m\u001b[37m\u001b[0m \u001b[1m21s\u001b[0m 14ms/step - loss: 0.0403\n",
      "Epoch 40/50\n",
      "\u001b[1m1549/1549\u001b[0m \u001b[32m━━━━━━━━━━━━━━━━━━━━\u001b[0m\u001b[37m\u001b[0m \u001b[1m20s\u001b[0m 13ms/step - loss: 0.0432\n",
      "Epoch 41/50\n",
      "\u001b[1m1549/1549\u001b[0m \u001b[32m━━━━━━━━━━━━━━━━━━━━\u001b[0m\u001b[37m\u001b[0m \u001b[1m20s\u001b[0m 13ms/step - loss: 0.0378\n",
      "Epoch 42/50\n",
      "\u001b[1m1549/1549\u001b[0m \u001b[32m━━━━━━━━━━━━━━━━━━━━\u001b[0m\u001b[37m\u001b[0m \u001b[1m20s\u001b[0m 13ms/step - loss: 0.0348\n",
      "Epoch 43/50\n",
      "\u001b[1m1549/1549\u001b[0m \u001b[32m━━━━━━━━━━━━━━━━━━━━\u001b[0m\u001b[37m\u001b[0m \u001b[1m20s\u001b[0m 13ms/step - loss: 0.0415\n",
      "Epoch 44/50\n",
      "\u001b[1m1549/1549\u001b[0m \u001b[32m━━━━━━━━━━━━━━━━━━━━\u001b[0m\u001b[37m\u001b[0m \u001b[1m20s\u001b[0m 13ms/step - loss: 0.0400\n",
      "Epoch 45/50\n",
      "\u001b[1m1549/1549\u001b[0m \u001b[32m━━━━━━━━━━━━━━━━━━━━\u001b[0m\u001b[37m\u001b[0m \u001b[1m20s\u001b[0m 13ms/step - loss: 0.0334\n",
      "Epoch 46/50\n",
      "\u001b[1m1549/1549\u001b[0m \u001b[32m━━━━━━━━━━━━━━━━━━━━\u001b[0m\u001b[37m\u001b[0m \u001b[1m20s\u001b[0m 13ms/step - loss: 0.0408\n",
      "Epoch 47/50\n",
      "\u001b[1m1549/1549\u001b[0m \u001b[32m━━━━━━━━━━━━━━━━━━━━\u001b[0m\u001b[37m\u001b[0m \u001b[1m20s\u001b[0m 13ms/step - loss: 0.0377\n",
      "Epoch 48/50\n",
      "\u001b[1m1549/1549\u001b[0m \u001b[32m━━━━━━━━━━━━━━━━━━━━\u001b[0m\u001b[37m\u001b[0m \u001b[1m20s\u001b[0m 13ms/step - loss: 0.0381\n",
      "Epoch 49/50\n",
      "\u001b[1m1549/1549\u001b[0m \u001b[32m━━━━━━━━━━━━━━━━━━━━\u001b[0m\u001b[37m\u001b[0m \u001b[1m22s\u001b[0m 14ms/step - loss: 0.0346\n",
      "Epoch 50/50\n",
      "\u001b[1m1549/1549\u001b[0m \u001b[32m━━━━━━━━━━━━━━━━━━━━\u001b[0m\u001b[37m\u001b[0m \u001b[1m22s\u001b[0m 14ms/step - loss: 0.0339\n"
     ]
    },
    {
     "data": {
      "text/plain": [
       "<keras.src.callbacks.history.History at 0x798f198577d0>"
      ]
     },
     "execution_count": 18,
     "metadata": {},
     "output_type": "execute_result"
    }
   ],
   "source": [
    "# Train the LSTM model\n",
    "lstm_model.fit(x, y, epochs=50, batch_size=batch_size)"
   ]
  },
  {
   "cell_type": "code",
   "execution_count": 19,
   "metadata": {},
   "outputs": [
    {
     "name": "stdout",
     "output_type": "stream",
     "text": [
      "new faculty and the jubilation reached its climax when kant feel all love of the most strength of the most ever absolutely after all his own love of all nature\n"
     ]
    }
   ],
   "source": [
    "# Generate Text\n",
    "# start_string = \"the quick brown fox\"\n",
    "start_string = \"new faculty and the jubilation reached its climax when kant\" \n",
    "num_generate = 20\n",
    "generated_text = generate_text_lstm(lstm_model, start_string, token_index, index_token, num_generate, seq_length)\n",
    "print(generated_text)"
   ]
  },
  {
   "cell_type": "code",
   "execution_count": 20,
   "metadata": {},
   "outputs": [
    {
     "name": "stdout",
     "output_type": "stream",
     "text": [
      "new faculty and the jubilation reached its climax when kant further god they are thus than to a right here too much god to a right here too much god\n"
     ]
    }
   ],
   "source": [
    "# Generate Text\n",
    "# start_string = \"the quick brown fox\"\n",
    "start_string = \"new faculty and the jubilation reached its climax when kant\" \n",
    "num_generate = 20\n",
    "generated_text = generate_text_lstm(lstm_model, start_string, token_index, index_token, num_generate, seq_length, 0.5)\n",
    "print(generated_text)"
   ]
  },
  {
   "cell_type": "code",
   "execution_count": 21,
   "metadata": {},
   "outputs": [
    {
     "name": "stdout",
     "output_type": "stream",
     "text": [
      "new faculty and the jubilation reached its climax when kant scourge metaphysics assailant property firstlings reduce gay accepted origin dread tongues rates prey relax shake inapplicable begloom permanent man selfconfidence\n"
     ]
    }
   ],
   "source": [
    "# Generate Text\n",
    "# start_string = \"the quick brown fox\"\n",
    "start_string = \"new faculty and the jubilation reached its climax when kant\" \n",
    "num_generate = 20\n",
    "generated_text = generate_text_lstm(lstm_model, start_string, token_index, index_token, num_generate, seq_length, 5.0)\n",
    "print(generated_text)"
   ]
  }
 ],
 "metadata": {
  "kernelspec": {
   "display_name": "tf2.19",
   "language": "python",
   "name": "python3"
  },
  "language_info": {
   "codemirror_mode": {
    "name": "ipython",
    "version": 3
   },
   "file_extension": ".py",
   "mimetype": "text/x-python",
   "name": "python",
   "nbconvert_exporter": "python",
   "pygments_lexer": "ipython3",
   "version": "3.12.3"
  }
 },
 "nbformat": 4,
 "nbformat_minor": 2
}
