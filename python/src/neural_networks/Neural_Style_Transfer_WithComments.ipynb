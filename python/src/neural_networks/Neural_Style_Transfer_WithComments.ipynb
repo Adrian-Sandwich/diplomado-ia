{
  "cells": [
    {
      "cell_type": "markdown",
      "metadata": {
        "id": "RnOhPAGoQ2uA"
      },
      "source": [
        "## Neural style transfer"
      ]
    },
    {
      "cell_type": "markdown",
      "metadata": {
        "id": "WQjo7_y6Q2uB"
      },
      "source": [
        "### Neural style transfer in TF/Keras"
      ]
    },
    {
      "cell_type": "markdown",
      "metadata": {
        "id": "gwiJDh8yQ2uB"
      },
      "source": [
        "**Getting the style and content images**"
      ]
    },
    {
      "cell_type": "code",
      "execution_count": 17,
      "metadata": {
        "id": "OhOZVx1yQ2uB"
      },
      "outputs": [],
      "source": [
        "\n",
        "import os\n",
        "import tensorflow as tf\n",
        "from tensorflow import keras\n",
        "import numpy as np\n"
      ]
    },
    {
      "cell_type": "code",
      "execution_count": 18,
      "metadata": {},
      "outputs": [
        {
          "name": "stdout",
          "output_type": "stream",
          "text": [
            "TF version    = 2.19.0\n",
            "Keras version = 3.9.0\n",
            "Numpu version = 2.1.3\n"
          ]
        }
      ],
      "source": [
        "print(\"TF version    =\", tf.__version__)\n",
        "print(\"Keras version =\", keras.__version__)\n",
        "print(\"Numpu version =\", np.__version__)"
      ]
    },
    {
      "cell_type": "code",
      "execution_count": 19,
      "metadata": {},
      "outputs": [
        {
          "name": "stdout",
          "output_type": "stream",
          "text": [
            "File accessed: /home/juan/.keras/datasets/Angel_CDMX.png\n"
          ]
        }
      ],
      "source": [
        "#base_image_path = keras.utils.get_file(\n",
        "#    \"sf.jpg\", origin=\"https://img-datasets.s3.amazonaws.com/sf.jpg\")\n",
        "\n",
        "localFilePath = \"/drv3/hm3/code/python/tf2.19/local/GenAI/Angel_CDMX.png\"\n",
        "file_name = os.path.basename( localFilePath )\n",
        "\n",
        "\n",
        "#base_image_path = keras.utils.get_file(\n",
        "#    \"Angel_CDMX.png\", origin=\"/drv3/hm3/code/python/tf2.19/local/GenAI/Angel_CDMX.png\")\n",
        "\n",
        "try:\n",
        "    base_image_path = tf.keras.utils.get_file(\n",
        "        fname=file_name,\n",
        "        origin=\"file://\" + localFilePath,\n",
        "        extract=False,\n",
        "    )\n",
        "    print(f\"File accessed: {base_image_path}\")\n",
        "\n",
        "    # Now you can work with the local_file path.\n",
        "except Exception as e:\n",
        "    print(f\"Error accessing file: {e}\")\n",
        "\n",
        "\n",
        "style_reference_image_path = keras.utils.get_file(\n",
        "    \"starry_night.jpg\", origin=\"https://img-datasets.s3.amazonaws.com/starry_night.jpg\")\n",
        "\n",
        "#original_width, original_height = keras.utils.load_img(base_image_path).size\n",
        "#img_height = 400\n",
        "#img_width = round(original_width * img_height / original_height)\n",
        "\n",
        "original_width, original_height = keras.utils.load_img(file_name).size\n",
        "img_height = 400\n",
        "img_width = round(original_width * img_height / original_height)\n"
      ]
    },
    {
      "cell_type": "markdown",
      "metadata": {
        "id": "r9rkTITxQ2uC"
      },
      "source": [
        "**Auxiliary functions**"
      ]
    },
    {
      "cell_type": "code",
      "execution_count": 20,
      "metadata": {
        "id": "u0vMS-wIQ2uC"
      },
      "outputs": [],
      "source": [
        "\n",
        "def preprocess_image(image_path):\n",
        "    img = keras.utils.load_img(\n",
        "        image_path, target_size=(img_height, img_width))\n",
        "    img = keras.utils.img_to_array(img)\n",
        "    img = np.expand_dims(img, axis=0)\n",
        "    img = keras.applications.vgg19.preprocess_input(img)\n",
        "    return img\n",
        "\n",
        "def deprocess_image(img):\n",
        "    img = img.reshape((img_height, img_width, 3))\n",
        "    img[:, :, 0] += 103.939\n",
        "    img[:, :, 1] += 116.779\n",
        "    img[:, :, 2] += 123.68\n",
        "    img = img[:, :, ::-1]\n",
        "    img = np.clip(img, 0, 255).astype(\"uint8\")\n",
        "    return img"
      ]
    },
    {
      "cell_type": "markdown",
      "metadata": {
        "id": "x9vmKSnvQ2uC"
      },
      "source": [
        "**Use a pretrained VGG19 model to create the feature extractor**"
      ]
    },
    {
      "cell_type": "code",
      "execution_count": 21,
      "metadata": {
        "id": "I4UprzRcQ2uC"
      },
      "outputs": [],
      "source": [
        "model = keras.applications.vgg19.VGG19(weights=\"imagenet\", include_top=False)\n",
        "\n",
        "outputs_dict = dict([(layer.name, layer.output) for layer in model.layers])\n",
        "feature_extractor = keras.Model(inputs=model.inputs, outputs=outputs_dict)"
      ]
    },
    {
      "cell_type": "markdown",
      "metadata": {
        "id": "SmpYtDr5Q2uC"
      },
      "source": [
        "**Content loss**"
      ]
    },
    {
      "cell_type": "code",
      "execution_count": 22,
      "metadata": {
        "id": "HmuxhSWxQ2uC"
      },
      "outputs": [],
      "source": [
        "def content_loss(base_img, combination_img):\n",
        "    return tf.reduce_sum(tf.square(combination_img - base_img))"
      ]
    },
    {
      "cell_type": "markdown",
      "metadata": {
        "id": "Vq1zjcveQ2uD"
      },
      "source": [
        "**Style loss**\n",
        "\n",
        "It uses a Gam Matrix. A good reference is at [Wikipedia](https://en.wikipedia.org/wiki/Gram_matrix)\n",
        "\n"
      ]
    },
    {
      "cell_type": "code",
      "execution_count": 23,
      "metadata": {
        "id": "Lqr2PIXtQ2uD"
      },
      "outputs": [],
      "source": [
        "def gram_matrix(x):\n",
        "    x = tf.transpose(x, (2, 0, 1))\n",
        "    features = tf.reshape(x, (tf.shape(x)[0], -1))\n",
        "    gram = tf.matmul(features, tf.transpose(features))\n",
        "    return gram\n",
        "\n",
        "def style_loss(style_img, combination_img):\n",
        "    S = gram_matrix(style_img)\n",
        "    C = gram_matrix(combination_img)\n",
        "    channels = 3\n",
        "    size = img_height * img_width\n",
        "    return tf.reduce_sum(tf.square(S - C)) / (4.0 * (channels ** 2) * (size ** 2))"
      ]
    },
    {
      "cell_type": "markdown",
      "metadata": {
        "id": "-OneyCwsQ2uD"
      },
      "source": [
        "**Total variation loss**\n",
        "\n",
        "loss = distance(style(ref_img) - style(gen_img)) + distance(content(orig_img) - content(gen_img))\n",
        "\n",
        "+ Distance is a norm function such as the L2 norm.\n",
        "\n",
        "+ Content is a function that takes an image and computes a representation of its content\n",
        "\n",
        "+ Style is a function that takes an image and computes a representation of its style.\n",
        "\n",
        "+ Minimizing this loss causes \n",
        "\n",
        "   - style(generated_image)   to be close to the style(reference_image)\n",
        "   - content(generated_image) to be close to the content(generated_image)\n"
      ]
    },
    {
      "cell_type": "code",
      "execution_count": 24,
      "metadata": {
        "id": "fO8aQAF5Q2uD"
      },
      "outputs": [],
      "source": [
        "def total_variation_loss(x):\n",
        "    a = tf.square(\n",
        "        x[:, : img_height - 1, : img_width - 1, :] - x[:, 1:, : img_width - 1, :]\n",
        "    )\n",
        "    b = tf.square(\n",
        "        x[:, : img_height - 1, : img_width - 1, :] - x[:, : img_height - 1, 1:, :]\n",
        "    )\n",
        "    return tf.reduce_sum(tf.pow(a + b, 1.25))"
      ]
    },
    {
      "cell_type": "markdown",
      "metadata": {
        "id": "TgpaO0keQ2uD"
      },
      "source": [
        "**Defining the final loss to minimize**"
      ]
    },
    {
      "cell_type": "code",
      "execution_count": 25,
      "metadata": {
        "id": "ddctdACwQ2uD"
      },
      "outputs": [],
      "source": [
        "style_layer_names = [\n",
        "    \"block1_conv1\",\n",
        "    \"block2_conv1\",\n",
        "    \"block3_conv1\",\n",
        "    \"block4_conv1\",\n",
        "    \"block5_conv1\",\n",
        "]\n",
        "content_layer_name = \"block5_conv2\"\n",
        "total_variation_weight = 1e-6\n",
        "style_weight = 1e-6\n",
        "content_weight = 2.5e-8\n",
        "\n",
        "def compute_loss(combination_image, base_image, style_reference_image):\n",
        "    input_tensor = tf.concat(\n",
        "        [base_image, style_reference_image, combination_image], axis=0\n",
        "    )\n",
        "    features = feature_extractor(input_tensor)\n",
        "    loss = tf.zeros(shape=())\n",
        "    layer_features = features[content_layer_name]\n",
        "    base_image_features = layer_features[0, :, :, :]\n",
        "    combination_features = layer_features[2, :, :, :]\n",
        "    loss = loss + content_weight * content_loss(\n",
        "        base_image_features, combination_features\n",
        "    )\n",
        "    for layer_name in style_layer_names:\n",
        "        layer_features = features[layer_name]\n",
        "        style_reference_features = layer_features[1, :, :, :]\n",
        "        combination_features = layer_features[2, :, :, :]\n",
        "        style_loss_value = style_loss(\n",
        "          style_reference_features, combination_features)\n",
        "        loss += (style_weight / len(style_layer_names)) * style_loss_value\n",
        "\n",
        "    loss += total_variation_weight * total_variation_loss(combination_image)\n",
        "    return loss"
      ]
    },
    {
      "cell_type": "markdown",
      "metadata": {
        "id": "YKU_Da97Q2uD"
      },
      "source": [
        "###Setting up the gradient-descent process**\n",
        "\n",
        "Note that we use @tf.function\n",
        "\n",
        "The @tf.function is a decorator that converts standard Python functions into TensorFlow graphs. \n",
        "\n",
        "This conversion offers several benefits, particularly for performance and deployment.   \n",
        "\n",
        "#### Graph Compilation:\n",
        "\n",
        "+ TF graphs are optimized representations of computations. When we apply @tf.function, TF traces the function execution and constructs an equivalent graph.\n",
        "   \n",
        "+ The graph can then be optimized by TensorFlow's runtime, leading to faster execution.\n",
        "   \n",
        "#### Performance Improvement:\n",
        "\n",
        "+ Python is an interpreter with significant overhead that can slow down TF operations, especially in loops and complex computations.\n",
        "\n",
        "+ @tf.function reduces that overhead by executing the graph directly in TF C++ runtime, bypassing the Python interpreter for each operation.\n",
        "\n",
        "+ This is especially important in training loops, where many operations are performed repeatedly.\n",
        "\n",
        "\n",
        "#### Portability and Deployment:\n",
        "\n",
        "+ TF graphs can be saved and deployed to various platforms (servers, mobile, embedded) without requiring the Python interpreter.\n",
        "   \n",
        "+ @tf.function makes it easier to export models for those deployment scenarios.\n",
        "\n",
        "\n",
        "#### Automatic Differentiation:\n",
        "\n",
        "+ TF automatic differentiation works seamlessly with graphs.\n",
        "\n",
        "+ @tf.function ensures that the operations within the Python function are captured within the graph, allowing TF to compute gradients efficiently.\n",
        "\n",
        "#### Optimization:\n",
        "\n",
        "+ TF can perform optimizations such as constant folding, and other graph optimizations.   \n",
        "\n",
        "+ This can lead to significant improvements of model execution.\n",
        "\n",
        "+ Tracing: @tf.function traces the Python function based on the input argument's types and shapes. If the input types or shapes change, TF retraces the function, which can introduce overhead.   \n",
        "\n",
        "+ Python Side Effects: Avoid Python side effects (e.g., printing, file I/O) within @tf.function as they may not behave as expected or may only execute during tracing. Prefer Tensorflow operations.\n",
        "\n",
        "+  When possible stick to TF operations within @tf.function for optimal performance."
      ]
    },
    {
      "cell_type": "code",
      "execution_count": 16,
      "metadata": {
        "id": "2nlqAmFXQ2uD"
      },
      "outputs": [
        {
          "name": "stderr",
          "output_type": "stream",
          "text": [
            "/drv3/hm3/code/python/tf2.19/lib/python3.12/site-packages/keras/src/models/functional.py:238: UserWarning: The structure of `inputs` doesn't match the expected structure.\n",
            "Expected: ['keras_tensor']\n",
            "Received: inputs=Tensor(shape=(3, 400, 555, 3))\n",
            "  warnings.warn(msg)\n",
            "I0000 00:00:1743260537.729531   12769 cuda_dnn.cc:529] Loaded cuDNN version 90501\n"
          ]
        },
        {
          "name": "stdout",
          "output_type": "stream",
          "text": [
            "Iteration 100: loss=9233.24\n",
            "Iteration 200: loss=7688.99\n",
            "Iteration 300: loss=7009.55\n",
            "Iteration 400: loss=6607.16\n",
            "Iteration 500: loss=6331.62\n",
            "Iteration 600: loss=6127.18\n",
            "Iteration 700: loss=5967.48\n",
            "Iteration 800: loss=5838.44\n",
            "Iteration 900: loss=5731.58\n",
            "Iteration 1000: loss=5641.18\n",
            "Iteration 1100: loss=5563.62\n",
            "Iteration 1200: loss=5496.23\n",
            "Iteration 1300: loss=5437.28\n",
            "Iteration 1400: loss=5385.33\n",
            "Iteration 1500: loss=5339.27\n",
            "Iteration 1600: loss=5298.25\n",
            "Iteration 1700: loss=5261.47\n",
            "Iteration 1800: loss=5228.17\n",
            "Iteration 1900: loss=5197.96\n",
            "Iteration 2000: loss=5170.43\n",
            "Iteration 2100: loss=5145.31\n",
            "Iteration 2200: loss=5122.27\n",
            "Iteration 2300: loss=5101.14\n",
            "Iteration 2400: loss=5081.70\n",
            "Iteration 2500: loss=5063.78\n",
            "Iteration 2600: loss=5047.17\n",
            "Iteration 2700: loss=5031.79\n",
            "Iteration 2800: loss=5017.52\n",
            "Iteration 2900: loss=5004.27\n",
            "Iteration 3000: loss=4991.90\n",
            "Iteration 3100: loss=4980.36\n",
            "Iteration 3200: loss=4969.55\n",
            "Iteration 3300: loss=4959.43\n",
            "Iteration 3400: loss=4949.97\n",
            "Iteration 3500: loss=4941.07\n",
            "Iteration 3600: loss=4932.71\n",
            "Iteration 3700: loss=4924.85\n",
            "Iteration 3800: loss=4917.45\n",
            "Iteration 3900: loss=4910.49\n",
            "Iteration 4000: loss=4903.92\n"
          ]
        }
      ],
      "source": [
        "\n",
        "\n",
        "@tf.function\n",
        "def compute_loss_and_grads(combination_image, base_image, style_reference_image):\n",
        "    with tf.GradientTape() as tape:\n",
        "        loss = compute_loss(combination_image, base_image, style_reference_image)\n",
        "    grads = tape.gradient(loss, combination_image)\n",
        "    return loss, grads\n",
        "\n",
        "optimizer = keras.optimizers.SGD(\n",
        "    keras.optimizers.schedules.ExponentialDecay(\n",
        "        initial_learning_rate=100.0, decay_steps=100, decay_rate=0.96\n",
        "    )\n",
        ")\n",
        "\n",
        "base_image = preprocess_image(base_image_path)\n",
        "style_reference_image = preprocess_image(style_reference_image_path)\n",
        "combination_image = tf.Variable(preprocess_image(base_image_path))\n",
        "\n",
        "iterations = 4000\n",
        "for i in range(1, iterations + 1):\n",
        "    loss, grads = compute_loss_and_grads(\n",
        "        combination_image, base_image, style_reference_image\n",
        "    )\n",
        "    optimizer.apply_gradients([(grads, combination_image)])\n",
        "    if i % 100 == 0:\n",
        "        print(f\"Iteration {i}: loss={loss:.2f}\")\n",
        "        img = deprocess_image(combination_image.numpy())\n",
        "        fname = f\"combination_image_at_iteration_{i}.png\"\n",
        "        keras.utils.save_img(fname, img)"
      ]
    },
    {
      "cell_type": "markdown",
      "metadata": {
        "id": "ylBETQyZQ2uD"
      },
      "source": [
        "### Conclusions"
      ]
    }
  ],
  "metadata": {
    "colab": {
      "name": "chapter12_part03_neural-style-transfer.i",
      "provenance": [],
      "toc_visible": true
    },
    "kernelspec": {
      "display_name": "tf2.19",
      "language": "python",
      "name": "python3"
    },
    "language_info": {
      "codemirror_mode": {
        "name": "ipython",
        "version": 3
      },
      "file_extension": ".py",
      "mimetype": "text/x-python",
      "name": "python",
      "nbconvert_exporter": "python",
      "pygments_lexer": "ipython3",
      "version": "3.12.3"
    }
  },
  "nbformat": 4,
  "nbformat_minor": 0
}
