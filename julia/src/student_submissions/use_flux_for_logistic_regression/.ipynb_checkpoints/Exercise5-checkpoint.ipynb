{
 "cells": [
  {
   "cell_type": "code",
   "execution_count": 1,
   "id": "243bde16-9a47-4a34-a2aa-00029ecc4e22",
   "metadata": {},
   "outputs": [
    {
     "name": "stderr",
     "output_type": "stream",
     "text": [
      "\u001b[32m\u001b[1m    Updating\u001b[22m\u001b[39m registry at `~/.julia/registries/General.toml`\n",
      "\u001b[32m\u001b[1m   Resolving\u001b[22m\u001b[39m package versions...\n",
      "\u001b[32m\u001b[1m  No Changes\u001b[22m\u001b[39m to `~/.julia/environments/v1.8/Project.toml`\n",
      "\u001b[32m\u001b[1m  No Changes\u001b[22m\u001b[39m to `~/.julia/environments/v1.8/Manifest.toml`\n",
      "\u001b[32m\u001b[1m   Resolving\u001b[22m\u001b[39m package versions...\n",
      "\u001b[32m\u001b[1m  No Changes\u001b[22m\u001b[39m to `~/.julia/environments/v1.8/Project.toml`\n",
      "\u001b[32m\u001b[1m  No Changes\u001b[22m\u001b[39m to `~/.julia/environments/v1.8/Manifest.toml`\n",
      "\u001b[32m\u001b[1m   Resolving\u001b[22m\u001b[39m package versions...\n",
      "\u001b[32m\u001b[1m  No Changes\u001b[22m\u001b[39m to `~/.julia/environments/v1.8/Project.toml`\n",
      "\u001b[32m\u001b[1m  No Changes\u001b[22m\u001b[39m to `~/.julia/environments/v1.8/Manifest.toml`\n",
      "\u001b[32m\u001b[1m   Resolving\u001b[22m\u001b[39m package versions...\n",
      "\u001b[32m\u001b[1m  No Changes\u001b[22m\u001b[39m to `~/.julia/environments/v1.8/Project.toml`\n",
      "\u001b[32m\u001b[1m  No Changes\u001b[22m\u001b[39m to `~/.julia/environments/v1.8/Manifest.toml`\n",
      "\u001b[32m\u001b[1m   Resolving\u001b[22m\u001b[39m package versions...\n",
      "\u001b[32m\u001b[1m    Updating\u001b[22m\u001b[39m `~/.julia/environments/v1.8/Project.toml`\n",
      " \u001b[90m [c8e1da08] \u001b[39m\u001b[92m+ IterTools v1.10.0\u001b[39m\n",
      "\u001b[32m\u001b[1m  No Changes\u001b[22m\u001b[39m to `~/.julia/environments/v1.8/Manifest.toml`\n",
      "\u001b[32m\u001b[1m   Resolving\u001b[22m\u001b[39m package versions...\n",
      "\u001b[32m\u001b[1m    Updating\u001b[22m\u001b[39m `~/.julia/environments/v1.8/Project.toml`\n",
      " \u001b[90m [92933f4c] \u001b[39m\u001b[92m+ ProgressMeter v1.10.2\u001b[39m\n",
      "\u001b[32m\u001b[1m  No Changes\u001b[22m\u001b[39m to `~/.julia/environments/v1.8/Manifest.toml`\n",
      "\u001b[32m\u001b[1m   Resolving\u001b[22m\u001b[39m package versions...\n",
      "\u001b[32m\u001b[1m  No Changes\u001b[22m\u001b[39m to `~/.julia/environments/v1.8/Project.toml`\n",
      "\u001b[32m\u001b[1m  No Changes\u001b[22m\u001b[39m to `~/.julia/environments/v1.8/Manifest.toml`\n",
      "\u001b[32m\u001b[1m   Resolving\u001b[22m\u001b[39m package versions...\n",
      "\u001b[32m\u001b[1m   Installed\u001b[22m\u001b[39m TiledIteration ────────── v0.3.1\n",
      "\u001b[32m\u001b[1m   Installed\u001b[22m\u001b[39m Netpbm ────────────────── v1.0.1\n",
      "\u001b[32m\u001b[1m   Installed\u001b[22m\u001b[39m TiffImages ────────────── v0.5.5\n",
      "\u001b[32m\u001b[1m   Installed\u001b[22m\u001b[39m IdentityRanges ────────── v0.3.1\n",
      "\u001b[32m\u001b[1m   Installed\u001b[22m\u001b[39m ImageIO ───────────────── v0.5.9\n",
      "\u001b[32m\u001b[1m   Installed\u001b[22m\u001b[39m PNGFiles ──────────────── v0.3.17\n",
      "\u001b[32m\u001b[1m   Installed\u001b[22m\u001b[39m ImageMetadata ─────────── v0.9.5\n",
      "\u001b[32m\u001b[1m   Installed\u001b[22m\u001b[39m Augmentor ─────────────── v0.6.6\n",
      "\u001b[32m\u001b[1m   Installed\u001b[22m\u001b[39m PkgVersion ────────────── v0.1.1\n",
      "\u001b[32m\u001b[1m   Installed\u001b[22m\u001b[39m Images ────────────────── v0.24.1\n",
      "\u001b[32m\u001b[1m   Installed\u001b[22m\u001b[39m ImageShow ─────────────── v0.3.1\n",
      "\u001b[32m\u001b[1m   Installed\u001b[22m\u001b[39m ImageQualityIndexes ───── v0.2.2\n",
      "\u001b[32m\u001b[1m   Installed\u001b[22m\u001b[39m ImageTransformations ──── v0.8.13\n",
      "\u001b[32m\u001b[1m   Installed\u001b[22m\u001b[39m MacroTools ────────────── v0.5.15\n",
      "\u001b[32m\u001b[1m   Installed\u001b[22m\u001b[39m DocStringExtensions ───── v0.8.6\n",
      "\u001b[32m\u001b[1m   Installed\u001b[22m\u001b[39m IndirectArrays ────────── v0.5.1\n",
      "\u001b[32m\u001b[1m   Installed\u001b[22m\u001b[39m ImageDistances ────────── v0.2.13\n",
      "\u001b[32m\u001b[1m   Installed\u001b[22m\u001b[39m AxisAlgorithms ────────── v1.0.1\n",
      "\u001b[32m\u001b[1m   Installed\u001b[22m\u001b[39m ImageCore ─────────────── v0.8.22\n",
      "\u001b[32m\u001b[1m   Installed\u001b[22m\u001b[39m ImageAxes ─────────────── v0.6.9\n",
      "\u001b[32m\u001b[1m   Installed\u001b[22m\u001b[39m WoodburyMatrices ──────── v0.5.6\n",
      "\u001b[32m\u001b[1m   Installed\u001b[22m\u001b[39m Clustering ────────────── v0.15.8\n",
      "\u001b[32m\u001b[1m   Installed\u001b[22m\u001b[39m ImageMorphology ───────── v0.2.11\n",
      "\u001b[32m\u001b[1m   Installed\u001b[22m\u001b[39m ImageFiltering ────────── v0.6.21\n",
      "\u001b[32m\u001b[1m   Installed\u001b[22m\u001b[39m ImageContrastAdjustment ─ v0.3.7\n",
      "\u001b[32m\u001b[1m   Installed\u001b[22m\u001b[39m Interpolations ────────── v0.13.6\n",
      "\u001b[32m\u001b[1m    Updating\u001b[22m\u001b[39m `~/.julia/environments/v1.8/Project.toml`\n",
      " \u001b[90m [02898b10] \u001b[39m\u001b[92m+ Augmentor v0.6.6\u001b[39m\n",
      "\u001b[33m⌅\u001b[39m\u001b[90m [82e4d734] \u001b[39m\u001b[95m↓ ImageIO v0.6.8 ⇒ v0.5.9\u001b[39m\n",
      "\u001b[33m⌅\u001b[39m\u001b[90m [02fcd773] \u001b[39m\u001b[95m↓ ImageTransformations v0.10.1 ⇒ v0.8.13\u001b[39m\n",
      "\u001b[32m⌃\u001b[39m\u001b[90m [916415d5] \u001b[39m\u001b[95m↓ Images v0.26.1 ⇒ v0.24.1\u001b[39m\n",
      "\u001b[32m\u001b[1m    Updating\u001b[22m\u001b[39m `~/.julia/environments/v1.8/Manifest.toml`\n",
      " \u001b[90m [ec485272] \u001b[39m\u001b[91m- ArnoldiMethod v0.4.0\u001b[39m\n",
      " \u001b[90m [02898b10] \u001b[39m\u001b[92m+ Augmentor v0.6.6\u001b[39m\n",
      "\u001b[32m⌃\u001b[39m\u001b[90m [13072b0f] \u001b[39m\u001b[95m↓ AxisAlgorithms v1.1.0 ⇒ v1.0.1\u001b[39m\n",
      " \u001b[90m [62783981] \u001b[39m\u001b[91m- BitTwiddlingConvenienceFunctions v0.1.6\u001b[39m\n",
      " \u001b[90m [2a0fbf3d] \u001b[39m\u001b[91m- CPUSummary v0.2.6\u001b[39m\n",
      " \u001b[90m [fb6a15b2] \u001b[39m\u001b[91m- CloseOpenIntervals v0.1.13\u001b[39m\n",
      " \u001b[90m [aaaa29a8] \u001b[39m\u001b[93m↑ Clustering v0.15.7 ⇒ v0.15.8\u001b[39m\n",
      " \u001b[90m [adafc99b] \u001b[39m\u001b[91m- CpuId v0.3.1\u001b[39m\n",
      "\u001b[33m⌅\u001b[39m\u001b[90m [ffbed154] \u001b[39m\u001b[95m↓ DocStringExtensions v0.9.3 ⇒ v0.8.6\u001b[39m\n",
      " \u001b[90m [86223c79] \u001b[39m\u001b[91m- Graphs v1.12.0\u001b[39m\n",
      " \u001b[90m [2c695a8d] \u001b[39m\u001b[91m- HistogramThresholding v0.3.1\u001b[39m\n",
      " \u001b[90m [3e5b6fbb] \u001b[39m\u001b[91m- HostCPUFeatures v0.1.17\u001b[39m\n",
      " \u001b[90m [bbac6d45] \u001b[39m\u001b[92m+ IdentityRanges v0.3.1\u001b[39m\n",
      " \u001b[90m [615f187c] \u001b[39m\u001b[91m- IfElse v0.1.1\u001b[39m\n",
      "\u001b[32m⌃\u001b[39m\u001b[90m [2803e5a7] \u001b[39m\u001b[95m↓ ImageAxes v0.6.11 ⇒ v0.6.9\u001b[39m\n",
      " \u001b[90m [c817782e] \u001b[39m\u001b[91m- ImageBase v0.1.5\u001b[39m\n",
      " \u001b[90m [cbc4b850] \u001b[39m\u001b[91m- ImageBinarization v0.3.1\u001b[39m\n",
      "\u001b[32m⌃\u001b[39m\u001b[90m [f332f351] \u001b[39m\u001b[95m↓ ImageContrastAdjustment v0.3.12 ⇒ v0.3.7\u001b[39m\n",
      "\u001b[33m⌅\u001b[39m\u001b[90m [a09fc81d] \u001b[39m\u001b[95m↓ ImageCore v0.9.4 ⇒ v0.8.22\u001b[39m\n",
      " \u001b[90m [89d5987c] \u001b[39m\u001b[91m- ImageCorners v0.1.3\u001b[39m\n",
      "\u001b[32m⌃\u001b[39m\u001b[90m [51556ac3] \u001b[39m\u001b[95m↓ ImageDistances v0.2.17 ⇒ v0.2.13\u001b[39m\n",
      "\u001b[33m⌅\u001b[39m\u001b[90m [6a3955dd] \u001b[39m\u001b[95m↓ ImageFiltering v0.7.6 ⇒ v0.6.21\u001b[39m\n",
      "\u001b[33m⌅\u001b[39m\u001b[90m [82e4d734] \u001b[39m\u001b[95m↓ ImageIO v0.6.8 ⇒ v0.5.9\u001b[39m\n",
      "\u001b[32m⌃\u001b[39m\u001b[90m [bc367c6b] \u001b[39m\u001b[95m↓ ImageMetadata v0.9.9 ⇒ v0.9.5\u001b[39m\n",
      "\u001b[33m⌅\u001b[39m\u001b[90m [787d08f9] \u001b[39m\u001b[95m↓ ImageMorphology v0.4.5 ⇒ v0.2.11\u001b[39m\n",
      "\u001b[33m⌅\u001b[39m\u001b[90m [2996bd0c] \u001b[39m\u001b[95m↓ ImageQualityIndexes v0.3.7 ⇒ v0.2.2\u001b[39m\n",
      " \u001b[90m [80713f31] \u001b[39m\u001b[91m- ImageSegmentation v1.8.1\u001b[39m\n",
      "\u001b[32m⌃\u001b[39m\u001b[90m [4e3cecfd] \u001b[39m\u001b[95m↓ ImageShow v0.3.8 ⇒ v0.3.1\u001b[39m\n",
      "\u001b[33m⌅\u001b[39m\u001b[90m [02fcd773] \u001b[39m\u001b[95m↓ ImageTransformations v0.10.1 ⇒ v0.8.13\u001b[39m\n",
      "\u001b[32m⌃\u001b[39m\u001b[90m [916415d5] \u001b[39m\u001b[95m↓ Images v0.26.1 ⇒ v0.24.1\u001b[39m\n",
      "\u001b[33m⌅\u001b[39m\u001b[90m [9b13fd28] \u001b[39m\u001b[95m↓ IndirectArrays v1.0.0 ⇒ v0.5.1\u001b[39m\n",
      " \u001b[90m [1d092043] \u001b[39m\u001b[91m- IntegralArrays v0.1.6\u001b[39m\n",
      "\u001b[33m⌅\u001b[39m\u001b[90m [a98d9a8b] \u001b[39m\u001b[95m↓ Interpolations v0.15.1 ⇒ v0.13.6\u001b[39m\n",
      " \u001b[90m [033835bb] \u001b[39m\u001b[91m- JLD2 v0.4.53\u001b[39m\n",
      " \u001b[90m [b835a17e] \u001b[39m\u001b[91m- JpegTurbo v0.1.5\u001b[39m\n",
      " \u001b[90m [10f19ff3] \u001b[39m\u001b[91m- LayoutPointers v0.1.17\u001b[39m\n",
      " \u001b[90m [8cdb02fc] \u001b[39m\u001b[91m- LazyModules v0.3.1\u001b[39m\n",
      " \u001b[90m [bdcacae8] \u001b[39m\u001b[91m- LoopVectorization v0.12.171\u001b[39m\n",
      " \u001b[90m [1914dd2f] \u001b[39m\u001b[93m↑ MacroTools v0.5.13 ⇒ v0.5.15\u001b[39m\n",
      " \u001b[90m [d125e4d3] \u001b[39m\u001b[91m- ManualMemory v0.1.8\u001b[39m\n",
      " \u001b[90m [626554b9] \u001b[39m\u001b[91m- MetaGraphs v0.7.2\u001b[39m\n",
      "\u001b[32m⌃\u001b[39m\u001b[90m [f09324ee] \u001b[39m\u001b[95m↓ Netpbm v1.1.1 ⇒ v1.0.1\u001b[39m\n",
      "\u001b[33m⌅\u001b[39m\u001b[90m [f57f5aa1] \u001b[39m\u001b[95m↓ PNGFiles v0.4.3 ⇒ v0.3.17\u001b[39m\n",
      "\u001b[33m⌅\u001b[39m\u001b[90m [eebad327] \u001b[39m\u001b[95m↓ PkgVersion v0.3.3 ⇒ v0.1.1\u001b[39m\n",
      " \u001b[90m [1d0040c9] \u001b[39m\u001b[91m- PolyesterWeave v0.2.2\u001b[39m\n",
      " \u001b[90m [f27b6e38] \u001b[39m\u001b[91m- Polynomials v4.0.12\u001b[39m\n",
      " \u001b[90m [4b34888f] \u001b[39m\u001b[91m- QOI v1.0.1\u001b[39m\n",
      " \u001b[90m [dee08c22] \u001b[39m\u001b[91m- RegionTrees v0.3.2\u001b[39m\n",
      " \u001b[90m [fdea26ae] \u001b[39m\u001b[91m- SIMD v3.7.0\u001b[39m\n",
      " \u001b[90m [94e857df] \u001b[39m\u001b[91m- SIMDTypes v0.1.0\u001b[39m\n",
      " \u001b[90m [476501e8] \u001b[39m\u001b[91m- SLEEFPirates v0.6.43\u001b[39m\n",
      " \u001b[90m [47aef6b3] \u001b[39m\u001b[91m- SimpleWeightedGraphs v1.4.0\u001b[39m\n",
      " \u001b[90m [45858cf5] \u001b[39m\u001b[91m- Sixel v0.1.3\u001b[39m\n",
      " \u001b[90m [aedffcd0] \u001b[39m\u001b[91m- Static v0.8.9\u001b[39m\n",
      " \u001b[90m [0d7ed370] \u001b[39m\u001b[91m- StaticArrayInterface v1.6.0\u001b[39m\n",
      " \u001b[90m [8290d209] \u001b[39m\u001b[91m- ThreadingUtilities v0.5.2\u001b[39m\n",
      "\u001b[33m⌅\u001b[39m\u001b[90m [731e570b] \u001b[39m\u001b[95m↓ TiffImages v0.10.2 ⇒ v0.5.5\u001b[39m\n",
      "\u001b[33m⌅\u001b[39m\u001b[90m [06e1c1a7] \u001b[39m\u001b[95m↓ TiledIteration v0.5.0 ⇒ v0.3.1\u001b[39m\n",
      " \u001b[90m [3d5dd08c] \u001b[39m\u001b[91m- VectorizationBase v0.21.71\u001b[39m\n",
      "\u001b[33m⌅\u001b[39m\u001b[90m [efce3f68] \u001b[39m\u001b[95m↓ WoodburyMatrices v1.0.0 ⇒ v0.5.6\u001b[39m\n",
      " \u001b[90m [075b6546] \u001b[39m\u001b[91m- libsixel_jll v1.10.4+0\u001b[39m\n",
      "\u001b[36m\u001b[1m        Info\u001b[22m\u001b[39m Packages marked with \u001b[32m⌃\u001b[39m and \u001b[33m⌅\u001b[39m have new versions available, but those with \u001b[33m⌅\u001b[39m are restricted by compatibility constraints from upgrading. To see why use `status --outdated -m`\n",
      "\u001b[32m\u001b[1mPrecompiling\u001b[22m\u001b[39m project...\n",
      "\u001b[32m  ✓ \u001b[39m\u001b[90mIndirectArrays\u001b[39m\n",
      "\u001b[32m  ✓ \u001b[39m\u001b[90mWoodburyMatrices\u001b[39m\n",
      "\u001b[32m  ✓ \u001b[39m\u001b[90mPkgVersion\u001b[39m\n",
      "\u001b[32m  ✓ \u001b[39m\u001b[90mDocStringExtensions\u001b[39m\n",
      "\u001b[32m  ✓ \u001b[39m\u001b[90mIdentityRanges\u001b[39m\n",
      "\u001b[32m  ✓ \u001b[39m\u001b[90mTiledIteration\u001b[39m\n",
      "\u001b[32m  ✓ \u001b[39m\u001b[90mAxisAlgorithms\u001b[39m\n",
      "\u001b[32m  ✓ \u001b[39m\u001b[90mMacroTools\u001b[39m\n",
      "\u001b[32m  ✓ \u001b[39m\u001b[90mLogExpFunctions\u001b[39m\n",
      "\u001b[32m  ✓ \u001b[39m\u001b[90mCommonSubexpressions\u001b[39m\n",
      "\u001b[32m  ✓ \u001b[39m\u001b[90mSimpleTraits\u001b[39m\n",
      "\u001b[32m  ✓ \u001b[39m\u001b[90mZygoteRules\u001b[39m\n",
      "\u001b[32m  ✓ \u001b[39m\u001b[90mIRTools\u001b[39m\n",
      "\u001b[32m  ✓ \u001b[39m\u001b[90mInterpolations\u001b[39m\n",
      "\u001b[32m  ✓ \u001b[39m\u001b[90mLatexify\u001b[39m\n",
      "\u001b[32m  ✓ \u001b[39m\u001b[90mHighlights\u001b[39m\n",
      "\u001b[32m  ✓ \u001b[39m\u001b[90mSetfield\u001b[39m\n",
      "\u001b[32m  ✓ \u001b[39m\u001b[90mImageCore\u001b[39m\n",
      "\u001b[32m  ✓ \u001b[39m\u001b[90mAccessors\u001b[39m\n",
      "\u001b[32m  ✓ \u001b[39mQuery\n",
      "\u001b[32m  ✓ \u001b[39m\u001b[90mSplittablesBase\u001b[39m\n",
      "\u001b[32m  ✓ \u001b[39m\u001b[90mUnitfulLatexify\u001b[39m\n",
      "\u001b[32m  ✓ \u001b[39mStatsBase\n",
      "\u001b[32m  ✓ \u001b[39mWeave\n",
      "\u001b[32m  ✓ \u001b[39m\u001b[90mFiniteDiff\u001b[39m\n",
      "\u001b[32m  ✓ \u001b[39m\u001b[90mKernelAbstractions\u001b[39m\n",
      "\u001b[32m  ✓ \u001b[39m\u001b[90mImageShow\u001b[39m\n",
      "\u001b[32m  ✓ \u001b[39m\u001b[90mSpecialFunctions\u001b[39m\n",
      "\u001b[32m  ✓ \u001b[39m\u001b[90mBangBang\u001b[39m\n",
      "\u001b[32m  ✓ \u001b[39m\u001b[90mLearnBase\u001b[39m\n",
      "\u001b[32m  ✓ \u001b[39m\u001b[90mImageAxes\u001b[39m\n",
      "\u001b[32m  ✓ \u001b[39mMLBase\n",
      "\u001b[32m  ✓ \u001b[39m\u001b[90mLatinHypercubeSampling\u001b[39m\n",
      "\u001b[32m  ✓ \u001b[39m\u001b[90mClustering\u001b[39m\n",
      "\u001b[32m  ✓ \u001b[39m\u001b[90mImageMagick\u001b[39m\n",
      "\u001b[32m  ✓ \u001b[39m\u001b[90mPNGFiles\u001b[39m\n",
      "\u001b[32m  ✓ \u001b[39m\u001b[90mHypergeometricFunctions\u001b[39m\n",
      "\u001b[32m  ✓ \u001b[39m\u001b[90mDiffRules\u001b[39m\n",
      "\u001b[32m  ✓ \u001b[39mNearestNeighborModels\n",
      "\u001b[32m  ✓ \u001b[39m\u001b[90mMicroCollections\u001b[39m\n",
      "\u001b[32m  ✓ \u001b[39m\u001b[90mMLLabelUtils\u001b[39m\n",
      "\u001b[32m  ✓ \u001b[39m\u001b[90mColorVectorSpace\u001b[39m\n",
      "\u001b[32m  ✓ \u001b[39m\u001b[90mStatsFuns\u001b[39m\n",
      "\u001b[32m  ✓ \u001b[39mMLDataPattern\n",
      "\u001b[32m  ✓ \u001b[39m\u001b[90mPyCall\u001b[39m\n",
      "\u001b[32m  ✓ \u001b[39m\u001b[90mTransducers\u001b[39m\n",
      "\u001b[32m  ✓ \u001b[39m\u001b[90mNNlib\u001b[39m\n",
      "\u001b[32m  ✓ \u001b[39m\u001b[90mForwardDiff\u001b[39m\n",
      "\u001b[32m  ✓ \u001b[39m\u001b[90mImageMorphology\u001b[39m\n",
      "\u001b[32m  ✓ \u001b[39m\u001b[90mImageMetadata\u001b[39m\n",
      "\u001b[32m  ✓ \u001b[39mStatsModels\n",
      "\u001b[32m  ✓ \u001b[39m\u001b[90mNetpbm\u001b[39m\n",
      "\u001b[32m  ✓ \u001b[39m\u001b[90mTiffImages\u001b[39m\n",
      "\u001b[32m  ✓ \u001b[39m\u001b[90mColorSchemes\u001b[39m\n",
      "\u001b[32m  ✓ \u001b[39mImageTransformations\n",
      "\u001b[32m  ✓ \u001b[39m\u001b[90mOneHotArrays\u001b[39m\n",
      "\u001b[32m  ✓ \u001b[39mPyPlot\n",
      "\u001b[32m  ✓ \u001b[39m\u001b[90mNLSolversBase\u001b[39m\n",
      "\u001b[32m  ✓ \u001b[39mImageIO\n",
      "\u001b[32m  ✓ \u001b[39mMLDataUtils\n",
      "\u001b[32m  ✓ \u001b[39m\u001b[90mImageDistances\u001b[39m\n",
      "\u001b[32m  ✓ \u001b[39m\u001b[90mDistributions\u001b[39m\n",
      "\u001b[32m  ✓ \u001b[39m\u001b[90mFLoops\u001b[39m\n",
      "\u001b[32m  ✓ \u001b[39m\u001b[90mLineSearches\u001b[39m\n",
      "\u001b[32m  ✓ \u001b[39m\u001b[90mImageContrastAdjustment\u001b[39m\n",
      "\u001b[32m  ✓ \u001b[39m\u001b[90mScientificTypes\u001b[39m\n",
      "\u001b[32m  ✓ \u001b[39m\u001b[90mImageFiltering\u001b[39m\n",
      "\u001b[32m  ✓ \u001b[39mMultivariateStats\n",
      "\u001b[32m  ✓ \u001b[39m\u001b[90mPlotUtils\u001b[39m\n",
      "\u001b[32m  ✓ \u001b[39m\u001b[90mKernelDensity\u001b[39m\n",
      "\u001b[32m  ✓ \u001b[39mGLM\n",
      "\u001b[32m  ✓ \u001b[39mROCAnalysis\n",
      "\u001b[32m  ✓ \u001b[39m\u001b[90mImageQualityIndexes\u001b[39m\n",
      "\u001b[32m  ✓ \u001b[39mGLMNet\n",
      "\u001b[32m  ✓ \u001b[39m\u001b[90mPlotThemes\u001b[39m\n",
      "\u001b[32m  ✓ \u001b[39mAugmentor\n",
      "\u001b[32m  ✓ \u001b[39m\u001b[90mMLUtils\u001b[39m\n",
      "\u001b[32m  ✓ \u001b[39m\u001b[90mRecipesPipeline\u001b[39m\n",
      "\u001b[32m  ✓ \u001b[39mImages\n",
      "\u001b[32m  ✓ \u001b[39mCUDA\n",
      "\u001b[32m  ✓ \u001b[39m\u001b[90mStatisticalMeasuresBase\u001b[39m\n",
      "\u001b[32m  ✓ \u001b[39m\u001b[90mZygote\u001b[39m\n",
      "\u001b[32m  ✓ \u001b[39m\u001b[90mcuDNN\u001b[39m\n",
      "\u001b[32m  ✓ \u001b[39m\u001b[90mNNlibCUDA\u001b[39m\n",
      "\u001b[32m  ✓ \u001b[39m\u001b[90mUnicodePlots\u001b[39m\n",
      "\u001b[32m  ✓ \u001b[39mFlux\n",
      "\u001b[32m  ✓ \u001b[39mCategoricalDistributions\n",
      "\u001b[32m  ✓ \u001b[39m\u001b[90mMathOptInterface\u001b[39m\n",
      "\u001b[32m  ✓ \u001b[39mPlots\n",
      "\u001b[32m  ✓ \u001b[39m\u001b[90mOptim\u001b[39m\n",
      "\u001b[32m  ✓ \u001b[39m\u001b[90mMLJEnsembles\u001b[39m\n",
      "\u001b[32m  ✓ \u001b[39m\u001b[90mMLJModels\u001b[39m\n",
      "\u001b[32m  ✓ \u001b[39mStatsPlots\n",
      "\u001b[32m  ✓ \u001b[39mMLJLinearModels\n",
      "\u001b[32m  ✓ \u001b[39mStatisticalMeasures\n",
      "\u001b[32m  ✓ \u001b[39mMLJBase\n",
      "\u001b[32m  ✓ \u001b[39m\u001b[90mMLJTuning\u001b[39m\n",
      "\u001b[32m  ✓ \u001b[39m\u001b[90mMLJIteration\u001b[39m\n",
      "\u001b[32m  ✓ \u001b[39m\u001b[90mMLJFlow\u001b[39m\n",
      "\u001b[32m  ✓ \u001b[39mMLJ\n",
      "  100 dependencies successfully precompiled in 242 seconds. 328 already precompiled.\n",
      "\u001b[32m\u001b[1m   Resolving\u001b[22m\u001b[39m package versions...\n",
      "\u001b[32m\u001b[1m   Installed\u001b[22m\u001b[39m Glob ─ v1.3.1\n",
      "\u001b[32m\u001b[1m    Updating\u001b[22m\u001b[39m `~/.julia/environments/v1.8/Project.toml`\n",
      " \u001b[90m [c27321d9] \u001b[39m\u001b[92m+ Glob v1.3.1\u001b[39m\n",
      "\u001b[32m\u001b[1m    Updating\u001b[22m\u001b[39m `~/.julia/environments/v1.8/Manifest.toml`\n",
      " \u001b[90m [c27321d9] \u001b[39m\u001b[92m+ Glob v1.3.1\u001b[39m\n",
      "\u001b[32m\u001b[1mPrecompiling\u001b[22m\u001b[39m project...\n",
      "\u001b[32m  ✓ \u001b[39mGlob\n",
      "  1 dependency successfully precompiled in 1 seconds. 428 already precompiled.\n",
      "\u001b[32m\u001b[1m   Resolving\u001b[22m\u001b[39m package versions...\n",
      "\u001b[32m\u001b[1m    Updating\u001b[22m\u001b[39m `~/.julia/environments/v1.8/Project.toml`\n",
      " \u001b[90m [f1d291b0] \u001b[39m\u001b[92m+ MLUtils v0.4.5\u001b[39m\n",
      "\u001b[32m\u001b[1m  No Changes\u001b[22m\u001b[39m to `~/.julia/environments/v1.8/Manifest.toml`\n",
      "\u001b[32m\u001b[1m   Resolving\u001b[22m\u001b[39m package versions...\n",
      "\u001b[32m\u001b[1m    Updating\u001b[22m\u001b[39m `~/.julia/environments/v1.8/Project.toml`\n",
      "\u001b[32m⌃\u001b[39m\u001b[90m [4e3cecfd] \u001b[39m\u001b[92m+ ImageShow v0.3.1\u001b[39m\n",
      "\u001b[32m\u001b[1m  No Changes\u001b[22m\u001b[39m to `~/.julia/environments/v1.8/Manifest.toml`\n",
      "\u001b[32m\u001b[1m   Resolving\u001b[22m\u001b[39m package versions...\n",
      "\u001b[32m\u001b[1m  No Changes\u001b[22m\u001b[39m to `~/.julia/environments/v1.8/Project.toml`\n",
      "\u001b[32m\u001b[1m  No Changes\u001b[22m\u001b[39m to `~/.julia/environments/v1.8/Manifest.toml`\n"
     ]
    }
   ],
   "source": [
    "import Pkg\n",
    "Pkg.add(\"DataFrames\")\n",
    "Pkg.add(\"Flux\")\n",
    "Pkg.add(\"MLJ\")\n",
    "Pkg.add(\"CUDA\")\n",
    "Pkg.add(\"IterTools\")\n",
    "Pkg.add(\"ProgressMeter\")\n",
    "Pkg.add(\"Images\")\n",
    "Pkg.add(\"Augmentor\")\n",
    "Pkg.add(\"Glob\")\n",
    "Pkg.add(\"MLUtils\")\n",
    "Pkg.add(\"ImageShow\")\n",
    "Pkg.add(\"Statistics\")"
   ]
  },
  {
   "cell_type": "code",
   "execution_count": 4,
   "id": "62daf4fd-0e96-4adf-b985-296258602322",
   "metadata": {},
   "outputs": [],
   "source": [
    "using DataFrames\n",
    "using Flux\n",
    "using MLJ\n",
    "using CUDA\n",
    "using IterTools: ncycle\n",
    "using ProgressMeter\n",
    "using Images\n",
    "using Glob\n",
    "using MLUtils\n",
    "using Augmentor\n",
    "using CUDA: CuIterator\n",
    "using ImageShow\n",
    "using Statistics\n",
    "using CSV"
   ]
  },
  {
   "cell_type": "code",
   "execution_count": 5,
   "id": "c7b957a3-ee74-4b45-b60f-da09db36a968",
   "metadata": {},
   "outputs": [
    {
     "data": {
      "text/html": [
       "<div><div style = \"float: left;\"><span>10×14 DataFrame</span></div><div style = \"clear: both;\"></div></div><div class = \"data-frame\" style = \"overflow-x: scroll;\"><table class = \"data-frame\" style = \"margin-bottom: 6px;\"><thead><tr class = \"header\"><th class = \"rowNumber\" style = \"font-weight: bold; text-align: right;\">Row</th><th style = \"text-align: left;\">RowNumber</th><th style = \"text-align: left;\">CustomerId</th><th style = \"text-align: left;\">Surname</th><th style = \"text-align: left;\">CreditScore</th><th style = \"text-align: left;\">Geography</th><th style = \"text-align: left;\">Gender</th><th style = \"text-align: left;\">Age</th><th style = \"text-align: left;\">Tenure</th><th style = \"text-align: left;\">Balance</th><th style = \"text-align: left;\">NumOfProducts</th><th style = \"text-align: left;\">HasCrCard</th><th style = \"text-align: left;\">IsActiveMember</th><th style = \"text-align: left;\">EstimatedSalary</th><th style = \"text-align: left;\">Exited</th></tr><tr class = \"subheader headerLastRow\"><th class = \"rowNumber\" style = \"font-weight: bold; text-align: right;\"></th><th title = \"Int64\" style = \"text-align: left;\">Int64</th><th title = \"Int64\" style = \"text-align: left;\">Int64</th><th title = \"String31\" style = \"text-align: left;\">String31</th><th title = \"Int64\" style = \"text-align: left;\">Int64</th><th title = \"String7\" style = \"text-align: left;\">String7</th><th title = \"String7\" style = \"text-align: left;\">String7</th><th title = \"Int64\" style = \"text-align: left;\">Int64</th><th title = \"Int64\" style = \"text-align: left;\">Int64</th><th title = \"Float64\" style = \"text-align: left;\">Float64</th><th title = \"Int64\" style = \"text-align: left;\">Int64</th><th title = \"Int64\" style = \"text-align: left;\">Int64</th><th title = \"Int64\" style = \"text-align: left;\">Int64</th><th title = \"Float64\" style = \"text-align: left;\">Float64</th><th title = \"Int64\" style = \"text-align: left;\">Int64</th></tr></thead><tbody><tr><td class = \"rowNumber\" style = \"font-weight: bold; text-align: right;\">1</td><td style = \"text-align: right;\">1</td><td style = \"text-align: right;\">15634602</td><td style = \"text-align: left;\">Hargrave</td><td style = \"text-align: right;\">619</td><td style = \"text-align: left;\">France</td><td style = \"text-align: left;\">Female</td><td style = \"text-align: right;\">42</td><td style = \"text-align: right;\">2</td><td style = \"text-align: right;\">0.0</td><td style = \"text-align: right;\">1</td><td style = \"text-align: right;\">1</td><td style = \"text-align: right;\">1</td><td style = \"text-align: right;\">1.01349e5</td><td style = \"text-align: right;\">1</td></tr><tr><td class = \"rowNumber\" style = \"font-weight: bold; text-align: right;\">2</td><td style = \"text-align: right;\">2</td><td style = \"text-align: right;\">15647311</td><td style = \"text-align: left;\">Hill</td><td style = \"text-align: right;\">608</td><td style = \"text-align: left;\">Spain</td><td style = \"text-align: left;\">Female</td><td style = \"text-align: right;\">41</td><td style = \"text-align: right;\">1</td><td style = \"text-align: right;\">83807.9</td><td style = \"text-align: right;\">1</td><td style = \"text-align: right;\">0</td><td style = \"text-align: right;\">1</td><td style = \"text-align: right;\">1.12543e5</td><td style = \"text-align: right;\">0</td></tr><tr><td class = \"rowNumber\" style = \"font-weight: bold; text-align: right;\">3</td><td style = \"text-align: right;\">3</td><td style = \"text-align: right;\">15619304</td><td style = \"text-align: left;\">Onio</td><td style = \"text-align: right;\">502</td><td style = \"text-align: left;\">France</td><td style = \"text-align: left;\">Female</td><td style = \"text-align: right;\">42</td><td style = \"text-align: right;\">8</td><td style = \"text-align: right;\">1.59661e5</td><td style = \"text-align: right;\">3</td><td style = \"text-align: right;\">1</td><td style = \"text-align: right;\">0</td><td style = \"text-align: right;\">1.13932e5</td><td style = \"text-align: right;\">1</td></tr><tr><td class = \"rowNumber\" style = \"font-weight: bold; text-align: right;\">4</td><td style = \"text-align: right;\">4</td><td style = \"text-align: right;\">15701354</td><td style = \"text-align: left;\">Boni</td><td style = \"text-align: right;\">699</td><td style = \"text-align: left;\">France</td><td style = \"text-align: left;\">Female</td><td style = \"text-align: right;\">39</td><td style = \"text-align: right;\">1</td><td style = \"text-align: right;\">0.0</td><td style = \"text-align: right;\">2</td><td style = \"text-align: right;\">0</td><td style = \"text-align: right;\">0</td><td style = \"text-align: right;\">93826.6</td><td style = \"text-align: right;\">0</td></tr><tr><td class = \"rowNumber\" style = \"font-weight: bold; text-align: right;\">5</td><td style = \"text-align: right;\">5</td><td style = \"text-align: right;\">15737888</td><td style = \"text-align: left;\">Mitchell</td><td style = \"text-align: right;\">850</td><td style = \"text-align: left;\">Spain</td><td style = \"text-align: left;\">Female</td><td style = \"text-align: right;\">43</td><td style = \"text-align: right;\">2</td><td style = \"text-align: right;\">1.25511e5</td><td style = \"text-align: right;\">1</td><td style = \"text-align: right;\">1</td><td style = \"text-align: right;\">1</td><td style = \"text-align: right;\">79084.1</td><td style = \"text-align: right;\">0</td></tr><tr><td class = \"rowNumber\" style = \"font-weight: bold; text-align: right;\">6</td><td style = \"text-align: right;\">6</td><td style = \"text-align: right;\">15574012</td><td style = \"text-align: left;\">Chu</td><td style = \"text-align: right;\">645</td><td style = \"text-align: left;\">Spain</td><td style = \"text-align: left;\">Male</td><td style = \"text-align: right;\">44</td><td style = \"text-align: right;\">8</td><td style = \"text-align: right;\">1.13756e5</td><td style = \"text-align: right;\">2</td><td style = \"text-align: right;\">1</td><td style = \"text-align: right;\">0</td><td style = \"text-align: right;\">1.49757e5</td><td style = \"text-align: right;\">1</td></tr><tr><td class = \"rowNumber\" style = \"font-weight: bold; text-align: right;\">7</td><td style = \"text-align: right;\">7</td><td style = \"text-align: right;\">15592531</td><td style = \"text-align: left;\">Bartlett</td><td style = \"text-align: right;\">822</td><td style = \"text-align: left;\">France</td><td style = \"text-align: left;\">Male</td><td style = \"text-align: right;\">50</td><td style = \"text-align: right;\">7</td><td style = \"text-align: right;\">0.0</td><td style = \"text-align: right;\">2</td><td style = \"text-align: right;\">1</td><td style = \"text-align: right;\">1</td><td style = \"text-align: right;\">10062.8</td><td style = \"text-align: right;\">0</td></tr><tr><td class = \"rowNumber\" style = \"font-weight: bold; text-align: right;\">8</td><td style = \"text-align: right;\">8</td><td style = \"text-align: right;\">15656148</td><td style = \"text-align: left;\">Obinna</td><td style = \"text-align: right;\">376</td><td style = \"text-align: left;\">Germany</td><td style = \"text-align: left;\">Female</td><td style = \"text-align: right;\">29</td><td style = \"text-align: right;\">4</td><td style = \"text-align: right;\">1.15047e5</td><td style = \"text-align: right;\">4</td><td style = \"text-align: right;\">1</td><td style = \"text-align: right;\">0</td><td style = \"text-align: right;\">1.19347e5</td><td style = \"text-align: right;\">1</td></tr><tr><td class = \"rowNumber\" style = \"font-weight: bold; text-align: right;\">9</td><td style = \"text-align: right;\">9</td><td style = \"text-align: right;\">15792365</td><td style = \"text-align: left;\">He</td><td style = \"text-align: right;\">501</td><td style = \"text-align: left;\">France</td><td style = \"text-align: left;\">Male</td><td style = \"text-align: right;\">44</td><td style = \"text-align: right;\">4</td><td style = \"text-align: right;\">1.42051e5</td><td style = \"text-align: right;\">2</td><td style = \"text-align: right;\">0</td><td style = \"text-align: right;\">1</td><td style = \"text-align: right;\">74940.5</td><td style = \"text-align: right;\">0</td></tr><tr><td class = \"rowNumber\" style = \"font-weight: bold; text-align: right;\">10</td><td style = \"text-align: right;\">10</td><td style = \"text-align: right;\">15592389</td><td style = \"text-align: left;\">H?</td><td style = \"text-align: right;\">684</td><td style = \"text-align: left;\">France</td><td style = \"text-align: left;\">Male</td><td style = \"text-align: right;\">27</td><td style = \"text-align: right;\">2</td><td style = \"text-align: right;\">1.34604e5</td><td style = \"text-align: right;\">1</td><td style = \"text-align: right;\">1</td><td style = \"text-align: right;\">1</td><td style = \"text-align: right;\">71725.7</td><td style = \"text-align: right;\">0</td></tr></tbody></table></div>"
      ],
      "text/latex": [
       "\\begin{tabular}{r|ccccccccc}\n",
       "\t& RowNumber & CustomerId & Surname & CreditScore & Geography & Gender & Age & Tenure & \\\\\n",
       "\t\\hline\n",
       "\t& Int64 & Int64 & String31 & Int64 & String7 & String7 & Int64 & Int64 & \\\\\n",
       "\t\\hline\n",
       "\t1 & 1 & 15634602 & Hargrave & 619 & France & Female & 42 & 2 & $\\dots$ \\\\\n",
       "\t2 & 2 & 15647311 & Hill & 608 & Spain & Female & 41 & 1 & $\\dots$ \\\\\n",
       "\t3 & 3 & 15619304 & Onio & 502 & France & Female & 42 & 8 & $\\dots$ \\\\\n",
       "\t4 & 4 & 15701354 & Boni & 699 & France & Female & 39 & 1 & $\\dots$ \\\\\n",
       "\t5 & 5 & 15737888 & Mitchell & 850 & Spain & Female & 43 & 2 & $\\dots$ \\\\\n",
       "\t6 & 6 & 15574012 & Chu & 645 & Spain & Male & 44 & 8 & $\\dots$ \\\\\n",
       "\t7 & 7 & 15592531 & Bartlett & 822 & France & Male & 50 & 7 & $\\dots$ \\\\\n",
       "\t8 & 8 & 15656148 & Obinna & 376 & Germany & Female & 29 & 4 & $\\dots$ \\\\\n",
       "\t9 & 9 & 15792365 & He & 501 & France & Male & 44 & 4 & $\\dots$ \\\\\n",
       "\t10 & 10 & 15592389 & H? & 684 & France & Male & 27 & 2 & $\\dots$ \\\\\n",
       "\\end{tabular}\n"
      ],
      "text/plain": [
       "\u001b[1m10×14 DataFrame\u001b[0m\n",
       "\u001b[1m Row \u001b[0m│\u001b[1m RowNumber \u001b[0m\u001b[1m CustomerId \u001b[0m\u001b[1m Surname  \u001b[0m\u001b[1m CreditScore \u001b[0m\u001b[1m Geography \u001b[0m\u001b[1m Gender  \u001b[0m\u001b[1m Age  \u001b[0m ⋯\n",
       "     │\u001b[90m Int64     \u001b[0m\u001b[90m Int64      \u001b[0m\u001b[90m String31 \u001b[0m\u001b[90m Int64       \u001b[0m\u001b[90m String7   \u001b[0m\u001b[90m String7 \u001b[0m\u001b[90m Int64\u001b[0m ⋯\n",
       "─────┼──────────────────────────────────────────────────────────────────────────\n",
       "   1 │         1    15634602  Hargrave          619  France     Female      42 ⋯\n",
       "   2 │         2    15647311  Hill              608  Spain      Female      41\n",
       "   3 │         3    15619304  Onio              502  France     Female      42\n",
       "   4 │         4    15701354  Boni              699  France     Female      39\n",
       "   5 │         5    15737888  Mitchell          850  Spain      Female      43 ⋯\n",
       "   6 │         6    15574012  Chu               645  Spain      Male        44\n",
       "   7 │         7    15592531  Bartlett          822  France     Male        50\n",
       "   8 │         8    15656148  Obinna            376  Germany    Female      29\n",
       "   9 │         9    15792365  He                501  France     Male        44 ⋯\n",
       "  10 │        10    15592389  H?                684  France     Male        27\n",
       "\u001b[36m                                                               7 columns omitted\u001b[0m"
      ]
     },
     "execution_count": 5,
     "metadata": {},
     "output_type": "execute_result"
    }
   ],
   "source": [
    "# Cargar el dataset\n",
    "file_path = \"Churn_Modelling.csv\"  # Cambiar a la ruta donde está el archivo\n",
    "df = CSV.read(file_path, DataFrame)\n",
    "first(df, 10)"
   ]
  },
  {
   "cell_type": "code",
   "execution_count": 6,
   "id": "8e396e7c-1f3d-49f9-8f14-afc273540c7a",
   "metadata": {},
   "outputs": [
    {
     "name": "stdout",
     "output_type": "stream",
     "text": [
      "describe(df) = 14×7 DataFrame\n",
      " Row │ variable         mean       min       median     max        nmissing  eltype\n",
      "     │ Symbol           Union…     Any       Union…     Any        Int64     DataType\n",
      "─────┼────────────────────────────────────────────────────────────────────────────────\n",
      "   1 │ RowNumber        5000.5     1         5000.5     10000             0  Int64\n",
      "   2 │ CustomerId       1.56909e7  15565701  1.56907e7  15815690          0  Int64\n",
      "   3 │ Surname                     Abazu                Zuyeva            0  String31\n",
      "   4 │ CreditScore      650.529    350       652.0      850               0  Int64\n",
      "   5 │ Geography                   France               Spain             0  String7\n",
      "   6 │ Gender                      Female               Male              0  String7\n",
      "   7 │ Age              38.9218    18        37.0       92                0  Int64\n",
      "   8 │ Tenure           5.0128     0         5.0        10                0  Int64\n",
      "   9 │ Balance          76485.9    0.0       97198.5    2.50898e5         0  Float64\n",
      "  10 │ NumOfProducts    1.5302     1         1.0        4                 0  Int64\n",
      "  11 │ HasCrCard        0.7055     0         1.0        1                 0  Int64\n",
      "  12 │ IsActiveMember   0.5151     0         1.0        1                 0  Int64\n",
      "  13 │ EstimatedSalary  1.0009e5   11.58     1.00194e5  1.99992e5         0  Float64\n",
      "  14 │ Exited           0.2037     0         0.0        1                 0  Int64\n",
      "names(df) = [\"RowNumber\", \"CustomerId\", \"Surname\", \"CreditScore\", \"Geography\", \"Gender\", \"Age\", \"Tenure\", \"Balance\", \"NumOfProducts\", \"HasCrCard\", \"IsActiveMember\", \"EstimatedSalary\", \"Exited\"]\n"
     ]
    },
    {
     "data": {
      "text/html": [
       "<div><div style = \"float: left;\"><span>5×14 DataFrame</span></div><div style = \"clear: both;\"></div></div><div class = \"data-frame\" style = \"overflow-x: scroll;\"><table class = \"data-frame\" style = \"margin-bottom: 6px;\"><thead><tr class = \"header\"><th class = \"rowNumber\" style = \"font-weight: bold; text-align: right;\">Row</th><th style = \"text-align: left;\">RowNumber</th><th style = \"text-align: left;\">CustomerId</th><th style = \"text-align: left;\">Surname</th><th style = \"text-align: left;\">CreditScore</th><th style = \"text-align: left;\">Geography</th><th style = \"text-align: left;\">Gender</th><th style = \"text-align: left;\">Age</th><th style = \"text-align: left;\">Tenure</th><th style = \"text-align: left;\">Balance</th><th style = \"text-align: left;\">NumOfProducts</th><th style = \"text-align: left;\">HasCrCard</th><th style = \"text-align: left;\">IsActiveMember</th><th style = \"text-align: left;\">EstimatedSalary</th><th style = \"text-align: left;\">Exited</th></tr><tr class = \"subheader headerLastRow\"><th class = \"rowNumber\" style = \"font-weight: bold; text-align: right;\"></th><th title = \"Int64\" style = \"text-align: left;\">Int64</th><th title = \"Int64\" style = \"text-align: left;\">Int64</th><th title = \"String31\" style = \"text-align: left;\">String31</th><th title = \"Int64\" style = \"text-align: left;\">Int64</th><th title = \"String7\" style = \"text-align: left;\">String7</th><th title = \"String7\" style = \"text-align: left;\">String7</th><th title = \"Int64\" style = \"text-align: left;\">Int64</th><th title = \"Int64\" style = \"text-align: left;\">Int64</th><th title = \"Float64\" style = \"text-align: left;\">Float64</th><th title = \"Int64\" style = \"text-align: left;\">Int64</th><th title = \"Int64\" style = \"text-align: left;\">Int64</th><th title = \"Int64\" style = \"text-align: left;\">Int64</th><th title = \"Float64\" style = \"text-align: left;\">Float64</th><th title = \"Int64\" style = \"text-align: left;\">Int64</th></tr></thead><tbody><tr><td class = \"rowNumber\" style = \"font-weight: bold; text-align: right;\">1</td><td style = \"text-align: right;\">1</td><td style = \"text-align: right;\">15634602</td><td style = \"text-align: left;\">Hargrave</td><td style = \"text-align: right;\">619</td><td style = \"text-align: left;\">France</td><td style = \"text-align: left;\">Female</td><td style = \"text-align: right;\">42</td><td style = \"text-align: right;\">2</td><td style = \"text-align: right;\">0.0</td><td style = \"text-align: right;\">1</td><td style = \"text-align: right;\">1</td><td style = \"text-align: right;\">1</td><td style = \"text-align: right;\">1.01349e5</td><td style = \"text-align: right;\">1</td></tr><tr><td class = \"rowNumber\" style = \"font-weight: bold; text-align: right;\">2</td><td style = \"text-align: right;\">2</td><td style = \"text-align: right;\">15647311</td><td style = \"text-align: left;\">Hill</td><td style = \"text-align: right;\">608</td><td style = \"text-align: left;\">Spain</td><td style = \"text-align: left;\">Female</td><td style = \"text-align: right;\">41</td><td style = \"text-align: right;\">1</td><td style = \"text-align: right;\">83807.9</td><td style = \"text-align: right;\">1</td><td style = \"text-align: right;\">0</td><td style = \"text-align: right;\">1</td><td style = \"text-align: right;\">1.12543e5</td><td style = \"text-align: right;\">0</td></tr><tr><td class = \"rowNumber\" style = \"font-weight: bold; text-align: right;\">3</td><td style = \"text-align: right;\">3</td><td style = \"text-align: right;\">15619304</td><td style = \"text-align: left;\">Onio</td><td style = \"text-align: right;\">502</td><td style = \"text-align: left;\">France</td><td style = \"text-align: left;\">Female</td><td style = \"text-align: right;\">42</td><td style = \"text-align: right;\">8</td><td style = \"text-align: right;\">1.59661e5</td><td style = \"text-align: right;\">3</td><td style = \"text-align: right;\">1</td><td style = \"text-align: right;\">0</td><td style = \"text-align: right;\">1.13932e5</td><td style = \"text-align: right;\">1</td></tr><tr><td class = \"rowNumber\" style = \"font-weight: bold; text-align: right;\">4</td><td style = \"text-align: right;\">4</td><td style = \"text-align: right;\">15701354</td><td style = \"text-align: left;\">Boni</td><td style = \"text-align: right;\">699</td><td style = \"text-align: left;\">France</td><td style = \"text-align: left;\">Female</td><td style = \"text-align: right;\">39</td><td style = \"text-align: right;\">1</td><td style = \"text-align: right;\">0.0</td><td style = \"text-align: right;\">2</td><td style = \"text-align: right;\">0</td><td style = \"text-align: right;\">0</td><td style = \"text-align: right;\">93826.6</td><td style = \"text-align: right;\">0</td></tr><tr><td class = \"rowNumber\" style = \"font-weight: bold; text-align: right;\">5</td><td style = \"text-align: right;\">5</td><td style = \"text-align: right;\">15737888</td><td style = \"text-align: left;\">Mitchell</td><td style = \"text-align: right;\">850</td><td style = \"text-align: left;\">Spain</td><td style = \"text-align: left;\">Female</td><td style = \"text-align: right;\">43</td><td style = \"text-align: right;\">2</td><td style = \"text-align: right;\">1.25511e5</td><td style = \"text-align: right;\">1</td><td style = \"text-align: right;\">1</td><td style = \"text-align: right;\">1</td><td style = \"text-align: right;\">79084.1</td><td style = \"text-align: right;\">0</td></tr></tbody></table></div>"
      ],
      "text/latex": [
       "\\begin{tabular}{r|ccccccccc}\n",
       "\t& RowNumber & CustomerId & Surname & CreditScore & Geography & Gender & Age & Tenure & \\\\\n",
       "\t\\hline\n",
       "\t& Int64 & Int64 & String31 & Int64 & String7 & String7 & Int64 & Int64 & \\\\\n",
       "\t\\hline\n",
       "\t1 & 1 & 15634602 & Hargrave & 619 & France & Female & 42 & 2 & $\\dots$ \\\\\n",
       "\t2 & 2 & 15647311 & Hill & 608 & Spain & Female & 41 & 1 & $\\dots$ \\\\\n",
       "\t3 & 3 & 15619304 & Onio & 502 & France & Female & 42 & 8 & $\\dots$ \\\\\n",
       "\t4 & 4 & 15701354 & Boni & 699 & France & Female & 39 & 1 & $\\dots$ \\\\\n",
       "\t5 & 5 & 15737888 & Mitchell & 850 & Spain & Female & 43 & 2 & $\\dots$ \\\\\n",
       "\\end{tabular}\n"
      ],
      "text/plain": [
       "\u001b[1m5×14 DataFrame\u001b[0m\n",
       "\u001b[1m Row \u001b[0m│\u001b[1m RowNumber \u001b[0m\u001b[1m CustomerId \u001b[0m\u001b[1m Surname  \u001b[0m\u001b[1m CreditScore \u001b[0m\u001b[1m Geography \u001b[0m\u001b[1m Gender  \u001b[0m\u001b[1m Age  \u001b[0m ⋯\n",
       "     │\u001b[90m Int64     \u001b[0m\u001b[90m Int64      \u001b[0m\u001b[90m String31 \u001b[0m\u001b[90m Int64       \u001b[0m\u001b[90m String7   \u001b[0m\u001b[90m String7 \u001b[0m\u001b[90m Int64\u001b[0m ⋯\n",
       "─────┼──────────────────────────────────────────────────────────────────────────\n",
       "   1 │         1    15634602  Hargrave          619  France     Female      42 ⋯\n",
       "   2 │         2    15647311  Hill              608  Spain      Female      41\n",
       "   3 │         3    15619304  Onio              502  France     Female      42\n",
       "   4 │         4    15701354  Boni              699  France     Female      39\n",
       "   5 │         5    15737888  Mitchell          850  Spain      Female      43 ⋯\n",
       "\u001b[36m                                                               7 columns omitted\u001b[0m"
      ]
     },
     "execution_count": 6,
     "metadata": {},
     "output_type": "execute_result"
    }
   ],
   "source": [
    "@show(describe(df))\n",
    "@show(names(df))\n",
    "\n",
    "first(df,5)"
   ]
  },
  {
   "cell_type": "code",
   "execution_count": 7,
   "id": "f9778951-d23d-4cd4-80a0-083f0d84527e",
   "metadata": {},
   "outputs": [
    {
     "data": {
      "text/html": [
       "<div><div style = \"float: left;\"><span>10000×11 DataFrame</span></div><div style = \"float: right;\"><span style = \"font-style: italic;\">9975 rows omitted</span></div><div style = \"clear: both;\"></div></div><div class = \"data-frame\" style = \"overflow-x: scroll;\"><table class = \"data-frame\" style = \"margin-bottom: 6px;\"><thead><tr class = \"header\"><th class = \"rowNumber\" style = \"font-weight: bold; text-align: right;\">Row</th><th style = \"text-align: left;\">CreditScore</th><th style = \"text-align: left;\">Geography</th><th style = \"text-align: left;\">Gender</th><th style = \"text-align: left;\">Age</th><th style = \"text-align: left;\">Tenure</th><th style = \"text-align: left;\">Balance</th><th style = \"text-align: left;\">NumOfProducts</th><th style = \"text-align: left;\">HasCrCard</th><th style = \"text-align: left;\">IsActiveMember</th><th style = \"text-align: left;\">EstimatedSalary</th><th style = \"text-align: left;\">Exited</th></tr><tr class = \"subheader headerLastRow\"><th class = \"rowNumber\" style = \"font-weight: bold; text-align: right;\"></th><th title = \"Int64\" style = \"text-align: left;\">Int64</th><th title = \"String7\" style = \"text-align: left;\">String7</th><th title = \"String7\" style = \"text-align: left;\">String7</th><th title = \"Int64\" style = \"text-align: left;\">Int64</th><th title = \"Int64\" style = \"text-align: left;\">Int64</th><th title = \"Float64\" style = \"text-align: left;\">Float64</th><th title = \"Int64\" style = \"text-align: left;\">Int64</th><th title = \"Int64\" style = \"text-align: left;\">Int64</th><th title = \"Int64\" style = \"text-align: left;\">Int64</th><th title = \"Float64\" style = \"text-align: left;\">Float64</th><th title = \"Int64\" style = \"text-align: left;\">Int64</th></tr></thead><tbody><tr><td class = \"rowNumber\" style = \"font-weight: bold; text-align: right;\">1</td><td style = \"text-align: right;\">619</td><td style = \"text-align: left;\">France</td><td style = \"text-align: left;\">Female</td><td style = \"text-align: right;\">42</td><td style = \"text-align: right;\">2</td><td style = \"text-align: right;\">0.0</td><td style = \"text-align: right;\">1</td><td style = \"text-align: right;\">1</td><td style = \"text-align: right;\">1</td><td style = \"text-align: right;\">1.01349e5</td><td style = \"text-align: right;\">1</td></tr><tr><td class = \"rowNumber\" style = \"font-weight: bold; text-align: right;\">2</td><td style = \"text-align: right;\">608</td><td style = \"text-align: left;\">Spain</td><td style = \"text-align: left;\">Female</td><td style = \"text-align: right;\">41</td><td style = \"text-align: right;\">1</td><td style = \"text-align: right;\">83807.9</td><td style = \"text-align: right;\">1</td><td style = \"text-align: right;\">0</td><td style = \"text-align: right;\">1</td><td style = \"text-align: right;\">1.12543e5</td><td style = \"text-align: right;\">0</td></tr><tr><td class = \"rowNumber\" style = \"font-weight: bold; text-align: right;\">3</td><td style = \"text-align: right;\">502</td><td style = \"text-align: left;\">France</td><td style = \"text-align: left;\">Female</td><td style = \"text-align: right;\">42</td><td style = \"text-align: right;\">8</td><td style = \"text-align: right;\">1.59661e5</td><td style = \"text-align: right;\">3</td><td style = \"text-align: right;\">1</td><td style = \"text-align: right;\">0</td><td style = \"text-align: right;\">1.13932e5</td><td style = \"text-align: right;\">1</td></tr><tr><td class = \"rowNumber\" style = \"font-weight: bold; text-align: right;\">4</td><td style = \"text-align: right;\">699</td><td style = \"text-align: left;\">France</td><td style = \"text-align: left;\">Female</td><td style = \"text-align: right;\">39</td><td style = \"text-align: right;\">1</td><td style = \"text-align: right;\">0.0</td><td style = \"text-align: right;\">2</td><td style = \"text-align: right;\">0</td><td style = \"text-align: right;\">0</td><td style = \"text-align: right;\">93826.6</td><td style = \"text-align: right;\">0</td></tr><tr><td class = \"rowNumber\" style = \"font-weight: bold; text-align: right;\">5</td><td style = \"text-align: right;\">850</td><td style = \"text-align: left;\">Spain</td><td style = \"text-align: left;\">Female</td><td style = \"text-align: right;\">43</td><td style = \"text-align: right;\">2</td><td style = \"text-align: right;\">1.25511e5</td><td style = \"text-align: right;\">1</td><td style = \"text-align: right;\">1</td><td style = \"text-align: right;\">1</td><td style = \"text-align: right;\">79084.1</td><td style = \"text-align: right;\">0</td></tr><tr><td class = \"rowNumber\" style = \"font-weight: bold; text-align: right;\">6</td><td style = \"text-align: right;\">645</td><td style = \"text-align: left;\">Spain</td><td style = \"text-align: left;\">Male</td><td style = \"text-align: right;\">44</td><td style = \"text-align: right;\">8</td><td style = \"text-align: right;\">1.13756e5</td><td style = \"text-align: right;\">2</td><td style = \"text-align: right;\">1</td><td style = \"text-align: right;\">0</td><td style = \"text-align: right;\">1.49757e5</td><td style = \"text-align: right;\">1</td></tr><tr><td class = \"rowNumber\" style = \"font-weight: bold; text-align: right;\">7</td><td style = \"text-align: right;\">822</td><td style = \"text-align: left;\">France</td><td style = \"text-align: left;\">Male</td><td style = \"text-align: right;\">50</td><td style = \"text-align: right;\">7</td><td style = \"text-align: right;\">0.0</td><td style = \"text-align: right;\">2</td><td style = \"text-align: right;\">1</td><td style = \"text-align: right;\">1</td><td style = \"text-align: right;\">10062.8</td><td style = \"text-align: right;\">0</td></tr><tr><td class = \"rowNumber\" style = \"font-weight: bold; text-align: right;\">8</td><td style = \"text-align: right;\">376</td><td style = \"text-align: left;\">Germany</td><td style = \"text-align: left;\">Female</td><td style = \"text-align: right;\">29</td><td style = \"text-align: right;\">4</td><td style = \"text-align: right;\">1.15047e5</td><td style = \"text-align: right;\">4</td><td style = \"text-align: right;\">1</td><td style = \"text-align: right;\">0</td><td style = \"text-align: right;\">1.19347e5</td><td style = \"text-align: right;\">1</td></tr><tr><td class = \"rowNumber\" style = \"font-weight: bold; text-align: right;\">9</td><td style = \"text-align: right;\">501</td><td style = \"text-align: left;\">France</td><td style = \"text-align: left;\">Male</td><td style = \"text-align: right;\">44</td><td style = \"text-align: right;\">4</td><td style = \"text-align: right;\">1.42051e5</td><td style = \"text-align: right;\">2</td><td style = \"text-align: right;\">0</td><td style = \"text-align: right;\">1</td><td style = \"text-align: right;\">74940.5</td><td style = \"text-align: right;\">0</td></tr><tr><td class = \"rowNumber\" style = \"font-weight: bold; text-align: right;\">10</td><td style = \"text-align: right;\">684</td><td style = \"text-align: left;\">France</td><td style = \"text-align: left;\">Male</td><td style = \"text-align: right;\">27</td><td style = \"text-align: right;\">2</td><td style = \"text-align: right;\">1.34604e5</td><td style = \"text-align: right;\">1</td><td style = \"text-align: right;\">1</td><td style = \"text-align: right;\">1</td><td style = \"text-align: right;\">71725.7</td><td style = \"text-align: right;\">0</td></tr><tr><td class = \"rowNumber\" style = \"font-weight: bold; text-align: right;\">11</td><td style = \"text-align: right;\">528</td><td style = \"text-align: left;\">France</td><td style = \"text-align: left;\">Male</td><td style = \"text-align: right;\">31</td><td style = \"text-align: right;\">6</td><td style = \"text-align: right;\">1.02017e5</td><td style = \"text-align: right;\">2</td><td style = \"text-align: right;\">0</td><td style = \"text-align: right;\">0</td><td style = \"text-align: right;\">80181.1</td><td style = \"text-align: right;\">0</td></tr><tr><td class = \"rowNumber\" style = \"font-weight: bold; text-align: right;\">12</td><td style = \"text-align: right;\">497</td><td style = \"text-align: left;\">Spain</td><td style = \"text-align: left;\">Male</td><td style = \"text-align: right;\">24</td><td style = \"text-align: right;\">3</td><td style = \"text-align: right;\">0.0</td><td style = \"text-align: right;\">2</td><td style = \"text-align: right;\">1</td><td style = \"text-align: right;\">0</td><td style = \"text-align: right;\">76390.0</td><td style = \"text-align: right;\">0</td></tr><tr><td class = \"rowNumber\" style = \"font-weight: bold; text-align: right;\">13</td><td style = \"text-align: right;\">476</td><td style = \"text-align: left;\">France</td><td style = \"text-align: left;\">Female</td><td style = \"text-align: right;\">34</td><td style = \"text-align: right;\">10</td><td style = \"text-align: right;\">0.0</td><td style = \"text-align: right;\">2</td><td style = \"text-align: right;\">1</td><td style = \"text-align: right;\">0</td><td style = \"text-align: right;\">26261.0</td><td style = \"text-align: right;\">0</td></tr><tr><td style = \"text-align: right;\">&vellip;</td><td style = \"text-align: right;\">&vellip;</td><td style = \"text-align: right;\">&vellip;</td><td style = \"text-align: right;\">&vellip;</td><td style = \"text-align: right;\">&vellip;</td><td style = \"text-align: right;\">&vellip;</td><td style = \"text-align: right;\">&vellip;</td><td style = \"text-align: right;\">&vellip;</td><td style = \"text-align: right;\">&vellip;</td><td style = \"text-align: right;\">&vellip;</td><td style = \"text-align: right;\">&vellip;</td><td style = \"text-align: right;\">&vellip;</td></tr><tr><td class = \"rowNumber\" style = \"font-weight: bold; text-align: right;\">9989</td><td style = \"text-align: right;\">775</td><td style = \"text-align: left;\">France</td><td style = \"text-align: left;\">Male</td><td style = \"text-align: right;\">30</td><td style = \"text-align: right;\">4</td><td style = \"text-align: right;\">0.0</td><td style = \"text-align: right;\">2</td><td style = \"text-align: right;\">1</td><td style = \"text-align: right;\">0</td><td style = \"text-align: right;\">49337.8</td><td style = \"text-align: right;\">0</td></tr><tr><td class = \"rowNumber\" style = \"font-weight: bold; text-align: right;\">9990</td><td style = \"text-align: right;\">841</td><td style = \"text-align: left;\">Spain</td><td style = \"text-align: left;\">Male</td><td style = \"text-align: right;\">28</td><td style = \"text-align: right;\">4</td><td style = \"text-align: right;\">0.0</td><td style = \"text-align: right;\">2</td><td style = \"text-align: right;\">1</td><td style = \"text-align: right;\">1</td><td style = \"text-align: right;\">1.79437e5</td><td style = \"text-align: right;\">0</td></tr><tr><td class = \"rowNumber\" style = \"font-weight: bold; text-align: right;\">9991</td><td style = \"text-align: right;\">714</td><td style = \"text-align: left;\">Germany</td><td style = \"text-align: left;\">Male</td><td style = \"text-align: right;\">33</td><td style = \"text-align: right;\">3</td><td style = \"text-align: right;\">35016.6</td><td style = \"text-align: right;\">1</td><td style = \"text-align: right;\">1</td><td style = \"text-align: right;\">0</td><td style = \"text-align: right;\">53667.1</td><td style = \"text-align: right;\">0</td></tr><tr><td class = \"rowNumber\" style = \"font-weight: bold; text-align: right;\">9992</td><td style = \"text-align: right;\">597</td><td style = \"text-align: left;\">France</td><td style = \"text-align: left;\">Female</td><td style = \"text-align: right;\">53</td><td style = \"text-align: right;\">4</td><td style = \"text-align: right;\">88381.2</td><td style = \"text-align: right;\">1</td><td style = \"text-align: right;\">1</td><td style = \"text-align: right;\">0</td><td style = \"text-align: right;\">69384.7</td><td style = \"text-align: right;\">1</td></tr><tr><td class = \"rowNumber\" style = \"font-weight: bold; text-align: right;\">9993</td><td style = \"text-align: right;\">726</td><td style = \"text-align: left;\">Spain</td><td style = \"text-align: left;\">Male</td><td style = \"text-align: right;\">36</td><td style = \"text-align: right;\">2</td><td style = \"text-align: right;\">0.0</td><td style = \"text-align: right;\">1</td><td style = \"text-align: right;\">1</td><td style = \"text-align: right;\">0</td><td style = \"text-align: right;\">1.95192e5</td><td style = \"text-align: right;\">0</td></tr><tr><td class = \"rowNumber\" style = \"font-weight: bold; text-align: right;\">9994</td><td style = \"text-align: right;\">644</td><td style = \"text-align: left;\">France</td><td style = \"text-align: left;\">Male</td><td style = \"text-align: right;\">28</td><td style = \"text-align: right;\">7</td><td style = \"text-align: right;\">1.5506e5</td><td style = \"text-align: right;\">1</td><td style = \"text-align: right;\">1</td><td style = \"text-align: right;\">0</td><td style = \"text-align: right;\">29179.5</td><td style = \"text-align: right;\">0</td></tr><tr><td class = \"rowNumber\" style = \"font-weight: bold; text-align: right;\">9995</td><td style = \"text-align: right;\">800</td><td style = \"text-align: left;\">France</td><td style = \"text-align: left;\">Female</td><td style = \"text-align: right;\">29</td><td style = \"text-align: right;\">2</td><td style = \"text-align: right;\">0.0</td><td style = \"text-align: right;\">2</td><td style = \"text-align: right;\">0</td><td style = \"text-align: right;\">0</td><td style = \"text-align: right;\">1.67774e5</td><td style = \"text-align: right;\">0</td></tr><tr><td class = \"rowNumber\" style = \"font-weight: bold; text-align: right;\">9996</td><td style = \"text-align: right;\">771</td><td style = \"text-align: left;\">France</td><td style = \"text-align: left;\">Male</td><td style = \"text-align: right;\">39</td><td style = \"text-align: right;\">5</td><td style = \"text-align: right;\">0.0</td><td style = \"text-align: right;\">2</td><td style = \"text-align: right;\">1</td><td style = \"text-align: right;\">0</td><td style = \"text-align: right;\">96270.6</td><td style = \"text-align: right;\">0</td></tr><tr><td class = \"rowNumber\" style = \"font-weight: bold; text-align: right;\">9997</td><td style = \"text-align: right;\">516</td><td style = \"text-align: left;\">France</td><td style = \"text-align: left;\">Male</td><td style = \"text-align: right;\">35</td><td style = \"text-align: right;\">10</td><td style = \"text-align: right;\">57369.6</td><td style = \"text-align: right;\">1</td><td style = \"text-align: right;\">1</td><td style = \"text-align: right;\">1</td><td style = \"text-align: right;\">1.017e5</td><td style = \"text-align: right;\">0</td></tr><tr><td class = \"rowNumber\" style = \"font-weight: bold; text-align: right;\">9998</td><td style = \"text-align: right;\">709</td><td style = \"text-align: left;\">France</td><td style = \"text-align: left;\">Female</td><td style = \"text-align: right;\">36</td><td style = \"text-align: right;\">7</td><td style = \"text-align: right;\">0.0</td><td style = \"text-align: right;\">1</td><td style = \"text-align: right;\">0</td><td style = \"text-align: right;\">1</td><td style = \"text-align: right;\">42085.6</td><td style = \"text-align: right;\">1</td></tr><tr><td class = \"rowNumber\" style = \"font-weight: bold; text-align: right;\">9999</td><td style = \"text-align: right;\">772</td><td style = \"text-align: left;\">Germany</td><td style = \"text-align: left;\">Male</td><td style = \"text-align: right;\">42</td><td style = \"text-align: right;\">3</td><td style = \"text-align: right;\">75075.3</td><td style = \"text-align: right;\">2</td><td style = \"text-align: right;\">1</td><td style = \"text-align: right;\">0</td><td style = \"text-align: right;\">92888.5</td><td style = \"text-align: right;\">1</td></tr><tr><td class = \"rowNumber\" style = \"font-weight: bold; text-align: right;\">10000</td><td style = \"text-align: right;\">792</td><td style = \"text-align: left;\">France</td><td style = \"text-align: left;\">Female</td><td style = \"text-align: right;\">28</td><td style = \"text-align: right;\">4</td><td style = \"text-align: right;\">1.30143e5</td><td style = \"text-align: right;\">1</td><td style = \"text-align: right;\">1</td><td style = \"text-align: right;\">0</td><td style = \"text-align: right;\">38190.8</td><td style = \"text-align: right;\">0</td></tr></tbody></table></div>"
      ],
      "text/latex": [
       "\\begin{tabular}{r|ccccccccc}\n",
       "\t& CreditScore & Geography & Gender & Age & Tenure & Balance & NumOfProducts & HasCrCard & \\\\\n",
       "\t\\hline\n",
       "\t& Int64 & String7 & String7 & Int64 & Int64 & Float64 & Int64 & Int64 & \\\\\n",
       "\t\\hline\n",
       "\t1 & 619 & France & Female & 42 & 2 & 0.0 & 1 & 1 & $\\dots$ \\\\\n",
       "\t2 & 608 & Spain & Female & 41 & 1 & 83807.9 & 1 & 0 & $\\dots$ \\\\\n",
       "\t3 & 502 & France & Female & 42 & 8 & 1.59661e5 & 3 & 1 & $\\dots$ \\\\\n",
       "\t4 & 699 & France & Female & 39 & 1 & 0.0 & 2 & 0 & $\\dots$ \\\\\n",
       "\t5 & 850 & Spain & Female & 43 & 2 & 1.25511e5 & 1 & 1 & $\\dots$ \\\\\n",
       "\t6 & 645 & Spain & Male & 44 & 8 & 1.13756e5 & 2 & 1 & $\\dots$ \\\\\n",
       "\t7 & 822 & France & Male & 50 & 7 & 0.0 & 2 & 1 & $\\dots$ \\\\\n",
       "\t8 & 376 & Germany & Female & 29 & 4 & 1.15047e5 & 4 & 1 & $\\dots$ \\\\\n",
       "\t9 & 501 & France & Male & 44 & 4 & 1.42051e5 & 2 & 0 & $\\dots$ \\\\\n",
       "\t10 & 684 & France & Male & 27 & 2 & 1.34604e5 & 1 & 1 & $\\dots$ \\\\\n",
       "\t11 & 528 & France & Male & 31 & 6 & 1.02017e5 & 2 & 0 & $\\dots$ \\\\\n",
       "\t12 & 497 & Spain & Male & 24 & 3 & 0.0 & 2 & 1 & $\\dots$ \\\\\n",
       "\t13 & 476 & France & Female & 34 & 10 & 0.0 & 2 & 1 & $\\dots$ \\\\\n",
       "\t14 & 549 & France & Female & 25 & 5 & 0.0 & 2 & 0 & $\\dots$ \\\\\n",
       "\t15 & 635 & Spain & Female & 35 & 7 & 0.0 & 2 & 1 & $\\dots$ \\\\\n",
       "\t16 & 616 & Germany & Male & 45 & 3 & 1.43129e5 & 2 & 0 & $\\dots$ \\\\\n",
       "\t17 & 653 & Germany & Male & 58 & 1 & 1.32603e5 & 1 & 1 & $\\dots$ \\\\\n",
       "\t18 & 549 & Spain & Female & 24 & 9 & 0.0 & 2 & 1 & $\\dots$ \\\\\n",
       "\t19 & 587 & Spain & Male & 45 & 6 & 0.0 & 1 & 0 & $\\dots$ \\\\\n",
       "\t20 & 726 & France & Female & 24 & 6 & 0.0 & 2 & 1 & $\\dots$ \\\\\n",
       "\t21 & 732 & France & Male & 41 & 8 & 0.0 & 2 & 1 & $\\dots$ \\\\\n",
       "\t22 & 636 & Spain & Female & 32 & 8 & 0.0 & 2 & 1 & $\\dots$ \\\\\n",
       "\t23 & 510 & Spain & Female & 38 & 4 & 0.0 & 1 & 1 & $\\dots$ \\\\\n",
       "\t24 & 669 & France & Male & 46 & 3 & 0.0 & 2 & 0 & $\\dots$ \\\\\n",
       "\t25 & 846 & France & Female & 38 & 5 & 0.0 & 1 & 1 & $\\dots$ \\\\\n",
       "\t26 & 577 & France & Male & 25 & 3 & 0.0 & 2 & 0 & $\\dots$ \\\\\n",
       "\t27 & 756 & Germany & Male & 36 & 2 & 1.36816e5 & 1 & 1 & $\\dots$ \\\\\n",
       "\t28 & 571 & France & Male & 44 & 9 & 0.0 & 2 & 0 & $\\dots$ \\\\\n",
       "\t29 & 574 & Germany & Female & 43 & 3 & 1.41349e5 & 1 & 1 & $\\dots$ \\\\\n",
       "\t30 & 411 & France & Male & 29 & 0 & 59697.2 & 2 & 1 & $\\dots$ \\\\\n",
       "\t$\\dots$ & $\\dots$ & $\\dots$ & $\\dots$ & $\\dots$ & $\\dots$ & $\\dots$ & $\\dots$ & $\\dots$ &  \\\\\n",
       "\\end{tabular}\n"
      ],
      "text/plain": [
       "\u001b[1m10000×11 DataFrame\u001b[0m\n",
       "\u001b[1m   Row \u001b[0m│\u001b[1m CreditScore \u001b[0m\u001b[1m Geography \u001b[0m\u001b[1m Gender  \u001b[0m\u001b[1m Age   \u001b[0m\u001b[1m Tenure \u001b[0m\u001b[1m Balance       \u001b[0m\u001b[1m NumOfP\u001b[0m ⋯\n",
       "       │\u001b[90m Int64       \u001b[0m\u001b[90m String7   \u001b[0m\u001b[90m String7 \u001b[0m\u001b[90m Int64 \u001b[0m\u001b[90m Int64  \u001b[0m\u001b[90m Float64       \u001b[0m\u001b[90m Int64 \u001b[0m ⋯\n",
       "───────┼────────────────────────────────────────────────────────────────────────\n",
       "     1 │         619  France     Female      42       2      0.0               ⋯\n",
       "     2 │         608  Spain      Female      41       1  83807.9\n",
       "     3 │         502  France     Female      42       8      1.59661e5\n",
       "     4 │         699  France     Female      39       1      0.0\n",
       "     5 │         850  Spain      Female      43       2      1.25511e5         ⋯\n",
       "     6 │         645  Spain      Male        44       8      1.13756e5\n",
       "     7 │         822  France     Male        50       7      0.0\n",
       "     8 │         376  Germany    Female      29       4      1.15047e5\n",
       "     9 │         501  France     Male        44       4      1.42051e5         ⋯\n",
       "    10 │         684  France     Male        27       2      1.34604e5\n",
       "    11 │         528  France     Male        31       6      1.02017e5\n",
       "   ⋮   │      ⋮           ⋮         ⋮       ⋮      ⋮           ⋮               ⋱\n",
       "  9991 │         714  Germany    Male        33       3  35016.6\n",
       "  9992 │         597  France     Female      53       4  88381.2               ⋯\n",
       "  9993 │         726  Spain      Male        36       2      0.0\n",
       "  9994 │         644  France     Male        28       7      1.5506e5\n",
       "  9995 │         800  France     Female      29       2      0.0\n",
       "  9996 │         771  France     Male        39       5      0.0               ⋯\n",
       "  9997 │         516  France     Male        35      10  57369.6\n",
       "  9998 │         709  France     Female      36       7      0.0\n",
       "  9999 │         772  Germany    Male        42       3  75075.3\n",
       " 10000 │         792  France     Female      28       4      1.30143e5         ⋯\n",
       "\u001b[36m                                                 5 columns and 9979 rows omitted\u001b[0m"
      ]
     },
     "execution_count": 7,
     "metadata": {},
     "output_type": "execute_result"
    }
   ],
   "source": [
    "df = DataFrames.select(df, Not([\"RowNumber\", \"CustomerId\", \"Surname\"]))"
   ]
  },
  {
   "cell_type": "code",
   "execution_count": 16,
   "id": "f511274a-169e-456b-a911-2fcebdb485b0",
   "metadata": {},
   "outputs": [
    {
     "data": {
      "text/plain": [
       "10000-element Vector{Int64}:\n",
       " 1\n",
       " 0\n",
       " 1\n",
       " 0\n",
       " 0\n",
       " 1\n",
       " 0\n",
       " 1\n",
       " 0\n",
       " 0\n",
       " 0\n",
       " 0\n",
       " 0\n",
       " ⋮\n",
       " 0\n",
       " 0\n",
       " 0\n",
       " 1\n",
       " 0\n",
       " 0\n",
       " 0\n",
       " 0\n",
       " 0\n",
       " 1\n",
       " 1\n",
       " 0"
      ]
     },
     "execution_count": 16,
     "metadata": {},
     "output_type": "execute_result"
    }
   ],
   "source": [
    "# Dividir datos en X (características) e \"y\" (objetivo)\n",
    "X = DataFrames.select(df, Not(:Exited))\n",
    "y = df.Exited"
   ]
  },
  {
   "cell_type": "code",
   "execution_count": 17,
   "id": "2d077e90-dfcc-41b2-a303-56645e3bff8e",
   "metadata": {},
   "outputs": [
    {
     "data": {
      "text/plain": [
       "┌─────────────────┬────────────┬─────────┐\n",
       "│\u001b[22m names           \u001b[0m│\u001b[22m scitypes   \u001b[0m│\u001b[22m types   \u001b[0m│\n",
       "├─────────────────┼────────────┼─────────┤\n",
       "│ CreditScore     │ Count      │ Int64   │\n",
       "│ Geography       │ Textual    │ String7 │\n",
       "│ Gender          │ Textual    │ String7 │\n",
       "│ Age             │ Count      │ Int64   │\n",
       "│ Tenure          │ Count      │ Int64   │\n",
       "│ Balance         │ Continuous │ Float64 │\n",
       "│ NumOfProducts   │ Count      │ Int64   │\n",
       "│ HasCrCard       │ Count      │ Int64   │\n",
       "│ IsActiveMember  │ Count      │ Int64   │\n",
       "│ EstimatedSalary │ Continuous │ Float64 │\n",
       "└─────────────────┴────────────┴─────────┘\n"
      ]
     },
     "execution_count": 17,
     "metadata": {},
     "output_type": "execute_result"
    }
   ],
   "source": [
    "schema(X)"
   ]
  },
  {
   "cell_type": "code",
   "execution_count": 18,
   "id": "d2c95250-90e2-4777-af33-26c779b5732a",
   "metadata": {},
   "outputs": [
    {
     "name": "stderr",
     "output_type": "stream",
     "text": [
      "\u001b[36m\u001b[1m[ \u001b[22m\u001b[39m\u001b[36m\u001b[1mInfo: \u001b[22m\u001b[39mTraining machine(OneHotEncoder(features = [:Geography, :Gender], …), …).\n",
      "\u001b[36m\u001b[1m[ \u001b[22m\u001b[39m\u001b[36m\u001b[1mInfo: \u001b[22m\u001b[39mSpawning 3 sub-features to one-hot encode feature :Geography.\n",
      "\u001b[36m\u001b[1m[ \u001b[22m\u001b[39m\u001b[36m\u001b[1mInfo: \u001b[22m\u001b[39mSpawning 2 sub-features to one-hot encode feature :Gender.\n"
     ]
    },
    {
     "data": {
      "text/plain": [
       "┌────────────────────┬────────────┬─────────┐\n",
       "│\u001b[22m names              \u001b[0m│\u001b[22m scitypes   \u001b[0m│\u001b[22m types   \u001b[0m│\n",
       "├────────────────────┼────────────┼─────────┤\n",
       "│ CreditScore        │ Count      │ Int64   │\n",
       "│ Geography__France  │ Continuous │ Float64 │\n",
       "│ Geography__Germany │ Continuous │ Float64 │\n",
       "│ Geography__Spain   │ Continuous │ Float64 │\n",
       "│ Gender__Female     │ Continuous │ Float64 │\n",
       "│ Gender__Male       │ Continuous │ Float64 │\n",
       "│ Age                │ Count      │ Int64   │\n",
       "│ Tenure             │ Count      │ Int64   │\n",
       "│ Balance            │ Continuous │ Float64 │\n",
       "│ NumOfProducts      │ Count      │ Int64   │\n",
       "│ HasCrCard          │ Count      │ Int64   │\n",
       "│ IsActiveMember     │ Count      │ Int64   │\n",
       "│ EstimatedSalary    │ Continuous │ Float64 │\n",
       "└────────────────────┴────────────┴─────────┘\n"
      ]
     },
     "execution_count": 18,
     "metadata": {},
     "output_type": "execute_result"
    }
   ],
   "source": [
    "X.Gender = coerce(X.Gender, Multiclass)\n",
    "X.Geography = coerce(X.Geography, Multiclass)\n",
    "\n",
    "hot_encoder = OneHotEncoder(features=[:Geography, :Gender])\n",
    "mach = fit!(machine(hot_encoder, X))\n",
    "X = MLJ.transform(mach, X)\n",
    "schema(X)"
   ]
  },
  {
   "cell_type": "code",
   "execution_count": 19,
   "id": "3b0cf061-2c2f-410e-a857-44a3894cd9bb",
   "metadata": {},
   "outputs": [
    {
     "data": {
      "text/html": [
       "<div><div style = \"float: left;\"><span>10×13 DataFrame</span></div><div style = \"clear: both;\"></div></div><div class = \"data-frame\" style = \"overflow-x: scroll;\"><table class = \"data-frame\" style = \"margin-bottom: 6px;\"><thead><tr class = \"header\"><th class = \"rowNumber\" style = \"font-weight: bold; text-align: right;\">Row</th><th style = \"text-align: left;\">CreditScore</th><th style = \"text-align: left;\">Geography__France</th><th style = \"text-align: left;\">Geography__Germany</th><th style = \"text-align: left;\">Geography__Spain</th><th style = \"text-align: left;\">Gender__Female</th><th style = \"text-align: left;\">Gender__Male</th><th style = \"text-align: left;\">Age</th><th style = \"text-align: left;\">Tenure</th><th style = \"text-align: left;\">Balance</th><th style = \"text-align: left;\">NumOfProducts</th><th style = \"text-align: left;\">HasCrCard</th><th style = \"text-align: left;\">IsActiveMember</th><th style = \"text-align: left;\">EstimatedSalary</th></tr><tr class = \"subheader headerLastRow\"><th class = \"rowNumber\" style = \"font-weight: bold; text-align: right;\"></th><th title = \"Int64\" style = \"text-align: left;\">Int64</th><th title = \"Float64\" style = \"text-align: left;\">Float64</th><th title = \"Float64\" style = \"text-align: left;\">Float64</th><th title = \"Float64\" style = \"text-align: left;\">Float64</th><th title = \"Float64\" style = \"text-align: left;\">Float64</th><th title = \"Float64\" style = \"text-align: left;\">Float64</th><th title = \"Int64\" style = \"text-align: left;\">Int64</th><th title = \"Int64\" style = \"text-align: left;\">Int64</th><th title = \"Float64\" style = \"text-align: left;\">Float64</th><th title = \"Int64\" style = \"text-align: left;\">Int64</th><th title = \"Int64\" style = \"text-align: left;\">Int64</th><th title = \"Int64\" style = \"text-align: left;\">Int64</th><th title = \"Float64\" style = \"text-align: left;\">Float64</th></tr></thead><tbody><tr><td class = \"rowNumber\" style = \"font-weight: bold; text-align: right;\">1</td><td style = \"text-align: right;\">619</td><td style = \"text-align: right;\">1.0</td><td style = \"text-align: right;\">0.0</td><td style = \"text-align: right;\">0.0</td><td style = \"text-align: right;\">1.0</td><td style = \"text-align: right;\">0.0</td><td style = \"text-align: right;\">42</td><td style = \"text-align: right;\">2</td><td style = \"text-align: right;\">0.0</td><td style = \"text-align: right;\">1</td><td style = \"text-align: right;\">1</td><td style = \"text-align: right;\">1</td><td style = \"text-align: right;\">1.01349e5</td></tr><tr><td class = \"rowNumber\" style = \"font-weight: bold; text-align: right;\">2</td><td style = \"text-align: right;\">608</td><td style = \"text-align: right;\">0.0</td><td style = \"text-align: right;\">0.0</td><td style = \"text-align: right;\">1.0</td><td style = \"text-align: right;\">1.0</td><td style = \"text-align: right;\">0.0</td><td style = \"text-align: right;\">41</td><td style = \"text-align: right;\">1</td><td style = \"text-align: right;\">83807.9</td><td style = \"text-align: right;\">1</td><td style = \"text-align: right;\">0</td><td style = \"text-align: right;\">1</td><td style = \"text-align: right;\">1.12543e5</td></tr><tr><td class = \"rowNumber\" style = \"font-weight: bold; text-align: right;\">3</td><td style = \"text-align: right;\">502</td><td style = \"text-align: right;\">1.0</td><td style = \"text-align: right;\">0.0</td><td style = \"text-align: right;\">0.0</td><td style = \"text-align: right;\">1.0</td><td style = \"text-align: right;\">0.0</td><td style = \"text-align: right;\">42</td><td style = \"text-align: right;\">8</td><td style = \"text-align: right;\">1.59661e5</td><td style = \"text-align: right;\">3</td><td style = \"text-align: right;\">1</td><td style = \"text-align: right;\">0</td><td style = \"text-align: right;\">1.13932e5</td></tr><tr><td class = \"rowNumber\" style = \"font-weight: bold; text-align: right;\">4</td><td style = \"text-align: right;\">699</td><td style = \"text-align: right;\">1.0</td><td style = \"text-align: right;\">0.0</td><td style = \"text-align: right;\">0.0</td><td style = \"text-align: right;\">1.0</td><td style = \"text-align: right;\">0.0</td><td style = \"text-align: right;\">39</td><td style = \"text-align: right;\">1</td><td style = \"text-align: right;\">0.0</td><td style = \"text-align: right;\">2</td><td style = \"text-align: right;\">0</td><td style = \"text-align: right;\">0</td><td style = \"text-align: right;\">93826.6</td></tr><tr><td class = \"rowNumber\" style = \"font-weight: bold; text-align: right;\">5</td><td style = \"text-align: right;\">850</td><td style = \"text-align: right;\">0.0</td><td style = \"text-align: right;\">0.0</td><td style = \"text-align: right;\">1.0</td><td style = \"text-align: right;\">1.0</td><td style = \"text-align: right;\">0.0</td><td style = \"text-align: right;\">43</td><td style = \"text-align: right;\">2</td><td style = \"text-align: right;\">1.25511e5</td><td style = \"text-align: right;\">1</td><td style = \"text-align: right;\">1</td><td style = \"text-align: right;\">1</td><td style = \"text-align: right;\">79084.1</td></tr><tr><td class = \"rowNumber\" style = \"font-weight: bold; text-align: right;\">6</td><td style = \"text-align: right;\">645</td><td style = \"text-align: right;\">0.0</td><td style = \"text-align: right;\">0.0</td><td style = \"text-align: right;\">1.0</td><td style = \"text-align: right;\">0.0</td><td style = \"text-align: right;\">1.0</td><td style = \"text-align: right;\">44</td><td style = \"text-align: right;\">8</td><td style = \"text-align: right;\">1.13756e5</td><td style = \"text-align: right;\">2</td><td style = \"text-align: right;\">1</td><td style = \"text-align: right;\">0</td><td style = \"text-align: right;\">1.49757e5</td></tr><tr><td class = \"rowNumber\" style = \"font-weight: bold; text-align: right;\">7</td><td style = \"text-align: right;\">822</td><td style = \"text-align: right;\">1.0</td><td style = \"text-align: right;\">0.0</td><td style = \"text-align: right;\">0.0</td><td style = \"text-align: right;\">0.0</td><td style = \"text-align: right;\">1.0</td><td style = \"text-align: right;\">50</td><td style = \"text-align: right;\">7</td><td style = \"text-align: right;\">0.0</td><td style = \"text-align: right;\">2</td><td style = \"text-align: right;\">1</td><td style = \"text-align: right;\">1</td><td style = \"text-align: right;\">10062.8</td></tr><tr><td class = \"rowNumber\" style = \"font-weight: bold; text-align: right;\">8</td><td style = \"text-align: right;\">376</td><td style = \"text-align: right;\">0.0</td><td style = \"text-align: right;\">1.0</td><td style = \"text-align: right;\">0.0</td><td style = \"text-align: right;\">1.0</td><td style = \"text-align: right;\">0.0</td><td style = \"text-align: right;\">29</td><td style = \"text-align: right;\">4</td><td style = \"text-align: right;\">1.15047e5</td><td style = \"text-align: right;\">4</td><td style = \"text-align: right;\">1</td><td style = \"text-align: right;\">0</td><td style = \"text-align: right;\">1.19347e5</td></tr><tr><td class = \"rowNumber\" style = \"font-weight: bold; text-align: right;\">9</td><td style = \"text-align: right;\">501</td><td style = \"text-align: right;\">1.0</td><td style = \"text-align: right;\">0.0</td><td style = \"text-align: right;\">0.0</td><td style = \"text-align: right;\">0.0</td><td style = \"text-align: right;\">1.0</td><td style = \"text-align: right;\">44</td><td style = \"text-align: right;\">4</td><td style = \"text-align: right;\">1.42051e5</td><td style = \"text-align: right;\">2</td><td style = \"text-align: right;\">0</td><td style = \"text-align: right;\">1</td><td style = \"text-align: right;\">74940.5</td></tr><tr><td class = \"rowNumber\" style = \"font-weight: bold; text-align: right;\">10</td><td style = \"text-align: right;\">684</td><td style = \"text-align: right;\">1.0</td><td style = \"text-align: right;\">0.0</td><td style = \"text-align: right;\">0.0</td><td style = \"text-align: right;\">0.0</td><td style = \"text-align: right;\">1.0</td><td style = \"text-align: right;\">27</td><td style = \"text-align: right;\">2</td><td style = \"text-align: right;\">1.34604e5</td><td style = \"text-align: right;\">1</td><td style = \"text-align: right;\">1</td><td style = \"text-align: right;\">1</td><td style = \"text-align: right;\">71725.7</td></tr></tbody></table></div>"
      ],
      "text/latex": [
       "\\begin{tabular}{r|cccccc}\n",
       "\t& CreditScore & Geography\\_\\_France & Geography\\_\\_Germany & Geography\\_\\_Spain & Gender\\_\\_Female & \\\\\n",
       "\t\\hline\n",
       "\t& Int64 & Float64 & Float64 & Float64 & Float64 & \\\\\n",
       "\t\\hline\n",
       "\t1 & 619 & 1.0 & 0.0 & 0.0 & 1.0 & $\\dots$ \\\\\n",
       "\t2 & 608 & 0.0 & 0.0 & 1.0 & 1.0 & $\\dots$ \\\\\n",
       "\t3 & 502 & 1.0 & 0.0 & 0.0 & 1.0 & $\\dots$ \\\\\n",
       "\t4 & 699 & 1.0 & 0.0 & 0.0 & 1.0 & $\\dots$ \\\\\n",
       "\t5 & 850 & 0.0 & 0.0 & 1.0 & 1.0 & $\\dots$ \\\\\n",
       "\t6 & 645 & 0.0 & 0.0 & 1.0 & 0.0 & $\\dots$ \\\\\n",
       "\t7 & 822 & 1.0 & 0.0 & 0.0 & 0.0 & $\\dots$ \\\\\n",
       "\t8 & 376 & 0.0 & 1.0 & 0.0 & 1.0 & $\\dots$ \\\\\n",
       "\t9 & 501 & 1.0 & 0.0 & 0.0 & 0.0 & $\\dots$ \\\\\n",
       "\t10 & 684 & 1.0 & 0.0 & 0.0 & 0.0 & $\\dots$ \\\\\n",
       "\\end{tabular}\n"
      ],
      "text/plain": [
       "\u001b[1m10×13 DataFrame\u001b[0m\n",
       "\u001b[1m Row \u001b[0m│\u001b[1m CreditScore \u001b[0m\u001b[1m Geography__France \u001b[0m\u001b[1m Geography__Germany \u001b[0m\u001b[1m Geography__Spain \u001b[0m\u001b[1m G\u001b[0m ⋯\n",
       "     │\u001b[90m Int64       \u001b[0m\u001b[90m Float64           \u001b[0m\u001b[90m Float64            \u001b[0m\u001b[90m Float64          \u001b[0m\u001b[90m F\u001b[0m ⋯\n",
       "─────┼──────────────────────────────────────────────────────────────────────────\n",
       "   1 │         619                1.0                 0.0               0.0    ⋯\n",
       "   2 │         608                0.0                 0.0               1.0\n",
       "   3 │         502                1.0                 0.0               0.0\n",
       "   4 │         699                1.0                 0.0               0.0\n",
       "   5 │         850                0.0                 0.0               1.0    ⋯\n",
       "   6 │         645                0.0                 0.0               1.0\n",
       "   7 │         822                1.0                 0.0               0.0\n",
       "   8 │         376                0.0                 1.0               0.0\n",
       "   9 │         501                1.0                 0.0               0.0    ⋯\n",
       "  10 │         684                1.0                 0.0               0.0\n",
       "\u001b[36m                                                               9 columns omitted\u001b[0m"
      ]
     },
     "execution_count": 19,
     "metadata": {},
     "output_type": "execute_result"
    }
   ],
   "source": [
    "first(X, 10)"
   ]
  },
  {
   "cell_type": "code",
   "execution_count": 20,
   "id": "f429a918-99e8-4572-a59c-83de64885e6e",
   "metadata": {},
   "outputs": [
    {
     "data": {
      "text/html": [
       "<div><div style = \"float: left;\"><span>10000×13 DataFrame</span></div><div style = \"float: right;\"><span style = \"font-style: italic;\">9975 rows omitted</span></div><div style = \"clear: both;\"></div></div><div class = \"data-frame\" style = \"overflow-x: scroll;\"><table class = \"data-frame\" style = \"margin-bottom: 6px;\"><thead><tr class = \"header\"><th class = \"rowNumber\" style = \"font-weight: bold; text-align: right;\">Row</th><th style = \"text-align: left;\">CreditScore</th><th style = \"text-align: left;\">Geography__France</th><th style = \"text-align: left;\">Geography__Germany</th><th style = \"text-align: left;\">Geography__Spain</th><th style = \"text-align: left;\">Gender__Female</th><th style = \"text-align: left;\">Gender__Male</th><th style = \"text-align: left;\">Age</th><th style = \"text-align: left;\">Tenure</th><th style = \"text-align: left;\">Balance</th><th style = \"text-align: left;\">NumOfProducts</th><th style = \"text-align: left;\">HasCrCard</th><th style = \"text-align: left;\">IsActiveMember</th><th style = \"text-align: left;\">EstimatedSalary</th></tr><tr class = \"subheader headerLastRow\"><th class = \"rowNumber\" style = \"font-weight: bold; text-align: right;\"></th><th title = \"Int64\" style = \"text-align: left;\">Int64</th><th title = \"CategoricalArrays.CategoricalValue{Float64, UInt32}\" style = \"text-align: left;\">Cat…</th><th title = \"CategoricalArrays.CategoricalValue{Float64, UInt32}\" style = \"text-align: left;\">Cat…</th><th title = \"CategoricalArrays.CategoricalValue{Float64, UInt32}\" style = \"text-align: left;\">Cat…</th><th title = \"CategoricalArrays.CategoricalValue{Float64, UInt32}\" style = \"text-align: left;\">Cat…</th><th title = \"CategoricalArrays.CategoricalValue{Float64, UInt32}\" style = \"text-align: left;\">Cat…</th><th title = \"Int64\" style = \"text-align: left;\">Int64</th><th title = \"Int64\" style = \"text-align: left;\">Int64</th><th title = \"Float64\" style = \"text-align: left;\">Float64</th><th title = \"Int64\" style = \"text-align: left;\">Int64</th><th title = \"CategoricalArrays.CategoricalValue{Int64, UInt32}\" style = \"text-align: left;\">Cat…</th><th title = \"CategoricalArrays.CategoricalValue{Int64, UInt32}\" style = \"text-align: left;\">Cat…</th><th title = \"Float64\" style = \"text-align: left;\">Float64</th></tr></thead><tbody><tr><td class = \"rowNumber\" style = \"font-weight: bold; text-align: right;\">1</td><td style = \"text-align: right;\">619</td><td style = \"text-align: left;\">1.0</td><td style = \"text-align: left;\">0.0</td><td style = \"text-align: left;\">0.0</td><td style = \"text-align: left;\">1.0</td><td style = \"text-align: left;\">0.0</td><td style = \"text-align: right;\">42</td><td style = \"text-align: right;\">2</td><td style = \"text-align: right;\">0.0</td><td style = \"text-align: right;\">1</td><td style = \"text-align: left;\">1</td><td style = \"text-align: left;\">1</td><td style = \"text-align: right;\">1.01349e5</td></tr><tr><td class = \"rowNumber\" style = \"font-weight: bold; text-align: right;\">2</td><td style = \"text-align: right;\">608</td><td style = \"text-align: left;\">0.0</td><td style = \"text-align: left;\">0.0</td><td style = \"text-align: left;\">1.0</td><td style = \"text-align: left;\">1.0</td><td style = \"text-align: left;\">0.0</td><td style = \"text-align: right;\">41</td><td style = \"text-align: right;\">1</td><td style = \"text-align: right;\">83807.9</td><td style = \"text-align: right;\">1</td><td style = \"text-align: left;\">0</td><td style = \"text-align: left;\">1</td><td style = \"text-align: right;\">1.12543e5</td></tr><tr><td class = \"rowNumber\" style = \"font-weight: bold; text-align: right;\">3</td><td style = \"text-align: right;\">502</td><td style = \"text-align: left;\">1.0</td><td style = \"text-align: left;\">0.0</td><td style = \"text-align: left;\">0.0</td><td style = \"text-align: left;\">1.0</td><td style = \"text-align: left;\">0.0</td><td style = \"text-align: right;\">42</td><td style = \"text-align: right;\">8</td><td style = \"text-align: right;\">1.59661e5</td><td style = \"text-align: right;\">3</td><td style = \"text-align: left;\">1</td><td style = \"text-align: left;\">0</td><td style = \"text-align: right;\">1.13932e5</td></tr><tr><td class = \"rowNumber\" style = \"font-weight: bold; text-align: right;\">4</td><td style = \"text-align: right;\">699</td><td style = \"text-align: left;\">1.0</td><td style = \"text-align: left;\">0.0</td><td style = \"text-align: left;\">0.0</td><td style = \"text-align: left;\">1.0</td><td style = \"text-align: left;\">0.0</td><td style = \"text-align: right;\">39</td><td style = \"text-align: right;\">1</td><td style = \"text-align: right;\">0.0</td><td style = \"text-align: right;\">2</td><td style = \"text-align: left;\">0</td><td style = \"text-align: left;\">0</td><td style = \"text-align: right;\">93826.6</td></tr><tr><td class = \"rowNumber\" style = \"font-weight: bold; text-align: right;\">5</td><td style = \"text-align: right;\">850</td><td style = \"text-align: left;\">0.0</td><td style = \"text-align: left;\">0.0</td><td style = \"text-align: left;\">1.0</td><td style = \"text-align: left;\">1.0</td><td style = \"text-align: left;\">0.0</td><td style = \"text-align: right;\">43</td><td style = \"text-align: right;\">2</td><td style = \"text-align: right;\">1.25511e5</td><td style = \"text-align: right;\">1</td><td style = \"text-align: left;\">1</td><td style = \"text-align: left;\">1</td><td style = \"text-align: right;\">79084.1</td></tr><tr><td class = \"rowNumber\" style = \"font-weight: bold; text-align: right;\">6</td><td style = \"text-align: right;\">645</td><td style = \"text-align: left;\">0.0</td><td style = \"text-align: left;\">0.0</td><td style = \"text-align: left;\">1.0</td><td style = \"text-align: left;\">0.0</td><td style = \"text-align: left;\">1.0</td><td style = \"text-align: right;\">44</td><td style = \"text-align: right;\">8</td><td style = \"text-align: right;\">1.13756e5</td><td style = \"text-align: right;\">2</td><td style = \"text-align: left;\">1</td><td style = \"text-align: left;\">0</td><td style = \"text-align: right;\">1.49757e5</td></tr><tr><td class = \"rowNumber\" style = \"font-weight: bold; text-align: right;\">7</td><td style = \"text-align: right;\">822</td><td style = \"text-align: left;\">1.0</td><td style = \"text-align: left;\">0.0</td><td style = \"text-align: left;\">0.0</td><td style = \"text-align: left;\">0.0</td><td style = \"text-align: left;\">1.0</td><td style = \"text-align: right;\">50</td><td style = \"text-align: right;\">7</td><td style = \"text-align: right;\">0.0</td><td style = \"text-align: right;\">2</td><td style = \"text-align: left;\">1</td><td style = \"text-align: left;\">1</td><td style = \"text-align: right;\">10062.8</td></tr><tr><td class = \"rowNumber\" style = \"font-weight: bold; text-align: right;\">8</td><td style = \"text-align: right;\">376</td><td style = \"text-align: left;\">0.0</td><td style = \"text-align: left;\">1.0</td><td style = \"text-align: left;\">0.0</td><td style = \"text-align: left;\">1.0</td><td style = \"text-align: left;\">0.0</td><td style = \"text-align: right;\">29</td><td style = \"text-align: right;\">4</td><td style = \"text-align: right;\">1.15047e5</td><td style = \"text-align: right;\">4</td><td style = \"text-align: left;\">1</td><td style = \"text-align: left;\">0</td><td style = \"text-align: right;\">1.19347e5</td></tr><tr><td class = \"rowNumber\" style = \"font-weight: bold; text-align: right;\">9</td><td style = \"text-align: right;\">501</td><td style = \"text-align: left;\">1.0</td><td style = \"text-align: left;\">0.0</td><td style = \"text-align: left;\">0.0</td><td style = \"text-align: left;\">0.0</td><td style = \"text-align: left;\">1.0</td><td style = \"text-align: right;\">44</td><td style = \"text-align: right;\">4</td><td style = \"text-align: right;\">1.42051e5</td><td style = \"text-align: right;\">2</td><td style = \"text-align: left;\">0</td><td style = \"text-align: left;\">1</td><td style = \"text-align: right;\">74940.5</td></tr><tr><td class = \"rowNumber\" style = \"font-weight: bold; text-align: right;\">10</td><td style = \"text-align: right;\">684</td><td style = \"text-align: left;\">1.0</td><td style = \"text-align: left;\">0.0</td><td style = \"text-align: left;\">0.0</td><td style = \"text-align: left;\">0.0</td><td style = \"text-align: left;\">1.0</td><td style = \"text-align: right;\">27</td><td style = \"text-align: right;\">2</td><td style = \"text-align: right;\">1.34604e5</td><td style = \"text-align: right;\">1</td><td style = \"text-align: left;\">1</td><td style = \"text-align: left;\">1</td><td style = \"text-align: right;\">71725.7</td></tr><tr><td class = \"rowNumber\" style = \"font-weight: bold; text-align: right;\">11</td><td style = \"text-align: right;\">528</td><td style = \"text-align: left;\">1.0</td><td style = \"text-align: left;\">0.0</td><td style = \"text-align: left;\">0.0</td><td style = \"text-align: left;\">0.0</td><td style = \"text-align: left;\">1.0</td><td style = \"text-align: right;\">31</td><td style = \"text-align: right;\">6</td><td style = \"text-align: right;\">1.02017e5</td><td style = \"text-align: right;\">2</td><td style = \"text-align: left;\">0</td><td style = \"text-align: left;\">0</td><td style = \"text-align: right;\">80181.1</td></tr><tr><td class = \"rowNumber\" style = \"font-weight: bold; text-align: right;\">12</td><td style = \"text-align: right;\">497</td><td style = \"text-align: left;\">0.0</td><td style = \"text-align: left;\">0.0</td><td style = \"text-align: left;\">1.0</td><td style = \"text-align: left;\">0.0</td><td style = \"text-align: left;\">1.0</td><td style = \"text-align: right;\">24</td><td style = \"text-align: right;\">3</td><td style = \"text-align: right;\">0.0</td><td style = \"text-align: right;\">2</td><td style = \"text-align: left;\">1</td><td style = \"text-align: left;\">0</td><td style = \"text-align: right;\">76390.0</td></tr><tr><td class = \"rowNumber\" style = \"font-weight: bold; text-align: right;\">13</td><td style = \"text-align: right;\">476</td><td style = \"text-align: left;\">1.0</td><td style = \"text-align: left;\">0.0</td><td style = \"text-align: left;\">0.0</td><td style = \"text-align: left;\">1.0</td><td style = \"text-align: left;\">0.0</td><td style = \"text-align: right;\">34</td><td style = \"text-align: right;\">10</td><td style = \"text-align: right;\">0.0</td><td style = \"text-align: right;\">2</td><td style = \"text-align: left;\">1</td><td style = \"text-align: left;\">0</td><td style = \"text-align: right;\">26261.0</td></tr><tr><td style = \"text-align: right;\">&vellip;</td><td style = \"text-align: right;\">&vellip;</td><td style = \"text-align: right;\">&vellip;</td><td style = \"text-align: right;\">&vellip;</td><td style = \"text-align: right;\">&vellip;</td><td style = \"text-align: right;\">&vellip;</td><td style = \"text-align: right;\">&vellip;</td><td style = \"text-align: right;\">&vellip;</td><td style = \"text-align: right;\">&vellip;</td><td style = \"text-align: right;\">&vellip;</td><td style = \"text-align: right;\">&vellip;</td><td style = \"text-align: right;\">&vellip;</td><td style = \"text-align: right;\">&vellip;</td><td style = \"text-align: right;\">&vellip;</td></tr><tr><td class = \"rowNumber\" style = \"font-weight: bold; text-align: right;\">9989</td><td style = \"text-align: right;\">775</td><td style = \"text-align: left;\">1.0</td><td style = \"text-align: left;\">0.0</td><td style = \"text-align: left;\">0.0</td><td style = \"text-align: left;\">0.0</td><td style = \"text-align: left;\">1.0</td><td style = \"text-align: right;\">30</td><td style = \"text-align: right;\">4</td><td style = \"text-align: right;\">0.0</td><td style = \"text-align: right;\">2</td><td style = \"text-align: left;\">1</td><td style = \"text-align: left;\">0</td><td style = \"text-align: right;\">49337.8</td></tr><tr><td class = \"rowNumber\" style = \"font-weight: bold; text-align: right;\">9990</td><td style = \"text-align: right;\">841</td><td style = \"text-align: left;\">0.0</td><td style = \"text-align: left;\">0.0</td><td style = \"text-align: left;\">1.0</td><td style = \"text-align: left;\">0.0</td><td style = \"text-align: left;\">1.0</td><td style = \"text-align: right;\">28</td><td style = \"text-align: right;\">4</td><td style = \"text-align: right;\">0.0</td><td style = \"text-align: right;\">2</td><td style = \"text-align: left;\">1</td><td style = \"text-align: left;\">1</td><td style = \"text-align: right;\">1.79437e5</td></tr><tr><td class = \"rowNumber\" style = \"font-weight: bold; text-align: right;\">9991</td><td style = \"text-align: right;\">714</td><td style = \"text-align: left;\">0.0</td><td style = \"text-align: left;\">1.0</td><td style = \"text-align: left;\">0.0</td><td style = \"text-align: left;\">0.0</td><td style = \"text-align: left;\">1.0</td><td style = \"text-align: right;\">33</td><td style = \"text-align: right;\">3</td><td style = \"text-align: right;\">35016.6</td><td style = \"text-align: right;\">1</td><td style = \"text-align: left;\">1</td><td style = \"text-align: left;\">0</td><td style = \"text-align: right;\">53667.1</td></tr><tr><td class = \"rowNumber\" style = \"font-weight: bold; text-align: right;\">9992</td><td style = \"text-align: right;\">597</td><td style = \"text-align: left;\">1.0</td><td style = \"text-align: left;\">0.0</td><td style = \"text-align: left;\">0.0</td><td style = \"text-align: left;\">1.0</td><td style = \"text-align: left;\">0.0</td><td style = \"text-align: right;\">53</td><td style = \"text-align: right;\">4</td><td style = \"text-align: right;\">88381.2</td><td style = \"text-align: right;\">1</td><td style = \"text-align: left;\">1</td><td style = \"text-align: left;\">0</td><td style = \"text-align: right;\">69384.7</td></tr><tr><td class = \"rowNumber\" style = \"font-weight: bold; text-align: right;\">9993</td><td style = \"text-align: right;\">726</td><td style = \"text-align: left;\">0.0</td><td style = \"text-align: left;\">0.0</td><td style = \"text-align: left;\">1.0</td><td style = \"text-align: left;\">0.0</td><td style = \"text-align: left;\">1.0</td><td style = \"text-align: right;\">36</td><td style = \"text-align: right;\">2</td><td style = \"text-align: right;\">0.0</td><td style = \"text-align: right;\">1</td><td style = \"text-align: left;\">1</td><td style = \"text-align: left;\">0</td><td style = \"text-align: right;\">1.95192e5</td></tr><tr><td class = \"rowNumber\" style = \"font-weight: bold; text-align: right;\">9994</td><td style = \"text-align: right;\">644</td><td style = \"text-align: left;\">1.0</td><td style = \"text-align: left;\">0.0</td><td style = \"text-align: left;\">0.0</td><td style = \"text-align: left;\">0.0</td><td style = \"text-align: left;\">1.0</td><td style = \"text-align: right;\">28</td><td style = \"text-align: right;\">7</td><td style = \"text-align: right;\">1.5506e5</td><td style = \"text-align: right;\">1</td><td style = \"text-align: left;\">1</td><td style = \"text-align: left;\">0</td><td style = \"text-align: right;\">29179.5</td></tr><tr><td class = \"rowNumber\" style = \"font-weight: bold; text-align: right;\">9995</td><td style = \"text-align: right;\">800</td><td style = \"text-align: left;\">1.0</td><td style = \"text-align: left;\">0.0</td><td style = \"text-align: left;\">0.0</td><td style = \"text-align: left;\">1.0</td><td style = \"text-align: left;\">0.0</td><td style = \"text-align: right;\">29</td><td style = \"text-align: right;\">2</td><td style = \"text-align: right;\">0.0</td><td style = \"text-align: right;\">2</td><td style = \"text-align: left;\">0</td><td style = \"text-align: left;\">0</td><td style = \"text-align: right;\">1.67774e5</td></tr><tr><td class = \"rowNumber\" style = \"font-weight: bold; text-align: right;\">9996</td><td style = \"text-align: right;\">771</td><td style = \"text-align: left;\">1.0</td><td style = \"text-align: left;\">0.0</td><td style = \"text-align: left;\">0.0</td><td style = \"text-align: left;\">0.0</td><td style = \"text-align: left;\">1.0</td><td style = \"text-align: right;\">39</td><td style = \"text-align: right;\">5</td><td style = \"text-align: right;\">0.0</td><td style = \"text-align: right;\">2</td><td style = \"text-align: left;\">1</td><td style = \"text-align: left;\">0</td><td style = \"text-align: right;\">96270.6</td></tr><tr><td class = \"rowNumber\" style = \"font-weight: bold; text-align: right;\">9997</td><td style = \"text-align: right;\">516</td><td style = \"text-align: left;\">1.0</td><td style = \"text-align: left;\">0.0</td><td style = \"text-align: left;\">0.0</td><td style = \"text-align: left;\">0.0</td><td style = \"text-align: left;\">1.0</td><td style = \"text-align: right;\">35</td><td style = \"text-align: right;\">10</td><td style = \"text-align: right;\">57369.6</td><td style = \"text-align: right;\">1</td><td style = \"text-align: left;\">1</td><td style = \"text-align: left;\">1</td><td style = \"text-align: right;\">1.017e5</td></tr><tr><td class = \"rowNumber\" style = \"font-weight: bold; text-align: right;\">9998</td><td style = \"text-align: right;\">709</td><td style = \"text-align: left;\">1.0</td><td style = \"text-align: left;\">0.0</td><td style = \"text-align: left;\">0.0</td><td style = \"text-align: left;\">1.0</td><td style = \"text-align: left;\">0.0</td><td style = \"text-align: right;\">36</td><td style = \"text-align: right;\">7</td><td style = \"text-align: right;\">0.0</td><td style = \"text-align: right;\">1</td><td style = \"text-align: left;\">0</td><td style = \"text-align: left;\">1</td><td style = \"text-align: right;\">42085.6</td></tr><tr><td class = \"rowNumber\" style = \"font-weight: bold; text-align: right;\">9999</td><td style = \"text-align: right;\">772</td><td style = \"text-align: left;\">0.0</td><td style = \"text-align: left;\">1.0</td><td style = \"text-align: left;\">0.0</td><td style = \"text-align: left;\">0.0</td><td style = \"text-align: left;\">1.0</td><td style = \"text-align: right;\">42</td><td style = \"text-align: right;\">3</td><td style = \"text-align: right;\">75075.3</td><td style = \"text-align: right;\">2</td><td style = \"text-align: left;\">1</td><td style = \"text-align: left;\">0</td><td style = \"text-align: right;\">92888.5</td></tr><tr><td class = \"rowNumber\" style = \"font-weight: bold; text-align: right;\">10000</td><td style = \"text-align: right;\">792</td><td style = \"text-align: left;\">1.0</td><td style = \"text-align: left;\">0.0</td><td style = \"text-align: left;\">0.0</td><td style = \"text-align: left;\">1.0</td><td style = \"text-align: left;\">0.0</td><td style = \"text-align: right;\">28</td><td style = \"text-align: right;\">4</td><td style = \"text-align: right;\">1.30143e5</td><td style = \"text-align: right;\">1</td><td style = \"text-align: left;\">1</td><td style = \"text-align: left;\">0</td><td style = \"text-align: right;\">38190.8</td></tr></tbody></table></div>"
      ],
      "text/latex": [
       "\\begin{tabular}{r|cccccc}\n",
       "\t& CreditScore & Geography\\_\\_France & Geography\\_\\_Germany & Geography\\_\\_Spain & Gender\\_\\_Female & \\\\\n",
       "\t\\hline\n",
       "\t& Int64 & Cat… & Cat… & Cat… & Cat… & \\\\\n",
       "\t\\hline\n",
       "\t1 & 619 & 1.0 & 0.0 & 0.0 & 1.0 & $\\dots$ \\\\\n",
       "\t2 & 608 & 0.0 & 0.0 & 1.0 & 1.0 & $\\dots$ \\\\\n",
       "\t3 & 502 & 1.0 & 0.0 & 0.0 & 1.0 & $\\dots$ \\\\\n",
       "\t4 & 699 & 1.0 & 0.0 & 0.0 & 1.0 & $\\dots$ \\\\\n",
       "\t5 & 850 & 0.0 & 0.0 & 1.0 & 1.0 & $\\dots$ \\\\\n",
       "\t6 & 645 & 0.0 & 0.0 & 1.0 & 0.0 & $\\dots$ \\\\\n",
       "\t7 & 822 & 1.0 & 0.0 & 0.0 & 0.0 & $\\dots$ \\\\\n",
       "\t8 & 376 & 0.0 & 1.0 & 0.0 & 1.0 & $\\dots$ \\\\\n",
       "\t9 & 501 & 1.0 & 0.0 & 0.0 & 0.0 & $\\dots$ \\\\\n",
       "\t10 & 684 & 1.0 & 0.0 & 0.0 & 0.0 & $\\dots$ \\\\\n",
       "\t11 & 528 & 1.0 & 0.0 & 0.0 & 0.0 & $\\dots$ \\\\\n",
       "\t12 & 497 & 0.0 & 0.0 & 1.0 & 0.0 & $\\dots$ \\\\\n",
       "\t13 & 476 & 1.0 & 0.0 & 0.0 & 1.0 & $\\dots$ \\\\\n",
       "\t14 & 549 & 1.0 & 0.0 & 0.0 & 1.0 & $\\dots$ \\\\\n",
       "\t15 & 635 & 0.0 & 0.0 & 1.0 & 1.0 & $\\dots$ \\\\\n",
       "\t16 & 616 & 0.0 & 1.0 & 0.0 & 0.0 & $\\dots$ \\\\\n",
       "\t17 & 653 & 0.0 & 1.0 & 0.0 & 0.0 & $\\dots$ \\\\\n",
       "\t18 & 549 & 0.0 & 0.0 & 1.0 & 1.0 & $\\dots$ \\\\\n",
       "\t19 & 587 & 0.0 & 0.0 & 1.0 & 0.0 & $\\dots$ \\\\\n",
       "\t20 & 726 & 1.0 & 0.0 & 0.0 & 1.0 & $\\dots$ \\\\\n",
       "\t21 & 732 & 1.0 & 0.0 & 0.0 & 0.0 & $\\dots$ \\\\\n",
       "\t22 & 636 & 0.0 & 0.0 & 1.0 & 1.0 & $\\dots$ \\\\\n",
       "\t23 & 510 & 0.0 & 0.0 & 1.0 & 1.0 & $\\dots$ \\\\\n",
       "\t24 & 669 & 1.0 & 0.0 & 0.0 & 0.0 & $\\dots$ \\\\\n",
       "\t25 & 846 & 1.0 & 0.0 & 0.0 & 1.0 & $\\dots$ \\\\\n",
       "\t26 & 577 & 1.0 & 0.0 & 0.0 & 0.0 & $\\dots$ \\\\\n",
       "\t27 & 756 & 0.0 & 1.0 & 0.0 & 0.0 & $\\dots$ \\\\\n",
       "\t28 & 571 & 1.0 & 0.0 & 0.0 & 0.0 & $\\dots$ \\\\\n",
       "\t29 & 574 & 0.0 & 1.0 & 0.0 & 1.0 & $\\dots$ \\\\\n",
       "\t30 & 411 & 1.0 & 0.0 & 0.0 & 0.0 & $\\dots$ \\\\\n",
       "\t$\\dots$ & $\\dots$ & $\\dots$ & $\\dots$ & $\\dots$ & $\\dots$ &  \\\\\n",
       "\\end{tabular}\n"
      ],
      "text/plain": [
       "\u001b[1m10000×13 DataFrame\u001b[0m\n",
       "\u001b[1m   Row \u001b[0m│\u001b[1m CreditScore \u001b[0m\u001b[1m Geography__France \u001b[0m\u001b[1m Geography__Germany \u001b[0m\u001b[1m Geography__Spain \u001b[0m ⋯\n",
       "       │\u001b[90m Int64       \u001b[0m\u001b[90m CategoricalValue… \u001b[0m\u001b[90m CategoricalValue…  \u001b[0m\u001b[90m CategoricalValue…\u001b[0m ⋯\n",
       "───────┼────────────────────────────────────────────────────────────────────────\n",
       "     1 │         619  1.0                0.0                 0.0               ⋯\n",
       "     2 │         608  0.0                0.0                 1.0\n",
       "     3 │         502  1.0                0.0                 0.0\n",
       "     4 │         699  1.0                0.0                 0.0\n",
       "     5 │         850  0.0                0.0                 1.0               ⋯\n",
       "     6 │         645  0.0                0.0                 1.0\n",
       "     7 │         822  1.0                0.0                 0.0\n",
       "     8 │         376  0.0                1.0                 0.0\n",
       "     9 │         501  1.0                0.0                 0.0               ⋯\n",
       "    10 │         684  1.0                0.0                 0.0\n",
       "    11 │         528  1.0                0.0                 0.0\n",
       "   ⋮   │      ⋮               ⋮                  ⋮                   ⋮         ⋱\n",
       "  9991 │         714  0.0                1.0                 0.0\n",
       "  9992 │         597  1.0                0.0                 0.0               ⋯\n",
       "  9993 │         726  0.0                0.0                 1.0\n",
       "  9994 │         644  1.0                0.0                 0.0\n",
       "  9995 │         800  1.0                0.0                 0.0\n",
       "  9996 │         771  1.0                0.0                 0.0               ⋯\n",
       "  9997 │         516  1.0                0.0                 0.0\n",
       "  9998 │         709  1.0                0.0                 0.0\n",
       "  9999 │         772  0.0                1.0                 0.0\n",
       " 10000 │         792  1.0                0.0                 0.0               ⋯\n",
       "\u001b[36m                                                 9 columns and 9979 rows omitted\u001b[0m"
      ]
     },
     "execution_count": 20,
     "metadata": {},
     "output_type": "execute_result"
    }
   ],
   "source": [
    "X = coerce(X,\n",
    "    :Geography__France => OrderedFactor,\n",
    "    :Geography__Germany => OrderedFactor,\n",
    "    :Geography__Spain => OrderedFactor,\n",
    "    :Gender__Female => OrderedFactor,\n",
    "    :Gender__Male => OrderedFactor,\n",
    "    :HasCrCard => OrderedFactor,\n",
    "    :IsActiveMember => OrderedFactor)"
   ]
  },
  {
   "cell_type": "code",
   "execution_count": 21,
   "id": "d5f9d57d-373f-4ab7-b0fc-0a35d9848d58",
   "metadata": {},
   "outputs": [
    {
     "name": "stderr",
     "output_type": "stream",
     "text": [
      "\u001b[36m\u001b[1m[ \u001b[22m\u001b[39m\u001b[36m\u001b[1mInfo: \u001b[22m\u001b[39mTraining machine(Standardizer(features = Symbol[], …), …).\n"
     ]
    },
    {
     "data": {
      "text/html": [
       "<div><div style = \"float: left;\"><span>10000×13 DataFrame</span></div><div style = \"float: right;\"><span style = \"font-style: italic;\">9975 rows omitted</span></div><div style = \"clear: both;\"></div></div><div class = \"data-frame\" style = \"overflow-x: scroll;\"><table class = \"data-frame\" style = \"margin-bottom: 6px;\"><thead><tr class = \"header\"><th class = \"rowNumber\" style = \"font-weight: bold; text-align: right;\">Row</th><th style = \"text-align: left;\">CreditScore</th><th style = \"text-align: left;\">Geography__France</th><th style = \"text-align: left;\">Geography__Germany</th><th style = \"text-align: left;\">Geography__Spain</th><th style = \"text-align: left;\">Gender__Female</th><th style = \"text-align: left;\">Gender__Male</th><th style = \"text-align: left;\">Age</th><th style = \"text-align: left;\">Tenure</th><th style = \"text-align: left;\">Balance</th><th style = \"text-align: left;\">NumOfProducts</th><th style = \"text-align: left;\">HasCrCard</th><th style = \"text-align: left;\">IsActiveMember</th><th style = \"text-align: left;\">EstimatedSalary</th></tr><tr class = \"subheader headerLastRow\"><th class = \"rowNumber\" style = \"font-weight: bold; text-align: right;\"></th><th title = \"Float64\" style = \"text-align: left;\">Float64</th><th title = \"CategoricalArrays.CategoricalValue{Float64, UInt32}\" style = \"text-align: left;\">Cat…</th><th title = \"CategoricalArrays.CategoricalValue{Float64, UInt32}\" style = \"text-align: left;\">Cat…</th><th title = \"CategoricalArrays.CategoricalValue{Float64, UInt32}\" style = \"text-align: left;\">Cat…</th><th title = \"CategoricalArrays.CategoricalValue{Float64, UInt32}\" style = \"text-align: left;\">Cat…</th><th title = \"CategoricalArrays.CategoricalValue{Float64, UInt32}\" style = \"text-align: left;\">Cat…</th><th title = \"Float64\" style = \"text-align: left;\">Float64</th><th title = \"Float64\" style = \"text-align: left;\">Float64</th><th title = \"Float64\" style = \"text-align: left;\">Float64</th><th title = \"Float64\" style = \"text-align: left;\">Float64</th><th title = \"CategoricalArrays.CategoricalValue{Int64, UInt32}\" style = \"text-align: left;\">Cat…</th><th title = \"CategoricalArrays.CategoricalValue{Int64, UInt32}\" style = \"text-align: left;\">Cat…</th><th title = \"Float64\" style = \"text-align: left;\">Float64</th></tr></thead><tbody><tr><td class = \"rowNumber\" style = \"font-weight: bold; text-align: right;\">1</td><td style = \"text-align: right;\">-0.326205</td><td style = \"text-align: left;\">1.0</td><td style = \"text-align: left;\">0.0</td><td style = \"text-align: left;\">0.0</td><td style = \"text-align: left;\">1.0</td><td style = \"text-align: left;\">0.0</td><td style = \"text-align: right;\">0.293503</td><td style = \"text-align: right;\">-1.04171</td><td style = \"text-align: right;\">-1.22579</td><td style = \"text-align: right;\">-0.911538</td><td style = \"text-align: left;\">1</td><td style = \"text-align: left;\">1</td><td style = \"text-align: right;\">0.0218854</td></tr><tr><td class = \"rowNumber\" style = \"font-weight: bold; text-align: right;\">2</td><td style = \"text-align: right;\">-0.440014</td><td style = \"text-align: left;\">0.0</td><td style = \"text-align: left;\">0.0</td><td style = \"text-align: left;\">1.0</td><td style = \"text-align: left;\">1.0</td><td style = \"text-align: left;\">0.0</td><td style = \"text-align: right;\">0.198154</td><td style = \"text-align: right;\">-1.38747</td><td style = \"text-align: right;\">0.117344</td><td style = \"text-align: right;\">-0.911538</td><td style = \"text-align: left;\">0</td><td style = \"text-align: left;\">1</td><td style = \"text-align: right;\">0.216523</td></tr><tr><td class = \"rowNumber\" style = \"font-weight: bold; text-align: right;\">3</td><td style = \"text-align: right;\">-1.53672</td><td style = \"text-align: left;\">1.0</td><td style = \"text-align: left;\">0.0</td><td style = \"text-align: left;\">0.0</td><td style = \"text-align: left;\">1.0</td><td style = \"text-align: left;\">0.0</td><td style = \"text-align: right;\">0.293503</td><td style = \"text-align: right;\">1.03286</td><td style = \"text-align: right;\">1.33299</td><td style = \"text-align: right;\">2.52693</td><td style = \"text-align: left;\">1</td><td style = \"text-align: left;\">0</td><td style = \"text-align: right;\">0.240675</td></tr><tr><td class = \"rowNumber\" style = \"font-weight: bold; text-align: right;\">4</td><td style = \"text-align: right;\">0.501496</td><td style = \"text-align: left;\">1.0</td><td style = \"text-align: left;\">0.0</td><td style = \"text-align: left;\">0.0</td><td style = \"text-align: left;\">1.0</td><td style = \"text-align: left;\">0.0</td><td style = \"text-align: right;\">0.00745628</td><td style = \"text-align: right;\">-1.38747</td><td style = \"text-align: right;\">-1.22579</td><td style = \"text-align: right;\">0.807696</td><td style = \"text-align: left;\">0</td><td style = \"text-align: left;\">0</td><td style = \"text-align: right;\">-0.108912</td></tr><tr><td class = \"rowNumber\" style = \"font-weight: bold; text-align: right;\">5</td><td style = \"text-align: right;\">2.06378</td><td style = \"text-align: left;\">0.0</td><td style = \"text-align: left;\">0.0</td><td style = \"text-align: left;\">1.0</td><td style = \"text-align: left;\">1.0</td><td style = \"text-align: left;\">0.0</td><td style = \"text-align: right;\">0.388852</td><td style = \"text-align: right;\">-1.04171</td><td style = \"text-align: right;\">0.785689</td><td style = \"text-align: right;\">-0.911538</td><td style = \"text-align: left;\">1</td><td style = \"text-align: left;\">1</td><td style = \"text-align: right;\">-0.365258</td></tr><tr><td class = \"rowNumber\" style = \"font-weight: bold; text-align: right;\">6</td><td style = \"text-align: right;\">-0.0572024</td><td style = \"text-align: left;\">0.0</td><td style = \"text-align: left;\">0.0</td><td style = \"text-align: left;\">1.0</td><td style = \"text-align: left;\">0.0</td><td style = \"text-align: left;\">1.0</td><td style = \"text-align: right;\">0.4842</td><td style = \"text-align: right;\">1.03286</td><td style = \"text-align: right;\">0.597299</td><td style = \"text-align: right;\">0.807696</td><td style = \"text-align: left;\">1</td><td style = \"text-align: left;\">0</td><td style = \"text-align: right;\">0.863607</td></tr><tr><td class = \"rowNumber\" style = \"font-weight: bold; text-align: right;\">7</td><td style = \"text-align: right;\">1.77409</td><td style = \"text-align: left;\">1.0</td><td style = \"text-align: left;\">0.0</td><td style = \"text-align: left;\">0.0</td><td style = \"text-align: left;\">0.0</td><td style = \"text-align: left;\">1.0</td><td style = \"text-align: right;\">1.05629</td><td style = \"text-align: right;\">0.687096</td><td style = \"text-align: right;\">-1.22579</td><td style = \"text-align: right;\">0.807696</td><td style = \"text-align: left;\">1</td><td style = \"text-align: left;\">1</td><td style = \"text-align: right;\">-1.56541</td></tr><tr><td class = \"rowNumber\" style = \"font-weight: bold; text-align: right;\">8</td><td style = \"text-align: right;\">-2.84035</td><td style = \"text-align: left;\">0.0</td><td style = \"text-align: left;\">1.0</td><td style = \"text-align: left;\">0.0</td><td style = \"text-align: left;\">1.0</td><td style = \"text-align: left;\">0.0</td><td style = \"text-align: right;\">-0.946032</td><td style = \"text-align: right;\">-0.350186</td><td style = \"text-align: right;\">0.617988</td><td style = \"text-align: right;\">4.24616</td><td style = \"text-align: left;\">1</td><td style = \"text-align: left;\">0</td><td style = \"text-align: right;\">0.334837</td></tr><tr><td class = \"rowNumber\" style = \"font-weight: bold; text-align: right;\">9</td><td style = \"text-align: right;\">-1.54706</td><td style = \"text-align: left;\">1.0</td><td style = \"text-align: left;\">0.0</td><td style = \"text-align: left;\">0.0</td><td style = \"text-align: left;\">0.0</td><td style = \"text-align: left;\">1.0</td><td style = \"text-align: right;\">0.4842</td><td style = \"text-align: right;\">-0.350186</td><td style = \"text-align: right;\">1.05077</td><td style = \"text-align: right;\">0.807696</td><td style = \"text-align: left;\">0</td><td style = \"text-align: left;\">1</td><td style = \"text-align: right;\">-0.437307</td></tr><tr><td class = \"rowNumber\" style = \"font-weight: bold; text-align: right;\">10</td><td style = \"text-align: right;\">0.346302</td><td style = \"text-align: left;\">1.0</td><td style = \"text-align: left;\">0.0</td><td style = \"text-align: left;\">0.0</td><td style = \"text-align: left;\">0.0</td><td style = \"text-align: left;\">1.0</td><td style = \"text-align: right;\">-1.13673</td><td style = \"text-align: right;\">-1.04171</td><td style = \"text-align: right;\">0.931417</td><td style = \"text-align: right;\">-0.911538</td><td style = \"text-align: left;\">1</td><td style = \"text-align: left;\">1</td><td style = \"text-align: right;\">-0.493206</td></tr><tr><td class = \"rowNumber\" style = \"font-weight: bold; text-align: right;\">11</td><td style = \"text-align: right;\">-1.26771</td><td style = \"text-align: left;\">1.0</td><td style = \"text-align: left;\">0.0</td><td style = \"text-align: left;\">0.0</td><td style = \"text-align: left;\">0.0</td><td style = \"text-align: left;\">1.0</td><td style = \"text-align: right;\">-0.755334</td><td style = \"text-align: right;\">0.341335</td><td style = \"text-align: right;\">0.409165</td><td style = \"text-align: right;\">0.807696</td><td style = \"text-align: left;\">0</td><td style = \"text-align: left;\">0</td><td style = \"text-align: right;\">-0.346182</td></tr><tr><td class = \"rowNumber\" style = \"font-weight: bold; text-align: right;\">12</td><td style = \"text-align: right;\">-1.58845</td><td style = \"text-align: left;\">0.0</td><td style = \"text-align: left;\">0.0</td><td style = \"text-align: left;\">1.0</td><td style = \"text-align: left;\">0.0</td><td style = \"text-align: left;\">1.0</td><td style = \"text-align: right;\">-1.42278</td><td style = \"text-align: right;\">-0.695947</td><td style = \"text-align: right;\">-1.22579</td><td style = \"text-align: right;\">0.807696</td><td style = \"text-align: left;\">1</td><td style = \"text-align: left;\">0</td><td style = \"text-align: right;\">-0.412103</td></tr><tr><td class = \"rowNumber\" style = \"font-weight: bold; text-align: right;\">13</td><td style = \"text-align: right;\">-1.80572</td><td style = \"text-align: left;\">1.0</td><td style = \"text-align: left;\">0.0</td><td style = \"text-align: left;\">0.0</td><td style = \"text-align: left;\">1.0</td><td style = \"text-align: left;\">0.0</td><td style = \"text-align: right;\">-0.469288</td><td style = \"text-align: right;\">1.72438</td><td style = \"text-align: right;\">-1.22579</td><td style = \"text-align: right;\">0.807696</td><td style = \"text-align: left;\">1</td><td style = \"text-align: left;\">0</td><td style = \"text-align: right;\">-1.28375</td></tr><tr><td style = \"text-align: right;\">&vellip;</td><td style = \"text-align: right;\">&vellip;</td><td style = \"text-align: right;\">&vellip;</td><td style = \"text-align: right;\">&vellip;</td><td style = \"text-align: right;\">&vellip;</td><td style = \"text-align: right;\">&vellip;</td><td style = \"text-align: right;\">&vellip;</td><td style = \"text-align: right;\">&vellip;</td><td style = \"text-align: right;\">&vellip;</td><td style = \"text-align: right;\">&vellip;</td><td style = \"text-align: right;\">&vellip;</td><td style = \"text-align: right;\">&vellip;</td><td style = \"text-align: right;\">&vellip;</td><td style = \"text-align: right;\">&vellip;</td></tr><tr><td class = \"rowNumber\" style = \"font-weight: bold; text-align: right;\">9989</td><td style = \"text-align: right;\">1.28781</td><td style = \"text-align: left;\">1.0</td><td style = \"text-align: left;\">0.0</td><td style = \"text-align: left;\">0.0</td><td style = \"text-align: left;\">0.0</td><td style = \"text-align: left;\">1.0</td><td style = \"text-align: right;\">-0.850683</td><td style = \"text-align: right;\">-0.350186</td><td style = \"text-align: right;\">-1.22579</td><td style = \"text-align: right;\">0.807696</td><td style = \"text-align: left;\">1</td><td style = \"text-align: left;\">0</td><td style = \"text-align: right;\">-0.882489</td></tr><tr><td class = \"rowNumber\" style = \"font-weight: bold; text-align: right;\">9990</td><td style = \"text-align: right;\">1.97066</td><td style = \"text-align: left;\">0.0</td><td style = \"text-align: left;\">0.0</td><td style = \"text-align: left;\">1.0</td><td style = \"text-align: left;\">0.0</td><td style = \"text-align: left;\">1.0</td><td style = \"text-align: right;\">-1.04138</td><td style = \"text-align: right;\">-0.350186</td><td style = \"text-align: right;\">-1.22579</td><td style = \"text-align: right;\">0.807696</td><td style = \"text-align: left;\">1</td><td style = \"text-align: left;\">1</td><td style = \"text-align: right;\">1.37968</td></tr><tr><td class = \"rowNumber\" style = \"font-weight: bold; text-align: right;\">9991</td><td style = \"text-align: right;\">0.656689</td><td style = \"text-align: left;\">0.0</td><td style = \"text-align: left;\">1.0</td><td style = \"text-align: left;\">0.0</td><td style = \"text-align: left;\">0.0</td><td style = \"text-align: left;\">1.0</td><td style = \"text-align: right;\">-0.564637</td><td style = \"text-align: right;\">-0.695947</td><td style = \"text-align: right;\">-0.6646</td><td style = \"text-align: right;\">-0.911538</td><td style = \"text-align: left;\">1</td><td style = \"text-align: left;\">0</td><td style = \"text-align: right;\">-0.807212</td></tr><tr><td class = \"rowNumber\" style = \"font-weight: bold; text-align: right;\">9992</td><td style = \"text-align: right;\">-0.553823</td><td style = \"text-align: left;\">1.0</td><td style = \"text-align: left;\">0.0</td><td style = \"text-align: left;\">0.0</td><td style = \"text-align: left;\">1.0</td><td style = \"text-align: left;\">0.0</td><td style = \"text-align: right;\">1.34234</td><td style = \"text-align: right;\">-0.350186</td><td style = \"text-align: right;\">0.190638</td><td style = \"text-align: right;\">-0.911538</td><td style = \"text-align: left;\">1</td><td style = \"text-align: left;\">0</td><td style = \"text-align: right;\">-0.533912</td></tr><tr><td class = \"rowNumber\" style = \"font-weight: bold; text-align: right;\">9993</td><td style = \"text-align: right;\">0.780845</td><td style = \"text-align: left;\">0.0</td><td style = \"text-align: left;\">0.0</td><td style = \"text-align: left;\">1.0</td><td style = \"text-align: left;\">0.0</td><td style = \"text-align: left;\">1.0</td><td style = \"text-align: right;\">-0.27859</td><td style = \"text-align: right;\">-1.04171</td><td style = \"text-align: right;\">-1.22579</td><td style = \"text-align: right;\">-0.911538</td><td style = \"text-align: left;\">1</td><td style = \"text-align: left;\">0</td><td style = \"text-align: right;\">1.65365</td></tr><tr><td class = \"rowNumber\" style = \"font-weight: bold; text-align: right;\">9994</td><td style = \"text-align: right;\">-0.0675487</td><td style = \"text-align: left;\">1.0</td><td style = \"text-align: left;\">0.0</td><td style = \"text-align: left;\">0.0</td><td style = \"text-align: left;\">0.0</td><td style = \"text-align: left;\">1.0</td><td style = \"text-align: right;\">-1.04138</td><td style = \"text-align: right;\">0.687096</td><td style = \"text-align: right;\">1.25926</td><td style = \"text-align: right;\">-0.911538</td><td style = \"text-align: left;\">1</td><td style = \"text-align: left;\">0</td><td style = \"text-align: right;\">-1.233</td></tr><tr><td class = \"rowNumber\" style = \"font-weight: bold; text-align: right;\">9995</td><td style = \"text-align: right;\">1.54647</td><td style = \"text-align: left;\">1.0</td><td style = \"text-align: left;\">0.0</td><td style = \"text-align: left;\">0.0</td><td style = \"text-align: left;\">1.0</td><td style = \"text-align: left;\">0.0</td><td style = \"text-align: right;\">-0.946032</td><td style = \"text-align: right;\">-1.04171</td><td style = \"text-align: right;\">-1.22579</td><td style = \"text-align: right;\">0.807696</td><td style = \"text-align: left;\">0</td><td style = \"text-align: left;\">0</td><td style = \"text-align: right;\">1.17689</td></tr><tr><td class = \"rowNumber\" style = \"font-weight: bold; text-align: right;\">9996</td><td style = \"text-align: right;\">1.24643</td><td style = \"text-align: left;\">1.0</td><td style = \"text-align: left;\">0.0</td><td style = \"text-align: left;\">0.0</td><td style = \"text-align: left;\">0.0</td><td style = \"text-align: left;\">1.0</td><td style = \"text-align: right;\">0.00745628</td><td style = \"text-align: right;\">-0.00442574</td><td style = \"text-align: right;\">-1.22579</td><td style = \"text-align: right;\">0.807696</td><td style = \"text-align: left;\">1</td><td style = \"text-align: left;\">0</td><td style = \"text-align: right;\">-0.0664157</td></tr><tr><td class = \"rowNumber\" style = \"font-weight: bold; text-align: right;\">9997</td><td style = \"text-align: right;\">-1.39187</td><td style = \"text-align: left;\">1.0</td><td style = \"text-align: left;\">0.0</td><td style = \"text-align: left;\">0.0</td><td style = \"text-align: left;\">0.0</td><td style = \"text-align: left;\">1.0</td><td style = \"text-align: right;\">-0.373939</td><td style = \"text-align: right;\">1.72438</td><td style = \"text-align: right;\">-0.306363</td><td style = \"text-align: right;\">-0.911538</td><td style = \"text-align: left;\">1</td><td style = \"text-align: left;\">1</td><td style = \"text-align: right;\">0.0279867</td></tr><tr><td class = \"rowNumber\" style = \"font-weight: bold; text-align: right;\">9998</td><td style = \"text-align: right;\">0.604958</td><td style = \"text-align: left;\">1.0</td><td style = \"text-align: left;\">0.0</td><td style = \"text-align: left;\">0.0</td><td style = \"text-align: left;\">1.0</td><td style = \"text-align: left;\">0.0</td><td style = \"text-align: right;\">-0.27859</td><td style = \"text-align: right;\">0.687096</td><td style = \"text-align: right;\">-1.22579</td><td style = \"text-align: right;\">-0.911538</td><td style = \"text-align: left;\">0</td><td style = \"text-align: left;\">1</td><td style = \"text-align: right;\">-1.00859</td></tr><tr><td class = \"rowNumber\" style = \"font-weight: bold; text-align: right;\">9999</td><td style = \"text-align: right;\">1.25677</td><td style = \"text-align: left;\">0.0</td><td style = \"text-align: left;\">1.0</td><td style = \"text-align: left;\">0.0</td><td style = \"text-align: left;\">0.0</td><td style = \"text-align: left;\">1.0</td><td style = \"text-align: right;\">0.293503</td><td style = \"text-align: right;\">-0.695947</td><td style = \"text-align: right;\">-0.0226064</td><td style = \"text-align: right;\">0.807696</td><td style = \"text-align: left;\">1</td><td style = \"text-align: left;\">0</td><td style = \"text-align: right;\">-0.125224</td></tr><tr><td class = \"rowNumber\" style = \"font-weight: bold; text-align: right;\">10000</td><td style = \"text-align: right;\">1.4637</td><td style = \"text-align: left;\">1.0</td><td style = \"text-align: left;\">0.0</td><td style = \"text-align: left;\">0.0</td><td style = \"text-align: left;\">1.0</td><td style = \"text-align: left;\">0.0</td><td style = \"text-align: right;\">-1.04138</td><td style = \"text-align: right;\">-0.350186</td><td style = \"text-align: right;\">0.859922</td><td style = \"text-align: right;\">-0.911538</td><td style = \"text-align: left;\">1</td><td style = \"text-align: left;\">0</td><td style = \"text-align: right;\">-1.07632</td></tr></tbody></table></div>"
      ],
      "text/latex": [
       "\\begin{tabular}{r|cccccc}\n",
       "\t& CreditScore & Geography\\_\\_France & Geography\\_\\_Germany & Geography\\_\\_Spain & Gender\\_\\_Female & \\\\\n",
       "\t\\hline\n",
       "\t& Float64 & Cat… & Cat… & Cat… & Cat… & \\\\\n",
       "\t\\hline\n",
       "\t1 & -0.326205 & 1.0 & 0.0 & 0.0 & 1.0 & $\\dots$ \\\\\n",
       "\t2 & -0.440014 & 0.0 & 0.0 & 1.0 & 1.0 & $\\dots$ \\\\\n",
       "\t3 & -1.53672 & 1.0 & 0.0 & 0.0 & 1.0 & $\\dots$ \\\\\n",
       "\t4 & 0.501496 & 1.0 & 0.0 & 0.0 & 1.0 & $\\dots$ \\\\\n",
       "\t5 & 2.06378 & 0.0 & 0.0 & 1.0 & 1.0 & $\\dots$ \\\\\n",
       "\t6 & -0.0572024 & 0.0 & 0.0 & 1.0 & 0.0 & $\\dots$ \\\\\n",
       "\t7 & 1.77409 & 1.0 & 0.0 & 0.0 & 0.0 & $\\dots$ \\\\\n",
       "\t8 & -2.84035 & 0.0 & 1.0 & 0.0 & 1.0 & $\\dots$ \\\\\n",
       "\t9 & -1.54706 & 1.0 & 0.0 & 0.0 & 0.0 & $\\dots$ \\\\\n",
       "\t10 & 0.346302 & 1.0 & 0.0 & 0.0 & 0.0 & $\\dots$ \\\\\n",
       "\t11 & -1.26771 & 1.0 & 0.0 & 0.0 & 0.0 & $\\dots$ \\\\\n",
       "\t12 & -1.58845 & 0.0 & 0.0 & 1.0 & 0.0 & $\\dots$ \\\\\n",
       "\t13 & -1.80572 & 1.0 & 0.0 & 0.0 & 1.0 & $\\dots$ \\\\\n",
       "\t14 & -1.05044 & 1.0 & 0.0 & 0.0 & 1.0 & $\\dots$ \\\\\n",
       "\t15 & -0.160665 & 0.0 & 0.0 & 1.0 & 1.0 & $\\dots$ \\\\\n",
       "\t16 & -0.357244 & 0.0 & 1.0 & 0.0 & 0.0 & $\\dots$ \\\\\n",
       "\t17 & 0.0255677 & 0.0 & 1.0 & 0.0 & 0.0 & $\\dots$ \\\\\n",
       "\t18 & -1.05044 & 0.0 & 0.0 & 1.0 & 1.0 & $\\dots$ \\\\\n",
       "\t19 & -0.657285 & 0.0 & 0.0 & 1.0 & 0.0 & $\\dots$ \\\\\n",
       "\t20 & 0.780845 & 1.0 & 0.0 & 0.0 & 1.0 & $\\dots$ \\\\\n",
       "\t21 & 0.842922 & 1.0 & 0.0 & 0.0 & 0.0 & $\\dots$ \\\\\n",
       "\t22 & -0.150319 & 0.0 & 0.0 & 1.0 & 1.0 & $\\dots$ \\\\\n",
       "\t23 & -1.45395 & 0.0 & 0.0 & 1.0 & 1.0 & $\\dots$ \\\\\n",
       "\t24 & 0.191108 & 1.0 & 0.0 & 0.0 & 0.0 & $\\dots$ \\\\\n",
       "\t25 & 2.0224 & 1.0 & 0.0 & 0.0 & 1.0 & $\\dots$ \\\\\n",
       "\t26 & -0.760748 & 1.0 & 0.0 & 0.0 & 0.0 & $\\dots$ \\\\\n",
       "\t27 & 1.09123 & 0.0 & 1.0 & 0.0 & 0.0 & $\\dots$ \\\\\n",
       "\t28 & -0.822826 & 1.0 & 0.0 & 0.0 & 0.0 & $\\dots$ \\\\\n",
       "\t29 & -0.791787 & 0.0 & 1.0 & 0.0 & 1.0 & $\\dots$ \\\\\n",
       "\t30 & -2.47823 & 1.0 & 0.0 & 0.0 & 0.0 & $\\dots$ \\\\\n",
       "\t$\\dots$ & $\\dots$ & $\\dots$ & $\\dots$ & $\\dots$ & $\\dots$ &  \\\\\n",
       "\\end{tabular}\n"
      ],
      "text/plain": [
       "\u001b[1m10000×13 DataFrame\u001b[0m\n",
       "\u001b[1m   Row \u001b[0m│\u001b[1m CreditScore \u001b[0m\u001b[1m Geography__France \u001b[0m\u001b[1m Geography__Germany \u001b[0m\u001b[1m Geography__Spain \u001b[0m ⋯\n",
       "       │\u001b[90m Float64     \u001b[0m\u001b[90m CategoricalValue… \u001b[0m\u001b[90m CategoricalValue…  \u001b[0m\u001b[90m CategoricalValue…\u001b[0m ⋯\n",
       "───────┼────────────────────────────────────────────────────────────────────────\n",
       "     1 │  -0.326205   1.0                0.0                 0.0               ⋯\n",
       "     2 │  -0.440014   0.0                0.0                 1.0\n",
       "     3 │  -1.53672    1.0                0.0                 0.0\n",
       "     4 │   0.501496   1.0                0.0                 0.0\n",
       "     5 │   2.06378    0.0                0.0                 1.0               ⋯\n",
       "     6 │  -0.0572024  0.0                0.0                 1.0\n",
       "     7 │   1.77409    1.0                0.0                 0.0\n",
       "     8 │  -2.84035    0.0                1.0                 0.0\n",
       "     9 │  -1.54706    1.0                0.0                 0.0               ⋯\n",
       "    10 │   0.346302   1.0                0.0                 0.0\n",
       "    11 │  -1.26771    1.0                0.0                 0.0\n",
       "   ⋮   │      ⋮               ⋮                  ⋮                   ⋮         ⋱\n",
       "  9991 │   0.656689   0.0                1.0                 0.0\n",
       "  9992 │  -0.553823   1.0                0.0                 0.0               ⋯\n",
       "  9993 │   0.780845   0.0                0.0                 1.0\n",
       "  9994 │  -0.0675487  1.0                0.0                 0.0\n",
       "  9995 │   1.54647    1.0                0.0                 0.0\n",
       "  9996 │   1.24643    1.0                0.0                 0.0               ⋯\n",
       "  9997 │  -1.39187    1.0                0.0                 0.0\n",
       "  9998 │   0.604958   1.0                0.0                 0.0\n",
       "  9999 │   1.25677    0.0                1.0                 0.0\n",
       " 10000 │   1.4637     1.0                0.0                 0.0               ⋯\n",
       "\u001b[36m                                                 9 columns and 9979 rows omitted\u001b[0m"
      ]
     },
     "execution_count": 21,
     "metadata": {},
     "output_type": "execute_result"
    }
   ],
   "source": [
    "standardizer_model = Standardizer(count=true)\n",
    "standardizer_machine = machine(standardizer_model, X)\n",
    "fit!(standardizer_machine)\n",
    "\n",
    "X = MLJ.transform(standardizer_machine, X)"
   ]
  },
  {
   "cell_type": "code",
   "execution_count": 38,
   "id": "5eb2c220-f99a-42c5-8b2d-514ba247ddcd",
   "metadata": {},
   "outputs": [
    {
     "data": {
      "text/plain": [
       "((\u001b[1m8000×13 DataFrame\u001b[0m\n",
       "\u001b[1m  Row \u001b[0m│\u001b[1m CreditScore \u001b[0m\u001b[1m Geography__France \u001b[0m\u001b[1m Geography__Germany \u001b[0m\u001b[1m Geography__Spain  \u001b[0m\u001b[1m\u001b[0m ⋯\n",
       "      │\u001b[90m Float64     \u001b[0m\u001b[90m CategoricalValue… \u001b[0m\u001b[90m CategoricalValue…  \u001b[0m\u001b[90m CategoricalValue… \u001b[0m\u001b[90m\u001b[0m ⋯\n",
       "──────┼─────────────────────────────────────────────────────────────────────────\n",
       "    1 │   -0.502092  0.0                1.0                 0.0                ⋯\n",
       "    2 │    1.4637    1.0                0.0                 0.0\n",
       "    3 │   -0.181357  0.0                0.0                 1.0\n",
       "    4 │    1.31885   1.0                0.0                 0.0\n",
       "    5 │   -0.326205  1.0                0.0                 0.0                ⋯\n",
       "    6 │    1.96032   0.0                1.0                 0.0\n",
       "    7 │   -1.60914   1.0                0.0                 0.0\n",
       "    8 │    0.998116  1.0                0.0                 0.0\n",
       "    9 │   -0.181357  0.0                0.0                 1.0                ⋯\n",
       "   10 │   -0.377936  0.0                0.0                 1.0\n",
       "   11 │   -1.07114   0.0                0.0                 1.0\n",
       "  ⋮   │      ⋮               ⋮                  ⋮                   ⋮          ⋱\n",
       " 7991 │    0.563573  0.0                0.0                 1.0\n",
       " 7992 │   -1.66087   0.0                1.0                 0.0                ⋯\n",
       " 7993 │    0.729113  1.0                0.0                 0.0\n",
       " 7994 │    0.139377  0.0                0.0                 1.0\n",
       " 7995 │   -0.233089  0.0                1.0                 0.0\n",
       " 7996 │    0.832576  1.0                0.0                 0.0                ⋯\n",
       " 7997 │   -1.35048   1.0                0.0                 0.0\n",
       " 7998 │    1.21539   0.0                1.0                 0.0\n",
       " 7999 │   -1.45395   1.0                0.0                 0.0\n",
       " 8000 │    2.06378   1.0                0.0                 0.0                ⋯\n",
       "\u001b[36m                                                 9 columns and 7979 rows omitted\u001b[0m, \u001b[1m2000×13 DataFrame\u001b[0m\n",
       "\u001b[1m  Row \u001b[0m│\u001b[1m CreditScore \u001b[0m\u001b[1m Geography__France \u001b[0m\u001b[1m Geography__Germany \u001b[0m\u001b[1m Geography__Spain  \u001b[0m\u001b[1m\u001b[0m ⋯\n",
       "      │\u001b[90m Float64     \u001b[0m\u001b[90m CategoricalValue… \u001b[0m\u001b[90m CategoricalValue…  \u001b[0m\u001b[90m CategoricalValue… \u001b[0m\u001b[90m\u001b[0m ⋯\n",
       "──────┼─────────────────────────────────────────────────────────────────────────\n",
       "    1 │  -0.357244   1.0                0.0                 0.0                ⋯\n",
       "    2 │   1.07054    0.0                0.0                 1.0\n",
       "    3 │   0.429072   0.0                0.0                 1.0\n",
       "    4 │   1.22573    0.0                1.0                 0.0\n",
       "    5 │  -1.0401     0.0                0.0                 1.0                ⋯\n",
       "    6 │  -1.11252    1.0                0.0                 0.0\n",
       "    7 │   0.563573   1.0                0.0                 0.0\n",
       "    8 │   0.0462602  1.0                0.0                 0.0\n",
       "    9 │   0.594612   0.0                1.0                 0.0                ⋯\n",
       "   10 │  -1.5781     0.0                1.0                 0.0\n",
       "   11 │   1.70166    0.0                1.0                 0.0\n",
       "  ⋮   │      ⋮               ⋮                  ⋮                   ⋮          ⋱\n",
       " 1991 │  -0.11928    0.0                0.0                 1.0\n",
       " 1992 │  -1.26771    0.0                1.0                 0.0                ⋯\n",
       " 1993 │  -1.37118    0.0                1.0                 0.0\n",
       " 1994 │  -0.584862   1.0                0.0                 0.0\n",
       " 1995 │  -0.274474   0.0                1.0                 0.0\n",
       " 1996 │   0.0255677  1.0                0.0                 0.0                ⋯\n",
       " 1997 │  -0.895249   0.0                1.0                 0.0\n",
       " 1998 │  -0.69867    0.0                1.0                 0.0\n",
       " 1999 │  -0.108934   1.0                0.0                 0.0\n",
       " 2000 │  -0.191704   0.0                1.0                 0.0                ⋯\n",
       "\u001b[36m                                                 9 columns and 1979 rows omitted\u001b[0m), ([0, 0, 0, 0, 0, 1, 0, 0, 0, 0  …  0, 0, 0, 0, 0, 0, 0, 1, 0, 1], [1, 0, 0, 1, 0, 0, 0, 0, 1, 0  …  0, 0, 1, 0, 0, 0, 0, 0, 1, 0]))"
      ]
     },
     "execution_count": 38,
     "metadata": {},
     "output_type": "execute_result"
    }
   ],
   "source": [
    "(X_train, X_test), (y_train, y_test) = partition((X, y), 0.8, rng=43, multi=true)"
   ]
  },
  {
   "cell_type": "code",
   "execution_count": 39,
   "id": "892c0cef-faf6-49f4-b697-282d84a95b41",
   "metadata": {},
   "outputs": [
    {
     "data": {
      "text/plain": [
       "Chain(\n",
       "  Dense(13 => 6, relu),                 \u001b[90m# 84 parameters\u001b[39m\n",
       "  Dense(6 => 6, relu),                  \u001b[90m# 42 parameters\u001b[39m\n",
       "  Dense(6 => 1),                        \u001b[90m# 7 parameters\u001b[39m\n",
       ") \u001b[90m                  # Total: 6 arrays, \u001b[39m133 parameters, 916 bytes."
      ]
     },
     "execution_count": 39,
     "metadata": {},
     "output_type": "execute_result"
    }
   ],
   "source": [
    "layer1 = Dense(13 => 6, relu)\n",
    "layer2 = Dense(6 => 6, relu)\n",
    "output = Dense(6 => 1)\n",
    "\n",
    "model = Chain(layer1, layer2, output)"
   ]
  },
  {
   "cell_type": "code",
   "execution_count": 40,
   "id": "a43c48b6-e7bd-44d1-a39f-b6707f0cddc2",
   "metadata": {},
   "outputs": [
    {
     "data": {
      "text/plain": [
       "0.79875"
      ]
     },
     "execution_count": 40,
     "metadata": {},
     "output_type": "execute_result"
    }
   ],
   "source": [
    "output1 = model(transpose(Matrix(X_train)))\n",
    "\n",
    "mean((output1[1, :] .> 0.5) .== y_train)"
   ]
  },
  {
   "cell_type": "code",
   "execution_count": 41,
   "id": "3ac13823-d126-44b0-beef-9931bf265787",
   "metadata": {},
   "outputs": [
    {
     "data": {
      "text/plain": [
       "250-element DataLoader(::Tuple{LinearAlgebra.Transpose{Float64, Matrix{Float64}}, Vector{Int64}}, shuffle=true, batchsize=32)\n",
       "  with first element:\n",
       "  (13×32 Matrix{Float64}, 32-element Vector{Int64},)"
      ]
     },
     "execution_count": 41,
     "metadata": {},
     "output_type": "execute_result"
    }
   ],
   "source": [
    "loader = Flux.DataLoader((transpose(Matrix(X_train)), y_train), batchsize=32, shuffle=true)"
   ]
  },
  {
   "cell_type": "code",
   "execution_count": 42,
   "id": "25143fbf-c134-4040-9b94-fb415251b00e",
   "metadata": {},
   "outputs": [
    {
     "data": {
      "text/plain": [
       "(layers = ((weight = \u001b[32mLeaf(Adam{Float64}(0.01, (0.9, 0.999), 1.0e-8), \u001b[39m(Float32[0.0 0.0 … 0.0 0.0; 0.0 0.0 … 0.0 0.0; … ; 0.0 0.0 … 0.0 0.0; 0.0 0.0 … 0.0 0.0], Float32[0.0 0.0 … 0.0 0.0; 0.0 0.0 … 0.0 0.0; … ; 0.0 0.0 … 0.0 0.0; 0.0 0.0 … 0.0 0.0], (0.9, 0.999))\u001b[32m)\u001b[39m, bias = \u001b[32mLeaf(Adam{Float64}(0.01, (0.9, 0.999), 1.0e-8), \u001b[39m(Float32[0.0, 0.0, 0.0, 0.0, 0.0, 0.0], Float32[0.0, 0.0, 0.0, 0.0, 0.0, 0.0], (0.9, 0.999))\u001b[32m)\u001b[39m, σ = ()), (weight = \u001b[32mLeaf(Adam{Float64}(0.01, (0.9, 0.999), 1.0e-8), \u001b[39m(Float32[0.0 0.0 … 0.0 0.0; 0.0 0.0 … 0.0 0.0; … ; 0.0 0.0 … 0.0 0.0; 0.0 0.0 … 0.0 0.0], Float32[0.0 0.0 … 0.0 0.0; 0.0 0.0 … 0.0 0.0; … ; 0.0 0.0 … 0.0 0.0; 0.0 0.0 … 0.0 0.0], (0.9, 0.999))\u001b[32m)\u001b[39m, bias = \u001b[32mLeaf(Adam{Float64}(0.01, (0.9, 0.999), 1.0e-8), \u001b[39m(Float32[0.0, 0.0, 0.0, 0.0, 0.0, 0.0], Float32[0.0, 0.0, 0.0, 0.0, 0.0, 0.0], (0.9, 0.999))\u001b[32m)\u001b[39m, σ = ()), (weight = \u001b[32mLeaf(Adam{Float64}(0.01, (0.9, 0.999), 1.0e-8), \u001b[39m(Float32[0.0 0.0 … 0.0 0.0], Float32[0.0 0.0 … 0.0 0.0], (0.9, 0.999))\u001b[32m)\u001b[39m, bias = \u001b[32mLeaf(Adam{Float64}(0.01, (0.9, 0.999), 1.0e-8), \u001b[39m(Float32[0.0], Float32[0.0], (0.9, 0.999))\u001b[32m)\u001b[39m, σ = ())),)"
      ]
     },
     "execution_count": 42,
     "metadata": {},
     "output_type": "execute_result"
    }
   ],
   "source": [
    "optimizer = Flux.setup(Flux.Adam(0.01), model)"
   ]
  },
  {
   "cell_type": "code",
   "execution_count": 43,
   "id": "bde5ce22-6bcd-4599-976c-8d0269dc28ea",
   "metadata": {},
   "outputs": [
    {
     "data": {
      "text/plain": [
       "loss (generic function with 1 method)"
      ]
     },
     "execution_count": 43,
     "metadata": {},
     "output_type": "execute_result"
    }
   ],
   "source": [
    "loss(m, x, y) = Flux.logitbinarycrossentropy(transpose(m(x)), y)"
   ]
  },
  {
   "cell_type": "code",
   "execution_count": 44,
   "id": "202817e3-757d-4399-b33a-21c4354f921a",
   "metadata": {},
   "outputs": [
    {
     "name": "stderr",
     "output_type": "stream",
     "text": [
      "\u001b[32mProgress: 100%|█████████████████████████████████████████| Time: 0:00:27\u001b[39m\n"
     ]
    }
   ],
   "source": [
    "number_epochs = 10\n",
    "@showprogress for epoch in 1:number_epochs\n",
    "    Flux.train!(loss, model, loader, optimizer)\n",
    "end"
   ]
  },
  {
   "cell_type": "code",
   "execution_count": 45,
   "id": "4ee517a2-91ba-498e-b8b4-753e3d6a6803",
   "metadata": {},
   "outputs": [
    {
     "data": {
      "text/plain": [
       "0.856"
      ]
     },
     "execution_count": 45,
     "metadata": {},
     "output_type": "execute_result"
    }
   ],
   "source": [
    "output2 = model(transpose(Matrix(X_train)))\n",
    "\n",
    "mean((output2[1, :] .> 0.5) .== y_train)"
   ]
  },
  {
   "cell_type": "code",
   "execution_count": 46,
   "id": "386734cf-d9df-438a-a4a9-01a7f32e1538",
   "metadata": {},
   "outputs": [
    {
     "data": {
      "text/html": [
       "<div><div style = \"float: left;\"><span>1×13 DataFrame</span></div><div style = \"clear: both;\"></div></div><div class = \"data-frame\" style = \"overflow-x: scroll;\"><table class = \"data-frame\" style = \"margin-bottom: 6px;\"><thead><tr class = \"header\"><th class = \"rowNumber\" style = \"font-weight: bold; text-align: right;\">Row</th><th style = \"text-align: left;\">CreditScore</th><th style = \"text-align: left;\">Geography__France</th><th style = \"text-align: left;\">Geography__Germany</th><th style = \"text-align: left;\">Geography__Spain</th><th style = \"text-align: left;\">Gender__Female</th><th style = \"text-align: left;\">Gender__Male</th><th style = \"text-align: left;\">Age</th><th style = \"text-align: left;\">Tenure</th><th style = \"text-align: left;\">Balance</th><th style = \"text-align: left;\">NumOfProducts</th><th style = \"text-align: left;\">HasCrCard</th><th style = \"text-align: left;\">IsActiveMember</th><th style = \"text-align: left;\">EstimatedSalary</th></tr><tr class = \"subheader headerLastRow\"><th class = \"rowNumber\" style = \"font-weight: bold; text-align: right;\"></th><th title = \"Float64\" style = \"text-align: left;\">Float64</th><th title = \"CategoricalArrays.CategoricalValue{Int64, UInt32}\" style = \"text-align: left;\">Cat…</th><th title = \"CategoricalArrays.CategoricalValue{Int64, UInt32}\" style = \"text-align: left;\">Cat…</th><th title = \"CategoricalArrays.CategoricalValue{Int64, UInt32}\" style = \"text-align: left;\">Cat…</th><th title = \"CategoricalArrays.CategoricalValue{Int64, UInt32}\" style = \"text-align: left;\">Cat…</th><th title = \"CategoricalArrays.CategoricalValue{Int64, UInt32}\" style = \"text-align: left;\">Cat…</th><th title = \"Float64\" style = \"text-align: left;\">Float64</th><th title = \"Float64\" style = \"text-align: left;\">Float64</th><th title = \"Float64\" style = \"text-align: left;\">Float64</th><th title = \"Float64\" style = \"text-align: left;\">Float64</th><th title = \"CategoricalArrays.CategoricalValue{Int64, UInt32}\" style = \"text-align: left;\">Cat…</th><th title = \"CategoricalArrays.CategoricalValue{Int64, UInt32}\" style = \"text-align: left;\">Cat…</th><th title = \"Float64\" style = \"text-align: left;\">Float64</th></tr></thead><tbody><tr><td class = \"rowNumber\" style = \"font-weight: bold; text-align: right;\">1</td><td style = \"text-align: right;\">-0.522784</td><td style = \"text-align: left;\">1</td><td style = \"text-align: left;\">0</td><td style = \"text-align: left;\">0</td><td style = \"text-align: left;\">0</td><td style = \"text-align: left;\">1</td><td style = \"text-align: right;\">0.102805</td><td style = \"text-align: right;\">-0.695947</td><td style = \"text-align: right;\">-0.264208</td><td style = \"text-align: right;\">0.807696</td><td style = \"text-align: left;\">1</td><td style = \"text-align: left;\">1</td><td style = \"text-align: right;\">-0.870976</td></tr></tbody></table></div>"
      ],
      "text/latex": [
       "\\begin{tabular}{r|cccccc}\n",
       "\t& CreditScore & Geography\\_\\_France & Geography\\_\\_Germany & Geography\\_\\_Spain & Gender\\_\\_Female & \\\\\n",
       "\t\\hline\n",
       "\t& Float64 & Cat… & Cat… & Cat… & Cat… & \\\\\n",
       "\t\\hline\n",
       "\t1 & -0.522784 & 1 & 0 & 0 & 0 & $\\dots$ \\\\\n",
       "\\end{tabular}\n"
      ],
      "text/plain": [
       "\u001b[1m1×13 DataFrame\u001b[0m\n",
       "\u001b[1m Row \u001b[0m│\u001b[1m CreditScore \u001b[0m\u001b[1m Geography__France \u001b[0m\u001b[1m Geography__Germany \u001b[0m\u001b[1m Geography__Spain  \u001b[0m\u001b[1m \u001b[0m ⋯\n",
       "     │\u001b[90m Float64     \u001b[0m\u001b[90m CategoricalValue… \u001b[0m\u001b[90m CategoricalValue…  \u001b[0m\u001b[90m CategoricalValue… \u001b[0m\u001b[90m \u001b[0m ⋯\n",
       "─────┼──────────────────────────────────────────────────────────────────────────\n",
       "   1 │   -0.522784  1                  0                   0                   ⋯\n",
       "\u001b[36m                                                               9 columns omitted\u001b[0m"
      ]
     },
     "execution_count": 46,
     "metadata": {},
     "output_type": "execute_result"
    }
   ],
   "source": [
    "single_data = DataFrame(CreditScore = [600],\n",
    "    Geography__France = [1],\n",
    "    Geography__Germany = [0],\n",
    "    Geography__Spain = [0],\n",
    "    Gender__Female = [0],\n",
    "    Gender__Male = [1],\n",
    "    Age = [40], \n",
    "    Tenure = [3], \n",
    "    Balance = [60000],\n",
    "    NumOfProducts = [2],\n",
    "    HasCrCard = [1],\n",
    "    IsActiveMember = [1],\n",
    "    EstimatedSalary = [50000])\n",
    "\n",
    "single_data = coerce(single_data,\n",
    "    :Geography__France => OrderedFactor,\n",
    "    :Geography__Germany => OrderedFactor,\n",
    "    :Geography__Spain => OrderedFactor,\n",
    "    :Gender__Female => OrderedFactor,\n",
    "    :Gender__Male => OrderedFactor,\n",
    "    :HasCrCard => OrderedFactor,\n",
    "    :IsActiveMember => OrderedFactor)\n",
    "\n",
    "standard_data = MLJ.transform(standardizer_machine, single_data)"
   ]
  },
  {
   "cell_type": "code",
   "execution_count": 47,
   "id": "637d007d-31b0-46bc-bd9e-3c66d2a386ae",
   "metadata": {},
   "outputs": [
    {
     "data": {
      "text/plain": [
       "1×1 BitMatrix:\n",
       " 0"
      ]
     },
     "execution_count": 47,
     "metadata": {},
     "output_type": "execute_result"
    }
   ],
   "source": [
    "single_prediction = model(transpose(Matrix(standard_data))) .> 0.5"
   ]
  },
  {
   "cell_type": "code",
   "execution_count": 48,
   "id": "0af88997-00c2-4efc-a948-1223927a639e",
   "metadata": {},
   "outputs": [
    {
     "data": {
      "text/plain": [
       "1×2000 Matrix{Float32}:\n",
       " -2.36845  -2.39382  -2.85806  -0.993507  …  -2.30912  -2.39858  -0.186513"
      ]
     },
     "execution_count": 48,
     "metadata": {},
     "output_type": "execute_result"
    }
   ],
   "source": [
    "test_output = model(transpose(Matrix(X_test)))"
   ]
  },
  {
   "cell_type": "code",
   "execution_count": 53,
   "id": "b90ec991-6dfc-49cf-8ca7-2846c5bd3f12",
   "metadata": {},
   "outputs": [
    {
     "data": {
      "text/plain": [
       "          ┌─────────────┐\n",
       "          │Ground Truth │\n",
       "┌─────────┼──────┬──────┤\n",
       "│Predicted│  0   │  1   │\n",
       "├─────────┼──────┼──────┤\n",
       "│    0    │ 1558 │ 285  │\n",
       "├─────────┼──────┼──────┤\n",
       "│    1    │  15  │ 142  │\n",
       "└─────────┴──────┴──────┘\n"
      ]
     },
     "execution_count": 53,
     "metadata": {},
     "output_type": "execute_result"
    }
   ],
   "source": [
    "ConfusionMatrix()(test_output[1, :] .> 0.5, y_test)"
   ]
  },
  {
   "cell_type": "code",
   "execution_count": 54,
   "id": "6a29980f-a7bf-4b1d-aaa6-51941fc15c44",
   "metadata": {},
   "outputs": [
    {
     "data": {
      "text/plain": [
       "0.85"
      ]
     },
     "execution_count": 54,
     "metadata": {},
     "output_type": "execute_result"
    }
   ],
   "source": [
    "mean((test_output[1, :] .> 0.5) .== y_test)"
   ]
  },
  {
   "cell_type": "code",
   "execution_count": 55,
   "id": "f7cad12b-bda7-44f6-ab6b-5fd08c5a5c6a",
   "metadata": {},
   "outputs": [
    {
     "data": {
      "text/plain": [
       "          ┌─────────────┐\n",
       "          │Ground Truth │\n",
       "┌─────────┼──────┬──────┤\n",
       "│Predicted│  0   │  1   │\n",
       "├─────────┼──────┼──────┤\n",
       "│    0    │ 1558 │ 285  │\n",
       "├─────────┼──────┼──────┤\n",
       "│    1    │  15  │ 142  │\n",
       "└─────────┴──────┴──────┘\n"
      ]
     },
     "execution_count": 55,
     "metadata": {},
     "output_type": "execute_result"
    }
   ],
   "source": [
    "MLJ.confusion_matrix(test_output[1, :] .> 0.5, y_test)"
   ]
  },
  {
   "cell_type": "code",
   "execution_count": 77,
   "id": "53b4259d-61b3-4554-b8d5-2c827ee4685f",
   "metadata": {},
   "outputs": [
    {
     "data": {
      "text/plain": [
       "2000-element CategoricalArrays.CategoricalArray{Int64,1,UInt32}:\n",
       " 1\n",
       " 0\n",
       " 0\n",
       " 1\n",
       " 0\n",
       " 0\n",
       " 0\n",
       " 0\n",
       " 1\n",
       " 0\n",
       " 0\n",
       " 0\n",
       " 0\n",
       " ⋮\n",
       " 0\n",
       " 0\n",
       " 0\n",
       " 0\n",
       " 1\n",
       " 0\n",
       " 0\n",
       " 0\n",
       " 0\n",
       " 0\n",
       " 1\n",
       " 0"
      ]
     },
     "execution_count": 77,
     "metadata": {},
     "output_type": "execute_result"
    }
   ],
   "source": [
    "output_class=coerce(test_output, Multiclass)\n",
    "y_class=coerce(y_test, Multiclass)"
   ]
  },
  {
   "cell_type": "code",
   "execution_count": 81,
   "id": "0bbe2d14-bf10-4dd8-8e9b-4f3f152056ec",
   "metadata": {},
   "outputs": [
    {
     "data": {
      "text/plain": [
       "CategoricalMatrix{Float32, UInt32, Float32, CategoricalValue{Float32, UInt32}, Union{}}\u001b[90m (alias for \u001b[39m\u001b[90mCategoricalArrays.CategoricalArray{Float32, 2, UInt32, Float32, CategoricalArrays.CategoricalValue{Float32, UInt32}, Union{}}\u001b[39m\u001b[90m)\u001b[39m"
      ]
     },
     "execution_count": 81,
     "metadata": {},
     "output_type": "execute_result"
    }
   ],
   "source": [
    "typeof(output_class)"
   ]
  },
  {
   "cell_type": "code",
   "execution_count": 80,
   "id": "67ec5c41-1b77-46bf-94c6-57dfdcf99f29",
   "metadata": {},
   "outputs": [
    {
     "ename": "LoadError",
     "evalue": "ArgumentError: Was expecting categorical arguments: In a call like `roc_curve(ŷ, y)`, `ŷ` must have eltype `<:CategoricalDistributions.UnivariateFinite` and `y` must have eltype `<:CategoricalArrays.CategoricalArray` . If using raw probabilities, consider using `Functions.roc_curve` instead. ",
     "output_type": "error",
     "traceback": [
      "ArgumentError: Was expecting categorical arguments: In a call like `roc_curve(ŷ, y)`, `ŷ` must have eltype `<:CategoricalDistributions.UnivariateFinite` and `y` must have eltype `<:CategoricalArrays.CategoricalArray` . If using raw probabilities, consider using `Functions.roc_curve` instead. ",
      "",
      "Stacktrace:",
      " [1] binary_levels(yhat::CategoricalArrays.CategoricalMatrix{Float32, UInt32, Float32, CategoricalArrays.CategoricalValue{Float32, UInt32}, Union{}}, y::CategoricalArrays.CategoricalVector{Int64, UInt32, Int64, CategoricalArrays.CategoricalValue{Int64, UInt32}, Union{}})",
      "   @ StatisticalMeasures ~/.julia/packages/StatisticalMeasures/UTtxb/src/roc.jl:36",
      " [2] roc_curve(yhat::CategoricalArrays.CategoricalMatrix{Float32, UInt32, Float32, CategoricalArrays.CategoricalValue{Float32, UInt32}, Union{}}, y::CategoricalArrays.CategoricalVector{Int64, UInt32, Int64, CategoricalArrays.CategoricalValue{Int64, UInt32}, Union{}})",
      "   @ StatisticalMeasures ~/.julia/packages/StatisticalMeasures/UTtxb/src/roc.jl:52",
      " [3] top-level scope",
      "   @ In[80]:7"
     ]
    }
   ],
   "source": [
    "using StatisticalMeasures\n",
    "using Plots  # Para graficar la curva ROC\n",
    "# Predicciones (probabilidades en [0, 1])\n",
    "prob_predictions = σ.(test_output)\n",
    "\n",
    "# Curva ROC y AUC\n",
    "rc_test = roc_curve(output_class, y_class)\n",
    "plot(rc_test, legend=false, xlabel=\"False Positive Rate\", ylabel=\"True Positive Rate\", title=\"ROC Curve\")"
   ]
  },
  {
   "cell_type": "code",
   "execution_count": 79,
   "id": "39931926-5a09-477e-83d3-fe879d33c809",
   "metadata": {},
   "outputs": [
    {
     "data": {
      "text/plain": [
       "Matrix{Float32}\u001b[90m (alias for \u001b[39m\u001b[90mArray{Float32, 2}\u001b[39m\u001b[90m)\u001b[39m"
      ]
     },
     "execution_count": 79,
     "metadata": {},
     "output_type": "execute_result"
    }
   ],
   "source": [
    "typeof(prob_predictions)"
   ]
  },
  {
   "cell_type": "code",
   "execution_count": 65,
   "id": "51f5d5b1-72cf-446f-8a8d-bce7651f4c48",
   "metadata": {},
   "outputs": [
    {
     "ename": "LoadError",
     "evalue": "The following package names could not be resolved:\n * MLMetrics (not found in project, manifest or registry)\n\u001b[36m   Suggestions:\u001b[39m S\u001b[0m\u001b[1mM\u001b[22m\u001b[0m\u001b[1mL\u001b[22m\u001b[0m\u001b[1mM\u001b[22mM\u001b[0m\u001b[1me\u001b[22m\u001b[0m\u001b[1mt\u001b[22m\u001b[0m\u001b[1mr\u001b[22m\u001b[0m\u001b[1mi\u001b[22m\u001b[0m\u001b[1mc\u001b[22m\u001b[0m\u001b[1ms\u001b[22m TypeDo\u001b[0m\u001b[1mm\u001b[22mainNatura\u001b[0m\u001b[1ml\u001b[22mNu\u001b[0m\u001b[1mm\u001b[22mb\u001b[0m\u001b[1me\u001b[22mrS\u001b[0m\u001b[1mt\u001b[22m\u001b[0m\u001b[1mr\u001b[22m\u001b[0m\u001b[1mi\u001b[22m\u001b[0m\u001b[1mc\u001b[22mtlyBinaryTree\u001b[0m\u001b[1ms\u001b[22m",
     "output_type": "error",
     "traceback": [
      "The following package names could not be resolved:\n * MLMetrics (not found in project, manifest or registry)\n\u001b[36m   Suggestions:\u001b[39m S\u001b[0m\u001b[1mM\u001b[22m\u001b[0m\u001b[1mL\u001b[22m\u001b[0m\u001b[1mM\u001b[22mM\u001b[0m\u001b[1me\u001b[22m\u001b[0m\u001b[1mt\u001b[22m\u001b[0m\u001b[1mr\u001b[22m\u001b[0m\u001b[1mi\u001b[22m\u001b[0m\u001b[1mc\u001b[22m\u001b[0m\u001b[1ms\u001b[22m TypeDo\u001b[0m\u001b[1mm\u001b[22mainNatura\u001b[0m\u001b[1ml\u001b[22mNu\u001b[0m\u001b[1mm\u001b[22mb\u001b[0m\u001b[1me\u001b[22mrS\u001b[0m\u001b[1mt\u001b[22m\u001b[0m\u001b[1mr\u001b[22m\u001b[0m\u001b[1mi\u001b[22m\u001b[0m\u001b[1mc\u001b[22mtlyBinaryTree\u001b[0m\u001b[1ms\u001b[22m",
      "",
      "Stacktrace:",
      "  [1] pkgerror(msg::String)",
      "    @ Pkg.Types /opt/julia-1.8.5/share/julia/stdlib/v1.8/Pkg/src/Types.jl:67",
      "  [2] ensure_resolved(ctx::Pkg.Types.Context, manifest::Pkg.Types.Manifest, pkgs::Vector{Pkg.Types.PackageSpec}; registry::Bool)",
      "    @ Pkg.Types /opt/julia-1.8.5/share/julia/stdlib/v1.8/Pkg/src/Types.jl:952",
      "  [3] add(ctx::Pkg.Types.Context, pkgs::Vector{Pkg.Types.PackageSpec}; preserve::Pkg.Types.PreserveLevel, platform::Base.BinaryPlatforms.Platform, kwargs::Base.Pairs{Symbol, IJulia.IJuliaStdio{Base.PipeEndpoint}, Tuple{Symbol}, NamedTuple{(:io,), Tuple{IJulia.IJuliaStdio{Base.PipeEndpoint}}}})",
      "    @ Pkg.API /opt/julia-1.8.5/share/julia/stdlib/v1.8/Pkg/src/API.jl:264",
      "  [4] add(pkgs::Vector{Pkg.Types.PackageSpec}; io::IJulia.IJuliaStdio{Base.PipeEndpoint}, kwargs::Base.Pairs{Symbol, Union{}, Tuple{}, NamedTuple{(), Tuple{}}})",
      "    @ Pkg.API /opt/julia-1.8.5/share/julia/stdlib/v1.8/Pkg/src/API.jl:156",
      "  [5] add(pkgs::Vector{Pkg.Types.PackageSpec})",
      "    @ Pkg.API /opt/julia-1.8.5/share/julia/stdlib/v1.8/Pkg/src/API.jl:145",
      "  [6] #add#27",
      "    @ /opt/julia-1.8.5/share/julia/stdlib/v1.8/Pkg/src/API.jl:144 [inlined]",
      "  [7] add",
      "    @ /opt/julia-1.8.5/share/julia/stdlib/v1.8/Pkg/src/API.jl:144 [inlined]",
      "  [8] #add#26",
      "    @ /opt/julia-1.8.5/share/julia/stdlib/v1.8/Pkg/src/API.jl:143 [inlined]",
      "  [9] add(pkg::String)",
      "    @ Pkg.API /opt/julia-1.8.5/share/julia/stdlib/v1.8/Pkg/src/API.jl:143",
      " [10] top-level scope",
      "    @ In[65]:2"
     ]
    }
   ],
   "source": [
    "using Pkg\n",
    "Pkg.add(\"MLMetrics\")\n"
   ]
  },
  {
   "cell_type": "code",
   "execution_count": 64,
   "id": "de6ee928-e517-41dc-86f7-35d94e48a99f",
   "metadata": {},
   "outputs": [
    {
     "ename": "LoadError",
     "evalue": "ArgumentError: Package MLMetrics not found in current path.\n- Run `import Pkg; Pkg.add(\"MLMetrics\")` to install the MLMetrics package.",
     "output_type": "error",
     "traceback": [
      "ArgumentError: Package MLMetrics not found in current path.\n- Run `import Pkg; Pkg.add(\"MLMetrics\")` to install the MLMetrics package.",
      "",
      "Stacktrace:",
      " [1] macro expansion",
      "   @ ./loading.jl:1163 [inlined]",
      " [2] macro expansion",
      "   @ ./lock.jl:223 [inlined]",
      " [3] require(into::Module, mod::Symbol)",
      "   @ Base ./loading.jl:1144"
     ]
    }
   ],
   "source": [
    "using MLMetrics\n",
    "using Plots\n",
    "\n",
    "# Probabilidades predichas por el modelo\n",
    "prob_predictions = σ.(test_output)  # Aplicar sigmoide para obtener probabilidades\n",
    "\n",
    "# Etiquetas verdaderas (convertidas a enteros si no lo están)\n",
    "true_labels = y_test .== 2  # Clase positiva como `true`\n",
    "\n",
    "# Calcular puntos para la curva ROC\n",
    "fpr, tpr, thresholds = roc_curve(true_labels, prob_predictions)\n",
    "\n",
    "# Calcular AUC\n",
    "auc_value = auc(true_labels, prob_predictions)\n",
    "println(\"Área bajo la curva (AUC): \", auc_value)\n",
    "\n",
    "# Graficar la Curva ROC\n",
    "plot(fpr, tpr, label=\"Curva ROC\", xlabel=\"FPR (False Positive Rate)\", ylabel=\"TPR (True Positive Rate)\", legend=:bottomright)\n"
   ]
  },
  {
   "cell_type": "code",
   "execution_count": 89,
   "id": "17e75696-43c3-4301-aeb3-3e8432e86dd4",
   "metadata": {},
   "outputs": [
    {
     "data": {
      "text/plain": [
       "2000-element Vector{UnivariateFinite{Multiclass{2}, Int64, UInt8, Float32}}:\n",
       " UnivariateFinite{Multiclass{2}}(0=>0.914, 1=>0.0856)\n",
       " UnivariateFinite{Multiclass{2}}(0=>0.916, 1=>0.0836)\n",
       " UnivariateFinite{Multiclass{2}}(0=>0.946, 1=>0.0543)\n",
       " UnivariateFinite{Multiclass{2}}(0=>0.73, 1=>0.27)\n",
       " UnivariateFinite{Multiclass{2}}(0=>0.985, 1=>0.0145)\n",
       " UnivariateFinite{Multiclass{2}}(0=>0.977, 1=>0.0232)\n",
       " UnivariateFinite{Multiclass{2}}(0=>0.87, 1=>0.13)\n",
       " UnivariateFinite{Multiclass{2}}(0=>0.95, 1=>0.05)\n",
       " UnivariateFinite{Multiclass{2}}(0=>0.397, 1=>0.603)\n",
       " UnivariateFinite{Multiclass{2}}(0=>0.954, 1=>0.046)\n",
       " UnivariateFinite{Multiclass{2}}(0=>0.871, 1=>0.129)\n",
       " UnivariateFinite{Multiclass{2}}(0=>0.984, 1=>0.0159)\n",
       " UnivariateFinite{Multiclass{2}}(0=>0.956, 1=>0.0444)\n",
       " ⋮\n",
       " UnivariateFinite{Multiclass{2}}(0=>0.987, 1=>0.0133)\n",
       " UnivariateFinite{Multiclass{2}}(0=>0.959, 1=>0.0413)\n",
       " UnivariateFinite{Multiclass{2}}(0=>0.946, 1=>0.0538)\n",
       " UnivariateFinite{Multiclass{2}}(0=>0.988, 1=>0.0123)\n",
       " UnivariateFinite{Multiclass{2}}(0=>0.274, 1=>0.726)\n",
       " UnivariateFinite{Multiclass{2}}(0=>0.971, 1=>0.0288)\n",
       " UnivariateFinite{Multiclass{2}}(0=>0.774, 1=>0.226)\n",
       " UnivariateFinite{Multiclass{2}}(0=>0.89, 1=>0.11)\n",
       " UnivariateFinite{Multiclass{2}}(0=>0.91, 1=>0.0895)\n",
       " UnivariateFinite{Multiclass{2}}(0=>0.91, 1=>0.0904)\n",
       " UnivariateFinite{Multiclass{2}}(0=>0.917, 1=>0.0833)\n",
       " UnivariateFinite{Multiclass{2}}(0=>0.546, 1=>0.454)"
      ]
     },
     "execution_count": 89,
     "metadata": {},
     "output_type": "execute_result"
    }
   ],
   "source": [
    "using CategoricalDistributions\n",
    "\n",
    "# Vector de probabilidades de la clase positiva\n",
    "prob_predictions = σ.(test_output[1, :])  # Asegúrate de usar las probabilidades correctas\n",
    "\n",
    "# Etiquetas de las clases\n",
    "classes = [0, 1]  # Por ejemplo, 0 = clase negativa, 1 = clase positiva\n",
    "\n",
    "# Convertir a UnivariateFinite\n",
    "univariate_predictions = [UnivariateFinite(classes, [1-p, p], pool=missing) for p in prob_predictions]\n"
   ]
  },
  {
   "cell_type": "code",
   "execution_count": 90,
   "id": "6b8f2d40-50be-4d28-85b5-a91a1c99d417",
   "metadata": {},
   "outputs": [
    {
     "name": "stdout",
     "output_type": "stream",
     "text": [
      "plot(rc_test, legend = false, xlabel = \"False Positive Rate\", ylabel = \"True Positive Rate\", title = \"ROC Curve\") = Plot{Plots.GRBackend() n=1}\n"
     ]
    },
    {
     "name": "stderr",
     "output_type": "stream",
     "text": [
      "\u001b[33m\u001b[1m┌ \u001b[22m\u001b[39m\u001b[33m\u001b[1mWarning: \u001b[22m\u001b[39mLevels not explicitly ordered. Using the order [0, 1]. The \"positive\" level is 1. \n",
      "\u001b[33m\u001b[1m└ \u001b[22m\u001b[39m\u001b[90m@ StatisticalMeasures ~/.julia/packages/StatisticalMeasures/UTtxb/src/roc.jl:28\u001b[39m\n"
     ]
    },
    {
     "data": {
      "image/svg+xml": [
       "<?xml version=\"1.0\" encoding=\"utf-8\"?>\n",
       "<svg xmlns=\"http://www.w3.org/2000/svg\" xmlns:xlink=\"http://www.w3.org/1999/xlink\" width=\"600\" height=\"400\" viewBox=\"0 0 2400 1600\">\n",
       "<defs>\n",
       "  <clipPath id=\"clip710\">\n",
       "    <rect x=\"0\" y=\"0\" width=\"2400\" height=\"1600\"/>\n",
       "  </clipPath>\n",
       "</defs>\n",
       "<path clip-path=\"url(#clip710)\" d=\"M0 1600 L2400 1600 L2400 0 L0 0  Z\" fill=\"#ffffff\" fill-rule=\"evenodd\" fill-opacity=\"1\"/>\n",
       "<defs>\n",
       "  <clipPath id=\"clip711\">\n",
       "    <rect x=\"480\" y=\"0\" width=\"1681\" height=\"1600\"/>\n",
       "  </clipPath>\n",
       "</defs>\n",
       "<path clip-path=\"url(#clip710)\" d=\"M249.542 1423.18 L2352.76 1423.18 L2352.76 123.472 L249.542 123.472  Z\" fill=\"#ffffff\" fill-rule=\"evenodd\" fill-opacity=\"1\"/>\n",
       "<defs>\n",
       "  <clipPath id=\"clip712\">\n",
       "    <rect x=\"249\" y=\"123\" width=\"2104\" height=\"1301\"/>\n",
       "  </clipPath>\n",
       "</defs>\n",
       "<polyline clip-path=\"url(#clip712)\" style=\"stroke:#000000; stroke-linecap:round; stroke-linejoin:round; stroke-width:2; stroke-opacity:0.1; fill:none\" points=\"309.067,1423.18 309.067,123.472 \"/>\n",
       "<polyline clip-path=\"url(#clip712)\" style=\"stroke:#000000; stroke-linecap:round; stroke-linejoin:round; stroke-width:2; stroke-opacity:0.1; fill:none\" points=\"805.108,1423.18 805.108,123.472 \"/>\n",
       "<polyline clip-path=\"url(#clip712)\" style=\"stroke:#000000; stroke-linecap:round; stroke-linejoin:round; stroke-width:2; stroke-opacity:0.1; fill:none\" points=\"1301.15,1423.18 1301.15,123.472 \"/>\n",
       "<polyline clip-path=\"url(#clip712)\" style=\"stroke:#000000; stroke-linecap:round; stroke-linejoin:round; stroke-width:2; stroke-opacity:0.1; fill:none\" points=\"1797.19,1423.18 1797.19,123.472 \"/>\n",
       "<polyline clip-path=\"url(#clip712)\" style=\"stroke:#000000; stroke-linecap:round; stroke-linejoin:round; stroke-width:2; stroke-opacity:0.1; fill:none\" points=\"2293.23,1423.18 2293.23,123.472 \"/>\n",
       "<polyline clip-path=\"url(#clip712)\" style=\"stroke:#000000; stroke-linecap:round; stroke-linejoin:round; stroke-width:2; stroke-opacity:0.1; fill:none\" points=\"249.542,1386.4 2352.76,1386.4 \"/>\n",
       "<polyline clip-path=\"url(#clip712)\" style=\"stroke:#000000; stroke-linecap:round; stroke-linejoin:round; stroke-width:2; stroke-opacity:0.1; fill:none\" points=\"249.542,1079.86 2352.76,1079.86 \"/>\n",
       "<polyline clip-path=\"url(#clip712)\" style=\"stroke:#000000; stroke-linecap:round; stroke-linejoin:round; stroke-width:2; stroke-opacity:0.1; fill:none\" points=\"249.542,773.326 2352.76,773.326 \"/>\n",
       "<polyline clip-path=\"url(#clip712)\" style=\"stroke:#000000; stroke-linecap:round; stroke-linejoin:round; stroke-width:2; stroke-opacity:0.1; fill:none\" points=\"249.542,466.791 2352.76,466.791 \"/>\n",
       "<polyline clip-path=\"url(#clip712)\" style=\"stroke:#000000; stroke-linecap:round; stroke-linejoin:round; stroke-width:2; stroke-opacity:0.1; fill:none\" points=\"249.542,160.256 2352.76,160.256 \"/>\n",
       "<polyline clip-path=\"url(#clip710)\" style=\"stroke:#000000; stroke-linecap:round; stroke-linejoin:round; stroke-width:4; stroke-opacity:1; fill:none\" points=\"249.542,1423.18 2352.76,1423.18 \"/>\n",
       "<polyline clip-path=\"url(#clip710)\" style=\"stroke:#000000; stroke-linecap:round; stroke-linejoin:round; stroke-width:4; stroke-opacity:1; fill:none\" points=\"309.067,1423.18 309.067,1404.28 \"/>\n",
       "<polyline clip-path=\"url(#clip710)\" style=\"stroke:#000000; stroke-linecap:round; stroke-linejoin:round; stroke-width:4; stroke-opacity:1; fill:none\" points=\"805.108,1423.18 805.108,1404.28 \"/>\n",
       "<polyline clip-path=\"url(#clip710)\" style=\"stroke:#000000; stroke-linecap:round; stroke-linejoin:round; stroke-width:4; stroke-opacity:1; fill:none\" points=\"1301.15,1423.18 1301.15,1404.28 \"/>\n",
       "<polyline clip-path=\"url(#clip710)\" style=\"stroke:#000000; stroke-linecap:round; stroke-linejoin:round; stroke-width:4; stroke-opacity:1; fill:none\" points=\"1797.19,1423.18 1797.19,1404.28 \"/>\n",
       "<polyline clip-path=\"url(#clip710)\" style=\"stroke:#000000; stroke-linecap:round; stroke-linejoin:round; stroke-width:4; stroke-opacity:1; fill:none\" points=\"2293.23,1423.18 2293.23,1404.28 \"/>\n",
       "<path clip-path=\"url(#clip710)\" d=\"M271.37 1454.1 Q267.759 1454.1 265.931 1457.66 Q264.125 1461.2 264.125 1468.33 Q264.125 1475.44 265.931 1479.01 Q267.759 1482.55 271.37 1482.55 Q275.005 1482.55 276.81 1479.01 Q278.639 1475.44 278.639 1468.33 Q278.639 1461.2 276.81 1457.66 Q275.005 1454.1 271.37 1454.1 M271.37 1450.39 Q277.181 1450.39 280.236 1455 Q283.315 1459.58 283.315 1468.33 Q283.315 1477.06 280.236 1481.67 Q277.181 1486.25 271.37 1486.25 Q265.56 1486.25 262.482 1481.67 Q259.426 1477.06 259.426 1468.33 Q259.426 1459.58 262.482 1455 Q265.56 1450.39 271.37 1450.39 Z\" fill=\"#000000\" fill-rule=\"nonzero\" fill-opacity=\"1\" /><path clip-path=\"url(#clip710)\" d=\"M291.532 1479.7 L296.417 1479.7 L296.417 1485.58 L291.532 1485.58 L291.532 1479.7 Z\" fill=\"#000000\" fill-rule=\"nonzero\" fill-opacity=\"1\" /><path clip-path=\"url(#clip710)\" d=\"M316.602 1454.1 Q312.991 1454.1 311.162 1457.66 Q309.356 1461.2 309.356 1468.33 Q309.356 1475.44 311.162 1479.01 Q312.991 1482.55 316.602 1482.55 Q320.236 1482.55 322.041 1479.01 Q323.87 1475.44 323.87 1468.33 Q323.87 1461.2 322.041 1457.66 Q320.236 1454.1 316.602 1454.1 M316.602 1450.39 Q322.412 1450.39 325.467 1455 Q328.546 1459.58 328.546 1468.33 Q328.546 1477.06 325.467 1481.67 Q322.412 1486.25 316.602 1486.25 Q310.791 1486.25 307.713 1481.67 Q304.657 1477.06 304.657 1468.33 Q304.657 1459.58 307.713 1455 Q310.791 1450.39 316.602 1450.39 Z\" fill=\"#000000\" fill-rule=\"nonzero\" fill-opacity=\"1\" /><path clip-path=\"url(#clip710)\" d=\"M346.764 1454.1 Q343.152 1454.1 341.324 1457.66 Q339.518 1461.2 339.518 1468.33 Q339.518 1475.44 341.324 1479.01 Q343.152 1482.55 346.764 1482.55 Q350.398 1482.55 352.203 1479.01 Q354.032 1475.44 354.032 1468.33 Q354.032 1461.2 352.203 1457.66 Q350.398 1454.1 346.764 1454.1 M346.764 1450.39 Q352.574 1450.39 355.629 1455 Q358.708 1459.58 358.708 1468.33 Q358.708 1477.06 355.629 1481.67 Q352.574 1486.25 346.764 1486.25 Q340.953 1486.25 337.875 1481.67 Q334.819 1477.06 334.819 1468.33 Q334.819 1459.58 337.875 1455 Q340.953 1450.39 346.764 1450.39 Z\" fill=\"#000000\" fill-rule=\"nonzero\" fill-opacity=\"1\" /><path clip-path=\"url(#clip710)\" d=\"M767.909 1454.1 Q764.298 1454.1 762.469 1457.66 Q760.664 1461.2 760.664 1468.33 Q760.664 1475.44 762.469 1479.01 Q764.298 1482.55 767.909 1482.55 Q771.543 1482.55 773.349 1479.01 Q775.178 1475.44 775.178 1468.33 Q775.178 1461.2 773.349 1457.66 Q771.543 1454.1 767.909 1454.1 M767.909 1450.39 Q773.719 1450.39 776.775 1455 Q779.853 1459.58 779.853 1468.33 Q779.853 1477.06 776.775 1481.67 Q773.719 1486.25 767.909 1486.25 Q762.099 1486.25 759.02 1481.67 Q755.965 1477.06 755.965 1468.33 Q755.965 1459.58 759.02 1455 Q762.099 1450.39 767.909 1450.39 Z\" fill=\"#000000\" fill-rule=\"nonzero\" fill-opacity=\"1\" /><path clip-path=\"url(#clip710)\" d=\"M788.071 1479.7 L792.955 1479.7 L792.955 1485.58 L788.071 1485.58 L788.071 1479.7 Z\" fill=\"#000000\" fill-rule=\"nonzero\" fill-opacity=\"1\" /><path clip-path=\"url(#clip710)\" d=\"M807.168 1481.64 L823.487 1481.64 L823.487 1485.58 L801.543 1485.58 L801.543 1481.64 Q804.205 1478.89 808.788 1474.26 Q813.395 1469.61 814.576 1468.27 Q816.821 1465.74 817.7 1464.01 Q818.603 1462.25 818.603 1460.56 Q818.603 1457.8 816.659 1456.07 Q814.738 1454.33 811.636 1454.33 Q809.437 1454.33 806.983 1455.09 Q804.552 1455.86 801.775 1457.41 L801.775 1452.69 Q804.599 1451.55 807.052 1450.97 Q809.506 1450.39 811.543 1450.39 Q816.913 1450.39 820.108 1453.08 Q823.302 1455.77 823.302 1460.26 Q823.302 1462.39 822.492 1464.31 Q821.705 1466.2 819.599 1468.8 Q819.02 1469.47 815.918 1472.69 Q812.816 1475.88 807.168 1481.64 Z\" fill=\"#000000\" fill-rule=\"nonzero\" fill-opacity=\"1\" /><path clip-path=\"url(#clip710)\" d=\"M833.349 1451.02 L851.705 1451.02 L851.705 1454.96 L837.631 1454.96 L837.631 1463.43 Q838.649 1463.08 839.668 1462.92 Q840.686 1462.73 841.705 1462.73 Q847.492 1462.73 850.872 1465.9 Q854.251 1469.08 854.251 1474.49 Q854.251 1480.07 850.779 1483.17 Q847.307 1486.25 840.987 1486.25 Q838.811 1486.25 836.543 1485.88 Q834.298 1485.51 831.89 1484.77 L831.89 1480.07 Q833.974 1481.2 836.196 1481.76 Q838.418 1482.32 840.895 1482.32 Q844.899 1482.32 847.237 1480.21 Q849.575 1478.1 849.575 1474.49 Q849.575 1470.88 847.237 1468.77 Q844.899 1466.67 840.895 1466.67 Q839.02 1466.67 837.145 1467.08 Q835.293 1467.5 833.349 1468.38 L833.349 1451.02 Z\" fill=\"#000000\" fill-rule=\"nonzero\" fill-opacity=\"1\" /><path clip-path=\"url(#clip710)\" d=\"M1263.45 1454.1 Q1259.84 1454.1 1258.01 1457.66 Q1256.21 1461.2 1256.21 1468.33 Q1256.21 1475.44 1258.01 1479.01 Q1259.84 1482.55 1263.45 1482.55 Q1267.09 1482.55 1268.89 1479.01 Q1270.72 1475.44 1270.72 1468.33 Q1270.72 1461.2 1268.89 1457.66 Q1267.09 1454.1 1263.45 1454.1 M1263.45 1450.39 Q1269.26 1450.39 1272.32 1455 Q1275.4 1459.58 1275.4 1468.33 Q1275.4 1477.06 1272.32 1481.67 Q1269.26 1486.25 1263.45 1486.25 Q1257.64 1486.25 1254.56 1481.67 Q1251.51 1477.06 1251.51 1468.33 Q1251.51 1459.58 1254.56 1455 Q1257.64 1450.39 1263.45 1450.39 Z\" fill=\"#000000\" fill-rule=\"nonzero\" fill-opacity=\"1\" /><path clip-path=\"url(#clip710)\" d=\"M1283.61 1479.7 L1288.5 1479.7 L1288.5 1485.58 L1283.61 1485.58 L1283.61 1479.7 Z\" fill=\"#000000\" fill-rule=\"nonzero\" fill-opacity=\"1\" /><path clip-path=\"url(#clip710)\" d=\"M1298.73 1451.02 L1317.09 1451.02 L1317.09 1454.96 L1303.01 1454.96 L1303.01 1463.43 Q1304.03 1463.08 1305.05 1462.92 Q1306.07 1462.73 1307.09 1462.73 Q1312.87 1462.73 1316.25 1465.9 Q1319.63 1469.08 1319.63 1474.49 Q1319.63 1480.07 1316.16 1483.17 Q1312.69 1486.25 1306.37 1486.25 Q1304.19 1486.25 1301.92 1485.88 Q1299.68 1485.51 1297.27 1484.77 L1297.27 1480.07 Q1299.35 1481.2 1301.58 1481.76 Q1303.8 1482.32 1306.28 1482.32 Q1310.28 1482.32 1312.62 1480.21 Q1314.96 1478.1 1314.96 1474.49 Q1314.96 1470.88 1312.62 1468.77 Q1310.28 1466.67 1306.28 1466.67 Q1304.4 1466.67 1302.53 1467.08 Q1300.67 1467.5 1298.73 1468.38 L1298.73 1451.02 Z\" fill=\"#000000\" fill-rule=\"nonzero\" fill-opacity=\"1\" /><path clip-path=\"url(#clip710)\" d=\"M1338.85 1454.1 Q1335.23 1454.1 1333.41 1457.66 Q1331.6 1461.2 1331.6 1468.33 Q1331.6 1475.44 1333.41 1479.01 Q1335.23 1482.55 1338.85 1482.55 Q1342.48 1482.55 1344.29 1479.01 Q1346.11 1475.44 1346.11 1468.33 Q1346.11 1461.2 1344.29 1457.66 Q1342.48 1454.1 1338.85 1454.1 M1338.85 1450.39 Q1344.66 1450.39 1347.71 1455 Q1350.79 1459.58 1350.79 1468.33 Q1350.79 1477.06 1347.71 1481.67 Q1344.66 1486.25 1338.85 1486.25 Q1333.04 1486.25 1329.96 1481.67 Q1326.9 1477.06 1326.9 1468.33 Q1326.9 1459.58 1329.96 1455 Q1333.04 1450.39 1338.85 1450.39 Z\" fill=\"#000000\" fill-rule=\"nonzero\" fill-opacity=\"1\" /><path clip-path=\"url(#clip710)\" d=\"M1759.99 1454.1 Q1756.38 1454.1 1754.55 1457.66 Q1752.75 1461.2 1752.75 1468.33 Q1752.75 1475.44 1754.55 1479.01 Q1756.38 1482.55 1759.99 1482.55 Q1763.63 1482.55 1765.43 1479.01 Q1767.26 1475.44 1767.26 1468.33 Q1767.26 1461.2 1765.43 1457.66 Q1763.63 1454.1 1759.99 1454.1 M1759.99 1450.39 Q1765.8 1450.39 1768.86 1455 Q1771.94 1459.58 1771.94 1468.33 Q1771.94 1477.06 1768.86 1481.67 Q1765.8 1486.25 1759.99 1486.25 Q1754.18 1486.25 1751.1 1481.67 Q1748.05 1477.06 1748.05 1468.33 Q1748.05 1459.58 1751.1 1455 Q1754.18 1450.39 1759.99 1450.39 Z\" fill=\"#000000\" fill-rule=\"nonzero\" fill-opacity=\"1\" /><path clip-path=\"url(#clip710)\" d=\"M1780.15 1479.7 L1785.04 1479.7 L1785.04 1485.58 L1780.15 1485.58 L1780.15 1479.7 Z\" fill=\"#000000\" fill-rule=\"nonzero\" fill-opacity=\"1\" /><path clip-path=\"url(#clip710)\" d=\"M1794.04 1451.02 L1816.26 1451.02 L1816.26 1453.01 L1803.72 1485.58 L1798.83 1485.58 L1810.64 1454.96 L1794.04 1454.96 L1794.04 1451.02 Z\" fill=\"#000000\" fill-rule=\"nonzero\" fill-opacity=\"1\" /><path clip-path=\"url(#clip710)\" d=\"M1825.43 1451.02 L1843.79 1451.02 L1843.79 1454.96 L1829.71 1454.96 L1829.71 1463.43 Q1830.73 1463.08 1831.75 1462.92 Q1832.77 1462.73 1833.79 1462.73 Q1839.57 1462.73 1842.95 1465.9 Q1846.33 1469.08 1846.33 1474.49 Q1846.33 1480.07 1842.86 1483.17 Q1839.39 1486.25 1833.07 1486.25 Q1830.89 1486.25 1828.62 1485.88 Q1826.38 1485.51 1823.97 1484.77 L1823.97 1480.07 Q1826.06 1481.2 1828.28 1481.76 Q1830.5 1482.32 1832.98 1482.32 Q1836.98 1482.32 1839.32 1480.21 Q1841.66 1478.1 1841.66 1474.49 Q1841.66 1470.88 1839.32 1468.77 Q1836.98 1466.67 1832.98 1466.67 Q1831.1 1466.67 1829.23 1467.08 Q1827.38 1467.5 1825.43 1468.38 L1825.43 1451.02 Z\" fill=\"#000000\" fill-rule=\"nonzero\" fill-opacity=\"1\" /><path clip-path=\"url(#clip710)\" d=\"M2245.3 1481.64 L2252.94 1481.64 L2252.94 1455.28 L2244.63 1456.95 L2244.63 1452.69 L2252.9 1451.02 L2257.57 1451.02 L2257.57 1481.64 L2265.21 1481.64 L2265.21 1485.58 L2245.3 1485.58 L2245.3 1481.64 Z\" fill=\"#000000\" fill-rule=\"nonzero\" fill-opacity=\"1\" /><path clip-path=\"url(#clip710)\" d=\"M2274.65 1479.7 L2279.54 1479.7 L2279.54 1485.58 L2274.65 1485.58 L2274.65 1479.7 Z\" fill=\"#000000\" fill-rule=\"nonzero\" fill-opacity=\"1\" /><path clip-path=\"url(#clip710)\" d=\"M2299.72 1454.1 Q2296.11 1454.1 2294.28 1457.66 Q2292.48 1461.2 2292.48 1468.33 Q2292.48 1475.44 2294.28 1479.01 Q2296.11 1482.55 2299.72 1482.55 Q2303.36 1482.55 2305.16 1479.01 Q2306.99 1475.44 2306.99 1468.33 Q2306.99 1461.2 2305.16 1457.66 Q2303.36 1454.1 2299.72 1454.1 M2299.72 1450.39 Q2305.53 1450.39 2308.59 1455 Q2311.67 1459.58 2311.67 1468.33 Q2311.67 1477.06 2308.59 1481.67 Q2305.53 1486.25 2299.72 1486.25 Q2293.91 1486.25 2290.84 1481.67 Q2287.78 1477.06 2287.78 1468.33 Q2287.78 1459.58 2290.84 1455 Q2293.91 1450.39 2299.72 1450.39 Z\" fill=\"#000000\" fill-rule=\"nonzero\" fill-opacity=\"1\" /><path clip-path=\"url(#clip710)\" d=\"M2329.89 1454.1 Q2326.27 1454.1 2324.45 1457.66 Q2322.64 1461.2 2322.64 1468.33 Q2322.64 1475.44 2324.45 1479.01 Q2326.27 1482.55 2329.89 1482.55 Q2333.52 1482.55 2335.33 1479.01 Q2337.15 1475.44 2337.15 1468.33 Q2337.15 1461.2 2335.33 1457.66 Q2333.52 1454.1 2329.89 1454.1 M2329.89 1450.39 Q2335.7 1450.39 2338.75 1455 Q2341.83 1459.58 2341.83 1468.33 Q2341.83 1477.06 2338.75 1481.67 Q2335.7 1486.25 2329.89 1486.25 Q2324.08 1486.25 2321 1481.67 Q2317.94 1477.06 2317.94 1468.33 Q2317.94 1459.58 2321 1455 Q2324.08 1450.39 2329.89 1450.39 Z\" fill=\"#000000\" fill-rule=\"nonzero\" fill-opacity=\"1\" /><path clip-path=\"url(#clip710)\" d=\"M1003.17 1520.52 L1030.48 1520.52 L1030.48 1525.93 L1009.6 1525.93 L1009.6 1539.94 L1028.44 1539.94 L1028.44 1545.35 L1009.6 1545.35 L1009.6 1568.04 L1003.17 1568.04 L1003.17 1520.52 Z\" fill=\"#000000\" fill-rule=\"nonzero\" fill-opacity=\"1\" /><path clip-path=\"url(#clip710)\" d=\"M1050.63 1550.12 Q1043.53 1550.12 1040.79 1551.75 Q1038.05 1553.37 1038.05 1557.29 Q1038.05 1560.4 1040.09 1562.25 Q1042.16 1564.07 1045.69 1564.07 Q1050.56 1564.07 1053.49 1560.63 Q1056.45 1557.16 1056.45 1551.43 L1056.45 1550.12 L1050.63 1550.12 M1062.31 1547.71 L1062.31 1568.04 L1056.45 1568.04 L1056.45 1562.63 Q1054.45 1565.88 1051.45 1567.44 Q1048.46 1568.97 1044.13 1568.97 Q1038.66 1568.97 1035.41 1565.91 Q1032.2 1562.82 1032.2 1557.67 Q1032.2 1551.65 1036.21 1548.6 Q1040.25 1545.54 1048.24 1545.54 L1056.45 1545.54 L1056.45 1544.97 Q1056.45 1540.93 1053.78 1538.73 Q1051.14 1536.5 1046.33 1536.5 Q1043.27 1536.5 1040.38 1537.23 Q1037.48 1537.97 1034.81 1539.43 L1034.81 1534.02 Q1038.02 1532.78 1041.05 1532.17 Q1044.07 1531.54 1046.93 1531.54 Q1054.67 1531.54 1058.49 1535.55 Q1062.31 1539.56 1062.31 1547.71 Z\" fill=\"#000000\" fill-rule=\"nonzero\" fill-opacity=\"1\" /><path clip-path=\"url(#clip710)\" d=\"M1074.37 1518.52 L1080.23 1518.52 L1080.23 1568.04 L1074.37 1568.04 L1074.37 1518.52 Z\" fill=\"#000000\" fill-rule=\"nonzero\" fill-opacity=\"1\" /><path clip-path=\"url(#clip710)\" d=\"M1115.21 1533.45 L1115.21 1538.98 Q1112.72 1537.71 1110.05 1537.07 Q1107.38 1536.44 1104.51 1536.44 Q1100.15 1536.44 1097.96 1537.77 Q1095.79 1539.11 1095.79 1541.79 Q1095.79 1543.82 1097.35 1545 Q1098.91 1546.15 1103.62 1547.2 L1105.63 1547.64 Q1111.86 1548.98 1114.47 1551.43 Q1117.12 1553.85 1117.12 1558.21 Q1117.12 1563.17 1113.17 1566.07 Q1109.25 1568.97 1102.38 1568.97 Q1099.52 1568.97 1096.4 1568.39 Q1093.31 1567.85 1089.87 1566.74 L1089.87 1560.69 Q1093.12 1562.38 1096.27 1563.24 Q1099.42 1564.07 1102.51 1564.07 Q1106.64 1564.07 1108.87 1562.66 Q1111.1 1561.23 1111.1 1558.65 Q1111.1 1556.27 1109.48 1554.99 Q1107.89 1553.72 1102.44 1552.54 L1100.41 1552.07 Q1094.96 1550.92 1092.54 1548.56 Q1090.13 1546.18 1090.13 1542.04 Q1090.13 1537.01 1093.69 1534.27 Q1097.26 1531.54 1103.81 1531.54 Q1107.06 1531.54 1109.92 1532.01 Q1112.79 1532.49 1115.21 1533.45 Z\" fill=\"#000000\" fill-rule=\"nonzero\" fill-opacity=\"1\" /><path clip-path=\"url(#clip710)\" d=\"M1156.93 1548.76 L1156.93 1551.62 L1130.01 1551.62 Q1130.39 1557.67 1133.64 1560.85 Q1136.91 1564 1142.74 1564 Q1146.11 1564 1149.26 1563.17 Q1152.45 1562.35 1155.57 1560.69 L1155.57 1566.23 Q1152.41 1567.57 1149.1 1568.27 Q1145.79 1568.97 1142.39 1568.97 Q1133.86 1568.97 1128.86 1564 Q1123.9 1559.04 1123.9 1550.57 Q1123.9 1541.82 1128.61 1536.69 Q1133.35 1531.54 1141.37 1531.54 Q1148.56 1531.54 1152.73 1536.18 Q1156.93 1540.8 1156.93 1548.76 M1151.08 1547.04 Q1151.01 1542.23 1148.37 1539.37 Q1145.76 1536.5 1141.43 1536.5 Q1136.53 1536.5 1133.57 1539.27 Q1130.64 1542.04 1130.2 1547.07 L1151.08 1547.04 Z\" fill=\"#000000\" fill-rule=\"nonzero\" fill-opacity=\"1\" /><path clip-path=\"url(#clip710)\" d=\"M1193.95 1525.81 L1193.95 1543.66 L1202.03 1543.66 Q1206.52 1543.66 1208.97 1541.34 Q1211.42 1539.02 1211.42 1534.72 Q1211.42 1530.45 1208.97 1528.13 Q1206.52 1525.81 1202.03 1525.81 L1193.95 1525.81 M1187.52 1520.52 L1202.03 1520.52 Q1210.02 1520.52 1214.1 1524.15 Q1218.2 1527.75 1218.2 1534.72 Q1218.2 1541.75 1214.1 1545.35 Q1210.02 1548.95 1202.03 1548.95 L1193.95 1548.95 L1193.95 1568.04 L1187.52 1568.04 L1187.52 1520.52 Z\" fill=\"#000000\" fill-rule=\"nonzero\" fill-opacity=\"1\" /><path clip-path=\"url(#clip710)\" d=\"M1238.06 1536.5 Q1233.35 1536.5 1230.62 1540.19 Q1227.88 1543.85 1227.88 1550.25 Q1227.88 1556.65 1230.59 1560.34 Q1233.32 1564 1238.06 1564 Q1242.74 1564 1245.48 1560.31 Q1248.22 1556.62 1248.22 1550.25 Q1248.22 1543.92 1245.48 1540.23 Q1242.74 1536.5 1238.06 1536.5 M1238.06 1531.54 Q1245.7 1531.54 1250.06 1536.5 Q1254.42 1541.47 1254.42 1550.25 Q1254.42 1559 1250.06 1564 Q1245.7 1568.97 1238.06 1568.97 Q1230.39 1568.97 1226.03 1564 Q1221.7 1559 1221.7 1550.25 Q1221.7 1541.47 1226.03 1536.5 Q1230.39 1531.54 1238.06 1531.54 Z\" fill=\"#000000\" fill-rule=\"nonzero\" fill-opacity=\"1\" /><path clip-path=\"url(#clip710)\" d=\"M1286.86 1533.45 L1286.86 1538.98 Q1284.38 1537.71 1281.7 1537.07 Q1279.03 1536.44 1276.16 1536.44 Q1271.8 1536.44 1269.61 1537.77 Q1267.44 1539.11 1267.44 1541.79 Q1267.44 1543.82 1269 1545 Q1270.56 1546.15 1275.27 1547.2 L1277.28 1547.64 Q1283.52 1548.98 1286.13 1551.43 Q1288.77 1553.85 1288.77 1558.21 Q1288.77 1563.17 1284.82 1566.07 Q1280.91 1568.97 1274.03 1568.97 Q1271.17 1568.97 1268.05 1568.39 Q1264.96 1567.85 1261.52 1566.74 L1261.52 1560.69 Q1264.77 1562.38 1267.92 1563.24 Q1271.07 1564.07 1274.16 1564.07 Q1278.3 1564.07 1280.52 1562.66 Q1282.75 1561.23 1282.75 1558.65 Q1282.75 1556.27 1281.13 1554.99 Q1279.54 1553.72 1274.09 1552.54 L1272.06 1552.07 Q1266.62 1550.92 1264.2 1548.56 Q1261.78 1546.18 1261.78 1542.04 Q1261.78 1537.01 1265.34 1534.27 Q1268.91 1531.54 1275.46 1531.54 Q1278.71 1531.54 1281.57 1532.01 Q1284.44 1532.49 1286.86 1533.45 Z\" fill=\"#000000\" fill-rule=\"nonzero\" fill-opacity=\"1\" /><path clip-path=\"url(#clip710)\" d=\"M1298.09 1532.4 L1303.95 1532.4 L1303.95 1568.04 L1298.09 1568.04 L1298.09 1532.4 M1298.09 1518.52 L1303.95 1518.52 L1303.95 1525.93 L1298.09 1525.93 L1298.09 1518.52 Z\" fill=\"#000000\" fill-rule=\"nonzero\" fill-opacity=\"1\" /><path clip-path=\"url(#clip710)\" d=\"M1322 1522.27 L1322 1532.4 L1334.06 1532.4 L1334.06 1536.95 L1322 1536.95 L1322 1556.3 Q1322 1560.66 1323.17 1561.9 Q1324.38 1563.14 1328.04 1563.14 L1334.06 1563.14 L1334.06 1568.04 L1328.04 1568.04 Q1321.26 1568.04 1318.69 1565.53 Q1316.11 1562.98 1316.11 1556.3 L1316.11 1536.95 L1311.81 1536.95 L1311.81 1532.4 L1316.11 1532.4 L1316.11 1522.27 L1322 1522.27 Z\" fill=\"#000000\" fill-rule=\"nonzero\" fill-opacity=\"1\" /><path clip-path=\"url(#clip710)\" d=\"M1341.76 1532.4 L1347.62 1532.4 L1347.62 1568.04 L1341.76 1568.04 L1341.76 1532.4 M1341.76 1518.52 L1347.62 1518.52 L1347.62 1525.93 L1341.76 1525.93 L1341.76 1518.52 Z\" fill=\"#000000\" fill-rule=\"nonzero\" fill-opacity=\"1\" /><path clip-path=\"url(#clip710)\" d=\"M1355.67 1532.4 L1361.88 1532.4 L1373.02 1562.31 L1384.16 1532.4 L1390.36 1532.4 L1377 1568.04 L1369.04 1568.04 L1355.67 1532.4 Z\" fill=\"#000000\" fill-rule=\"nonzero\" fill-opacity=\"1\" /><path clip-path=\"url(#clip710)\" d=\"M1428.94 1548.76 L1428.94 1551.62 L1402.01 1551.62 Q1402.4 1557.67 1405.64 1560.85 Q1408.92 1564 1414.75 1564 Q1418.12 1564 1421.27 1563.17 Q1424.45 1562.35 1427.57 1560.69 L1427.57 1566.23 Q1424.42 1567.57 1421.11 1568.27 Q1417.8 1568.97 1414.39 1568.97 Q1405.86 1568.97 1400.87 1564 Q1395.9 1559.04 1395.9 1550.57 Q1395.9 1541.82 1400.61 1536.69 Q1405.36 1531.54 1413.38 1531.54 Q1420.57 1531.54 1424.74 1536.18 Q1428.94 1540.8 1428.94 1548.76 M1423.08 1547.04 Q1423.02 1542.23 1420.38 1539.37 Q1417.77 1536.5 1413.44 1536.5 Q1408.54 1536.5 1405.58 1539.27 Q1402.65 1542.04 1402.2 1547.07 L1423.08 1547.04 Z\" fill=\"#000000\" fill-rule=\"nonzero\" fill-opacity=\"1\" /><path clip-path=\"url(#clip710)\" d=\"M1482.06 1545.76 Q1484.13 1546.46 1486.07 1548.76 Q1488.05 1551.05 1490.02 1555.06 L1496.54 1568.04 L1489.64 1568.04 L1483.56 1555.85 Q1481.2 1551.08 1478.97 1549.52 Q1476.78 1547.96 1472.96 1547.96 L1465.96 1547.96 L1465.96 1568.04 L1459.53 1568.04 L1459.53 1520.52 L1474.04 1520.52 Q1482.19 1520.52 1486.2 1523.93 Q1490.21 1527.34 1490.21 1534.21 Q1490.21 1538.7 1488.11 1541.66 Q1486.04 1544.62 1482.06 1545.76 M1465.96 1525.81 L1465.96 1542.68 L1474.04 1542.68 Q1478.69 1542.68 1481.04 1540.54 Q1483.43 1538.38 1483.43 1534.21 Q1483.43 1530.04 1481.04 1527.94 Q1478.69 1525.81 1474.04 1525.81 L1465.96 1525.81 Z\" fill=\"#000000\" fill-rule=\"nonzero\" fill-opacity=\"1\" /><path clip-path=\"url(#clip710)\" d=\"M1519.33 1550.12 Q1512.24 1550.12 1509.5 1551.75 Q1506.76 1553.37 1506.76 1557.29 Q1506.76 1560.4 1508.8 1562.25 Q1510.87 1564.07 1514.4 1564.07 Q1519.27 1564.07 1522.2 1560.63 Q1525.16 1557.16 1525.16 1551.43 L1525.16 1550.12 L1519.33 1550.12 M1531.01 1547.71 L1531.01 1568.04 L1525.16 1568.04 L1525.16 1562.63 Q1523.15 1565.88 1520.16 1567.44 Q1517.17 1568.97 1512.84 1568.97 Q1507.37 1568.97 1504.12 1565.91 Q1500.9 1562.82 1500.9 1557.67 Q1500.9 1551.65 1504.92 1548.6 Q1508.96 1545.54 1516.95 1545.54 L1525.16 1545.54 L1525.16 1544.97 Q1525.16 1540.93 1522.48 1538.73 Q1519.84 1536.5 1515.04 1536.5 Q1511.98 1536.5 1509.08 1537.23 Q1506.19 1537.97 1503.51 1539.43 L1503.51 1534.02 Q1506.73 1532.78 1509.75 1532.17 Q1512.78 1531.54 1515.64 1531.54 Q1523.38 1531.54 1527.2 1535.55 Q1531.01 1539.56 1531.01 1547.71 Z\" fill=\"#000000\" fill-rule=\"nonzero\" fill-opacity=\"1\" /><path clip-path=\"url(#clip710)\" d=\"M1548.87 1522.27 L1548.87 1532.4 L1560.93 1532.4 L1560.93 1536.95 L1548.87 1536.95 L1548.87 1556.3 Q1548.87 1560.66 1550.05 1561.9 Q1551.26 1563.14 1554.92 1563.14 L1560.93 1563.14 L1560.93 1568.04 L1554.92 1568.04 Q1548.14 1568.04 1545.56 1565.53 Q1542.98 1562.98 1542.98 1556.3 L1542.98 1536.95 L1538.69 1536.95 L1538.69 1532.4 L1542.98 1532.4 L1542.98 1522.27 L1548.87 1522.27 Z\" fill=\"#000000\" fill-rule=\"nonzero\" fill-opacity=\"1\" /><path clip-path=\"url(#clip710)\" d=\"M1599.13 1548.76 L1599.13 1551.62 L1572.2 1551.62 Q1572.58 1557.67 1575.83 1560.85 Q1579.11 1564 1584.93 1564 Q1588.31 1564 1591.46 1563.17 Q1594.64 1562.35 1597.76 1560.69 L1597.76 1566.23 Q1594.61 1567.57 1591.3 1568.27 Q1587.99 1568.97 1584.58 1568.97 Q1576.05 1568.97 1571.05 1564 Q1566.09 1559.04 1566.09 1550.57 Q1566.09 1541.82 1570.8 1536.69 Q1575.54 1531.54 1583.56 1531.54 Q1590.76 1531.54 1594.93 1536.18 Q1599.13 1540.8 1599.13 1548.76 M1593.27 1547.04 Q1593.21 1542.23 1590.57 1539.37 Q1587.96 1536.5 1583.63 1536.5 Q1578.73 1536.5 1575.77 1539.27 Q1572.84 1542.04 1572.39 1547.07 L1593.27 1547.04 Z\" fill=\"#000000\" fill-rule=\"nonzero\" fill-opacity=\"1\" /><polyline clip-path=\"url(#clip710)\" style=\"stroke:#000000; stroke-linecap:round; stroke-linejoin:round; stroke-width:4; stroke-opacity:1; fill:none\" points=\"249.542,1423.18 249.542,123.472 \"/>\n",
       "<polyline clip-path=\"url(#clip710)\" style=\"stroke:#000000; stroke-linecap:round; stroke-linejoin:round; stroke-width:4; stroke-opacity:1; fill:none\" points=\"249.542,1386.4 268.44,1386.4 \"/>\n",
       "<polyline clip-path=\"url(#clip710)\" style=\"stroke:#000000; stroke-linecap:round; stroke-linejoin:round; stroke-width:4; stroke-opacity:1; fill:none\" points=\"249.542,1079.86 268.44,1079.86 \"/>\n",
       "<polyline clip-path=\"url(#clip710)\" style=\"stroke:#000000; stroke-linecap:round; stroke-linejoin:round; stroke-width:4; stroke-opacity:1; fill:none\" points=\"249.542,773.326 268.44,773.326 \"/>\n",
       "<polyline clip-path=\"url(#clip710)\" style=\"stroke:#000000; stroke-linecap:round; stroke-linejoin:round; stroke-width:4; stroke-opacity:1; fill:none\" points=\"249.542,466.791 268.44,466.791 \"/>\n",
       "<polyline clip-path=\"url(#clip710)\" style=\"stroke:#000000; stroke-linecap:round; stroke-linejoin:round; stroke-width:4; stroke-opacity:1; fill:none\" points=\"249.542,160.256 268.44,160.256 \"/>\n",
       "<path clip-path=\"url(#clip710)\" d=\"M126.205 1372.19 Q122.593 1372.19 120.765 1375.76 Q118.959 1379.3 118.959 1386.43 Q118.959 1393.54 120.765 1397.1 Q122.593 1400.64 126.205 1400.64 Q129.839 1400.64 131.644 1397.1 Q133.473 1393.54 133.473 1386.43 Q133.473 1379.3 131.644 1375.76 Q129.839 1372.19 126.205 1372.19 M126.205 1368.49 Q132.015 1368.49 135.07 1373.1 Q138.149 1377.68 138.149 1386.43 Q138.149 1395.16 135.07 1399.76 Q132.015 1404.35 126.205 1404.35 Q120.394 1404.35 117.316 1399.76 Q114.26 1395.16 114.26 1386.43 Q114.26 1377.68 117.316 1373.1 Q120.394 1368.49 126.205 1368.49 Z\" fill=\"#000000\" fill-rule=\"nonzero\" fill-opacity=\"1\" /><path clip-path=\"url(#clip710)\" d=\"M146.366 1397.8 L151.251 1397.8 L151.251 1403.68 L146.366 1403.68 L146.366 1397.8 Z\" fill=\"#000000\" fill-rule=\"nonzero\" fill-opacity=\"1\" /><path clip-path=\"url(#clip710)\" d=\"M171.436 1372.19 Q167.825 1372.19 165.996 1375.76 Q164.19 1379.3 164.19 1386.43 Q164.19 1393.54 165.996 1397.1 Q167.825 1400.64 171.436 1400.64 Q175.07 1400.64 176.876 1397.1 Q178.704 1393.54 178.704 1386.43 Q178.704 1379.3 176.876 1375.76 Q175.07 1372.19 171.436 1372.19 M171.436 1368.49 Q177.246 1368.49 180.301 1373.1 Q183.38 1377.68 183.38 1386.43 Q183.38 1395.16 180.301 1399.76 Q177.246 1404.35 171.436 1404.35 Q165.626 1404.35 162.547 1399.76 Q159.491 1395.16 159.491 1386.43 Q159.491 1377.68 162.547 1373.1 Q165.626 1368.49 171.436 1368.49 Z\" fill=\"#000000\" fill-rule=\"nonzero\" fill-opacity=\"1\" /><path clip-path=\"url(#clip710)\" d=\"M201.598 1372.19 Q197.987 1372.19 196.158 1375.76 Q194.352 1379.3 194.352 1386.43 Q194.352 1393.54 196.158 1397.1 Q197.987 1400.64 201.598 1400.64 Q205.232 1400.64 207.037 1397.1 Q208.866 1393.54 208.866 1386.43 Q208.866 1379.3 207.037 1375.76 Q205.232 1372.19 201.598 1372.19 M201.598 1368.49 Q207.408 1368.49 210.463 1373.1 Q213.542 1377.68 213.542 1386.43 Q213.542 1395.16 210.463 1399.76 Q207.408 1404.35 201.598 1404.35 Q195.787 1404.35 192.709 1399.76 Q189.653 1395.16 189.653 1386.43 Q189.653 1377.68 192.709 1373.1 Q195.787 1368.49 201.598 1368.49 Z\" fill=\"#000000\" fill-rule=\"nonzero\" fill-opacity=\"1\" /><path clip-path=\"url(#clip710)\" d=\"M127.2 1065.66 Q123.589 1065.66 121.76 1069.22 Q119.955 1072.77 119.955 1079.9 Q119.955 1087 121.76 1090.57 Q123.589 1094.11 127.2 1094.11 Q130.834 1094.11 132.64 1090.57 Q134.468 1087 134.468 1079.9 Q134.468 1072.77 132.64 1069.22 Q130.834 1065.66 127.2 1065.66 M127.2 1061.96 Q133.01 1061.96 136.066 1066.56 Q139.144 1071.15 139.144 1079.9 Q139.144 1088.62 136.066 1093.23 Q133.01 1097.81 127.2 1097.81 Q121.39 1097.81 118.311 1093.23 Q115.256 1088.62 115.256 1079.9 Q115.256 1071.15 118.311 1066.56 Q121.39 1061.96 127.2 1061.96 Z\" fill=\"#000000\" fill-rule=\"nonzero\" fill-opacity=\"1\" /><path clip-path=\"url(#clip710)\" d=\"M147.362 1091.26 L152.246 1091.26 L152.246 1097.14 L147.362 1097.14 L147.362 1091.26 Z\" fill=\"#000000\" fill-rule=\"nonzero\" fill-opacity=\"1\" /><path clip-path=\"url(#clip710)\" d=\"M166.459 1093.21 L182.778 1093.21 L182.778 1097.14 L160.834 1097.14 L160.834 1093.21 Q163.496 1090.45 168.079 1085.82 Q172.686 1081.17 173.866 1079.83 Q176.112 1077.3 176.991 1075.57 Q177.894 1073.81 177.894 1072.12 Q177.894 1069.36 175.95 1067.63 Q174.028 1065.89 170.927 1065.89 Q168.727 1065.89 166.274 1066.65 Q163.843 1067.42 161.065 1068.97 L161.065 1064.25 Q163.89 1063.11 166.343 1062.53 Q168.797 1061.96 170.834 1061.96 Q176.204 1061.96 179.399 1064.64 Q182.593 1067.33 182.593 1071.82 Q182.593 1073.95 181.783 1075.87 Q180.996 1077.77 178.889 1080.36 Q178.311 1081.03 175.209 1084.25 Q172.107 1087.44 166.459 1093.21 Z\" fill=\"#000000\" fill-rule=\"nonzero\" fill-opacity=\"1\" /><path clip-path=\"url(#clip710)\" d=\"M192.639 1062.58 L210.996 1062.58 L210.996 1066.52 L196.922 1066.52 L196.922 1074.99 Q197.94 1074.64 198.959 1074.48 Q199.977 1074.29 200.996 1074.29 Q206.783 1074.29 210.162 1077.47 Q213.542 1080.64 213.542 1086.05 Q213.542 1091.63 210.07 1094.73 Q206.598 1097.81 200.278 1097.81 Q198.102 1097.81 195.834 1097.44 Q193.588 1097.07 191.181 1096.33 L191.181 1091.63 Q193.264 1092.77 195.487 1093.32 Q197.709 1093.88 200.186 1093.88 Q204.19 1093.88 206.528 1091.77 Q208.866 1089.66 208.866 1086.05 Q208.866 1082.44 206.528 1080.34 Q204.19 1078.23 200.186 1078.23 Q198.311 1078.23 196.436 1078.65 Q194.584 1079.06 192.639 1079.94 L192.639 1062.58 Z\" fill=\"#000000\" fill-rule=\"nonzero\" fill-opacity=\"1\" /><path clip-path=\"url(#clip710)\" d=\"M126.205 759.125 Q122.593 759.125 120.765 762.689 Q118.959 766.231 118.959 773.361 Q118.959 780.467 120.765 784.032 Q122.593 787.574 126.205 787.574 Q129.839 787.574 131.644 784.032 Q133.473 780.467 133.473 773.361 Q133.473 766.231 131.644 762.689 Q129.839 759.125 126.205 759.125 M126.205 755.421 Q132.015 755.421 135.07 760.027 Q138.149 764.611 138.149 773.361 Q138.149 782.088 135.07 786.694 Q132.015 791.277 126.205 791.277 Q120.394 791.277 117.316 786.694 Q114.26 782.088 114.26 773.361 Q114.26 764.611 117.316 760.027 Q120.394 755.421 126.205 755.421 Z\" fill=\"#000000\" fill-rule=\"nonzero\" fill-opacity=\"1\" /><path clip-path=\"url(#clip710)\" d=\"M146.366 784.726 L151.251 784.726 L151.251 790.606 L146.366 790.606 L146.366 784.726 Z\" fill=\"#000000\" fill-rule=\"nonzero\" fill-opacity=\"1\" /><path clip-path=\"url(#clip710)\" d=\"M161.482 756.046 L179.839 756.046 L179.839 759.981 L165.765 759.981 L165.765 768.453 Q166.783 768.106 167.802 767.944 Q168.82 767.759 169.839 767.759 Q175.626 767.759 179.005 770.93 Q182.385 774.101 182.385 779.518 Q182.385 785.097 178.913 788.199 Q175.44 791.277 169.121 791.277 Q166.945 791.277 164.677 790.907 Q162.431 790.537 160.024 789.796 L160.024 785.097 Q162.107 786.231 164.329 786.787 Q166.552 787.342 169.028 787.342 Q173.033 787.342 175.371 785.236 Q177.709 783.129 177.709 779.518 Q177.709 775.907 175.371 773.801 Q173.033 771.694 169.028 771.694 Q167.153 771.694 165.278 772.111 Q163.427 772.527 161.482 773.407 L161.482 756.046 Z\" fill=\"#000000\" fill-rule=\"nonzero\" fill-opacity=\"1\" /><path clip-path=\"url(#clip710)\" d=\"M201.598 759.125 Q197.987 759.125 196.158 762.689 Q194.352 766.231 194.352 773.361 Q194.352 780.467 196.158 784.032 Q197.987 787.574 201.598 787.574 Q205.232 787.574 207.037 784.032 Q208.866 780.467 208.866 773.361 Q208.866 766.231 207.037 762.689 Q205.232 759.125 201.598 759.125 M201.598 755.421 Q207.408 755.421 210.463 760.027 Q213.542 764.611 213.542 773.361 Q213.542 782.088 210.463 786.694 Q207.408 791.277 201.598 791.277 Q195.787 791.277 192.709 786.694 Q189.653 782.088 189.653 773.361 Q189.653 764.611 192.709 760.027 Q195.787 755.421 201.598 755.421 Z\" fill=\"#000000\" fill-rule=\"nonzero\" fill-opacity=\"1\" /><path clip-path=\"url(#clip710)\" d=\"M127.2 452.59 Q123.589 452.59 121.76 456.155 Q119.955 459.696 119.955 466.826 Q119.955 473.932 121.76 477.497 Q123.589 481.039 127.2 481.039 Q130.834 481.039 132.64 477.497 Q134.468 473.932 134.468 466.826 Q134.468 459.696 132.64 456.155 Q130.834 452.59 127.2 452.59 M127.2 448.886 Q133.01 448.886 136.066 453.493 Q139.144 458.076 139.144 466.826 Q139.144 475.553 136.066 480.159 Q133.01 484.742 127.2 484.742 Q121.39 484.742 118.311 480.159 Q115.256 475.553 115.256 466.826 Q115.256 458.076 118.311 453.493 Q121.39 448.886 127.2 448.886 Z\" fill=\"#000000\" fill-rule=\"nonzero\" fill-opacity=\"1\" /><path clip-path=\"url(#clip710)\" d=\"M147.362 478.192 L152.246 478.192 L152.246 484.071 L147.362 484.071 L147.362 478.192 Z\" fill=\"#000000\" fill-rule=\"nonzero\" fill-opacity=\"1\" /><path clip-path=\"url(#clip710)\" d=\"M161.251 449.511 L183.473 449.511 L183.473 451.502 L170.927 484.071 L166.042 484.071 L177.848 453.446 L161.251 453.446 L161.251 449.511 Z\" fill=\"#000000\" fill-rule=\"nonzero\" fill-opacity=\"1\" /><path clip-path=\"url(#clip710)\" d=\"M192.639 449.511 L210.996 449.511 L210.996 453.446 L196.922 453.446 L196.922 461.918 Q197.94 461.571 198.959 461.409 Q199.977 461.224 200.996 461.224 Q206.783 461.224 210.162 464.395 Q213.542 467.567 213.542 472.983 Q213.542 478.562 210.07 481.664 Q206.598 484.742 200.278 484.742 Q198.102 484.742 195.834 484.372 Q193.588 484.002 191.181 483.261 L191.181 478.562 Q193.264 479.696 195.487 480.252 Q197.709 480.807 200.186 480.807 Q204.19 480.807 206.528 478.701 Q208.866 476.594 208.866 472.983 Q208.866 469.372 206.528 467.266 Q204.19 465.159 200.186 465.159 Q198.311 465.159 196.436 465.576 Q194.584 465.993 192.639 466.872 L192.639 449.511 Z\" fill=\"#000000\" fill-rule=\"nonzero\" fill-opacity=\"1\" /><path clip-path=\"url(#clip710)\" d=\"M117.015 173.601 L124.654 173.601 L124.654 147.236 L116.343 148.902 L116.343 144.643 L124.607 142.976 L129.283 142.976 L129.283 173.601 L136.922 173.601 L136.922 177.536 L117.015 177.536 L117.015 173.601 Z\" fill=\"#000000\" fill-rule=\"nonzero\" fill-opacity=\"1\" /><path clip-path=\"url(#clip710)\" d=\"M146.366 171.657 L151.251 171.657 L151.251 177.536 L146.366 177.536 L146.366 171.657 Z\" fill=\"#000000\" fill-rule=\"nonzero\" fill-opacity=\"1\" /><path clip-path=\"url(#clip710)\" d=\"M171.436 146.055 Q167.825 146.055 165.996 149.62 Q164.19 153.161 164.19 160.291 Q164.19 167.397 165.996 170.962 Q167.825 174.504 171.436 174.504 Q175.07 174.504 176.876 170.962 Q178.704 167.397 178.704 160.291 Q178.704 153.161 176.876 149.62 Q175.07 146.055 171.436 146.055 M171.436 142.351 Q177.246 142.351 180.301 146.958 Q183.38 151.541 183.38 160.291 Q183.38 169.018 180.301 173.624 Q177.246 178.208 171.436 178.208 Q165.626 178.208 162.547 173.624 Q159.491 169.018 159.491 160.291 Q159.491 151.541 162.547 146.958 Q165.626 142.351 171.436 142.351 Z\" fill=\"#000000\" fill-rule=\"nonzero\" fill-opacity=\"1\" /><path clip-path=\"url(#clip710)\" d=\"M201.598 146.055 Q197.987 146.055 196.158 149.62 Q194.352 153.161 194.352 160.291 Q194.352 167.397 196.158 170.962 Q197.987 174.504 201.598 174.504 Q205.232 174.504 207.037 170.962 Q208.866 167.397 208.866 160.291 Q208.866 153.161 207.037 149.62 Q205.232 146.055 201.598 146.055 M201.598 142.351 Q207.408 142.351 210.463 146.958 Q213.542 151.541 213.542 160.291 Q213.542 169.018 210.463 173.624 Q207.408 178.208 201.598 178.208 Q195.787 178.208 192.709 173.624 Q189.653 169.018 189.653 160.291 Q189.653 151.541 192.709 146.958 Q195.787 142.351 201.598 142.351 Z\" fill=\"#000000\" fill-rule=\"nonzero\" fill-opacity=\"1\" /><path clip-path=\"url(#clip710)\" d=\"M16.4842 1062.01 L16.4842 1021.81 L21.895 1021.81 L21.895 1038.68 L64.0042 1038.68 L64.0042 1045.14 L21.895 1045.14 L21.895 1062.01 L16.4842 1062.01 Z\" fill=\"#000000\" fill-rule=\"nonzero\" fill-opacity=\"1\" /><path clip-path=\"url(#clip710)\" d=\"M33.8307 1004.78 Q33.2578 1005.77 33.0032 1006.95 Q32.7167 1008.09 32.7167 1009.49 Q32.7167 1014.46 35.9632 1017.13 Q39.1779 1019.77 45.2253 1019.77 L64.0042 1019.77 L64.0042 1025.66 L28.3562 1025.66 L28.3562 1019.77 L33.8944 1019.77 Q30.6479 1017.93 29.0883 1014.97 Q27.4968 1012.01 27.4968 1007.77 Q27.4968 1007.17 27.5923 1006.44 Q27.656 1005.71 27.8151 1004.81 L33.8307 1004.78 Z\" fill=\"#000000\" fill-rule=\"nonzero\" fill-opacity=\"1\" /><path clip-path=\"url(#clip710)\" d=\"M49.9359 999.245 L28.3562 999.245 L28.3562 993.388 L49.7131 993.388 Q54.7739 993.388 57.3202 991.415 Q59.8346 989.442 59.8346 985.495 Q59.8346 980.753 56.8109 978.015 Q53.7872 975.246 48.5673 975.246 L28.3562 975.246 L28.3562 969.39 L64.0042 969.39 L64.0042 975.246 L58.5296 975.246 Q61.7762 977.379 63.3676 980.211 Q64.9272 983.012 64.9272 986.736 Q64.9272 992.879 61.1078 996.062 Q57.2883 999.245 49.9359 999.245 M27.4968 984.508 L27.4968 984.508 Z\" fill=\"#000000\" fill-rule=\"nonzero\" fill-opacity=\"1\" /><path clip-path=\"url(#clip710)\" d=\"M44.7161 926.835 L47.5806 926.835 L47.5806 953.762 Q53.6281 953.38 56.8109 950.133 Q59.9619 946.855 59.9619 941.031 Q59.9619 937.657 59.1344 934.506 Q58.3069 931.323 56.6518 928.204 L62.1899 928.204 Q63.5267 931.355 64.227 934.665 Q64.9272 937.975 64.9272 941.381 Q64.9272 949.911 59.9619 954.908 Q54.9967 959.873 46.5303 959.873 Q37.7774 959.873 32.6531 955.162 Q27.4968 950.42 27.4968 942.399 Q27.4968 935.206 32.1438 931.036 Q36.7589 926.835 44.7161 926.835 M42.9973 932.691 Q38.1912 932.755 35.3266 935.397 Q32.4621 938.007 32.4621 942.335 Q32.4621 947.237 35.2312 950.197 Q38.0002 953.125 43.0292 953.571 L42.9973 932.691 Z\" fill=\"#000000\" fill-rule=\"nonzero\" fill-opacity=\"1\" /><path clip-path=\"url(#clip710)\" d=\"M21.7677 889.818 L39.6235 889.818 L39.6235 881.734 Q39.6235 877.246 37.3 874.795 Q34.9765 872.345 30.6797 872.345 Q26.4147 872.345 24.0912 874.795 Q21.7677 877.246 21.7677 881.734 L21.7677 889.818 M16.4842 896.248 L16.4842 881.734 Q16.4842 873.745 20.1126 869.671 Q23.7092 865.565 30.6797 865.565 Q37.7138 865.565 41.3104 869.671 Q44.907 873.745 44.907 881.734 L44.907 889.818 L64.0042 889.818 L64.0042 896.248 L16.4842 896.248 Z\" fill=\"#000000\" fill-rule=\"nonzero\" fill-opacity=\"1\" /><path clip-path=\"url(#clip710)\" d=\"M32.4621 845.704 Q32.4621 850.415 36.1542 853.152 Q39.8145 855.889 46.212 855.889 Q52.6095 855.889 56.3017 853.184 Q59.9619 850.447 59.9619 845.704 Q59.9619 841.025 56.2698 838.288 Q52.5777 835.551 46.212 835.551 Q39.8781 835.551 36.186 838.288 Q32.4621 841.025 32.4621 845.704 M27.4968 845.704 Q27.4968 838.065 32.4621 833.705 Q37.4273 829.344 46.212 829.344 Q54.9649 829.344 59.9619 833.705 Q64.9272 838.065 64.9272 845.704 Q64.9272 853.375 59.9619 857.735 Q54.9649 862.064 46.212 862.064 Q37.4273 862.064 32.4621 857.735 Q27.4968 853.375 27.4968 845.704 Z\" fill=\"#000000\" fill-rule=\"nonzero\" fill-opacity=\"1\" /><path clip-path=\"url(#clip710)\" d=\"M29.4065 796.911 L34.9447 796.911 Q33.6716 799.394 33.035 802.067 Q32.3984 804.741 32.3984 807.605 Q32.3984 811.966 33.7352 814.162 Q35.072 816.326 37.7456 816.326 Q39.7826 816.326 40.9603 814.767 Q42.1061 813.207 43.1565 808.497 L43.6021 806.491 Q44.9389 800.253 47.3897 797.643 Q49.8086 795.001 54.1691 795.001 Q59.1344 795.001 62.0308 798.948 Q64.9272 802.863 64.9272 809.738 Q64.9272 812.602 64.3543 815.722 Q63.8132 818.809 62.6992 822.246 L56.6518 822.246 Q58.3387 819 59.198 815.849 Q60.0256 812.698 60.0256 809.611 Q60.0256 805.473 58.6251 803.245 Q57.1929 801.017 54.6147 801.017 Q52.2276 801.017 50.9545 802.64 Q49.6813 804.231 48.5037 809.674 L48.0262 811.711 Q46.8804 817.154 44.5251 819.573 Q42.138 821.992 38.0002 821.992 Q32.9713 821.992 30.2341 818.427 Q27.4968 814.862 27.4968 808.306 Q27.4968 805.059 27.9743 802.194 Q28.4517 799.33 29.4065 796.911 Z\" fill=\"#000000\" fill-rule=\"nonzero\" fill-opacity=\"1\" /><path clip-path=\"url(#clip710)\" d=\"M28.3562 785.675 L28.3562 779.819 L64.0042 779.819 L64.0042 785.675 L28.3562 785.675 M14.479 785.675 L14.479 779.819 L21.895 779.819 L21.895 785.675 L14.479 785.675 Z\" fill=\"#000000\" fill-rule=\"nonzero\" fill-opacity=\"1\" /><path clip-path=\"url(#clip710)\" d=\"M18.2347 761.772 L28.3562 761.772 L28.3562 749.709 L32.9077 749.709 L32.9077 761.772 L52.2594 761.772 Q56.6199 761.772 57.8613 760.595 Q59.1026 759.385 59.1026 755.725 L59.1026 749.709 L64.0042 749.709 L64.0042 755.725 Q64.0042 762.504 61.4897 765.082 Q58.9434 767.661 52.2594 767.661 L32.9077 767.661 L32.9077 771.957 L28.3562 771.957 L28.3562 767.661 L18.2347 767.661 L18.2347 761.772 Z\" fill=\"#000000\" fill-rule=\"nonzero\" fill-opacity=\"1\" /><path clip-path=\"url(#clip710)\" d=\"M28.3562 742.007 L28.3562 736.15 L64.0042 736.15 L64.0042 742.007 L28.3562 742.007 M14.479 742.007 L14.479 736.15 L21.895 736.15 L21.895 742.007 L14.479 742.007 Z\" fill=\"#000000\" fill-rule=\"nonzero\" fill-opacity=\"1\" /><path clip-path=\"url(#clip710)\" d=\"M28.3562 728.098 L28.3562 721.891 L58.275 710.751 L28.3562 699.611 L28.3562 693.405 L64.0042 706.773 L64.0042 714.73 L28.3562 728.098 Z\" fill=\"#000000\" fill-rule=\"nonzero\" fill-opacity=\"1\" /><path clip-path=\"url(#clip710)\" d=\"M44.7161 654.828 L47.5806 654.828 L47.5806 681.755 Q53.6281 681.373 56.8109 678.127 Q59.9619 674.849 59.9619 669.024 Q59.9619 665.65 59.1344 662.499 Q58.3069 659.316 56.6518 656.197 L62.1899 656.197 Q63.5267 659.348 64.227 662.658 Q64.9272 665.968 64.9272 669.374 Q64.9272 677.904 59.9619 682.901 Q54.9967 687.866 46.5303 687.866 Q37.7774 687.866 32.6531 683.156 Q27.4968 678.413 27.4968 670.393 Q27.4968 663.199 32.1438 659.03 Q36.7589 654.828 44.7161 654.828 M42.9973 660.685 Q38.1912 660.748 35.3266 663.39 Q32.4621 666 32.4621 670.329 Q32.4621 675.23 35.2312 678.19 Q38.0002 681.119 43.0292 681.564 L42.9973 660.685 Z\" fill=\"#000000\" fill-rule=\"nonzero\" fill-opacity=\"1\" /><path clip-path=\"url(#clip710)\" d=\"M41.7242 601.707 Q42.4244 599.638 44.7161 597.696 Q47.0077 595.723 51.0181 593.749 L64.0042 587.225 L64.0042 594.131 L51.8138 600.211 Q47.0395 602.566 45.48 604.794 Q43.9204 606.99 43.9204 610.809 L43.9204 617.812 L64.0042 617.812 L64.0042 624.241 L16.4842 624.241 L16.4842 609.727 Q16.4842 601.579 19.8898 597.569 Q23.2955 593.558 30.1704 593.558 Q34.6582 593.558 37.6183 595.659 Q40.5784 597.728 41.7242 601.707 M21.7677 617.812 L38.6368 617.812 L38.6368 609.727 Q38.6368 605.08 36.5043 602.725 Q34.34 600.338 30.1704 600.338 Q26.0009 600.338 23.9002 602.725 Q21.7677 605.08 21.7677 609.727 L21.7677 617.812 Z\" fill=\"#000000\" fill-rule=\"nonzero\" fill-opacity=\"1\" /><path clip-path=\"url(#clip710)\" d=\"M46.0847 564.435 Q46.0847 571.533 47.7079 574.27 Q49.3312 577.008 53.2461 577.008 Q56.3653 577.008 58.2114 574.971 Q60.0256 572.902 60.0256 569.369 Q60.0256 564.499 56.5881 561.571 Q53.1188 558.611 47.3897 558.611 L46.0847 558.611 L46.0847 564.435 M43.6657 552.754 L64.0042 552.754 L64.0042 558.611 L58.5933 558.611 Q61.8398 560.616 63.3994 563.608 Q64.9272 566.6 64.9272 570.928 Q64.9272 576.403 61.8716 579.649 Q58.7843 582.864 53.6281 582.864 Q47.6125 582.864 44.5569 578.854 Q41.5014 574.811 41.5014 566.822 L41.5014 558.611 L40.9285 558.611 Q36.8862 558.611 34.6901 561.284 Q32.4621 563.926 32.4621 568.732 Q32.4621 571.788 33.1941 574.684 Q33.9262 577.581 35.3903 580.254 L29.9795 580.254 Q28.7381 577.039 28.1334 574.016 Q27.4968 570.992 27.4968 568.127 Q27.4968 560.393 31.5072 556.574 Q35.5176 552.754 43.6657 552.754 Z\" fill=\"#000000\" fill-rule=\"nonzero\" fill-opacity=\"1\" /><path clip-path=\"url(#clip710)\" d=\"M18.2347 534.898 L28.3562 534.898 L28.3562 522.835 L32.9077 522.835 L32.9077 534.898 L52.2594 534.898 Q56.6199 534.898 57.8613 533.721 Q59.1026 532.511 59.1026 528.851 L59.1026 522.835 L64.0042 522.835 L64.0042 528.851 Q64.0042 535.63 61.4897 538.209 Q58.9434 540.787 52.2594 540.787 L32.9077 540.787 L32.9077 545.084 L28.3562 545.084 L28.3562 540.787 L18.2347 540.787 L18.2347 534.898 Z\" fill=\"#000000\" fill-rule=\"nonzero\" fill-opacity=\"1\" /><path clip-path=\"url(#clip710)\" d=\"M44.7161 484.641 L47.5806 484.641 L47.5806 511.568 Q53.6281 511.186 56.8109 507.94 Q59.9619 504.661 59.9619 498.837 Q59.9619 495.463 59.1344 492.312 Q58.3069 489.129 56.6518 486.01 L62.1899 486.01 Q63.5267 489.161 64.227 492.471 Q64.9272 495.781 64.9272 499.187 Q64.9272 507.717 59.9619 512.714 Q54.9967 517.679 46.5303 517.679 Q37.7774 517.679 32.6531 512.969 Q27.4968 508.226 27.4968 500.205 Q27.4968 493.012 32.1438 488.843 Q36.7589 484.641 44.7161 484.641 M42.9973 490.498 Q38.1912 490.561 35.3266 493.203 Q32.4621 495.813 32.4621 500.142 Q32.4621 505.043 35.2312 508.003 Q38.0002 510.932 43.0292 511.377 L42.9973 490.498 Z\" fill=\"#000000\" fill-rule=\"nonzero\" fill-opacity=\"1\" /><path clip-path=\"url(#clip710)\" d=\"M1110.11 44.2197 Q1112.74 45.1109 1115.21 48.0275 Q1117.72 50.9442 1120.24 56.0483 L1128.54 72.576 L1119.75 72.576 L1112.01 57.061 Q1109.01 50.9847 1106.18 48.9997 Q1103.38 47.0148 1098.52 47.0148 L1089.61 47.0148 L1089.61 72.576 L1081.43 72.576 L1081.43 12.096 L1099.9 12.096 Q1110.27 12.096 1115.37 16.4305 Q1120.48 20.7649 1120.48 29.5149 Q1120.48 35.2267 1117.81 38.994 Q1115.17 42.7613 1110.11 44.2197 M1089.61 18.8205 L1089.61 40.2903 L1099.9 40.2903 Q1105.81 40.2903 1108.81 37.5762 Q1111.85 34.8216 1111.85 29.5149 Q1111.85 24.2082 1108.81 21.5346 Q1105.81 18.8205 1099.9 18.8205 L1089.61 18.8205 Z\" fill=\"#000000\" fill-rule=\"nonzero\" fill-opacity=\"1\" /><path clip-path=\"url(#clip710)\" d=\"M1163.62 17.6457 Q1154.71 17.6457 1149.44 24.2892 Q1144.22 30.9327 1144.22 42.3968 Q1144.22 53.8203 1149.44 60.4638 Q1154.71 67.1073 1163.62 67.1073 Q1172.53 67.1073 1177.72 60.4638 Q1182.94 53.8203 1182.94 42.3968 Q1182.94 30.9327 1177.72 24.2892 Q1172.53 17.6457 1163.62 17.6457 M1163.62 11.0023 Q1176.34 11.0023 1183.96 19.5497 Q1191.57 28.0566 1191.57 42.3968 Q1191.57 56.6965 1183.96 65.2439 Q1176.34 73.7508 1163.62 73.7508 Q1150.86 73.7508 1143.2 65.2439 Q1135.59 56.737 1135.59 42.3968 Q1135.59 28.0566 1143.2 19.5497 Q1150.86 11.0023 1163.62 11.0023 Z\" fill=\"#000000\" fill-rule=\"nonzero\" fill-opacity=\"1\" /><path clip-path=\"url(#clip710)\" d=\"M1249.66 16.7545 L1249.66 25.383 Q1245.53 21.5346 1240.83 19.6307 Q1236.17 17.7268 1230.91 17.7268 Q1220.54 17.7268 1215.03 24.0867 Q1209.52 30.4061 1209.52 42.3968 Q1209.52 54.3469 1215.03 60.7069 Q1220.54 67.0263 1230.91 67.0263 Q1236.17 67.0263 1240.83 65.1223 Q1245.53 63.2184 1249.66 59.3701 L1249.66 67.9175 Q1245.37 70.8341 1240.55 72.2924 Q1235.77 73.7508 1230.42 73.7508 Q1216.69 73.7508 1208.79 65.3654 Q1200.89 56.9395 1200.89 42.3968 Q1200.89 27.8135 1208.79 19.4281 Q1216.69 11.0023 1230.42 11.0023 Q1235.85 11.0023 1240.63 12.4606 Q1245.45 13.8784 1249.66 16.7545 Z\" fill=\"#000000\" fill-rule=\"nonzero\" fill-opacity=\"1\" /><path clip-path=\"url(#clip710)\" d=\"M1333.96 16.7545 L1333.96 25.383 Q1329.83 21.5346 1325.13 19.6307 Q1320.47 17.7268 1315.21 17.7268 Q1304.84 17.7268 1299.33 24.0867 Q1293.82 30.4061 1293.82 42.3968 Q1293.82 54.3469 1299.33 60.7069 Q1304.84 67.0263 1315.21 67.0263 Q1320.47 67.0263 1325.13 65.1223 Q1329.83 63.2184 1333.96 59.3701 L1333.96 67.9175 Q1329.67 70.8341 1324.85 72.2924 Q1320.07 73.7508 1314.72 73.7508 Q1300.99 73.7508 1293.09 65.3654 Q1285.19 56.9395 1285.19 42.3968 Q1285.19 27.8135 1293.09 19.4281 Q1300.99 11.0023 1314.72 11.0023 Q1320.15 11.0023 1324.93 12.4606 Q1329.75 13.8784 1333.96 16.7545 Z\" fill=\"#000000\" fill-rule=\"nonzero\" fill-opacity=\"1\" /><path clip-path=\"url(#clip710)\" d=\"M1345.51 54.671 L1345.51 27.2059 L1352.96 27.2059 L1352.96 54.3874 Q1352.96 60.8284 1355.47 64.0691 Q1357.98 67.2693 1363.01 67.2693 Q1369.04 67.2693 1372.53 63.421 Q1376.05 59.5726 1376.05 52.9291 L1376.05 27.2059 L1383.5 27.2059 L1383.5 72.576 L1376.05 72.576 L1376.05 65.6084 Q1373.34 69.7404 1369.73 71.7658 Q1366.17 73.7508 1361.43 73.7508 Q1353.61 73.7508 1349.56 68.8897 Q1345.51 64.0286 1345.51 54.671 M1364.26 26.1121 L1364.26 26.1121 Z\" fill=\"#000000\" fill-rule=\"nonzero\" fill-opacity=\"1\" /><path clip-path=\"url(#clip710)\" d=\"M1425.15 34.1734 Q1423.89 33.4443 1422.39 33.1202 Q1420.93 32.7556 1419.15 32.7556 Q1412.83 32.7556 1409.43 36.8875 Q1406.07 40.9789 1406.07 48.6757 L1406.07 72.576 L1398.57 72.576 L1398.57 27.2059 L1406.07 27.2059 L1406.07 34.2544 Q1408.42 30.1225 1412.18 28.1376 Q1415.95 26.1121 1421.34 26.1121 Q1422.11 26.1121 1423.04 26.2337 Q1423.97 26.3147 1425.11 26.5172 L1425.15 34.1734 Z\" fill=\"#000000\" fill-rule=\"nonzero\" fill-opacity=\"1\" /><path clip-path=\"url(#clip710)\" d=\"M1427.62 27.2059 L1435.52 27.2059 L1449.7 65.2844 L1463.87 27.2059 L1471.77 27.2059 L1454.76 72.576 L1444.63 72.576 L1427.62 27.2059 Z\" fill=\"#000000\" fill-rule=\"nonzero\" fill-opacity=\"1\" /><path clip-path=\"url(#clip710)\" d=\"M1520.87 48.0275 L1520.87 51.6733 L1486.6 51.6733 Q1487.09 59.3701 1491.22 63.421 Q1495.39 67.4314 1502.8 67.4314 Q1507.1 67.4314 1511.11 66.3781 Q1515.16 65.3249 1519.13 63.2184 L1519.13 70.267 Q1515.12 71.9684 1510.9 72.8596 Q1506.69 73.7508 1502.36 73.7508 Q1491.5 73.7508 1485.14 67.4314 Q1478.82 61.1119 1478.82 50.3365 Q1478.82 39.1965 1484.82 32.6746 Q1490.85 26.1121 1501.06 26.1121 Q1510.22 26.1121 1515.52 32.0264 Q1520.87 37.9003 1520.87 48.0275 M1513.42 45.84 Q1513.34 39.7232 1509.97 36.0774 Q1506.65 32.4315 1501.14 32.4315 Q1494.9 32.4315 1491.14 35.9558 Q1487.41 39.4801 1486.84 45.8805 L1513.42 45.84 Z\" fill=\"#000000\" fill-rule=\"nonzero\" fill-opacity=\"1\" /><polyline clip-path=\"url(#clip712)\" style=\"stroke:#009af9; stroke-linecap:round; stroke-linejoin:round; stroke-width:4; stroke-opacity:1; fill:none\" points=\"309.067,1386.4 309.067,1383.52 310.328,1372.04 310.328,1369.17 310.328,1366.3 310.328,1363.42 310.328,1360.55 310.328,1357.68 310.328,1354.81 310.328,1351.94 310.328,1349.07 310.328,1346.19 310.328,1343.32 310.328,1340.45 310.328,1337.58 310.328,1334.71 310.328,1331.84 310.328,1328.97 310.328,1326.09 310.328,1323.22 310.328,1320.35 310.328,1277.28 310.328,1274.41 310.328,1271.53 310.328,1268.66 310.328,1265.79 310.328,1262.92 310.328,1260.05 310.328,1257.18 310.328,1254.31 310.328,1251.43 310.328,1248.56 310.328,1245.69 310.328,1242.82 310.328,1239.95 310.328,1237.08 310.328,1234.21 310.328,1231.33 310.328,1228.46 310.328,1225.59 310.328,1222.72 310.328,1219.85 310.328,1216.98 310.328,1214.1 310.328,1211.23 310.328,1208.36 310.328,1205.49 310.328,1202.62 310.328,1199.75 310.328,1196.88 310.328,1194 310.328,1191.13 310.328,1188.26 310.328,1185.39 310.328,1182.52 310.328,1179.65 310.328,1176.77 310.328,1173.9 310.328,1171.03 311.59,1171.03 311.59,1168.16 311.59,1165.29 311.59,1162.42 311.59,1159.55 311.59,1156.67 311.59,1153.8 312.851,1153.8 312.851,1150.93 312.851,1148.06 314.113,1148.06 314.113,1145.19 314.113,1142.32 314.113,1139.44 314.113,1136.57 314.113,1133.7 314.113,1130.83 314.113,1127.96 314.113,1125.09 314.113,1122.22 314.113,1119.34 314.113,1116.47 314.113,1113.6 314.113,1110.73 314.113,1107.86 314.113,1104.99 314.113,1102.12 315.374,1102.12 315.374,1099.24 315.374,1096.37 315.374,1093.5 315.374,1090.63 315.374,1087.76 315.374,1084.89 315.374,1082.01 315.374,1079.14 315.374,1076.27 316.635,1076.27 316.635,1073.4 317.897,1073.4 317.897,1070.53 317.897,1067.66 317.897,1064.79 317.897,1061.91 317.897,1059.04 319.158,1059.04 319.158,1056.17 319.158,1053.3 319.158,1050.43 319.158,1047.56 320.419,1047.56 320.419,1044.68 320.419,1041.81 320.419,1038.94 320.419,1036.07 320.419,1033.2 320.419,1030.33 321.681,1030.33 321.681,1027.46 321.681,1024.58 321.681,1021.71 321.681,1018.84 321.681,1015.97 321.681,1013.1 321.681,1010.23 321.681,1007.35 321.681,1004.48 322.942,1004.48 324.204,1004.48 325.465,1004.48 325.465,1001.61 325.465,998.74 325.465,995.869 326.726,995.869 326.726,992.997 326.726,990.126 327.988,990.126 327.988,987.254 327.988,984.383 327.988,981.511 327.988,978.64 327.988,975.768 327.988,972.897 329.249,972.897 330.511,972.897 330.511,970.025 330.511,967.154 331.772,967.154 331.772,964.282 331.772,961.411 331.772,958.539 331.772,955.668 333.033,955.668 333.033,952.796 333.033,949.925 333.033,947.053 334.295,947.053 334.295,944.181 334.295,941.31 335.556,941.31 335.556,938.438 335.556,935.567 335.556,932.695 335.556,929.824 335.556,926.952 336.817,926.952 336.817,924.081 338.079,924.081 338.079,921.209 338.079,918.338 339.34,918.338 339.34,915.466 340.602,915.466 340.602,912.595 340.602,909.723 341.863,909.723 343.124,909.723 344.386,909.723 344.386,906.852 344.386,903.98 344.386,901.109 344.386,898.237 345.647,898.237 345.647,895.366 346.909,895.366 346.909,892.494 346.909,889.623 348.17,889.623 349.431,889.623 350.693,889.623 350.693,886.751 350.693,883.88 350.693,881.008 350.693,878.136 351.954,878.136 353.216,878.136 354.477,878.136 355.738,878.136 357,878.136 358.261,878.136 358.261,875.265 359.522,875.265 360.784,875.265 360.784,872.393 362.045,872.393 362.045,869.522 362.045,866.65 362.045,863.779 362.045,860.907 362.045,858.036 363.307,858.036 364.568,858.036 365.829,858.036 365.829,855.164 365.829,852.293 365.829,849.421 365.829,846.55 367.091,846.55 368.352,846.55 368.352,843.678 369.614,843.678 369.614,840.807 369.614,837.935 369.614,835.064 369.614,832.192 369.614,829.321 369.614,826.449 370.875,826.449 372.136,826.449 373.398,826.449 373.398,823.578 374.659,823.578 374.659,820.706 375.921,820.706 377.182,820.706 378.443,820.706 378.443,817.835 378.443,814.963 378.443,812.092 379.705,812.092 379.705,809.22 379.705,806.348 379.705,803.477 380.966,803.477 380.966,800.605 380.966,797.734 380.966,794.862 382.227,794.862 382.227,791.991 383.489,791.991 383.489,789.119 383.489,786.248 384.75,786.248 386.012,786.248 386.012,783.376 387.273,783.376 388.534,783.376 389.796,783.376 389.796,780.505 391.057,780.505 392.319,780.505 393.58,780.505 394.841,780.505 396.103,780.505 397.364,780.505 397.364,777.633 397.364,774.762 398.626,774.762 399.887,774.762 399.887,771.89 401.148,771.89 402.41,771.89 403.671,771.89 403.671,769.019 404.932,769.019 406.194,769.019 407.455,769.019 407.455,766.147 407.455,763.276 407.455,760.404 408.717,760.404 408.717,757.533 408.717,754.661 409.978,754.661 411.239,754.661 411.239,751.79 412.501,751.79 413.762,751.79 415.024,751.79 416.285,751.79 417.546,751.79 417.546,748.918 417.546,746.047 418.808,746.047 420.069,746.047 421.331,746.047 422.592,746.047 423.853,746.047 425.115,746.047 426.376,746.047 426.376,743.175 427.637,743.175 427.637,740.303 428.899,740.303 428.899,737.432 428.899,734.56 430.16,734.56 431.422,734.56 431.422,731.689 431.422,728.817 432.683,728.817 433.944,728.817 433.944,725.946 433.944,723.074 435.206,723.074 435.206,720.203 436.467,720.203 436.467,717.331 437.729,717.331 438.99,717.331 438.99,714.46 440.251,714.46 441.513,714.46 441.513,711.588 441.513,708.717 442.774,708.717 444.036,708.717 444.036,705.845 445.297,705.845 446.558,705.845 446.558,702.974 447.82,702.974 449.081,702.974 450.342,702.974 451.604,702.974 451.604,700.102 452.865,700.102 454.127,700.102 455.388,700.102 456.649,700.102 457.911,700.102 457.911,697.231 459.172,697.231 460.434,697.231 461.695,697.231 462.956,697.231 464.218,697.231 464.218,694.359 465.479,694.359 466.741,694.359 468.002,694.359 469.263,694.359 470.525,694.359 471.786,694.359 471.786,691.488 473.047,691.488 473.047,688.616 474.309,688.616 475.57,688.616 476.832,688.616 476.832,685.745 478.093,685.745 479.354,685.745 480.616,685.745 481.877,685.745 483.139,685.745 483.139,682.873 484.4,682.873 485.661,682.873 485.661,680.002 486.923,680.002 488.184,680.002 488.184,677.13 489.446,677.13 490.707,677.13 491.968,677.13 493.23,677.13 493.23,674.259 494.491,674.259 494.491,671.387 494.491,668.515 494.491,665.644 494.491,662.772 494.491,659.901 494.491,657.029 494.491,654.158 495.752,654.158 497.014,654.158 498.275,654.158 499.537,654.158 499.537,651.286 500.798,651.286 502.059,651.286 503.321,651.286 503.321,648.415 504.582,648.415 504.582,645.543 505.844,645.543 507.105,645.543 508.366,645.543 509.628,645.543 509.628,642.672 510.889,642.672 512.15,642.672 513.412,642.672 514.673,642.672 515.935,642.672 517.196,642.672 517.196,639.8 517.196,636.929 518.457,636.929 519.719,636.929 519.719,634.057 520.98,634.057 522.242,634.057 523.503,634.057 524.764,634.057 526.026,634.057 527.287,634.057 528.549,634.057 529.81,634.057 531.071,634.057 531.071,631.186 532.333,631.186 533.594,631.186 533.594,628.314 534.855,628.314 536.117,628.314 537.378,628.314 538.64,628.314 539.901,628.314 539.901,625.443 541.162,625.443 542.424,625.443 543.685,625.443 544.947,625.443 546.208,625.443 547.469,625.443 547.469,622.571 547.469,619.7 548.731,619.7 548.731,616.828 548.731,613.957 549.992,613.957 549.992,611.085 551.254,611.085 551.254,608.214 552.515,608.214 553.776,608.214 553.776,605.342 553.776,602.471 555.038,602.471 555.038,599.599 555.038,596.727 555.038,593.856 555.038,590.984 556.299,590.984 557.56,590.984 558.822,590.984 560.083,590.984 561.345,590.984 561.345,588.113 561.345,585.241 562.606,585.241 563.867,585.241 565.129,585.241 565.129,582.37 566.39,582.37 567.652,582.37 568.913,582.37 570.174,582.37 571.436,582.37 572.697,582.37 573.959,582.37 575.22,582.37 576.481,582.37 576.481,579.498 577.743,579.498 577.743,576.627 579.004,576.627 580.265,576.627 580.265,573.755 581.527,573.755 581.527,570.884 581.527,568.012 582.788,568.012 582.788,565.141 584.05,565.141 585.311,565.141 586.572,565.141 587.834,565.141 589.095,565.141 589.095,562.269 589.095,559.398 589.095,556.526 590.357,556.526 591.618,556.526 591.618,553.655 592.879,553.655 592.879,550.783 592.879,547.912 594.141,547.912 595.402,547.912 596.664,547.912 597.925,547.912 599.186,547.912 600.448,547.912 600.448,545.04 601.709,545.04 601.709,542.169 601.709,539.297 602.97,539.297 602.97,536.426 604.232,536.426 605.493,536.426 605.493,533.554 606.755,533.554 608.016,533.554 609.277,533.554 609.277,530.682 609.277,527.811 610.539,527.811 610.539,524.939 611.8,524.939 611.8,522.068 611.8,519.196 613.062,519.196 614.323,519.196 615.584,519.196 616.846,519.196 618.107,519.196 619.369,519.196 619.369,516.325 620.63,516.325 621.891,516.325 623.153,516.325 624.414,516.325 625.675,516.325 626.937,516.325 628.198,516.325 628.198,513.453 629.46,513.453 630.721,513.453 631.982,513.453 633.244,513.453 634.505,513.453 635.767,513.453 637.028,513.453 638.289,513.453 639.551,513.453 640.812,513.453 642.074,513.453 643.335,513.453 643.335,510.582 643.335,507.71 644.596,507.71 644.596,504.839 645.858,504.839 645.858,501.967 647.119,501.967 647.119,499.096 648.38,499.096 649.642,499.096 650.903,499.096 650.903,496.224 652.165,496.224 652.165,493.353 653.426,493.353 654.687,493.353 654.687,490.481 654.687,487.61 655.949,487.61 657.21,487.61 657.21,484.738 657.21,481.867 658.472,481.867 658.472,478.995 659.733,478.995 660.994,478.995 662.256,478.995 663.517,478.995 664.778,478.995 666.04,478.995 667.301,478.995 668.563,478.995 668.563,476.124 668.563,473.252 668.563,470.381 669.824,470.381 671.085,470.381 672.347,470.381 673.608,470.381 673.608,467.509 674.87,467.509 674.87,464.638 674.87,461.766 676.131,461.766 677.392,461.766 678.654,461.766 679.915,461.766 679.915,458.894 681.177,458.894 682.438,458.894 683.699,458.894 684.961,458.894 686.222,458.894 687.483,458.894 688.745,458.894 690.006,458.894 691.268,458.894 691.268,456.023 692.529,456.023 693.79,456.023 695.052,456.023 696.313,456.023 696.313,453.151 696.313,450.28 697.575,450.28 698.836,450.28 698.836,447.408 700.097,447.408 701.359,447.408 702.62,447.408 703.882,447.408 705.143,447.408 705.143,444.537 706.404,444.537 707.666,444.537 708.927,444.537 710.188,444.537 711.45,444.537 712.711,444.537 713.973,444.537 715.234,444.537 716.495,444.537 716.495,441.665 716.495,438.794 717.757,438.794 719.018,438.794 720.28,438.794 721.541,438.794 722.802,438.794 724.064,438.794 725.325,438.794 726.587,438.794 727.848,438.794 729.109,438.794 730.371,438.794 731.632,438.794 731.632,435.922 731.632,433.051 732.893,433.051 732.893,430.179 734.155,430.179 735.416,430.179 736.678,430.179 737.939,430.179 737.939,427.308 737.939,424.436 737.939,421.565 739.2,421.565 740.462,421.565 741.723,421.565 742.985,421.565 742.985,418.693 744.246,418.693 745.507,418.693 746.769,418.693 748.03,418.693 749.292,418.693 749.292,415.822 750.553,415.822 751.814,415.822 753.076,415.822 754.337,415.822 755.598,415.822 756.86,415.822 756.86,412.95 758.121,412.95 759.383,412.95 760.644,412.95 761.905,412.95 763.167,412.95 764.428,412.95 765.69,412.95 766.951,412.95 768.212,412.95 769.474,412.95 770.735,412.95 771.997,412.95 771.997,410.079 773.258,410.079 774.519,410.079 774.519,407.207 775.781,407.207 777.042,407.207 778.303,407.207 779.565,407.207 779.565,404.336 780.826,404.336 782.088,404.336 783.349,404.336 783.349,401.464 784.61,401.464 785.872,401.464 787.133,401.464 788.395,401.464 789.656,401.464 790.917,401.464 792.179,401.464 793.44,401.464 794.702,401.464 795.963,401.464 797.224,401.464 798.486,401.464 799.747,401.464 801.008,401.464 802.27,401.464 803.531,401.464 804.793,401.464 804.793,398.593 806.054,398.593 806.054,395.721 807.315,395.721 807.315,392.849 807.315,389.978 808.577,389.978 809.838,389.978 811.1,389.978 812.361,389.978 813.622,389.978 814.884,389.978 814.884,387.106 816.145,387.106 816.145,384.235 816.145,381.363 817.406,381.363 818.668,381.363 818.668,378.492 819.929,378.492 819.929,375.62 819.929,372.749 821.191,372.749 822.452,372.749 823.713,372.749 824.975,372.749 826.236,372.749 827.498,372.749 827.498,369.877 828.759,369.877 830.02,369.877 831.282,369.877 832.543,369.877 833.805,369.877 833.805,367.006 833.805,364.134 835.066,364.134 836.327,364.134 837.589,364.134 838.85,364.134 840.111,364.134 841.373,364.134 842.634,364.134 843.896,364.134 843.896,361.263 845.157,361.263 846.418,361.263 847.68,361.263 848.941,361.263 850.203,361.263 851.464,361.263 852.725,361.263 852.725,358.391 852.725,355.52 853.987,355.52 855.248,355.52 856.51,355.52 857.771,355.52 859.032,355.52 859.032,352.648 860.294,352.648 861.555,352.648 862.816,352.648 862.816,349.777 864.078,349.777 864.078,346.905 864.078,344.034 865.339,344.034 866.601,344.034 867.862,344.034 867.862,341.162 869.123,341.162 870.385,341.162 871.646,341.162 872.908,341.162 874.169,341.162 874.169,338.291 875.43,338.291 876.692,338.291 877.953,338.291 879.215,338.291 880.476,338.291 881.737,338.291 882.999,338.291 884.26,338.291 885.521,338.291 886.783,338.291 888.044,338.291 889.306,338.291 890.567,338.291 891.828,338.291 891.828,335.419 893.09,335.419 893.09,332.548 894.351,332.548 895.613,332.548 896.874,332.548 898.135,332.548 899.397,332.548 900.658,332.548 901.92,332.548 903.181,332.548 904.442,332.548 905.704,332.548 905.704,329.676 906.965,329.676 908.226,329.676 909.488,329.676 909.488,326.805 910.749,326.805 912.011,326.805 913.272,326.805 914.533,326.805 915.795,326.805 917.056,326.805 918.318,326.805 919.579,326.805 920.84,326.805 922.102,326.805 923.363,326.805 923.363,323.933 924.625,323.933 925.886,323.933 927.147,323.933 928.409,323.933 929.67,323.933 930.931,323.933 932.193,323.933 933.454,323.933 934.716,323.933 935.977,323.933 937.238,323.933 938.5,323.933 939.761,323.933 941.023,323.933 942.284,323.933 943.545,323.933 944.807,323.933 946.068,323.933 947.33,323.933 948.591,323.933 948.591,321.061 949.852,321.061 951.114,321.061 952.375,321.061 953.636,321.061 954.898,321.061 956.159,321.061 957.421,321.061 957.421,318.19 957.421,315.318 958.682,315.318 959.943,315.318 961.205,315.318 962.466,315.318 963.728,315.318 964.989,315.318 966.25,315.318 967.512,315.318 968.773,315.318 970.035,315.318 970.035,312.447 971.296,312.447 972.557,312.447 973.819,312.447 975.08,312.447 976.341,312.447 976.341,309.575 977.603,309.575 978.864,309.575 980.126,309.575 981.387,309.575 982.648,309.575 983.91,309.575 985.171,309.575 986.433,309.575 986.433,306.704 987.694,306.704 988.955,306.704 990.217,306.704 991.478,306.704 992.739,306.704 994.001,306.704 995.262,306.704 995.262,303.832 996.524,303.832 997.785,303.832 999.046,303.832 999.046,300.961 1000.31,300.961 1001.57,300.961 1002.83,300.961 1004.09,300.961 1005.35,300.961 1006.61,300.961 1007.88,300.961 1009.14,300.961 1010.4,300.961 1011.66,300.961 1012.92,300.961 1014.18,300.961 1015.44,300.961 1016.71,300.961 1017.97,300.961 1017.97,298.089 1019.23,298.089 1020.49,298.089 1021.75,298.089 1023.01,298.089 1024.27,298.089 1025.54,298.089 1026.8,298.089 1028.06,298.089 1029.32,298.089 1030.58,298.089 1031.84,298.089 1033.1,298.089 1034.37,298.089 1035.63,298.089 1036.89,298.089 1038.15,298.089 1039.41,298.089 1040.67,298.089 1041.93,298.089 1043.2,298.089 1044.46,298.089 1044.46,295.218 1045.72,295.218 1046.98,295.218 1048.24,295.218 1049.5,295.218 1050.76,295.218 1052.02,295.218 1053.29,295.218 1054.55,295.218 1055.81,295.218 1057.07,295.218 1057.07,292.346 1058.33,292.346 1058.33,289.475 1059.59,289.475 1060.85,289.475 1062.12,289.475 1063.38,289.475 1064.64,289.475 1065.9,289.475 1065.9,286.603 1067.16,286.603 1067.16,283.732 1068.42,283.732 1069.68,283.732 1070.95,283.732 1072.21,283.732 1073.47,283.732 1074.73,283.732 1075.99,283.732 1077.25,283.732 1078.51,283.732 1079.78,283.732 1081.04,283.732 1082.3,283.732 1083.56,283.732 1084.82,283.732 1086.08,283.732 1087.34,283.732 1088.61,283.732 1089.87,283.732 1091.13,283.732 1092.39,283.732 1093.65,283.732 1093.65,280.86 1094.91,280.86 1096.17,280.86 1097.43,280.86 1098.7,280.86 1099.96,280.86 1101.22,280.86 1102.48,280.86 1103.74,280.86 1105,280.86 1106.26,280.86 1107.53,280.86 1108.79,280.86 1108.79,277.989 1110.05,277.989 1111.31,277.989 1111.31,275.117 1112.57,275.117 1113.83,275.117 1115.09,275.117 1116.36,275.117 1117.62,275.117 1118.88,275.117 1118.88,272.246 1120.14,272.246 1121.4,272.246 1122.66,272.246 1123.92,272.246 1125.19,272.246 1126.45,272.246 1127.71,272.246 1128.97,272.246 1130.23,272.246 1131.49,272.246 1132.75,272.246 1134.01,272.246 1135.28,272.246 1136.54,272.246 1137.8,272.246 1139.06,272.246 1139.06,269.374 1139.06,266.503 1140.32,266.503 1141.58,266.503 1142.84,266.503 1142.84,263.631 1144.11,263.631 1145.37,263.631 1146.63,263.631 1147.89,263.631 1149.15,263.631 1149.15,260.76 1150.41,260.76 1151.67,260.76 1152.94,260.76 1154.2,260.76 1155.46,260.76 1156.72,260.76 1157.98,260.76 1159.24,260.76 1160.5,260.76 1161.77,260.76 1163.03,260.76 1164.29,260.76 1165.55,260.76 1165.55,257.888 1166.81,257.888 1168.07,257.888 1169.33,257.888 1170.6,257.888 1171.86,257.888 1173.12,257.888 1174.38,257.888 1175.64,257.888 1175.64,255.016 1176.9,255.016 1178.16,255.016 1179.42,255.016 1180.69,255.016 1181.95,255.016 1183.21,255.016 1184.47,255.016 1185.73,255.016 1186.99,255.016 1188.25,255.016 1189.52,255.016 1190.78,255.016 1192.04,255.016 1193.3,255.016 1194.56,255.016 1195.82,255.016 1197.08,255.016 1197.08,252.145 1198.35,252.145 1199.61,252.145 1200.87,252.145 1202.13,252.145 1203.39,252.145 1204.65,252.145 1205.91,252.145 1207.18,252.145 1208.44,252.145 1209.7,252.145 1210.96,252.145 1212.22,252.145 1213.48,252.145 1214.74,252.145 1216.01,252.145 1217.27,252.145 1218.53,252.145 1219.79,252.145 1221.05,252.145 1222.31,252.145 1223.57,252.145 1224.83,252.145 1226.1,252.145 1227.36,252.145 1228.62,252.145 1229.88,252.145 1231.14,252.145 1232.4,252.145 1233.66,252.145 1234.93,252.145 1236.19,252.145 1237.45,252.145 1238.71,252.145 1239.97,252.145 1241.23,252.145 1242.49,252.145 1243.76,252.145 1243.76,249.273 1245.02,249.273 1246.28,249.273 1247.54,249.273 1248.8,249.273 1250.06,249.273 1251.32,249.273 1252.59,249.273 1253.85,249.273 1255.11,249.273 1256.37,249.273 1257.63,249.273 1258.89,249.273 1260.15,249.273 1261.42,249.273 1262.68,249.273 1263.94,249.273 1265.2,249.273 1266.46,249.273 1267.72,249.273 1268.98,249.273 1270.24,249.273 1271.51,249.273 1272.77,249.273 1274.03,249.273 1275.29,249.273 1276.55,249.273 1277.81,249.273 1279.07,249.273 1280.34,249.273 1281.6,249.273 1282.86,249.273 1284.12,249.273 1285.38,249.273 1286.64,249.273 1287.9,249.273 1289.17,249.273 1290.43,249.273 1291.69,249.273 1292.95,249.273 1294.21,249.273 1295.47,249.273 1296.73,249.273 1298,249.273 1299.26,249.273 1300.52,249.273 1300.52,246.402 1301.78,246.402 1303.04,246.402 1304.3,246.402 1305.56,246.402 1306.83,246.402 1308.09,246.402 1309.35,246.402 1310.61,246.402 1311.87,246.402 1313.13,246.402 1314.39,246.402 1315.65,246.402 1316.92,246.402 1318.18,246.402 1319.44,246.402 1320.7,246.402 1321.96,246.402 1323.22,246.402 1324.48,246.402 1325.75,246.402 1327.01,246.402 1328.27,246.402 1329.53,246.402 1330.79,246.402 1332.05,246.402 1333.31,246.402 1334.58,246.402 1335.84,246.402 1337.1,246.402 1338.36,246.402 1339.62,246.402 1340.88,246.402 1342.14,246.402 1343.41,246.402 1344.67,246.402 1345.93,246.402 1347.19,246.402 1348.45,246.402 1349.71,246.402 1349.71,243.53 1350.97,243.53 1350.97,240.659 1352.24,240.659 1353.5,240.659 1354.76,240.659 1356.02,240.659 1357.28,240.659 1358.54,240.659 1359.8,240.659 1361.06,240.659 1362.33,240.659 1363.59,240.659 1364.85,240.659 1366.11,240.659 1367.37,240.659 1368.63,240.659 1369.89,240.659 1371.16,240.659 1372.42,240.659 1373.68,240.659 1374.94,240.659 1376.2,240.659 1377.46,240.659 1378.72,240.659 1379.99,240.659 1381.25,240.659 1382.51,240.659 1383.77,240.659 1385.03,240.659 1386.29,240.659 1387.55,240.659 1388.82,240.659 1390.08,240.659 1391.34,240.659 1392.6,240.659 1393.86,240.659 1395.12,240.659 1396.38,240.659 1397.65,240.659 1397.65,237.787 1398.91,237.787 1400.17,237.787 1401.43,237.787 1402.69,237.787 1403.95,237.787 1405.21,237.787 1406.47,237.787 1407.74,237.787 1409,237.787 1410.26,237.787 1411.52,237.787 1412.78,237.787 1414.04,237.787 1415.3,237.787 1416.57,237.787 1417.83,237.787 1419.09,237.787 1420.35,237.787 1421.61,237.787 1422.87,237.787 1424.13,237.787 1425.4,237.787 1426.66,237.787 1427.92,237.787 1429.18,237.787 1430.44,237.787 1431.7,237.787 1431.7,234.916 1432.96,234.916 1434.23,234.916 1435.49,234.916 1436.75,234.916 1438.01,234.916 1439.27,234.916 1440.53,234.916 1441.79,234.916 1443.06,234.916 1444.32,234.916 1445.58,234.916 1446.84,234.916 1448.1,234.916 1449.36,234.916 1450.62,234.916 1451.88,234.916 1453.15,234.916 1454.41,234.916 1455.67,234.916 1456.93,234.916 1458.19,234.916 1459.45,234.916 1459.45,232.044 1460.71,232.044 1461.98,232.044 1463.24,232.044 1464.5,232.044 1465.76,232.044 1467.02,232.044 1468.28,232.044 1469.54,232.044 1470.81,232.044 1472.07,232.044 1473.33,232.044 1474.59,232.044 1475.85,232.044 1477.11,232.044 1478.37,232.044 1479.64,232.044 1480.9,232.044 1482.16,232.044 1483.42,232.044 1484.68,232.044 1485.94,232.044 1487.2,232.044 1488.47,232.044 1489.73,232.044 1490.99,232.044 1492.25,232.044 1493.51,232.044 1494.77,232.044 1496.03,232.044 1496.03,229.173 1497.29,229.173 1498.56,229.173 1499.82,229.173 1501.08,229.173 1502.34,229.173 1503.6,229.173 1504.86,229.173 1506.12,229.173 1507.39,229.173 1508.65,229.173 1509.91,229.173 1511.17,229.173 1512.43,229.173 1512.43,226.301 1513.69,226.301 1514.95,226.301 1516.22,226.301 1517.48,226.301 1518.74,226.301 1520,226.301 1521.26,226.301 1522.52,226.301 1523.78,226.301 1525.05,226.301 1526.31,226.301 1527.57,226.301 1528.83,226.301 1530.09,226.301 1531.35,226.301 1532.61,226.301 1533.88,226.301 1535.14,226.301 1536.4,226.301 1537.66,226.301 1538.92,226.301 1540.18,226.301 1540.18,223.43 1541.44,223.43 1542.7,223.43 1543.97,223.43 1545.23,223.43 1545.23,220.558 1546.49,220.558 1547.75,220.558 1549.01,220.558 1550.27,220.558 1551.53,220.558 1552.8,220.558 1552.8,217.687 1554.06,217.687 1555.32,217.687 1556.58,217.687 1557.84,217.687 1559.1,217.687 1560.36,217.687 1561.63,217.687 1562.89,217.687 1564.15,217.687 1565.41,217.687 1566.67,217.687 1567.93,217.687 1569.19,217.687 1570.46,217.687 1571.72,217.687 1572.98,217.687 1574.24,217.687 1575.5,217.687 1576.76,217.687 1578.02,217.687 1579.29,217.687 1580.55,217.687 1581.81,217.687 1583.07,217.687 1584.33,217.687 1585.59,217.687 1586.85,217.687 1588.11,217.687 1589.38,217.687 1590.64,217.687 1591.9,217.687 1591.9,214.815 1593.16,214.815 1594.42,214.815 1595.68,214.815 1596.94,214.815 1598.21,214.815 1599.47,214.815 1600.73,214.815 1601.99,214.815 1603.25,214.815 1604.51,214.815 1605.77,214.815 1607.04,214.815 1608.3,214.815 1609.56,214.815 1610.82,214.815 1612.08,214.815 1613.34,214.815 1614.6,214.815 1615.87,214.815 1617.13,214.815 1618.39,214.815 1619.65,214.815 1620.91,214.815 1622.17,214.815 1623.43,214.815 1624.7,214.815 1625.96,214.815 1627.22,214.815 1628.48,214.815 1629.74,214.815 1631,214.815 1632.26,214.815 1633.52,214.815 1634.79,214.815 1636.05,214.815 1637.31,214.815 1638.57,214.815 1639.83,214.815 1641.09,214.815 1642.35,214.815 1643.62,214.815 1644.88,214.815 1646.14,214.815 1647.4,214.815 1648.66,214.815 1649.92,214.815 1651.18,214.815 1652.45,214.815 1653.71,214.815 1654.97,214.815 1656.23,214.815 1657.49,214.815 1658.75,214.815 1660.01,214.815 1661.28,214.815 1662.54,214.815 1663.8,214.815 1663.8,211.944 1665.06,211.944 1666.32,211.944 1667.58,211.944 1668.84,211.944 1670.11,211.944 1671.37,211.944 1672.63,211.944 1673.89,211.944 1675.15,211.944 1676.41,211.944 1677.67,211.944 1678.93,211.944 1680.2,211.944 1681.46,211.944 1682.72,211.944 1683.98,211.944 1685.24,211.944 1686.5,211.944 1687.76,211.944 1689.03,211.944 1690.29,211.944 1691.55,211.944 1692.81,211.944 1694.07,211.944 1695.33,211.944 1696.59,211.944 1697.86,211.944 1697.86,209.072 1699.12,209.072 1700.38,209.072 1701.64,209.072 1701.64,206.201 1702.9,206.201 1704.16,206.201 1705.42,206.201 1706.69,206.201 1707.95,206.201 1709.21,206.201 1710.47,206.201 1711.73,206.201 1712.99,206.201 1714.25,206.201 1715.52,206.201 1716.78,206.201 1718.04,206.201 1719.3,206.201 1720.56,206.201 1721.82,206.201 1723.08,206.201 1724.34,206.201 1725.61,206.201 1726.87,206.201 1728.13,206.201 1729.39,206.201 1730.65,206.201 1730.65,203.329 1730.65,200.458 1731.91,200.458 1733.17,200.458 1734.44,200.458 1735.7,200.458 1736.96,200.458 1738.22,200.458 1738.22,197.586 1739.48,197.586 1740.74,197.586 1742,197.586 1743.27,197.586 1744.53,197.586 1745.79,197.586 1747.05,197.586 1748.31,197.586 1749.57,197.586 1750.83,197.586 1752.1,197.586 1753.36,197.586 1754.62,197.586 1754.62,194.715 1755.88,194.715 1755.88,191.843 1757.14,191.843 1758.4,191.843 1759.66,191.843 1760.93,191.843 1762.19,191.843 1763.45,191.843 1764.71,191.843 1765.97,191.843 1767.23,191.843 1768.49,191.843 1769.75,191.843 1771.02,191.843 1772.28,191.843 1773.54,191.843 1774.8,191.843 1776.06,191.843 1777.32,191.843 1778.58,191.843 1779.85,191.843 1781.11,191.843 1782.37,191.843 1783.63,191.843 1784.89,191.843 1786.15,191.843 1787.41,191.843 1788.68,191.843 1789.94,191.843 1789.94,188.972 1791.2,188.972 1791.2,186.1 1792.46,186.1 1793.72,186.1 1794.98,186.1 1796.24,186.1 1797.51,186.1 1798.77,186.1 1800.03,186.1 1801.29,186.1 1802.55,186.1 1803.81,186.1 1805.07,186.1 1806.34,186.1 1807.6,186.1 1808.86,186.1 1810.12,186.1 1811.38,186.1 1811.38,183.228 1812.64,183.228 1812.64,180.357 1813.9,180.357 1815.16,180.357 1816.43,180.357 1817.69,180.357 1818.95,180.357 1820.21,180.357 1821.47,180.357 1822.73,180.357 1823.99,180.357 1825.26,180.357 1826.52,180.357 1827.78,180.357 1829.04,180.357 1830.3,180.357 1831.56,180.357 1832.82,180.357 1834.09,180.357 1835.35,180.357 1836.61,180.357 1837.87,180.357 1839.13,180.357 1840.39,180.357 1841.65,180.357 1842.92,180.357 1844.18,180.357 1845.44,180.357 1846.7,180.357 1847.96,180.357 1849.22,180.357 1849.22,177.485 1850.48,177.485 1851.75,177.485 1853.01,177.485 1854.27,177.485 1855.53,177.485 1856.79,177.485 1858.05,177.485 1859.31,177.485 1860.57,177.485 1861.84,177.485 1863.1,177.485 1864.36,177.485 1865.62,177.485 1866.88,177.485 1868.14,177.485 1869.4,177.485 1870.67,177.485 1871.93,177.485 1873.19,177.485 1874.45,177.485 1875.71,177.485 1876.97,177.485 1878.23,177.485 1879.5,177.485 1880.76,177.485 1882.02,177.485 1883.28,177.485 1884.54,177.485 1885.8,177.485 1887.06,177.485 1888.33,177.485 1889.59,177.485 1890.85,177.485 1890.85,174.614 1892.11,174.614 1893.37,174.614 1894.63,174.614 1895.89,174.614 1897.16,174.614 1898.42,174.614 1899.68,174.614 1900.94,174.614 1902.2,174.614 1903.46,174.614 1904.72,174.614 1905.98,174.614 1907.25,174.614 1908.51,174.614 1909.77,174.614 1911.03,174.614 1912.29,174.614 1913.55,174.614 1914.81,174.614 1916.08,174.614 1917.34,174.614 1918.6,174.614 1919.86,174.614 1921.12,174.614 1922.38,174.614 1923.64,174.614 1924.91,174.614 1926.17,174.614 1927.43,174.614 1928.69,174.614 1929.95,174.614 1931.21,174.614 1932.47,174.614 1933.74,174.614 1935,174.614 1936.26,174.614 1937.52,174.614 1938.78,174.614 1940.04,174.614 1941.3,174.614 1942.56,174.614 1943.83,174.614 1945.09,174.614 1946.35,174.614 1947.61,174.614 1948.87,174.614 1950.13,174.614 1951.39,174.614 1952.66,174.614 1953.92,174.614 1955.18,174.614 1956.44,174.614 1957.7,174.614 1958.96,174.614 1960.22,174.614 1961.49,174.614 1961.49,171.742 1962.75,171.742 1964.01,171.742 1965.27,171.742 1966.53,171.742 1967.79,171.742 1969.05,171.742 1970.32,171.742 1971.58,171.742 1972.84,171.742 1974.1,171.742 1975.36,171.742 1976.62,171.742 1977.88,171.742 1979.15,171.742 1980.41,171.742 1981.67,171.742 1982.93,171.742 1984.19,171.742 1985.45,171.742 1986.71,171.742 1987.97,171.742 1989.24,171.742 1990.5,171.742 1991.76,171.742 1993.02,171.742 1994.28,171.742 1995.54,171.742 1996.8,171.742 1998.07,171.742 1999.33,171.742 2000.59,171.742 2001.85,171.742 2003.11,171.742 2004.37,171.742 2005.63,171.742 2006.9,171.742 2008.16,171.742 2009.42,171.742 2010.68,171.742 2011.94,171.742 2013.2,171.742 2014.46,171.742 2015.73,171.742 2016.99,171.742 2018.25,171.742 2019.51,171.742 2020.77,171.742 2022.03,171.742 2023.29,171.742 2024.56,171.742 2025.82,171.742 2027.08,171.742 2028.34,171.742 2029.6,171.742 2030.86,171.742 2032.12,171.742 2033.38,171.742 2034.65,171.742 2034.65,168.871 2035.91,168.871 2037.17,168.871 2038.43,168.871 2039.69,168.871 2040.95,168.871 2042.21,168.871 2043.48,168.871 2044.74,168.871 2046,168.871 2047.26,168.871 2048.52,168.871 2049.78,168.871 2051.04,168.871 2052.31,168.871 2052.31,165.999 2053.57,165.999 2054.83,165.999 2056.09,165.999 2057.35,165.999 2058.61,165.999 2059.87,165.999 2061.14,165.999 2062.4,165.999 2063.66,165.999 2064.92,165.999 2066.18,165.999 2067.44,165.999 2068.7,165.999 2069.97,165.999 2071.23,165.999 2072.49,165.999 2073.75,165.999 2075.01,165.999 2076.27,165.999 2077.53,165.999 2078.79,165.999 2080.06,165.999 2081.32,165.999 2082.58,165.999 2083.84,165.999 2085.1,165.999 2086.36,165.999 2087.62,165.999 2088.89,165.999 2090.15,165.999 2091.41,165.999 2092.67,165.999 2093.93,165.999 2095.19,165.999 2096.45,165.999 2097.72,165.999 2098.98,165.999 2100.24,165.999 2101.5,165.999 2102.76,165.999 2104.02,165.999 2105.28,165.999 2106.55,165.999 2107.81,165.999 2109.07,165.999 2110.33,165.999 2111.59,165.999 2112.85,165.999 2114.11,165.999 2115.38,165.999 2116.64,165.999 2117.9,165.999 2119.16,165.999 2120.42,165.999 2121.68,165.999 2122.94,165.999 2124.2,165.999 2125.47,165.999 2126.73,165.999 2127.99,165.999 2129.25,165.999 2130.51,165.999 2131.77,165.999 2133.03,165.999 2134.3,165.999 2135.56,165.999 2136.82,165.999 2138.08,165.999 2139.34,165.999 2140.6,165.999 2141.86,165.999 2143.13,165.999 2144.39,165.999 2145.65,165.999 2146.91,165.999 2148.17,165.999 2149.43,165.999 2150.69,165.999 2151.96,165.999 2153.22,165.999 2154.48,165.999 2155.74,165.999 2157,165.999 2158.26,165.999 2159.52,165.999 2160.79,165.999 2162.05,165.999 2163.31,165.999 2164.57,165.999 2165.83,165.999 2167.09,165.999 2168.35,165.999 2169.61,165.999 2170.88,165.999 2172.14,165.999 2172.14,163.128 2173.4,163.128 2174.66,163.128 2175.92,163.128 2177.18,163.128 2178.44,163.128 2179.71,163.128 2180.97,163.128 2182.23,163.128 2183.49,163.128 2184.75,163.128 2186.01,163.128 2187.27,163.128 2188.54,163.128 2189.8,163.128 2191.06,163.128 2192.32,163.128 2193.58,163.128 2194.84,163.128 2196.1,163.128 2197.37,163.128 2198.63,163.128 2199.89,163.128 2201.15,163.128 2202.41,163.128 2203.67,163.128 2203.67,160.256 2204.93,160.256 2206.2,160.256 2207.46,160.256 2208.72,160.256 2209.98,160.256 2211.24,160.256 2212.5,160.256 2213.76,160.256 2215.02,160.256 2216.29,160.256 2217.55,160.256 2218.81,160.256 2220.07,160.256 2221.33,160.256 2222.59,160.256 2223.85,160.256 2225.12,160.256 2226.38,160.256 2227.64,160.256 2228.9,160.256 2230.16,160.256 2231.42,160.256 2232.68,160.256 2233.95,160.256 2235.21,160.256 2236.47,160.256 2237.73,160.256 2238.99,160.256 2240.25,160.256 2241.51,160.256 2242.78,160.256 2244.04,160.256 2245.3,160.256 2246.56,160.256 2247.82,160.256 2249.08,160.256 2250.34,160.256 2251.61,160.256 2252.87,160.256 2254.13,160.256 2255.39,160.256 2256.65,160.256 2257.91,160.256 2259.17,160.256 2260.43,160.256 2261.7,160.256 2262.96,160.256 2264.22,160.256 2265.48,160.256 2266.74,160.256 2268,160.256 2269.26,160.256 2270.53,160.256 2271.79,160.256 2273.05,160.256 2274.31,160.256 2275.57,160.256 2276.83,160.256 2278.09,160.256 2279.36,160.256 2280.62,160.256 2281.88,160.256 2283.14,160.256 2284.4,160.256 2285.66,160.256 2286.92,160.256 2288.19,160.256 2289.45,160.256 2290.71,160.256 2291.97,160.256 2293.23,160.256 \"/>\n",
       "</svg>\n"
      ]
     },
     "execution_count": 90,
     "metadata": {},
     "output_type": "execute_result"
    }
   ],
   "source": [
    "rc_test=roc_curve(univariate_predictions, y_class)\n",
    "@show plot(rc_test, legend=false, xlabel=\"False Positive Rate\", ylabel=\"True Positive Rate\", title=\"ROC Curve\")\n"
   ]
  },
  {
   "cell_type": "code",
   "execution_count": 88,
   "id": "53dcd0ad-87a0-4a58-8cb6-49340500b92b",
   "metadata": {},
   "outputs": [
    {
     "name": "stdout",
     "output_type": "stream",
     "text": [
      "Área bajo la curva (AUC): 0.8640167582045376\n"
     ]
    }
   ],
   "source": [
    "# Calcular AUC\n",
    "auc_value = auc(univariate_predictions, y_class)\n",
    "println(\"Área bajo la curva (AUC): \", auc_value)"
   ]
  },
  {
   "cell_type": "code",
   "execution_count": null,
   "id": "e133088e-f98e-4e97-afbf-ead9563f623c",
   "metadata": {},
   "outputs": [],
   "source": []
  }
 ],
 "metadata": {
  "kernelspec": {
   "display_name": "Julia 1.8.5",
   "language": "julia",
   "name": "julia-1.8"
  },
  "language_info": {
   "file_extension": ".jl",
   "mimetype": "application/julia",
   "name": "julia",
   "version": "1.8.5"
  }
 },
 "nbformat": 4,
 "nbformat_minor": 5
}
