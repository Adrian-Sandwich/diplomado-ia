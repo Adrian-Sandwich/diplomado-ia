{
 "cells": [
  {
   "cell_type": "code",
   "execution_count": 1,
   "id": "e5c7c222-74df-4338-b4a3-5ff1007b489d",
   "metadata": {},
   "outputs": [],
   "source": [
    "using MLJ\n",
    "using CSV\n",
    "using DataFrames\n",
    "using StatsBase\n",
    "using PrettyPrinting\n",
    "using Plots\n",
    "using Distances\n",
    "using MLJLinearModels"
   ]
  },
  {
   "cell_type": "code",
   "execution_count": 4,
   "id": "23f964da-1cd9-451f-a081-17517d292abf",
   "metadata": {},
   "outputs": [
    {
     "data": {
      "text/html": [
       "<div><div style = \"float: left;\"><span>1250×9 DataFrame</span></div><div style = \"float: right;\"><span style = \"font-style: italic;\">1225 rows omitted</span></div><div style = \"clear: both;\"></div></div><div class = \"data-frame\" style = \"overflow-x: scroll;\"><table class = \"data-frame\" style = \"margin-bottom: 6px;\"><thead><tr class = \"header\"><th class = \"rowNumber\" style = \"font-weight: bold; text-align: right;\">Row</th><th style = \"text-align: left;\">Year</th><th style = \"text-align: left;\">Lag1</th><th style = \"text-align: left;\">Lag2</th><th style = \"text-align: left;\">Lag3</th><th style = \"text-align: left;\">Lag4</th><th style = \"text-align: left;\">Lag5</th><th style = \"text-align: left;\">Volume</th><th style = \"text-align: left;\">Today</th><th style = \"text-align: left;\">Direction</th></tr><tr class = \"subheader headerLastRow\"><th class = \"rowNumber\" style = \"font-weight: bold; text-align: right;\"></th><th title = \"Int64\" style = \"text-align: left;\">Int64</th><th title = \"Float64\" style = \"text-align: left;\">Float64</th><th title = \"Float64\" style = \"text-align: left;\">Float64</th><th title = \"Float64\" style = \"text-align: left;\">Float64</th><th title = \"Float64\" style = \"text-align: left;\">Float64</th><th title = \"Float64\" style = \"text-align: left;\">Float64</th><th title = \"Float64\" style = \"text-align: left;\">Float64</th><th title = \"Float64\" style = \"text-align: left;\">Float64</th><th title = \"String7\" style = \"text-align: left;\">String7</th></tr></thead><tbody><tr><td class = \"rowNumber\" style = \"font-weight: bold; text-align: right;\">1</td><td style = \"text-align: right;\">2001</td><td style = \"text-align: right;\">0.381</td><td style = \"text-align: right;\">-0.192</td><td style = \"text-align: right;\">-2.624</td><td style = \"text-align: right;\">-1.055</td><td style = \"text-align: right;\">5.01</td><td style = \"text-align: right;\">1.1913</td><td style = \"text-align: right;\">0.959</td><td style = \"text-align: left;\">Up</td></tr><tr><td class = \"rowNumber\" style = \"font-weight: bold; text-align: right;\">2</td><td style = \"text-align: right;\">2001</td><td style = \"text-align: right;\">0.959</td><td style = \"text-align: right;\">0.381</td><td style = \"text-align: right;\">-0.192</td><td style = \"text-align: right;\">-2.624</td><td style = \"text-align: right;\">-1.055</td><td style = \"text-align: right;\">1.2965</td><td style = \"text-align: right;\">1.032</td><td style = \"text-align: left;\">Up</td></tr><tr><td class = \"rowNumber\" style = \"font-weight: bold; text-align: right;\">3</td><td style = \"text-align: right;\">2001</td><td style = \"text-align: right;\">1.032</td><td style = \"text-align: right;\">0.959</td><td style = \"text-align: right;\">0.381</td><td style = \"text-align: right;\">-0.192</td><td style = \"text-align: right;\">-2.624</td><td style = \"text-align: right;\">1.4112</td><td style = \"text-align: right;\">-0.623</td><td style = \"text-align: left;\">Down</td></tr><tr><td class = \"rowNumber\" style = \"font-weight: bold; text-align: right;\">4</td><td style = \"text-align: right;\">2001</td><td style = \"text-align: right;\">-0.623</td><td style = \"text-align: right;\">1.032</td><td style = \"text-align: right;\">0.959</td><td style = \"text-align: right;\">0.381</td><td style = \"text-align: right;\">-0.192</td><td style = \"text-align: right;\">1.276</td><td style = \"text-align: right;\">0.614</td><td style = \"text-align: left;\">Up</td></tr><tr><td class = \"rowNumber\" style = \"font-weight: bold; text-align: right;\">5</td><td style = \"text-align: right;\">2001</td><td style = \"text-align: right;\">0.614</td><td style = \"text-align: right;\">-0.623</td><td style = \"text-align: right;\">1.032</td><td style = \"text-align: right;\">0.959</td><td style = \"text-align: right;\">0.381</td><td style = \"text-align: right;\">1.2057</td><td style = \"text-align: right;\">0.213</td><td style = \"text-align: left;\">Up</td></tr><tr><td class = \"rowNumber\" style = \"font-weight: bold; text-align: right;\">6</td><td style = \"text-align: right;\">2001</td><td style = \"text-align: right;\">0.213</td><td style = \"text-align: right;\">0.614</td><td style = \"text-align: right;\">-0.623</td><td style = \"text-align: right;\">1.032</td><td style = \"text-align: right;\">0.959</td><td style = \"text-align: right;\">1.3491</td><td style = \"text-align: right;\">1.392</td><td style = \"text-align: left;\">Up</td></tr><tr><td class = \"rowNumber\" style = \"font-weight: bold; text-align: right;\">7</td><td style = \"text-align: right;\">2001</td><td style = \"text-align: right;\">1.392</td><td style = \"text-align: right;\">0.213</td><td style = \"text-align: right;\">0.614</td><td style = \"text-align: right;\">-0.623</td><td style = \"text-align: right;\">1.032</td><td style = \"text-align: right;\">1.445</td><td style = \"text-align: right;\">-0.403</td><td style = \"text-align: left;\">Down</td></tr><tr><td class = \"rowNumber\" style = \"font-weight: bold; text-align: right;\">8</td><td style = \"text-align: right;\">2001</td><td style = \"text-align: right;\">-0.403</td><td style = \"text-align: right;\">1.392</td><td style = \"text-align: right;\">0.213</td><td style = \"text-align: right;\">0.614</td><td style = \"text-align: right;\">-0.623</td><td style = \"text-align: right;\">1.4078</td><td style = \"text-align: right;\">0.027</td><td style = \"text-align: left;\">Up</td></tr><tr><td class = \"rowNumber\" style = \"font-weight: bold; text-align: right;\">9</td><td style = \"text-align: right;\">2001</td><td style = \"text-align: right;\">0.027</td><td style = \"text-align: right;\">-0.403</td><td style = \"text-align: right;\">1.392</td><td style = \"text-align: right;\">0.213</td><td style = \"text-align: right;\">0.614</td><td style = \"text-align: right;\">1.164</td><td style = \"text-align: right;\">1.303</td><td style = \"text-align: left;\">Up</td></tr><tr><td class = \"rowNumber\" style = \"font-weight: bold; text-align: right;\">10</td><td style = \"text-align: right;\">2001</td><td style = \"text-align: right;\">1.303</td><td style = \"text-align: right;\">0.027</td><td style = \"text-align: right;\">-0.403</td><td style = \"text-align: right;\">1.392</td><td style = \"text-align: right;\">0.213</td><td style = \"text-align: right;\">1.2326</td><td style = \"text-align: right;\">0.287</td><td style = \"text-align: left;\">Up</td></tr><tr><td class = \"rowNumber\" style = \"font-weight: bold; text-align: right;\">11</td><td style = \"text-align: right;\">2001</td><td style = \"text-align: right;\">0.287</td><td style = \"text-align: right;\">1.303</td><td style = \"text-align: right;\">0.027</td><td style = \"text-align: right;\">-0.403</td><td style = \"text-align: right;\">1.392</td><td style = \"text-align: right;\">1.309</td><td style = \"text-align: right;\">-0.498</td><td style = \"text-align: left;\">Down</td></tr><tr><td class = \"rowNumber\" style = \"font-weight: bold; text-align: right;\">12</td><td style = \"text-align: right;\">2001</td><td style = \"text-align: right;\">-0.498</td><td style = \"text-align: right;\">0.287</td><td style = \"text-align: right;\">1.303</td><td style = \"text-align: right;\">0.027</td><td style = \"text-align: right;\">-0.403</td><td style = \"text-align: right;\">1.258</td><td style = \"text-align: right;\">-0.189</td><td style = \"text-align: left;\">Down</td></tr><tr><td class = \"rowNumber\" style = \"font-weight: bold; text-align: right;\">13</td><td style = \"text-align: right;\">2001</td><td style = \"text-align: right;\">-0.189</td><td style = \"text-align: right;\">-0.498</td><td style = \"text-align: right;\">0.287</td><td style = \"text-align: right;\">1.303</td><td style = \"text-align: right;\">0.027</td><td style = \"text-align: right;\">1.098</td><td style = \"text-align: right;\">0.68</td><td style = \"text-align: left;\">Up</td></tr><tr><td style = \"text-align: right;\">&vellip;</td><td style = \"text-align: right;\">&vellip;</td><td style = \"text-align: right;\">&vellip;</td><td style = \"text-align: right;\">&vellip;</td><td style = \"text-align: right;\">&vellip;</td><td style = \"text-align: right;\">&vellip;</td><td style = \"text-align: right;\">&vellip;</td><td style = \"text-align: right;\">&vellip;</td><td style = \"text-align: right;\">&vellip;</td><td style = \"text-align: right;\">&vellip;</td></tr><tr><td class = \"rowNumber\" style = \"font-weight: bold; text-align: right;\">1239</td><td style = \"text-align: right;\">2005</td><td style = \"text-align: right;\">0.555</td><td style = \"text-align: right;\">0.084</td><td style = \"text-align: right;\">0.281</td><td style = \"text-align: right;\">-0.122</td><td style = \"text-align: right;\">-0.501</td><td style = \"text-align: right;\">2.39002</td><td style = \"text-align: right;\">0.419</td><td style = \"text-align: left;\">Up</td></tr><tr><td class = \"rowNumber\" style = \"font-weight: bold; text-align: right;\">1240</td><td style = \"text-align: right;\">2005</td><td style = \"text-align: right;\">0.419</td><td style = \"text-align: right;\">0.555</td><td style = \"text-align: right;\">0.084</td><td style = \"text-align: right;\">0.281</td><td style = \"text-align: right;\">-0.122</td><td style = \"text-align: right;\">2.14552</td><td style = \"text-align: right;\">-0.141</td><td style = \"text-align: left;\">Down</td></tr><tr><td class = \"rowNumber\" style = \"font-weight: bold; text-align: right;\">1241</td><td style = \"text-align: right;\">2005</td><td style = \"text-align: right;\">-0.141</td><td style = \"text-align: right;\">0.419</td><td style = \"text-align: right;\">0.555</td><td style = \"text-align: right;\">0.084</td><td style = \"text-align: right;\">0.281</td><td style = \"text-align: right;\">2.18059</td><td style = \"text-align: right;\">-0.285</td><td style = \"text-align: left;\">Down</td></tr><tr><td class = \"rowNumber\" style = \"font-weight: bold; text-align: right;\">1242</td><td style = \"text-align: right;\">2005</td><td style = \"text-align: right;\">-0.285</td><td style = \"text-align: right;\">-0.141</td><td style = \"text-align: right;\">0.419</td><td style = \"text-align: right;\">0.555</td><td style = \"text-align: right;\">0.084</td><td style = \"text-align: right;\">2.58419</td><td style = \"text-align: right;\">-0.584</td><td style = \"text-align: left;\">Down</td></tr><tr><td class = \"rowNumber\" style = \"font-weight: bold; text-align: right;\">1243</td><td style = \"text-align: right;\">2005</td><td style = \"text-align: right;\">-0.584</td><td style = \"text-align: right;\">-0.285</td><td style = \"text-align: right;\">-0.141</td><td style = \"text-align: right;\">0.419</td><td style = \"text-align: right;\">0.555</td><td style = \"text-align: right;\">2.20881</td><td style = \"text-align: right;\">-0.024</td><td style = \"text-align: left;\">Down</td></tr><tr><td class = \"rowNumber\" style = \"font-weight: bold; text-align: right;\">1244</td><td style = \"text-align: right;\">2005</td><td style = \"text-align: right;\">-0.024</td><td style = \"text-align: right;\">-0.584</td><td style = \"text-align: right;\">-0.285</td><td style = \"text-align: right;\">-0.141</td><td style = \"text-align: right;\">0.419</td><td style = \"text-align: right;\">1.99669</td><td style = \"text-align: right;\">0.252</td><td style = \"text-align: left;\">Up</td></tr><tr><td class = \"rowNumber\" style = \"font-weight: bold; text-align: right;\">1245</td><td style = \"text-align: right;\">2005</td><td style = \"text-align: right;\">0.252</td><td style = \"text-align: right;\">-0.024</td><td style = \"text-align: right;\">-0.584</td><td style = \"text-align: right;\">-0.285</td><td style = \"text-align: right;\">-0.141</td><td style = \"text-align: right;\">2.06517</td><td style = \"text-align: right;\">0.422</td><td style = \"text-align: left;\">Up</td></tr><tr><td class = \"rowNumber\" style = \"font-weight: bold; text-align: right;\">1246</td><td style = \"text-align: right;\">2005</td><td style = \"text-align: right;\">0.422</td><td style = \"text-align: right;\">0.252</td><td style = \"text-align: right;\">-0.024</td><td style = \"text-align: right;\">-0.584</td><td style = \"text-align: right;\">-0.285</td><td style = \"text-align: right;\">1.8885</td><td style = \"text-align: right;\">0.043</td><td style = \"text-align: left;\">Up</td></tr><tr><td class = \"rowNumber\" style = \"font-weight: bold; text-align: right;\">1247</td><td style = \"text-align: right;\">2005</td><td style = \"text-align: right;\">0.043</td><td style = \"text-align: right;\">0.422</td><td style = \"text-align: right;\">0.252</td><td style = \"text-align: right;\">-0.024</td><td style = \"text-align: right;\">-0.584</td><td style = \"text-align: right;\">1.28581</td><td style = \"text-align: right;\">-0.955</td><td style = \"text-align: left;\">Down</td></tr><tr><td class = \"rowNumber\" style = \"font-weight: bold; text-align: right;\">1248</td><td style = \"text-align: right;\">2005</td><td style = \"text-align: right;\">-0.955</td><td style = \"text-align: right;\">0.043</td><td style = \"text-align: right;\">0.422</td><td style = \"text-align: right;\">0.252</td><td style = \"text-align: right;\">-0.024</td><td style = \"text-align: right;\">1.54047</td><td style = \"text-align: right;\">0.13</td><td style = \"text-align: left;\">Up</td></tr><tr><td class = \"rowNumber\" style = \"font-weight: bold; text-align: right;\">1249</td><td style = \"text-align: right;\">2005</td><td style = \"text-align: right;\">0.13</td><td style = \"text-align: right;\">-0.955</td><td style = \"text-align: right;\">0.043</td><td style = \"text-align: right;\">0.422</td><td style = \"text-align: right;\">0.252</td><td style = \"text-align: right;\">1.42236</td><td style = \"text-align: right;\">-0.298</td><td style = \"text-align: left;\">Down</td></tr><tr><td class = \"rowNumber\" style = \"font-weight: bold; text-align: right;\">1250</td><td style = \"text-align: right;\">2005</td><td style = \"text-align: right;\">-0.298</td><td style = \"text-align: right;\">0.13</td><td style = \"text-align: right;\">-0.955</td><td style = \"text-align: right;\">0.043</td><td style = \"text-align: right;\">0.422</td><td style = \"text-align: right;\">1.38254</td><td style = \"text-align: right;\">-0.489</td><td style = \"text-align: left;\">Down</td></tr></tbody></table></div>"
      ],
      "text/latex": [
       "\\begin{tabular}{r|ccccccccc}\n",
       "\t& Year & Lag1 & Lag2 & Lag3 & Lag4 & Lag5 & Volume & Today & Direction\\\\\n",
       "\t\\hline\n",
       "\t& Int64 & Float64 & Float64 & Float64 & Float64 & Float64 & Float64 & Float64 & String7\\\\\n",
       "\t\\hline\n",
       "\t1 & 2001 & 0.381 & -0.192 & -2.624 & -1.055 & 5.01 & 1.1913 & 0.959 & Up \\\\\n",
       "\t2 & 2001 & 0.959 & 0.381 & -0.192 & -2.624 & -1.055 & 1.2965 & 1.032 & Up \\\\\n",
       "\t3 & 2001 & 1.032 & 0.959 & 0.381 & -0.192 & -2.624 & 1.4112 & -0.623 & Down \\\\\n",
       "\t4 & 2001 & -0.623 & 1.032 & 0.959 & 0.381 & -0.192 & 1.276 & 0.614 & Up \\\\\n",
       "\t5 & 2001 & 0.614 & -0.623 & 1.032 & 0.959 & 0.381 & 1.2057 & 0.213 & Up \\\\\n",
       "\t6 & 2001 & 0.213 & 0.614 & -0.623 & 1.032 & 0.959 & 1.3491 & 1.392 & Up \\\\\n",
       "\t7 & 2001 & 1.392 & 0.213 & 0.614 & -0.623 & 1.032 & 1.445 & -0.403 & Down \\\\\n",
       "\t8 & 2001 & -0.403 & 1.392 & 0.213 & 0.614 & -0.623 & 1.4078 & 0.027 & Up \\\\\n",
       "\t9 & 2001 & 0.027 & -0.403 & 1.392 & 0.213 & 0.614 & 1.164 & 1.303 & Up \\\\\n",
       "\t10 & 2001 & 1.303 & 0.027 & -0.403 & 1.392 & 0.213 & 1.2326 & 0.287 & Up \\\\\n",
       "\t11 & 2001 & 0.287 & 1.303 & 0.027 & -0.403 & 1.392 & 1.309 & -0.498 & Down \\\\\n",
       "\t12 & 2001 & -0.498 & 0.287 & 1.303 & 0.027 & -0.403 & 1.258 & -0.189 & Down \\\\\n",
       "\t13 & 2001 & -0.189 & -0.498 & 0.287 & 1.303 & 0.027 & 1.098 & 0.68 & Up \\\\\n",
       "\t14 & 2001 & 0.68 & -0.189 & -0.498 & 0.287 & 1.303 & 1.0531 & 0.701 & Up \\\\\n",
       "\t15 & 2001 & 0.701 & 0.68 & -0.189 & -0.498 & 0.287 & 1.1498 & -0.562 & Down \\\\\n",
       "\t16 & 2001 & -0.562 & 0.701 & 0.68 & -0.189 & -0.498 & 1.2953 & 0.546 & Up \\\\\n",
       "\t17 & 2001 & 0.546 & -0.562 & 0.701 & 0.68 & -0.189 & 1.1188 & -1.747 & Down \\\\\n",
       "\t18 & 2001 & -1.747 & 0.546 & -0.562 & 0.701 & 0.68 & 1.0484 & 0.359 & Up \\\\\n",
       "\t19 & 2001 & 0.359 & -1.747 & 0.546 & -0.562 & 0.701 & 1.013 & -0.151 & Down \\\\\n",
       "\t20 & 2001 & -0.151 & 0.359 & -1.747 & 0.546 & -0.562 & 1.0596 & -0.841 & Down \\\\\n",
       "\t21 & 2001 & -0.841 & -0.151 & 0.359 & -1.747 & 0.546 & 1.1583 & -0.623 & Down \\\\\n",
       "\t22 & 2001 & -0.623 & -0.841 & -0.151 & 0.359 & -1.747 & 1.1072 & -1.334 & Down \\\\\n",
       "\t23 & 2001 & -1.334 & -0.623 & -0.841 & -0.151 & 0.359 & 1.0755 & 1.183 & Up \\\\\n",
       "\t24 & 2001 & 1.183 & -1.334 & -0.623 & -0.841 & -0.151 & 1.0391 & -0.865 & Down \\\\\n",
       "\t25 & 2001 & -0.865 & 1.183 & -1.334 & -0.623 & -0.841 & 1.0752 & -0.218 & Down \\\\\n",
       "\t26 & 2001 & -0.218 & -0.865 & 1.183 & -1.334 & -0.623 & 1.1503 & 0.812 & Up \\\\\n",
       "\t27 & 2001 & 0.812 & -0.218 & -0.865 & 1.183 & -1.334 & 1.1537 & -1.891 & Down \\\\\n",
       "\t28 & 2001 & -1.891 & 0.812 & -0.218 & -0.865 & 1.183 & 1.2572 & -1.736 & Down \\\\\n",
       "\t29 & 2001 & -1.736 & -1.891 & 0.812 & -0.218 & -0.865 & 1.1122 & -1.851 & Down \\\\\n",
       "\t30 & 2001 & -1.851 & -1.736 & -1.891 & 0.812 & -0.218 & 1.2085 & -0.195 & Down \\\\\n",
       "\t$\\dots$ & $\\dots$ & $\\dots$ & $\\dots$ & $\\dots$ & $\\dots$ & $\\dots$ & $\\dots$ & $\\dots$ & $\\dots$ \\\\\n",
       "\\end{tabular}\n"
      ],
      "text/plain": [
       "\u001b[1m1250×9 DataFrame\u001b[0m\n",
       "\u001b[1m  Row \u001b[0m│\u001b[1m Year  \u001b[0m\u001b[1m Lag1    \u001b[0m\u001b[1m Lag2    \u001b[0m\u001b[1m Lag3    \u001b[0m\u001b[1m Lag4    \u001b[0m\u001b[1m Lag5    \u001b[0m\u001b[1m Volume  \u001b[0m\u001b[1m Today   \u001b[0m\u001b[1m \u001b[0m ⋯\n",
       "      │\u001b[90m Int64 \u001b[0m\u001b[90m Float64 \u001b[0m\u001b[90m Float64 \u001b[0m\u001b[90m Float64 \u001b[0m\u001b[90m Float64 \u001b[0m\u001b[90m Float64 \u001b[0m\u001b[90m Float64 \u001b[0m\u001b[90m Float64 \u001b[0m\u001b[90m \u001b[0m ⋯\n",
       "──────┼─────────────────────────────────────────────────────────────────────────\n",
       "    1 │  2001    0.381   -0.192   -2.624   -1.055    5.01   1.1913     0.959   ⋯\n",
       "    2 │  2001    0.959    0.381   -0.192   -2.624   -1.055  1.2965     1.032\n",
       "    3 │  2001    1.032    0.959    0.381   -0.192   -2.624  1.4112    -0.623\n",
       "    4 │  2001   -0.623    1.032    0.959    0.381   -0.192  1.276      0.614\n",
       "    5 │  2001    0.614   -0.623    1.032    0.959    0.381  1.2057     0.213   ⋯\n",
       "    6 │  2001    0.213    0.614   -0.623    1.032    0.959  1.3491     1.392\n",
       "    7 │  2001    1.392    0.213    0.614   -0.623    1.032  1.445     -0.403\n",
       "    8 │  2001   -0.403    1.392    0.213    0.614   -0.623  1.4078     0.027\n",
       "    9 │  2001    0.027   -0.403    1.392    0.213    0.614  1.164      1.303   ⋯\n",
       "   10 │  2001    1.303    0.027   -0.403    1.392    0.213  1.2326     0.287\n",
       "   11 │  2001    0.287    1.303    0.027   -0.403    1.392  1.309     -0.498\n",
       "  ⋮   │   ⋮       ⋮        ⋮        ⋮        ⋮        ⋮        ⋮        ⋮      ⋱\n",
       " 1241 │  2005   -0.141    0.419    0.555    0.084    0.281  2.18059   -0.285\n",
       " 1242 │  2005   -0.285   -0.141    0.419    0.555    0.084  2.58419   -0.584   ⋯\n",
       " 1243 │  2005   -0.584   -0.285   -0.141    0.419    0.555  2.20881   -0.024\n",
       " 1244 │  2005   -0.024   -0.584   -0.285   -0.141    0.419  1.99669    0.252\n",
       " 1245 │  2005    0.252   -0.024   -0.584   -0.285   -0.141  2.06517    0.422\n",
       " 1246 │  2005    0.422    0.252   -0.024   -0.584   -0.285  1.8885     0.043   ⋯\n",
       " 1247 │  2005    0.043    0.422    0.252   -0.024   -0.584  1.28581   -0.955\n",
       " 1248 │  2005   -0.955    0.043    0.422    0.252   -0.024  1.54047    0.13\n",
       " 1249 │  2005    0.13    -0.955    0.043    0.422    0.252  1.42236   -0.298\n",
       " 1250 │  2005   -0.298    0.13    -0.955    0.043    0.422  1.38254   -0.489   ⋯\n",
       "\u001b[36m                                                  1 column and 1229 rows omitted\u001b[0m"
      ]
     },
     "execution_count": 4,
     "metadata": {},
     "output_type": "execute_result"
    }
   ],
   "source": [
    "# Preparar los datos\n",
    "data = CSV.read(\"Smarket.csv\", DataFrame)"
   ]
  },
  {
   "cell_type": "code",
   "execution_count": 23,
   "id": "3dcdf1e7-3b66-4429-b5f2-d559af935bb6",
   "metadata": {},
   "outputs": [
    {
     "data": {
      "text/plain": [
       "1250-element Vector{Int64}:\n",
       " 0\n",
       " 0\n",
       " 0\n",
       " 0\n",
       " 0\n",
       " 0\n",
       " 0\n",
       " 0\n",
       " 0\n",
       " 0\n",
       " 0\n",
       " 0\n",
       " 0\n",
       " ⋮\n",
       " 0\n",
       " 0\n",
       " 0\n",
       " 0\n",
       " 0\n",
       " 0\n",
       " 0\n",
       " 0\n",
       " 0\n",
       " 0\n",
       " 0\n",
       " 0"
      ]
     },
     "execution_count": 23,
     "metadata": {},
     "output_type": "execute_result"
    }
   ],
   "source": [
    "# Convertir 'Direction' a variable binaria (1 = Up, 0 = Down)\n",
    "data.Direction = ifelse.(data.Direction .== \"Up\", 1, 0)"
   ]
  },
  {
   "cell_type": "code",
   "execution_count": 9,
   "id": "3840251a-8d38-46e9-95a1-f8d24750d403",
   "metadata": {},
   "outputs": [
    {
     "data": {
      "text/plain": [
       "1250-element Vector{Int64}:\n",
       " 1\n",
       " 1\n",
       " 0\n",
       " 1\n",
       " 1\n",
       " 1\n",
       " 0\n",
       " 1\n",
       " 1\n",
       " 1\n",
       " 0\n",
       " 0\n",
       " 1\n",
       " ⋮\n",
       " 1\n",
       " 0\n",
       " 0\n",
       " 0\n",
       " 0\n",
       " 1\n",
       " 1\n",
       " 1\n",
       " 0\n",
       " 1\n",
       " 0\n",
       " 0"
      ]
     },
     "execution_count": 9,
     "metadata": {},
     "output_type": "execute_result"
    }
   ],
   "source": [
    "# Seleccionar las características y la variable objetivo\n",
    "X = select(data, Not(:Direction))\n",
    "y = data.Direction"
   ]
  },
  {
   "cell_type": "code",
   "execution_count": 10,
   "id": "824e4dd5-fbb8-442f-bc07-b89ade84e689",
   "metadata": {},
   "outputs": [
    {
     "data": {
      "text/plain": [
       "CategoricalVector{Int64, UInt32, Int64, CategoricalValue{Int64, UInt32}, Union{}}\u001b[90m (alias for \u001b[39m\u001b[90mCategoricalArrays.CategoricalArray{Int64, 1, UInt32, Int64, CategoricalArrays.CategoricalValue{Int64, UInt32}, Union{}}\u001b[39m\u001b[90m)\u001b[39m"
      ]
     },
     "execution_count": 10,
     "metadata": {},
     "output_type": "execute_result"
    }
   ],
   "source": [
    "# Convertir y a un objeto categórico ordenado\n",
    "y = coerce(y, OrderedFactor)\n",
    "\n",
    "typeof(y)"
   ]
  },
  {
   "cell_type": "code",
   "execution_count": 11,
   "id": "cb294374-4509-496e-8b01-28f644dee048",
   "metadata": {},
   "outputs": [
    {
     "data": {
      "text/html": [
       "<div><div style = \"float: left;\"><span>1250×6 DataFrame</span></div><div style = \"float: right;\"><span style = \"font-style: italic;\">1225 rows omitted</span></div><div style = \"clear: both;\"></div></div><div class = \"data-frame\" style = \"overflow-x: scroll;\"><table class = \"data-frame\" style = \"margin-bottom: 6px;\"><thead><tr class = \"header\"><th class = \"rowNumber\" style = \"font-weight: bold; text-align: right;\">Row</th><th style = \"text-align: left;\">Lag1</th><th style = \"text-align: left;\">Lag2</th><th style = \"text-align: left;\">Lag3</th><th style = \"text-align: left;\">Lag4</th><th style = \"text-align: left;\">Lag5</th><th style = \"text-align: left;\">Volume</th></tr><tr class = \"subheader headerLastRow\"><th class = \"rowNumber\" style = \"font-weight: bold; text-align: right;\"></th><th title = \"Float64\" style = \"text-align: left;\">Float64</th><th title = \"Float64\" style = \"text-align: left;\">Float64</th><th title = \"Float64\" style = \"text-align: left;\">Float64</th><th title = \"Float64\" style = \"text-align: left;\">Float64</th><th title = \"Float64\" style = \"text-align: left;\">Float64</th><th title = \"Float64\" style = \"text-align: left;\">Float64</th></tr></thead><tbody><tr><td class = \"rowNumber\" style = \"font-weight: bold; text-align: right;\">1</td><td style = \"text-align: right;\">0.381</td><td style = \"text-align: right;\">-0.192</td><td style = \"text-align: right;\">-2.624</td><td style = \"text-align: right;\">-1.055</td><td style = \"text-align: right;\">5.01</td><td style = \"text-align: right;\">1.1913</td></tr><tr><td class = \"rowNumber\" style = \"font-weight: bold; text-align: right;\">2</td><td style = \"text-align: right;\">0.959</td><td style = \"text-align: right;\">0.381</td><td style = \"text-align: right;\">-0.192</td><td style = \"text-align: right;\">-2.624</td><td style = \"text-align: right;\">-1.055</td><td style = \"text-align: right;\">1.2965</td></tr><tr><td class = \"rowNumber\" style = \"font-weight: bold; text-align: right;\">3</td><td style = \"text-align: right;\">1.032</td><td style = \"text-align: right;\">0.959</td><td style = \"text-align: right;\">0.381</td><td style = \"text-align: right;\">-0.192</td><td style = \"text-align: right;\">-2.624</td><td style = \"text-align: right;\">1.4112</td></tr><tr><td class = \"rowNumber\" style = \"font-weight: bold; text-align: right;\">4</td><td style = \"text-align: right;\">-0.623</td><td style = \"text-align: right;\">1.032</td><td style = \"text-align: right;\">0.959</td><td style = \"text-align: right;\">0.381</td><td style = \"text-align: right;\">-0.192</td><td style = \"text-align: right;\">1.276</td></tr><tr><td class = \"rowNumber\" style = \"font-weight: bold; text-align: right;\">5</td><td style = \"text-align: right;\">0.614</td><td style = \"text-align: right;\">-0.623</td><td style = \"text-align: right;\">1.032</td><td style = \"text-align: right;\">0.959</td><td style = \"text-align: right;\">0.381</td><td style = \"text-align: right;\">1.2057</td></tr><tr><td class = \"rowNumber\" style = \"font-weight: bold; text-align: right;\">6</td><td style = \"text-align: right;\">0.213</td><td style = \"text-align: right;\">0.614</td><td style = \"text-align: right;\">-0.623</td><td style = \"text-align: right;\">1.032</td><td style = \"text-align: right;\">0.959</td><td style = \"text-align: right;\">1.3491</td></tr><tr><td class = \"rowNumber\" style = \"font-weight: bold; text-align: right;\">7</td><td style = \"text-align: right;\">1.392</td><td style = \"text-align: right;\">0.213</td><td style = \"text-align: right;\">0.614</td><td style = \"text-align: right;\">-0.623</td><td style = \"text-align: right;\">1.032</td><td style = \"text-align: right;\">1.445</td></tr><tr><td class = \"rowNumber\" style = \"font-weight: bold; text-align: right;\">8</td><td style = \"text-align: right;\">-0.403</td><td style = \"text-align: right;\">1.392</td><td style = \"text-align: right;\">0.213</td><td style = \"text-align: right;\">0.614</td><td style = \"text-align: right;\">-0.623</td><td style = \"text-align: right;\">1.4078</td></tr><tr><td class = \"rowNumber\" style = \"font-weight: bold; text-align: right;\">9</td><td style = \"text-align: right;\">0.027</td><td style = \"text-align: right;\">-0.403</td><td style = \"text-align: right;\">1.392</td><td style = \"text-align: right;\">0.213</td><td style = \"text-align: right;\">0.614</td><td style = \"text-align: right;\">1.164</td></tr><tr><td class = \"rowNumber\" style = \"font-weight: bold; text-align: right;\">10</td><td style = \"text-align: right;\">1.303</td><td style = \"text-align: right;\">0.027</td><td style = \"text-align: right;\">-0.403</td><td style = \"text-align: right;\">1.392</td><td style = \"text-align: right;\">0.213</td><td style = \"text-align: right;\">1.2326</td></tr><tr><td class = \"rowNumber\" style = \"font-weight: bold; text-align: right;\">11</td><td style = \"text-align: right;\">0.287</td><td style = \"text-align: right;\">1.303</td><td style = \"text-align: right;\">0.027</td><td style = \"text-align: right;\">-0.403</td><td style = \"text-align: right;\">1.392</td><td style = \"text-align: right;\">1.309</td></tr><tr><td class = \"rowNumber\" style = \"font-weight: bold; text-align: right;\">12</td><td style = \"text-align: right;\">-0.498</td><td style = \"text-align: right;\">0.287</td><td style = \"text-align: right;\">1.303</td><td style = \"text-align: right;\">0.027</td><td style = \"text-align: right;\">-0.403</td><td style = \"text-align: right;\">1.258</td></tr><tr><td class = \"rowNumber\" style = \"font-weight: bold; text-align: right;\">13</td><td style = \"text-align: right;\">-0.189</td><td style = \"text-align: right;\">-0.498</td><td style = \"text-align: right;\">0.287</td><td style = \"text-align: right;\">1.303</td><td style = \"text-align: right;\">0.027</td><td style = \"text-align: right;\">1.098</td></tr><tr><td style = \"text-align: right;\">&vellip;</td><td style = \"text-align: right;\">&vellip;</td><td style = \"text-align: right;\">&vellip;</td><td style = \"text-align: right;\">&vellip;</td><td style = \"text-align: right;\">&vellip;</td><td style = \"text-align: right;\">&vellip;</td><td style = \"text-align: right;\">&vellip;</td></tr><tr><td class = \"rowNumber\" style = \"font-weight: bold; text-align: right;\">1239</td><td style = \"text-align: right;\">0.555</td><td style = \"text-align: right;\">0.084</td><td style = \"text-align: right;\">0.281</td><td style = \"text-align: right;\">-0.122</td><td style = \"text-align: right;\">-0.501</td><td style = \"text-align: right;\">2.39002</td></tr><tr><td class = \"rowNumber\" style = \"font-weight: bold; text-align: right;\">1240</td><td style = \"text-align: right;\">0.419</td><td style = \"text-align: right;\">0.555</td><td style = \"text-align: right;\">0.084</td><td style = \"text-align: right;\">0.281</td><td style = \"text-align: right;\">-0.122</td><td style = \"text-align: right;\">2.14552</td></tr><tr><td class = \"rowNumber\" style = \"font-weight: bold; text-align: right;\">1241</td><td style = \"text-align: right;\">-0.141</td><td style = \"text-align: right;\">0.419</td><td style = \"text-align: right;\">0.555</td><td style = \"text-align: right;\">0.084</td><td style = \"text-align: right;\">0.281</td><td style = \"text-align: right;\">2.18059</td></tr><tr><td class = \"rowNumber\" style = \"font-weight: bold; text-align: right;\">1242</td><td style = \"text-align: right;\">-0.285</td><td style = \"text-align: right;\">-0.141</td><td style = \"text-align: right;\">0.419</td><td style = \"text-align: right;\">0.555</td><td style = \"text-align: right;\">0.084</td><td style = \"text-align: right;\">2.58419</td></tr><tr><td class = \"rowNumber\" style = \"font-weight: bold; text-align: right;\">1243</td><td style = \"text-align: right;\">-0.584</td><td style = \"text-align: right;\">-0.285</td><td style = \"text-align: right;\">-0.141</td><td style = \"text-align: right;\">0.419</td><td style = \"text-align: right;\">0.555</td><td style = \"text-align: right;\">2.20881</td></tr><tr><td class = \"rowNumber\" style = \"font-weight: bold; text-align: right;\">1244</td><td style = \"text-align: right;\">-0.024</td><td style = \"text-align: right;\">-0.584</td><td style = \"text-align: right;\">-0.285</td><td style = \"text-align: right;\">-0.141</td><td style = \"text-align: right;\">0.419</td><td style = \"text-align: right;\">1.99669</td></tr><tr><td class = \"rowNumber\" style = \"font-weight: bold; text-align: right;\">1245</td><td style = \"text-align: right;\">0.252</td><td style = \"text-align: right;\">-0.024</td><td style = \"text-align: right;\">-0.584</td><td style = \"text-align: right;\">-0.285</td><td style = \"text-align: right;\">-0.141</td><td style = \"text-align: right;\">2.06517</td></tr><tr><td class = \"rowNumber\" style = \"font-weight: bold; text-align: right;\">1246</td><td style = \"text-align: right;\">0.422</td><td style = \"text-align: right;\">0.252</td><td style = \"text-align: right;\">-0.024</td><td style = \"text-align: right;\">-0.584</td><td style = \"text-align: right;\">-0.285</td><td style = \"text-align: right;\">1.8885</td></tr><tr><td class = \"rowNumber\" style = \"font-weight: bold; text-align: right;\">1247</td><td style = \"text-align: right;\">0.043</td><td style = \"text-align: right;\">0.422</td><td style = \"text-align: right;\">0.252</td><td style = \"text-align: right;\">-0.024</td><td style = \"text-align: right;\">-0.584</td><td style = \"text-align: right;\">1.28581</td></tr><tr><td class = \"rowNumber\" style = \"font-weight: bold; text-align: right;\">1248</td><td style = \"text-align: right;\">-0.955</td><td style = \"text-align: right;\">0.043</td><td style = \"text-align: right;\">0.422</td><td style = \"text-align: right;\">0.252</td><td style = \"text-align: right;\">-0.024</td><td style = \"text-align: right;\">1.54047</td></tr><tr><td class = \"rowNumber\" style = \"font-weight: bold; text-align: right;\">1249</td><td style = \"text-align: right;\">0.13</td><td style = \"text-align: right;\">-0.955</td><td style = \"text-align: right;\">0.043</td><td style = \"text-align: right;\">0.422</td><td style = \"text-align: right;\">0.252</td><td style = \"text-align: right;\">1.42236</td></tr><tr><td class = \"rowNumber\" style = \"font-weight: bold; text-align: right;\">1250</td><td style = \"text-align: right;\">-0.298</td><td style = \"text-align: right;\">0.13</td><td style = \"text-align: right;\">-0.955</td><td style = \"text-align: right;\">0.043</td><td style = \"text-align: right;\">0.422</td><td style = \"text-align: right;\">1.38254</td></tr></tbody></table></div>"
      ],
      "text/latex": [
       "\\begin{tabular}{r|cccccc}\n",
       "\t& Lag1 & Lag2 & Lag3 & Lag4 & Lag5 & Volume\\\\\n",
       "\t\\hline\n",
       "\t& Float64 & Float64 & Float64 & Float64 & Float64 & Float64\\\\\n",
       "\t\\hline\n",
       "\t1 & 0.381 & -0.192 & -2.624 & -1.055 & 5.01 & 1.1913 \\\\\n",
       "\t2 & 0.959 & 0.381 & -0.192 & -2.624 & -1.055 & 1.2965 \\\\\n",
       "\t3 & 1.032 & 0.959 & 0.381 & -0.192 & -2.624 & 1.4112 \\\\\n",
       "\t4 & -0.623 & 1.032 & 0.959 & 0.381 & -0.192 & 1.276 \\\\\n",
       "\t5 & 0.614 & -0.623 & 1.032 & 0.959 & 0.381 & 1.2057 \\\\\n",
       "\t6 & 0.213 & 0.614 & -0.623 & 1.032 & 0.959 & 1.3491 \\\\\n",
       "\t7 & 1.392 & 0.213 & 0.614 & -0.623 & 1.032 & 1.445 \\\\\n",
       "\t8 & -0.403 & 1.392 & 0.213 & 0.614 & -0.623 & 1.4078 \\\\\n",
       "\t9 & 0.027 & -0.403 & 1.392 & 0.213 & 0.614 & 1.164 \\\\\n",
       "\t10 & 1.303 & 0.027 & -0.403 & 1.392 & 0.213 & 1.2326 \\\\\n",
       "\t11 & 0.287 & 1.303 & 0.027 & -0.403 & 1.392 & 1.309 \\\\\n",
       "\t12 & -0.498 & 0.287 & 1.303 & 0.027 & -0.403 & 1.258 \\\\\n",
       "\t13 & -0.189 & -0.498 & 0.287 & 1.303 & 0.027 & 1.098 \\\\\n",
       "\t14 & 0.68 & -0.189 & -0.498 & 0.287 & 1.303 & 1.0531 \\\\\n",
       "\t15 & 0.701 & 0.68 & -0.189 & -0.498 & 0.287 & 1.1498 \\\\\n",
       "\t16 & -0.562 & 0.701 & 0.68 & -0.189 & -0.498 & 1.2953 \\\\\n",
       "\t17 & 0.546 & -0.562 & 0.701 & 0.68 & -0.189 & 1.1188 \\\\\n",
       "\t18 & -1.747 & 0.546 & -0.562 & 0.701 & 0.68 & 1.0484 \\\\\n",
       "\t19 & 0.359 & -1.747 & 0.546 & -0.562 & 0.701 & 1.013 \\\\\n",
       "\t20 & -0.151 & 0.359 & -1.747 & 0.546 & -0.562 & 1.0596 \\\\\n",
       "\t21 & -0.841 & -0.151 & 0.359 & -1.747 & 0.546 & 1.1583 \\\\\n",
       "\t22 & -0.623 & -0.841 & -0.151 & 0.359 & -1.747 & 1.1072 \\\\\n",
       "\t23 & -1.334 & -0.623 & -0.841 & -0.151 & 0.359 & 1.0755 \\\\\n",
       "\t24 & 1.183 & -1.334 & -0.623 & -0.841 & -0.151 & 1.0391 \\\\\n",
       "\t25 & -0.865 & 1.183 & -1.334 & -0.623 & -0.841 & 1.0752 \\\\\n",
       "\t26 & -0.218 & -0.865 & 1.183 & -1.334 & -0.623 & 1.1503 \\\\\n",
       "\t27 & 0.812 & -0.218 & -0.865 & 1.183 & -1.334 & 1.1537 \\\\\n",
       "\t28 & -1.891 & 0.812 & -0.218 & -0.865 & 1.183 & 1.2572 \\\\\n",
       "\t29 & -1.736 & -1.891 & 0.812 & -0.218 & -0.865 & 1.1122 \\\\\n",
       "\t30 & -1.851 & -1.736 & -1.891 & 0.812 & -0.218 & 1.2085 \\\\\n",
       "\t$\\dots$ & $\\dots$ & $\\dots$ & $\\dots$ & $\\dots$ & $\\dots$ & $\\dots$ \\\\\n",
       "\\end{tabular}\n"
      ],
      "text/plain": [
       "\u001b[1m1250×6 DataFrame\u001b[0m\n",
       "\u001b[1m  Row \u001b[0m│\u001b[1m Lag1    \u001b[0m\u001b[1m Lag2    \u001b[0m\u001b[1m Lag3    \u001b[0m\u001b[1m Lag4    \u001b[0m\u001b[1m Lag5    \u001b[0m\u001b[1m Volume  \u001b[0m\n",
       "      │\u001b[90m Float64 \u001b[0m\u001b[90m Float64 \u001b[0m\u001b[90m Float64 \u001b[0m\u001b[90m Float64 \u001b[0m\u001b[90m Float64 \u001b[0m\u001b[90m Float64 \u001b[0m\n",
       "──────┼──────────────────────────────────────────────────────\n",
       "    1 │   0.381   -0.192   -2.624   -1.055    5.01   1.1913\n",
       "    2 │   0.959    0.381   -0.192   -2.624   -1.055  1.2965\n",
       "    3 │   1.032    0.959    0.381   -0.192   -2.624  1.4112\n",
       "    4 │  -0.623    1.032    0.959    0.381   -0.192  1.276\n",
       "    5 │   0.614   -0.623    1.032    0.959    0.381  1.2057\n",
       "    6 │   0.213    0.614   -0.623    1.032    0.959  1.3491\n",
       "    7 │   1.392    0.213    0.614   -0.623    1.032  1.445\n",
       "    8 │  -0.403    1.392    0.213    0.614   -0.623  1.4078\n",
       "    9 │   0.027   -0.403    1.392    0.213    0.614  1.164\n",
       "   10 │   1.303    0.027   -0.403    1.392    0.213  1.2326\n",
       "   11 │   0.287    1.303    0.027   -0.403    1.392  1.309\n",
       "  ⋮   │    ⋮        ⋮        ⋮        ⋮        ⋮        ⋮\n",
       " 1241 │  -0.141    0.419    0.555    0.084    0.281  2.18059\n",
       " 1242 │  -0.285   -0.141    0.419    0.555    0.084  2.58419\n",
       " 1243 │  -0.584   -0.285   -0.141    0.419    0.555  2.20881\n",
       " 1244 │  -0.024   -0.584   -0.285   -0.141    0.419  1.99669\n",
       " 1245 │   0.252   -0.024   -0.584   -0.285   -0.141  2.06517\n",
       " 1246 │   0.422    0.252   -0.024   -0.584   -0.285  1.8885\n",
       " 1247 │   0.043    0.422    0.252   -0.024   -0.584  1.28581\n",
       " 1248 │  -0.955    0.043    0.422    0.252   -0.024  1.54047\n",
       " 1249 │   0.13    -0.955    0.043    0.422    0.252  1.42236\n",
       " 1250 │  -0.298    0.13    -0.955    0.043    0.422  1.38254\n",
       "\u001b[36m                                            1229 rows omitted\u001b[0m"
      ]
     },
     "execution_count": 11,
     "metadata": {},
     "output_type": "execute_result"
    }
   ],
   "source": [
    "# Eliminamos las columnas 'Year' y 'Today'\n",
    "X2 = select(X, Not([:Year, :Today]))"
   ]
  },
  {
   "cell_type": "code",
   "execution_count": 12,
   "id": "7e6dac9d-b598-418d-a2d0-4e685924273b",
   "metadata": {},
   "outputs": [
    {
     "name": "stderr",
     "output_type": "stream",
     "text": [
      "\u001b[36m\u001b[1m[ \u001b[22m\u001b[39m\u001b[36m\u001b[1mInfo: \u001b[22m\u001b[39mFor silent loading, specify `verbosity=0`. \n"
     ]
    },
    {
     "name": "stdout",
     "output_type": "stream",
     "text": [
      "import MLJLinearModels ✔\n"
     ]
    },
    {
     "name": "stderr",
     "output_type": "stream",
     "text": [
      "\u001b[36m\u001b[1m[ \u001b[22m\u001b[39m\u001b[36m\u001b[1mInfo: \u001b[22m\u001b[39mTraining machine(LogisticClassifier(lambda = 2.220446049250313e-16, …), …).\n",
      "\u001b[36m\u001b[1m┌ \u001b[22m\u001b[39m\u001b[36m\u001b[1mInfo: \u001b[22m\u001b[39mSolver: LBFGS{Optim.Options{Float64, Nothing}, NamedTuple{(), Tuple{}}}\n",
      "\u001b[36m\u001b[1m│ \u001b[22m\u001b[39m  optim_options: Optim.Options{Float64, Nothing}\n",
      "\u001b[36m\u001b[1m└ \u001b[22m\u001b[39m  lbfgs_options: NamedTuple{(), Tuple{}} NamedTuple()\n"
     ]
    },
    {
     "data": {
      "text/plain": [
       "trained Machine; caches model-specific representations of data\n",
       "  model: LogisticClassifier(lambda = 2.220446049250313e-16, …)\n",
       "  args: \n",
       "    1:\tSource @907 ⏎ Table{AbstractVector{Continuous}}\n",
       "    2:\tSource @820 ⏎ AbstractVector{OrderedFactor{2}}\n"
      ]
     },
     "execution_count": 12,
     "metadata": {},
     "output_type": "execute_result"
    }
   ],
   "source": [
    "# Definir y entrenar el modelo LogisticClassifier\n",
    "logistic_model = @load LogisticClassifier pkg=MLJLinearModels\n",
    "\n",
    "# Crear una máquina con los datos completos (X2 y y)\n",
    "logistic_machine = machine(logistic_model(), X2, y)\n",
    "\n",
    "# Entrenar el modelo\n",
    "fit!(logistic_machine)"
   ]
  },
  {
   "cell_type": "code",
   "execution_count": 14,
   "id": "451cce18-95da-4a92-9bd2-88164a01ac52",
   "metadata": {},
   "outputs": [
    {
     "data": {
      "text/plain": [
       "3-element CategoricalDistributions.UnivariateFiniteVector{OrderedFactor{2}, Int64, UInt32, Float64}:\n",
       " UnivariateFinite{OrderedFactor{2}}(0=>0.493, 1=>0.507)\n",
       " UnivariateFinite{OrderedFactor{2}}(0=>0.519, 1=>0.481)\n",
       " UnivariateFinite{OrderedFactor{2}}(0=>0.519, 1=>0.481)"
      ]
     },
     "execution_count": 14,
     "metadata": {},
     "output_type": "execute_result"
    }
   ],
   "source": [
    "# Hacer predicciones en el conjunto completo\n",
    "y_pred = MLJ.predict(logistic_machine, X2)\n",
    "y_pred[1:3]  # Mostrar las primeras 3 predicciones"
   ]
  },
  {
   "cell_type": "code",
   "execution_count": 16,
   "id": "c497a84f-8be8-4f65-816f-8aa5c8ac7638",
   "metadata": {},
   "outputs": [
    {
     "data": {
      "text/plain": [
       "0.691"
      ]
     },
     "execution_count": 16,
     "metadata": {},
     "output_type": "execute_result"
    }
   ],
   "source": [
    "# Calcular la entropía cruzada\n",
    "cross_entropy_value = cross_entropy(y_pred, y) |> mean\n",
    "cross_entropy_rounded = round(cross_entropy_value, digits = 3)"
   ]
  },
  {
   "cell_type": "code",
   "execution_count": 19,
   "id": "58092340-2b58-4821-bfe4-21f0c6e69a69",
   "metadata": {},
   "outputs": [
    {
     "data": {
      "text/plain": [
       "          ┌─────────────┐\n",
       "          │Ground Truth │\n",
       "┌─────────┼──────┬──────┤\n",
       "│Predicted│  0   │  1   │\n",
       "├─────────┼──────┼──────┤\n",
       "│    0    │ 145  │ 141  │\n",
       "├─────────┼──────┼──────┤\n",
       "│    1    │ 457  │ 507  │\n",
       "└─────────┴──────┴──────┘\n"
      ]
     },
     "execution_count": 19,
     "metadata": {},
     "output_type": "execute_result"
    }
   ],
   "source": [
    "# Obtener las predicciones en modo clase\n",
    "y_pred_mode = predict_mode(logistic_machine, X2)\n",
    "\n",
    "# Calcular la matriz de confusión\n",
    "cm = confusion_matrix(y_pred_mode, y)"
   ]
  },
  {
   "cell_type": "code",
   "execution_count": 20,
   "id": "7fa744cc-7448-4228-b64e-9da8dab09226",
   "metadata": {},
   "outputs": [
    {
     "data": {
      "text/plain": [
       "0.5387391821500349"
      ]
     },
     "execution_count": 20,
     "metadata": {},
     "output_type": "execute_result"
    }
   ],
   "source": [
    "MLJ.auc(y_pred, y)"
   ]
  },
  {
   "cell_type": "code",
   "execution_count": 22,
   "id": "52de1088-3f8d-421c-ac10-04918190eb04",
   "metadata": {},
   "outputs": [
    {
     "data": {
      "image/svg+xml": [
       "<?xml version=\"1.0\" encoding=\"utf-8\"?>\n",
       "<svg xmlns=\"http://www.w3.org/2000/svg\" xmlns:xlink=\"http://www.w3.org/1999/xlink\" width=\"600\" height=\"400\" viewBox=\"0 0 2400 1600\">\n",
       "<defs>\n",
       "  <clipPath id=\"clip160\">\n",
       "    <rect x=\"0\" y=\"0\" width=\"2400\" height=\"1600\"/>\n",
       "  </clipPath>\n",
       "</defs>\n",
       "<path clip-path=\"url(#clip160)\" d=\"M0 1600 L2400 1600 L2400 0 L0 0  Z\" fill=\"#ffffff\" fill-rule=\"evenodd\" fill-opacity=\"1\"/>\n",
       "<defs>\n",
       "  <clipPath id=\"clip161\">\n",
       "    <rect x=\"480\" y=\"0\" width=\"1681\" height=\"1600\"/>\n",
       "  </clipPath>\n",
       "</defs>\n",
       "<path clip-path=\"url(#clip160)\" d=\"M186.274 1486.45 L2352.76 1486.45 L2352.76 47.2441 L186.274 47.2441  Z\" fill=\"#ffffff\" fill-rule=\"evenodd\" fill-opacity=\"1\"/>\n",
       "<defs>\n",
       "  <clipPath id=\"clip162\">\n",
       "    <rect x=\"186\" y=\"47\" width=\"2167\" height=\"1440\"/>\n",
       "  </clipPath>\n",
       "</defs>\n",
       "<polyline clip-path=\"url(#clip162)\" style=\"stroke:#000000; stroke-linecap:round; stroke-linejoin:round; stroke-width:2; stroke-opacity:0.1; fill:none\" points=\"247.59,1486.45 247.59,47.2441 \"/>\n",
       "<polyline clip-path=\"url(#clip162)\" style=\"stroke:#000000; stroke-linecap:round; stroke-linejoin:round; stroke-width:2; stroke-opacity:0.1; fill:none\" points=\"758.552,1486.45 758.552,47.2441 \"/>\n",
       "<polyline clip-path=\"url(#clip162)\" style=\"stroke:#000000; stroke-linecap:round; stroke-linejoin:round; stroke-width:2; stroke-opacity:0.1; fill:none\" points=\"1269.51,1486.45 1269.51,47.2441 \"/>\n",
       "<polyline clip-path=\"url(#clip162)\" style=\"stroke:#000000; stroke-linecap:round; stroke-linejoin:round; stroke-width:2; stroke-opacity:0.1; fill:none\" points=\"1780.48,1486.45 1780.48,47.2441 \"/>\n",
       "<polyline clip-path=\"url(#clip162)\" style=\"stroke:#000000; stroke-linecap:round; stroke-linejoin:round; stroke-width:2; stroke-opacity:0.1; fill:none\" points=\"2291.44,1486.45 2291.44,47.2441 \"/>\n",
       "<polyline clip-path=\"url(#clip162)\" style=\"stroke:#000000; stroke-linecap:round; stroke-linejoin:round; stroke-width:2; stroke-opacity:0.1; fill:none\" points=\"186.274,1445.72 2352.76,1445.72 \"/>\n",
       "<polyline clip-path=\"url(#clip162)\" style=\"stroke:#000000; stroke-linecap:round; stroke-linejoin:round; stroke-width:2; stroke-opacity:0.1; fill:none\" points=\"186.274,1106.28 2352.76,1106.28 \"/>\n",
       "<polyline clip-path=\"url(#clip162)\" style=\"stroke:#000000; stroke-linecap:round; stroke-linejoin:round; stroke-width:2; stroke-opacity:0.1; fill:none\" points=\"186.274,766.846 2352.76,766.846 \"/>\n",
       "<polyline clip-path=\"url(#clip162)\" style=\"stroke:#000000; stroke-linecap:round; stroke-linejoin:round; stroke-width:2; stroke-opacity:0.1; fill:none\" points=\"186.274,427.411 2352.76,427.411 \"/>\n",
       "<polyline clip-path=\"url(#clip162)\" style=\"stroke:#000000; stroke-linecap:round; stroke-linejoin:round; stroke-width:2; stroke-opacity:0.1; fill:none\" points=\"186.274,87.9763 2352.76,87.9763 \"/>\n",
       "<polyline clip-path=\"url(#clip160)\" style=\"stroke:#000000; stroke-linecap:round; stroke-linejoin:round; stroke-width:4; stroke-opacity:1; fill:none\" points=\"186.274,1486.45 2352.76,1486.45 \"/>\n",
       "<polyline clip-path=\"url(#clip160)\" style=\"stroke:#000000; stroke-linecap:round; stroke-linejoin:round; stroke-width:4; stroke-opacity:1; fill:none\" points=\"247.59,1486.45 247.59,1467.55 \"/>\n",
       "<polyline clip-path=\"url(#clip160)\" style=\"stroke:#000000; stroke-linecap:round; stroke-linejoin:round; stroke-width:4; stroke-opacity:1; fill:none\" points=\"758.552,1486.45 758.552,1467.55 \"/>\n",
       "<polyline clip-path=\"url(#clip160)\" style=\"stroke:#000000; stroke-linecap:round; stroke-linejoin:round; stroke-width:4; stroke-opacity:1; fill:none\" points=\"1269.51,1486.45 1269.51,1467.55 \"/>\n",
       "<polyline clip-path=\"url(#clip160)\" style=\"stroke:#000000; stroke-linecap:round; stroke-linejoin:round; stroke-width:4; stroke-opacity:1; fill:none\" points=\"1780.48,1486.45 1780.48,1467.55 \"/>\n",
       "<polyline clip-path=\"url(#clip160)\" style=\"stroke:#000000; stroke-linecap:round; stroke-linejoin:round; stroke-width:4; stroke-opacity:1; fill:none\" points=\"2291.44,1486.45 2291.44,1467.55 \"/>\n",
       "<path clip-path=\"url(#clip160)\" d=\"M209.893 1517.37 Q206.282 1517.37 204.453 1520.93 Q202.648 1524.47 202.648 1531.6 Q202.648 1538.71 204.453 1542.27 Q206.282 1545.82 209.893 1545.82 Q213.527 1545.82 215.333 1542.27 Q217.161 1538.71 217.161 1531.6 Q217.161 1524.47 215.333 1520.93 Q213.527 1517.37 209.893 1517.37 M209.893 1513.66 Q215.703 1513.66 218.759 1518.27 Q221.837 1522.85 221.837 1531.6 Q221.837 1540.33 218.759 1544.94 Q215.703 1549.52 209.893 1549.52 Q204.083 1549.52 201.004 1544.94 Q197.949 1540.33 197.949 1531.6 Q197.949 1522.85 201.004 1518.27 Q204.083 1513.66 209.893 1513.66 Z\" fill=\"#000000\" fill-rule=\"nonzero\" fill-opacity=\"1\" /><path clip-path=\"url(#clip160)\" d=\"M230.055 1542.97 L234.939 1542.97 L234.939 1548.85 L230.055 1548.85 L230.055 1542.97 Z\" fill=\"#000000\" fill-rule=\"nonzero\" fill-opacity=\"1\" /><path clip-path=\"url(#clip160)\" d=\"M255.124 1517.37 Q251.513 1517.37 249.684 1520.93 Q247.879 1524.47 247.879 1531.6 Q247.879 1538.71 249.684 1542.27 Q251.513 1545.82 255.124 1545.82 Q258.758 1545.82 260.564 1542.27 Q262.393 1538.71 262.393 1531.6 Q262.393 1524.47 260.564 1520.93 Q258.758 1517.37 255.124 1517.37 M255.124 1513.66 Q260.934 1513.66 263.99 1518.27 Q267.069 1522.85 267.069 1531.6 Q267.069 1540.33 263.99 1544.94 Q260.934 1549.52 255.124 1549.52 Q249.314 1549.52 246.235 1544.94 Q243.18 1540.33 243.18 1531.6 Q243.18 1522.85 246.235 1518.27 Q249.314 1513.66 255.124 1513.66 Z\" fill=\"#000000\" fill-rule=\"nonzero\" fill-opacity=\"1\" /><path clip-path=\"url(#clip160)\" d=\"M285.286 1517.37 Q281.675 1517.37 279.846 1520.93 Q278.041 1524.47 278.041 1531.6 Q278.041 1538.71 279.846 1542.27 Q281.675 1545.82 285.286 1545.82 Q288.92 1545.82 290.726 1542.27 Q292.555 1538.71 292.555 1531.6 Q292.555 1524.47 290.726 1520.93 Q288.92 1517.37 285.286 1517.37 M285.286 1513.66 Q291.096 1513.66 294.152 1518.27 Q297.23 1522.85 297.23 1531.6 Q297.23 1540.33 294.152 1544.94 Q291.096 1549.52 285.286 1549.52 Q279.476 1549.52 276.397 1544.94 Q273.342 1540.33 273.342 1531.6 Q273.342 1522.85 276.397 1518.27 Q279.476 1513.66 285.286 1513.66 Z\" fill=\"#000000\" fill-rule=\"nonzero\" fill-opacity=\"1\" /><path clip-path=\"url(#clip160)\" d=\"M721.353 1517.37 Q717.742 1517.37 715.914 1520.93 Q714.108 1524.47 714.108 1531.6 Q714.108 1538.71 715.914 1542.27 Q717.742 1545.82 721.353 1545.82 Q724.988 1545.82 726.793 1542.27 Q728.622 1538.71 728.622 1531.6 Q728.622 1524.47 726.793 1520.93 Q724.988 1517.37 721.353 1517.37 M721.353 1513.66 Q727.164 1513.66 730.219 1518.27 Q733.298 1522.85 733.298 1531.6 Q733.298 1540.33 730.219 1544.94 Q727.164 1549.52 721.353 1549.52 Q715.543 1549.52 712.465 1544.94 Q709.409 1540.33 709.409 1531.6 Q709.409 1522.85 712.465 1518.27 Q715.543 1513.66 721.353 1513.66 Z\" fill=\"#000000\" fill-rule=\"nonzero\" fill-opacity=\"1\" /><path clip-path=\"url(#clip160)\" d=\"M741.515 1542.97 L746.4 1542.97 L746.4 1548.85 L741.515 1548.85 L741.515 1542.97 Z\" fill=\"#000000\" fill-rule=\"nonzero\" fill-opacity=\"1\" /><path clip-path=\"url(#clip160)\" d=\"M760.612 1544.91 L776.932 1544.91 L776.932 1548.85 L754.987 1548.85 L754.987 1544.91 Q757.649 1542.16 762.233 1537.53 Q766.839 1532.88 768.02 1531.53 Q770.265 1529.01 771.145 1527.27 Q772.048 1525.51 772.048 1523.82 Q772.048 1521.07 770.103 1519.33 Q768.182 1517.6 765.08 1517.6 Q762.881 1517.6 760.427 1518.36 Q757.997 1519.13 755.219 1520.68 L755.219 1515.95 Q758.043 1514.82 760.497 1514.24 Q762.95 1513.66 764.987 1513.66 Q770.358 1513.66 773.552 1516.35 Q776.747 1519.03 776.747 1523.52 Q776.747 1525.65 775.936 1527.57 Q775.149 1529.47 773.043 1532.07 Q772.464 1532.74 769.362 1535.95 Q766.261 1539.15 760.612 1544.91 Z\" fill=\"#000000\" fill-rule=\"nonzero\" fill-opacity=\"1\" /><path clip-path=\"url(#clip160)\" d=\"M786.793 1514.29 L805.149 1514.29 L805.149 1518.22 L791.075 1518.22 L791.075 1526.7 Q792.094 1526.35 793.112 1526.19 Q794.131 1526 795.149 1526 Q800.936 1526 804.316 1529.17 Q807.695 1532.34 807.695 1537.76 Q807.695 1543.34 804.223 1546.44 Q800.751 1549.52 794.432 1549.52 Q792.256 1549.52 789.987 1549.15 Q787.742 1548.78 785.335 1548.04 L785.335 1543.34 Q787.418 1544.47 789.64 1545.03 Q791.862 1545.58 794.339 1545.58 Q798.344 1545.58 800.682 1543.48 Q803.02 1541.37 803.02 1537.76 Q803.02 1534.15 800.682 1532.04 Q798.344 1529.94 794.339 1529.94 Q792.464 1529.94 790.589 1530.35 Q788.737 1530.77 786.793 1531.65 L786.793 1514.29 Z\" fill=\"#000000\" fill-rule=\"nonzero\" fill-opacity=\"1\" /><path clip-path=\"url(#clip160)\" d=\"M1231.82 1517.37 Q1228.21 1517.37 1226.38 1520.93 Q1224.57 1524.47 1224.57 1531.6 Q1224.57 1538.71 1226.38 1542.27 Q1228.21 1545.82 1231.82 1545.82 Q1235.45 1545.82 1237.26 1542.27 Q1239.09 1538.71 1239.09 1531.6 Q1239.09 1524.47 1237.26 1520.93 Q1235.45 1517.37 1231.82 1517.37 M1231.82 1513.66 Q1237.63 1513.66 1240.68 1518.27 Q1243.76 1522.85 1243.76 1531.6 Q1243.76 1540.33 1240.68 1544.94 Q1237.63 1549.52 1231.82 1549.52 Q1226.01 1549.52 1222.93 1544.94 Q1219.87 1540.33 1219.87 1531.6 Q1219.87 1522.85 1222.93 1518.27 Q1226.01 1513.66 1231.82 1513.66 Z\" fill=\"#000000\" fill-rule=\"nonzero\" fill-opacity=\"1\" /><path clip-path=\"url(#clip160)\" d=\"M1251.98 1542.97 L1256.86 1542.97 L1256.86 1548.85 L1251.98 1548.85 L1251.98 1542.97 Z\" fill=\"#000000\" fill-rule=\"nonzero\" fill-opacity=\"1\" /><path clip-path=\"url(#clip160)\" d=\"M1267.1 1514.29 L1285.45 1514.29 L1285.45 1518.22 L1271.38 1518.22 L1271.38 1526.7 Q1272.4 1526.35 1273.42 1526.19 Q1274.43 1526 1275.45 1526 Q1281.24 1526 1284.62 1529.17 Q1288 1532.34 1288 1537.76 Q1288 1543.34 1284.53 1546.44 Q1281.05 1549.52 1274.73 1549.52 Q1272.56 1549.52 1270.29 1549.15 Q1268.05 1548.78 1265.64 1548.04 L1265.64 1543.34 Q1267.72 1544.47 1269.94 1545.03 Q1272.17 1545.58 1274.64 1545.58 Q1278.65 1545.58 1280.98 1543.48 Q1283.32 1541.37 1283.32 1537.76 Q1283.32 1534.15 1280.98 1532.04 Q1278.65 1529.94 1274.64 1529.94 Q1272.77 1529.94 1270.89 1530.35 Q1269.04 1530.77 1267.1 1531.65 L1267.1 1514.29 Z\" fill=\"#000000\" fill-rule=\"nonzero\" fill-opacity=\"1\" /><path clip-path=\"url(#clip160)\" d=\"M1307.21 1517.37 Q1303.6 1517.37 1301.77 1520.93 Q1299.97 1524.47 1299.97 1531.6 Q1299.97 1538.71 1301.77 1542.27 Q1303.6 1545.82 1307.21 1545.82 Q1310.85 1545.82 1312.65 1542.27 Q1314.48 1538.71 1314.48 1531.6 Q1314.48 1524.47 1312.65 1520.93 Q1310.85 1517.37 1307.21 1517.37 M1307.21 1513.66 Q1313.02 1513.66 1316.08 1518.27 Q1319.16 1522.85 1319.16 1531.6 Q1319.16 1540.33 1316.08 1544.94 Q1313.02 1549.52 1307.21 1549.52 Q1301.4 1549.52 1298.32 1544.94 Q1295.27 1540.33 1295.27 1531.6 Q1295.27 1522.85 1298.32 1518.27 Q1301.4 1513.66 1307.21 1513.66 Z\" fill=\"#000000\" fill-rule=\"nonzero\" fill-opacity=\"1\" /><path clip-path=\"url(#clip160)\" d=\"M1743.28 1517.37 Q1739.67 1517.37 1737.84 1520.93 Q1736.03 1524.47 1736.03 1531.6 Q1736.03 1538.71 1737.84 1542.27 Q1739.67 1545.82 1743.28 1545.82 Q1746.91 1545.82 1748.72 1542.27 Q1750.55 1538.71 1750.55 1531.6 Q1750.55 1524.47 1748.72 1520.93 Q1746.91 1517.37 1743.28 1517.37 M1743.28 1513.66 Q1749.09 1513.66 1752.14 1518.27 Q1755.22 1522.85 1755.22 1531.6 Q1755.22 1540.33 1752.14 1544.94 Q1749.09 1549.52 1743.28 1549.52 Q1737.47 1549.52 1734.39 1544.94 Q1731.33 1540.33 1731.33 1531.6 Q1731.33 1522.85 1734.39 1518.27 Q1737.47 1513.66 1743.28 1513.66 Z\" fill=\"#000000\" fill-rule=\"nonzero\" fill-opacity=\"1\" /><path clip-path=\"url(#clip160)\" d=\"M1763.44 1542.97 L1768.32 1542.97 L1768.32 1548.85 L1763.44 1548.85 L1763.44 1542.97 Z\" fill=\"#000000\" fill-rule=\"nonzero\" fill-opacity=\"1\" /><path clip-path=\"url(#clip160)\" d=\"M1777.33 1514.29 L1799.55 1514.29 L1799.55 1516.28 L1787.01 1548.85 L1782.12 1548.85 L1793.93 1518.22 L1777.33 1518.22 L1777.33 1514.29 Z\" fill=\"#000000\" fill-rule=\"nonzero\" fill-opacity=\"1\" /><path clip-path=\"url(#clip160)\" d=\"M1808.72 1514.29 L1827.07 1514.29 L1827.07 1518.22 L1813 1518.22 L1813 1526.7 Q1814.02 1526.35 1815.04 1526.19 Q1816.06 1526 1817.07 1526 Q1822.86 1526 1826.24 1529.17 Q1829.62 1532.34 1829.62 1537.76 Q1829.62 1543.34 1826.15 1546.44 Q1822.68 1549.52 1816.36 1549.52 Q1814.18 1549.52 1811.91 1549.15 Q1809.67 1548.78 1807.26 1548.04 L1807.26 1543.34 Q1809.34 1544.47 1811.57 1545.03 Q1813.79 1545.58 1816.26 1545.58 Q1820.27 1545.58 1822.61 1543.48 Q1824.95 1541.37 1824.95 1537.76 Q1824.95 1534.15 1822.61 1532.04 Q1820.27 1529.94 1816.26 1529.94 Q1814.39 1529.94 1812.51 1530.35 Q1810.66 1530.77 1808.72 1531.65 L1808.72 1514.29 Z\" fill=\"#000000\" fill-rule=\"nonzero\" fill-opacity=\"1\" /><path clip-path=\"url(#clip160)\" d=\"M2243.51 1544.91 L2251.15 1544.91 L2251.15 1518.55 L2242.84 1520.21 L2242.84 1515.95 L2251.1 1514.29 L2255.78 1514.29 L2255.78 1544.91 L2263.42 1544.91 L2263.42 1548.85 L2243.51 1548.85 L2243.51 1544.91 Z\" fill=\"#000000\" fill-rule=\"nonzero\" fill-opacity=\"1\" /><path clip-path=\"url(#clip160)\" d=\"M2272.86 1542.97 L2277.75 1542.97 L2277.75 1548.85 L2272.86 1548.85 L2272.86 1542.97 Z\" fill=\"#000000\" fill-rule=\"nonzero\" fill-opacity=\"1\" /><path clip-path=\"url(#clip160)\" d=\"M2297.93 1517.37 Q2294.32 1517.37 2292.49 1520.93 Q2290.69 1524.47 2290.69 1531.6 Q2290.69 1538.71 2292.49 1542.27 Q2294.32 1545.82 2297.93 1545.82 Q2301.57 1545.82 2303.37 1542.27 Q2305.2 1538.71 2305.2 1531.6 Q2305.2 1524.47 2303.37 1520.93 Q2301.57 1517.37 2297.93 1517.37 M2297.93 1513.66 Q2303.74 1513.66 2306.8 1518.27 Q2309.88 1522.85 2309.88 1531.6 Q2309.88 1540.33 2306.8 1544.94 Q2303.74 1549.52 2297.93 1549.52 Q2292.12 1549.52 2289.04 1544.94 Q2285.99 1540.33 2285.99 1531.6 Q2285.99 1522.85 2289.04 1518.27 Q2292.12 1513.66 2297.93 1513.66 Z\" fill=\"#000000\" fill-rule=\"nonzero\" fill-opacity=\"1\" /><path clip-path=\"url(#clip160)\" d=\"M2328.1 1517.37 Q2324.48 1517.37 2322.66 1520.93 Q2320.85 1524.47 2320.85 1531.6 Q2320.85 1538.71 2322.66 1542.27 Q2324.48 1545.82 2328.1 1545.82 Q2331.73 1545.82 2333.54 1542.27 Q2335.36 1538.71 2335.36 1531.6 Q2335.36 1524.47 2333.54 1520.93 Q2331.73 1517.37 2328.1 1517.37 M2328.1 1513.66 Q2333.91 1513.66 2336.96 1518.27 Q2340.04 1522.85 2340.04 1531.6 Q2340.04 1540.33 2336.96 1544.94 Q2333.91 1549.52 2328.1 1549.52 Q2322.29 1549.52 2319.21 1544.94 Q2316.15 1540.33 2316.15 1531.6 Q2316.15 1522.85 2319.21 1518.27 Q2322.29 1513.66 2328.1 1513.66 Z\" fill=\"#000000\" fill-rule=\"nonzero\" fill-opacity=\"1\" /><polyline clip-path=\"url(#clip160)\" style=\"stroke:#000000; stroke-linecap:round; stroke-linejoin:round; stroke-width:4; stroke-opacity:1; fill:none\" points=\"186.274,1486.45 186.274,47.2441 \"/>\n",
       "<polyline clip-path=\"url(#clip160)\" style=\"stroke:#000000; stroke-linecap:round; stroke-linejoin:round; stroke-width:4; stroke-opacity:1; fill:none\" points=\"186.274,1445.72 205.172,1445.72 \"/>\n",
       "<polyline clip-path=\"url(#clip160)\" style=\"stroke:#000000; stroke-linecap:round; stroke-linejoin:round; stroke-width:4; stroke-opacity:1; fill:none\" points=\"186.274,1106.28 205.172,1106.28 \"/>\n",
       "<polyline clip-path=\"url(#clip160)\" style=\"stroke:#000000; stroke-linecap:round; stroke-linejoin:round; stroke-width:4; stroke-opacity:1; fill:none\" points=\"186.274,766.846 205.172,766.846 \"/>\n",
       "<polyline clip-path=\"url(#clip160)\" style=\"stroke:#000000; stroke-linecap:round; stroke-linejoin:round; stroke-width:4; stroke-opacity:1; fill:none\" points=\"186.274,427.411 205.172,427.411 \"/>\n",
       "<polyline clip-path=\"url(#clip160)\" style=\"stroke:#000000; stroke-linecap:round; stroke-linejoin:round; stroke-width:4; stroke-opacity:1; fill:none\" points=\"186.274,87.9763 205.172,87.9763 \"/>\n",
       "<path clip-path=\"url(#clip160)\" d=\"M62.9365 1431.51 Q59.3254 1431.51 57.4967 1435.08 Q55.6912 1438.62 55.6912 1445.75 Q55.6912 1452.86 57.4967 1456.42 Q59.3254 1459.96 62.9365 1459.96 Q66.5707 1459.96 68.3763 1456.42 Q70.205 1452.86 70.205 1445.75 Q70.205 1438.62 68.3763 1435.08 Q66.5707 1431.51 62.9365 1431.51 M62.9365 1427.81 Q68.7467 1427.81 71.8022 1432.42 Q74.8809 1437 74.8809 1445.75 Q74.8809 1454.48 71.8022 1459.08 Q68.7467 1463.67 62.9365 1463.67 Q57.1264 1463.67 54.0477 1459.08 Q50.9921 1454.48 50.9921 1445.75 Q50.9921 1437 54.0477 1432.42 Q57.1264 1427.81 62.9365 1427.81 Z\" fill=\"#000000\" fill-rule=\"nonzero\" fill-opacity=\"1\" /><path clip-path=\"url(#clip160)\" d=\"M83.0984 1457.12 L87.9827 1457.12 L87.9827 1463 L83.0984 1463 L83.0984 1457.12 Z\" fill=\"#000000\" fill-rule=\"nonzero\" fill-opacity=\"1\" /><path clip-path=\"url(#clip160)\" d=\"M108.168 1431.51 Q104.557 1431.51 102.728 1435.08 Q100.922 1438.62 100.922 1445.75 Q100.922 1452.86 102.728 1456.42 Q104.557 1459.96 108.168 1459.96 Q111.802 1459.96 113.608 1456.42 Q115.436 1452.86 115.436 1445.75 Q115.436 1438.62 113.608 1435.08 Q111.802 1431.51 108.168 1431.51 M108.168 1427.81 Q113.978 1427.81 117.033 1432.42 Q120.112 1437 120.112 1445.75 Q120.112 1454.48 117.033 1459.08 Q113.978 1463.67 108.168 1463.67 Q102.358 1463.67 99.2789 1459.08 Q96.2234 1454.48 96.2234 1445.75 Q96.2234 1437 99.2789 1432.42 Q102.358 1427.81 108.168 1427.81 Z\" fill=\"#000000\" fill-rule=\"nonzero\" fill-opacity=\"1\" /><path clip-path=\"url(#clip160)\" d=\"M138.33 1431.51 Q134.719 1431.51 132.89 1435.08 Q131.084 1438.62 131.084 1445.75 Q131.084 1452.86 132.89 1456.42 Q134.719 1459.96 138.33 1459.96 Q141.964 1459.96 143.769 1456.42 Q145.598 1452.86 145.598 1445.75 Q145.598 1438.62 143.769 1435.08 Q141.964 1431.51 138.33 1431.51 M138.33 1427.81 Q144.14 1427.81 147.195 1432.42 Q150.274 1437 150.274 1445.75 Q150.274 1454.48 147.195 1459.08 Q144.14 1463.67 138.33 1463.67 Q132.519 1463.67 129.441 1459.08 Q126.385 1454.48 126.385 1445.75 Q126.385 1437 129.441 1432.42 Q132.519 1427.81 138.33 1427.81 Z\" fill=\"#000000\" fill-rule=\"nonzero\" fill-opacity=\"1\" /><path clip-path=\"url(#clip160)\" d=\"M63.9319 1092.08 Q60.3208 1092.08 58.4921 1095.64 Q56.6865 1099.19 56.6865 1106.32 Q56.6865 1113.42 58.4921 1116.99 Q60.3208 1120.53 63.9319 1120.53 Q67.5661 1120.53 69.3717 1116.99 Q71.2004 1113.42 71.2004 1106.32 Q71.2004 1099.19 69.3717 1095.64 Q67.5661 1092.08 63.9319 1092.08 M63.9319 1088.38 Q69.742 1088.38 72.7976 1092.98 Q75.8763 1097.57 75.8763 1106.32 Q75.8763 1115.04 72.7976 1119.65 Q69.742 1124.23 63.9319 1124.23 Q58.1217 1124.23 55.043 1119.65 Q51.9875 1115.04 51.9875 1106.32 Q51.9875 1097.57 55.043 1092.98 Q58.1217 1088.38 63.9319 1088.38 Z\" fill=\"#000000\" fill-rule=\"nonzero\" fill-opacity=\"1\" /><path clip-path=\"url(#clip160)\" d=\"M84.0938 1117.68 L88.978 1117.68 L88.978 1123.56 L84.0938 1123.56 L84.0938 1117.68 Z\" fill=\"#000000\" fill-rule=\"nonzero\" fill-opacity=\"1\" /><path clip-path=\"url(#clip160)\" d=\"M103.191 1119.63 L119.51 1119.63 L119.51 1123.56 L97.566 1123.56 L97.566 1119.63 Q100.228 1116.87 104.811 1112.24 Q109.418 1107.59 110.598 1106.25 Q112.844 1103.72 113.723 1101.99 Q114.626 1100.23 114.626 1098.54 Q114.626 1095.78 112.682 1094.05 Q110.76 1092.31 107.658 1092.31 Q105.459 1092.31 103.006 1093.07 Q100.575 1093.84 97.7974 1095.39 L97.7974 1090.67 Q100.621 1089.53 103.075 1088.95 Q105.529 1088.38 107.566 1088.38 Q112.936 1088.38 116.131 1091.06 Q119.325 1093.75 119.325 1098.24 Q119.325 1100.37 118.515 1102.29 Q117.728 1104.19 115.621 1106.78 Q115.043 1107.45 111.941 1110.67 Q108.839 1113.86 103.191 1119.63 Z\" fill=\"#000000\" fill-rule=\"nonzero\" fill-opacity=\"1\" /><path clip-path=\"url(#clip160)\" d=\"M129.371 1089 L147.728 1089 L147.728 1092.94 L133.654 1092.94 L133.654 1101.41 Q134.672 1101.06 135.691 1100.9 Q136.709 1100.71 137.728 1100.71 Q143.515 1100.71 146.894 1103.89 Q150.274 1107.06 150.274 1112.47 Q150.274 1118.05 146.802 1121.15 Q143.33 1124.23 137.01 1124.23 Q134.834 1124.23 132.566 1123.86 Q130.32 1123.49 127.913 1122.75 L127.913 1118.05 Q129.996 1119.19 132.219 1119.74 Q134.441 1120.3 136.918 1120.3 Q140.922 1120.3 143.26 1118.19 Q145.598 1116.08 145.598 1112.47 Q145.598 1108.86 143.26 1106.76 Q140.922 1104.65 136.918 1104.65 Q135.043 1104.65 133.168 1105.07 Q131.316 1105.48 129.371 1106.36 L129.371 1089 Z\" fill=\"#000000\" fill-rule=\"nonzero\" fill-opacity=\"1\" /><path clip-path=\"url(#clip160)\" d=\"M62.9365 752.645 Q59.3254 752.645 57.4967 756.209 Q55.6912 759.751 55.6912 766.881 Q55.6912 773.987 57.4967 777.552 Q59.3254 781.094 62.9365 781.094 Q66.5707 781.094 68.3763 777.552 Q70.205 773.987 70.205 766.881 Q70.205 759.751 68.3763 756.209 Q66.5707 752.645 62.9365 752.645 M62.9365 748.941 Q68.7467 748.941 71.8022 753.547 Q74.8809 758.131 74.8809 766.881 Q74.8809 775.608 71.8022 780.214 Q68.7467 784.797 62.9365 784.797 Q57.1264 784.797 54.0477 780.214 Q50.9921 775.608 50.9921 766.881 Q50.9921 758.131 54.0477 753.547 Q57.1264 748.941 62.9365 748.941 Z\" fill=\"#000000\" fill-rule=\"nonzero\" fill-opacity=\"1\" /><path clip-path=\"url(#clip160)\" d=\"M83.0984 778.246 L87.9827 778.246 L87.9827 784.126 L83.0984 784.126 L83.0984 778.246 Z\" fill=\"#000000\" fill-rule=\"nonzero\" fill-opacity=\"1\" /><path clip-path=\"url(#clip160)\" d=\"M98.2141 749.566 L116.57 749.566 L116.57 753.501 L102.496 753.501 L102.496 761.973 Q103.515 761.626 104.534 761.464 Q105.552 761.279 106.571 761.279 Q112.358 761.279 115.737 764.45 Q119.117 767.621 119.117 773.038 Q119.117 778.617 115.645 781.719 Q112.172 784.797 105.853 784.797 Q103.677 784.797 101.409 784.427 Q99.1632 784.057 96.7558 783.316 L96.7558 778.617 Q98.8391 779.751 101.061 780.307 Q103.284 780.862 105.76 780.862 Q109.765 780.862 112.103 778.756 Q114.441 776.649 114.441 773.038 Q114.441 769.427 112.103 767.321 Q109.765 765.214 105.76 765.214 Q103.885 765.214 102.01 765.631 Q100.159 766.047 98.2141 766.927 L98.2141 749.566 Z\" fill=\"#000000\" fill-rule=\"nonzero\" fill-opacity=\"1\" /><path clip-path=\"url(#clip160)\" d=\"M138.33 752.645 Q134.719 752.645 132.89 756.209 Q131.084 759.751 131.084 766.881 Q131.084 773.987 132.89 777.552 Q134.719 781.094 138.33 781.094 Q141.964 781.094 143.769 777.552 Q145.598 773.987 145.598 766.881 Q145.598 759.751 143.769 756.209 Q141.964 752.645 138.33 752.645 M138.33 748.941 Q144.14 748.941 147.195 753.547 Q150.274 758.131 150.274 766.881 Q150.274 775.608 147.195 780.214 Q144.14 784.797 138.33 784.797 Q132.519 784.797 129.441 780.214 Q126.385 775.608 126.385 766.881 Q126.385 758.131 129.441 753.547 Q132.519 748.941 138.33 748.941 Z\" fill=\"#000000\" fill-rule=\"nonzero\" fill-opacity=\"1\" /><path clip-path=\"url(#clip160)\" d=\"M63.9319 413.21 Q60.3208 413.21 58.4921 416.775 Q56.6865 420.316 56.6865 427.446 Q56.6865 434.552 58.4921 438.117 Q60.3208 441.659 63.9319 441.659 Q67.5661 441.659 69.3717 438.117 Q71.2004 434.552 71.2004 427.446 Q71.2004 420.316 69.3717 416.775 Q67.5661 413.21 63.9319 413.21 M63.9319 409.506 Q69.742 409.506 72.7976 414.113 Q75.8763 418.696 75.8763 427.446 Q75.8763 436.173 72.7976 440.779 Q69.742 445.362 63.9319 445.362 Q58.1217 445.362 55.043 440.779 Q51.9875 436.173 51.9875 427.446 Q51.9875 418.696 55.043 414.113 Q58.1217 409.506 63.9319 409.506 Z\" fill=\"#000000\" fill-rule=\"nonzero\" fill-opacity=\"1\" /><path clip-path=\"url(#clip160)\" d=\"M84.0938 438.812 L88.978 438.812 L88.978 444.691 L84.0938 444.691 L84.0938 438.812 Z\" fill=\"#000000\" fill-rule=\"nonzero\" fill-opacity=\"1\" /><path clip-path=\"url(#clip160)\" d=\"M97.9826 410.131 L120.205 410.131 L120.205 412.122 L107.658 444.691 L102.774 444.691 L114.58 414.066 L97.9826 414.066 L97.9826 410.131 Z\" fill=\"#000000\" fill-rule=\"nonzero\" fill-opacity=\"1\" /><path clip-path=\"url(#clip160)\" d=\"M129.371 410.131 L147.728 410.131 L147.728 414.066 L133.654 414.066 L133.654 422.538 Q134.672 422.191 135.691 422.029 Q136.709 421.844 137.728 421.844 Q143.515 421.844 146.894 425.015 Q150.274 428.187 150.274 433.603 Q150.274 439.182 146.802 442.284 Q143.33 445.362 137.01 445.362 Q134.834 445.362 132.566 444.992 Q130.32 444.622 127.913 443.881 L127.913 439.182 Q129.996 440.316 132.219 440.872 Q134.441 441.427 136.918 441.427 Q140.922 441.427 143.26 439.321 Q145.598 437.214 145.598 433.603 Q145.598 429.992 143.26 427.886 Q140.922 425.779 136.918 425.779 Q135.043 425.779 133.168 426.196 Q131.316 426.613 129.371 427.492 L129.371 410.131 Z\" fill=\"#000000\" fill-rule=\"nonzero\" fill-opacity=\"1\" /><path clip-path=\"url(#clip160)\" d=\"M53.7467 101.321 L61.3856 101.321 L61.3856 74.9555 L53.0754 76.6222 L53.0754 72.3629 L61.3393 70.6963 L66.0152 70.6963 L66.0152 101.321 L73.654 101.321 L73.654 105.256 L53.7467 105.256 L53.7467 101.321 Z\" fill=\"#000000\" fill-rule=\"nonzero\" fill-opacity=\"1\" /><path clip-path=\"url(#clip160)\" d=\"M83.0984 99.3767 L87.9827 99.3767 L87.9827 105.256 L83.0984 105.256 L83.0984 99.3767 Z\" fill=\"#000000\" fill-rule=\"nonzero\" fill-opacity=\"1\" /><path clip-path=\"url(#clip160)\" d=\"M108.168 73.775 Q104.557 73.775 102.728 77.3398 Q100.922 80.8814 100.922 88.011 Q100.922 95.1174 102.728 98.6822 Q104.557 102.224 108.168 102.224 Q111.802 102.224 113.608 98.6822 Q115.436 95.1174 115.436 88.011 Q115.436 80.8814 113.608 77.3398 Q111.802 73.775 108.168 73.775 M108.168 70.0713 Q113.978 70.0713 117.033 74.6777 Q120.112 79.261 120.112 88.011 Q120.112 96.7378 117.033 101.344 Q113.978 105.928 108.168 105.928 Q102.358 105.928 99.2789 101.344 Q96.2234 96.7378 96.2234 88.011 Q96.2234 79.261 99.2789 74.6777 Q102.358 70.0713 108.168 70.0713 Z\" fill=\"#000000\" fill-rule=\"nonzero\" fill-opacity=\"1\" /><path clip-path=\"url(#clip160)\" d=\"M138.33 73.775 Q134.719 73.775 132.89 77.3398 Q131.084 80.8814 131.084 88.011 Q131.084 95.1174 132.89 98.6822 Q134.719 102.224 138.33 102.224 Q141.964 102.224 143.769 98.6822 Q145.598 95.1174 145.598 88.011 Q145.598 80.8814 143.769 77.3398 Q141.964 73.775 138.33 73.775 M138.33 70.0713 Q144.14 70.0713 147.195 74.6777 Q150.274 79.261 150.274 88.011 Q150.274 96.7378 147.195 101.344 Q144.14 105.928 138.33 105.928 Q132.519 105.928 129.441 101.344 Q126.385 96.7378 126.385 88.011 Q126.385 79.261 129.441 74.6777 Q132.519 70.0713 138.33 70.0713 Z\" fill=\"#000000\" fill-rule=\"nonzero\" fill-opacity=\"1\" /><polyline clip-path=\"url(#clip162)\" style=\"stroke:#009af9; stroke-linecap:round; stroke-linejoin:round; stroke-width:4; stroke-opacity:1; fill:none\" points=\"247.59,1445.72 250.985,1445.72 254.38,1445.72 254.38,1443.62 257.775,1443.62 257.775,1441.53 257.775,1439.43 261.17,1439.43 261.17,1437.33 261.17,1435.24 264.565,1435.24 264.565,1433.14 264.565,1431.05 267.96,1431.05 267.96,1428.95 271.355,1428.95 274.75,1428.95 274.75,1426.86 274.75,1424.76 274.75,1422.67 274.75,1420.57 278.145,1420.57 278.145,1418.48 281.541,1418.48 284.936,1418.48 288.331,1418.48 288.331,1416.38 288.331,1414.29 291.726,1414.29 291.726,1412.19 295.121,1412.19 295.121,1410.1 298.516,1410.1 298.516,1408 298.516,1405.91 301.911,1405.91 305.306,1405.91 308.701,1405.91 312.096,1405.91 312.096,1403.81 312.096,1401.71 312.096,1399.62 312.096,1397.52 312.096,1395.43 315.492,1395.43 315.492,1393.33 315.492,1391.24 315.492,1389.14 318.887,1389.14 318.887,1387.05 322.282,1387.05 325.677,1387.05 329.072,1387.05 332.467,1387.05 335.862,1387.05 335.862,1384.95 339.257,1384.95 339.257,1382.86 342.652,1382.86 342.652,1380.76 342.652,1378.67 342.652,1376.57 342.652,1374.48 346.047,1374.48 346.047,1372.38 349.443,1372.38 349.443,1370.29 352.838,1370.29 352.838,1368.19 352.838,1366.1 352.838,1364 352.838,1361.9 356.233,1361.9 356.233,1359.81 359.628,1359.81 363.023,1359.81 363.023,1357.71 366.418,1357.71 366.418,1355.62 369.813,1355.62 373.208,1355.62 376.603,1355.62 379.998,1355.62 379.998,1353.52 383.394,1353.52 386.789,1353.52 390.184,1353.52 390.184,1351.43 393.579,1351.43 393.579,1349.33 396.974,1349.33 400.369,1349.33 403.764,1349.33 403.764,1347.24 407.159,1347.24 410.554,1347.24 410.554,1345.14 410.554,1343.05 410.554,1340.95 413.949,1340.95 417.345,1340.95 417.345,1338.86 417.345,1336.76 417.345,1334.67 420.74,1334.67 420.74,1332.57 424.135,1332.57 424.135,1330.48 427.53,1330.48 430.925,1330.48 434.32,1330.48 437.715,1330.48 437.715,1328.38 437.715,1326.28 441.11,1326.28 444.505,1326.28 444.505,1324.19 447.9,1324.19 447.9,1322.09 447.9,1320 451.296,1320 451.296,1317.9 451.296,1315.81 451.296,1313.71 451.296,1311.62 454.691,1311.62 454.691,1309.52 454.691,1307.43 454.691,1305.33 458.086,1305.33 458.086,1303.24 458.086,1301.14 461.481,1301.14 461.481,1299.05 461.481,1296.95 464.876,1296.95 464.876,1294.86 464.876,1292.76 468.271,1292.76 468.271,1290.67 468.271,1288.57 471.666,1288.57 475.061,1288.57 478.456,1288.57 478.456,1286.47 478.456,1284.38 478.456,1282.28 478.456,1280.19 481.852,1280.19 485.247,1280.19 485.247,1278.09 488.642,1278.09 488.642,1276 488.642,1273.9 492.037,1273.9 492.037,1271.81 495.432,1271.81 495.432,1269.71 495.432,1267.62 495.432,1265.52 498.827,1265.52 498.827,1263.43 498.827,1261.33 498.827,1259.24 502.222,1259.24 502.222,1257.14 505.617,1257.14 509.012,1257.14 512.407,1257.14 512.407,1255.05 512.407,1252.95 515.803,1252.95 515.803,1250.85 515.803,1248.76 515.803,1246.66 515.803,1244.57 519.198,1244.57 522.593,1244.57 525.988,1244.57 529.383,1244.57 532.778,1244.57 532.778,1242.47 536.173,1242.47 539.568,1242.47 542.963,1242.47 542.963,1240.38 542.963,1238.28 542.963,1236.19 542.963,1234.09 542.963,1232 546.358,1232 549.754,1232 549.754,1229.9 549.754,1227.81 553.149,1227.81 553.149,1225.71 553.149,1223.62 553.149,1221.52 553.149,1219.43 553.149,1217.33 556.544,1217.33 556.544,1215.24 559.939,1215.24 559.939,1213.14 559.939,1211.04 559.939,1208.95 563.334,1208.95 563.334,1206.85 566.729,1206.85 566.729,1204.76 566.729,1202.66 570.124,1202.66 570.124,1200.57 573.519,1200.57 576.914,1200.57 580.309,1200.57 580.309,1198.47 583.705,1198.47 583.705,1196.38 587.1,1196.38 587.1,1194.28 590.495,1194.28 593.89,1194.28 593.89,1192.19 593.89,1190.09 597.285,1190.09 597.285,1188 597.285,1185.9 597.285,1183.81 600.68,1183.81 600.68,1181.71 600.68,1179.62 600.68,1177.52 600.68,1175.42 600.68,1173.33 600.68,1171.23 600.68,1169.14 600.68,1167.04 600.68,1164.95 600.68,1162.85 600.68,1160.76 600.68,1158.66 600.68,1156.57 600.68,1154.47 604.075,1154.47 604.075,1152.38 604.075,1150.28 604.075,1148.19 607.47,1148.19 607.47,1146.09 610.865,1146.09 614.26,1146.09 614.26,1144 614.26,1141.9 617.656,1141.9 617.656,1139.81 621.051,1139.81 624.446,1139.81 627.841,1139.81 627.841,1137.71 631.236,1137.71 634.631,1137.71 634.631,1135.61 634.631,1133.52 634.631,1131.42 638.026,1131.42 641.421,1131.42 641.421,1129.33 641.421,1127.23 644.816,1127.23 644.816,1125.14 644.816,1123.04 644.816,1120.95 644.816,1118.85 644.816,1116.76 644.816,1114.66 644.816,1112.57 648.211,1112.57 651.607,1112.57 651.607,1110.47 651.607,1108.38 651.607,1106.28 651.607,1104.19 651.607,1102.09 651.607,1100 655.002,1100 655.002,1097.9 655.002,1095.8 655.002,1093.71 655.002,1091.61 655.002,1089.52 658.397,1089.52 661.792,1089.52 661.792,1087.42 665.187,1087.42 668.582,1087.42 668.582,1085.33 671.977,1085.33 671.977,1083.23 671.977,1081.14 675.372,1081.14 678.767,1081.14 682.162,1081.14 685.558,1081.14 688.953,1081.14 692.348,1081.14 692.348,1079.04 692.348,1076.95 695.743,1076.95 699.138,1076.95 702.533,1076.95 702.533,1074.85 705.928,1074.85 705.928,1072.76 705.928,1070.66 705.928,1068.57 705.928,1066.47 705.928,1064.38 705.928,1062.28 709.323,1062.28 709.323,1060.18 709.323,1058.09 712.718,1058.09 712.718,1055.99 712.718,1053.9 712.718,1051.8 716.113,1051.8 719.509,1051.8 722.904,1051.8 722.904,1049.71 726.299,1049.71 729.694,1049.71 733.089,1049.71 736.484,1049.71 739.879,1049.71 739.879,1047.61 743.274,1047.61 743.274,1045.52 743.274,1043.42 743.274,1041.33 743.274,1039.23 743.274,1037.14 743.274,1035.04 743.274,1032.95 743.274,1030.85 743.274,1028.76 743.274,1026.66 746.669,1026.66 750.064,1026.66 750.064,1024.57 750.064,1022.47 753.46,1022.47 753.46,1020.37 756.855,1020.37 760.25,1020.37 760.25,1018.28 763.645,1018.28 763.645,1016.18 763.645,1014.09 763.645,1011.99 763.645,1009.9 767.04,1009.9 770.435,1009.9 773.83,1009.9 777.225,1009.9 777.225,1007.8 780.62,1007.8 780.62,1005.71 784.015,1005.71 784.015,1003.61 787.411,1003.61 790.806,1003.61 790.806,1001.52 790.806,999.422 794.201,999.422 794.201,997.326 797.596,997.326 800.991,997.326 804.386,997.326 804.386,995.231 807.781,995.231 807.781,993.136 807.781,991.041 811.176,991.041 814.571,991.041 814.571,988.945 814.571,986.85 814.571,984.755 817.967,984.755 821.362,984.755 824.757,984.755 824.757,982.66 824.757,980.564 824.757,978.469 824.757,976.374 824.757,974.278 828.152,974.278 828.152,972.183 828.152,970.088 831.547,970.088 831.547,967.993 831.547,965.897 834.942,965.897 838.337,965.897 838.337,963.802 841.732,963.802 841.732,961.707 841.732,959.611 845.127,959.611 848.522,959.611 851.918,959.611 855.313,959.611 855.313,957.516 855.313,955.421 858.708,955.421 858.708,953.326 862.103,953.326 862.103,951.23 862.103,949.135 865.498,949.135 865.498,947.04 865.498,944.945 868.893,944.945 868.893,942.849 872.288,942.849 872.288,940.754 875.683,940.754 875.683,938.659 879.078,938.659 879.078,936.563 882.473,936.563 882.473,934.468 885.869,934.468 889.264,934.468 889.264,932.373 889.264,930.278 889.264,928.182 889.264,926.087 889.264,923.992 889.264,921.896 892.659,921.896 892.659,919.801 896.054,919.801 896.054,917.706 899.449,917.706 899.449,915.611 899.449,913.515 902.844,913.515 906.239,913.515 906.239,911.42 906.239,909.325 909.634,909.325 909.634,907.23 909.634,905.134 909.634,903.039 913.029,903.039 913.029,900.944 916.424,900.944 919.82,900.944 919.82,898.848 919.82,896.753 919.82,894.658 919.82,892.563 919.82,890.467 919.82,888.372 919.82,886.277 923.215,886.277 926.61,886.277 930.005,886.277 930.005,884.181 933.4,884.181 936.795,884.181 940.19,884.181 943.585,884.181 943.585,882.086 946.98,882.086 946.98,879.991 950.375,879.991 950.375,877.896 953.771,877.896 957.166,877.896 960.561,877.896 963.956,877.896 963.956,875.8 967.351,875.8 967.351,873.705 970.746,873.705 974.141,873.705 974.141,871.61 977.536,871.61 980.931,871.61 980.931,869.515 980.931,867.419 980.931,865.324 980.931,863.229 980.931,861.133 980.931,859.038 980.931,856.943 980.931,854.848 980.931,852.752 980.931,850.657 984.326,850.657 987.722,850.657 991.117,850.657 991.117,848.562 991.117,846.467 994.512,846.467 997.907,846.467 997.907,844.371 1001.3,844.371 1001.3,842.276 1004.7,842.276 1008.09,842.276 1008.09,840.181 1008.09,838.085 1008.09,835.99 1011.49,835.99 1014.88,835.99 1018.28,835.99 1021.67,835.99 1021.67,833.895 1025.07,833.895 1025.07,831.8 1028.46,831.8 1028.46,829.704 1031.86,829.704 1031.86,827.609 1031.86,825.514 1031.86,823.418 1035.25,823.418 1038.65,823.418 1038.65,821.323 1042.04,821.323 1045.44,821.323 1045.44,819.228 1048.83,819.228 1052.23,819.228 1055.62,819.228 1059.02,819.228 1062.41,819.228 1062.41,817.133 1065.81,817.133 1065.81,815.037 1069.2,815.037 1072.6,815.037 1075.99,815.037 1079.39,815.037 1082.78,815.037 1086.18,815.037 1086.18,812.942 1089.57,812.942 1092.97,812.942 1092.97,810.847 1096.36,810.847 1096.36,808.752 1096.36,806.656 1096.36,804.561 1096.36,802.466 1096.36,800.37 1096.36,798.275 1099.76,798.275 1099.76,796.18 1103.16,796.18 1103.16,794.085 1103.16,791.989 1106.55,791.989 1109.95,791.989 1109.95,789.894 1109.95,787.799 1109.95,785.703 1113.34,785.703 1113.34,783.608 1113.34,781.513 1113.34,779.418 1116.74,779.418 1120.13,779.418 1123.53,779.418 1123.53,777.322 1123.53,775.227 1123.53,773.132 1126.92,773.132 1130.32,773.132 1133.71,773.132 1133.71,771.037 1133.71,768.941 1137.11,768.941 1137.11,766.846 1137.11,764.751 1137.11,762.655 1140.5,762.655 1143.9,762.655 1147.29,762.655 1150.69,762.655 1150.69,760.56 1154.08,760.56 1154.08,758.465 1154.08,756.37 1157.48,756.37 1157.48,754.274 1157.48,752.179 1157.48,750.084 1157.48,747.988 1160.87,747.988 1160.87,745.893 1164.27,745.893 1164.27,743.798 1167.66,743.798 1171.06,743.798 1171.06,741.703 1174.45,741.703 1177.85,741.703 1177.85,739.607 1181.24,739.607 1181.24,737.512 1181.24,735.417 1184.64,735.417 1184.64,733.322 1184.64,731.226 1184.64,729.131 1184.64,727.036 1184.64,724.94 1188.03,724.94 1188.03,722.845 1188.03,720.75 1191.43,720.75 1194.82,720.75 1198.22,720.75 1198.22,718.655 1201.61,718.655 1201.61,716.559 1205.01,716.559 1205.01,714.464 1208.4,714.464 1208.4,712.369 1211.8,712.369 1215.19,712.369 1218.59,712.369 1221.98,712.369 1225.38,712.369 1225.38,710.274 1228.77,710.274 1228.77,708.178 1228.77,706.083 1232.17,706.083 1232.17,703.988 1232.17,701.892 1232.17,699.797 1235.56,699.797 1235.56,697.702 1238.96,697.702 1242.35,697.702 1245.75,697.702 1245.75,695.607 1249.14,695.607 1252.54,695.607 1255.93,695.607 1259.33,695.607 1262.72,695.607 1262.72,693.511 1266.12,693.511 1269.51,693.511 1269.51,691.416 1272.91,691.416 1272.91,689.321 1272.91,687.225 1272.91,685.13 1276.31,685.13 1279.7,685.13 1283.1,685.13 1286.49,685.13 1286.49,683.035 1289.89,683.035 1289.89,680.94 1293.28,680.94 1296.68,680.94 1296.68,678.844 1300.07,678.844 1303.47,678.844 1306.86,678.844 1306.86,676.749 1310.26,676.749 1310.26,674.654 1313.65,674.654 1313.65,672.559 1317.05,672.559 1317.05,670.463 1320.44,670.463 1320.44,668.368 1320.44,666.273 1320.44,664.177 1320.44,662.082 1320.44,659.987 1323.84,659.987 1323.84,657.892 1327.23,657.892 1327.23,655.796 1330.63,655.796 1330.63,653.701 1334.02,653.701 1334.02,651.606 1334.02,649.51 1337.42,649.51 1337.42,647.415 1337.42,645.32 1337.42,643.225 1337.42,641.129 1340.81,641.129 1340.81,639.034 1340.81,636.939 1344.21,636.939 1344.21,634.844 1344.21,632.748 1344.21,630.653 1347.6,630.653 1347.6,628.558 1351,628.558 1351,626.462 1351,624.367 1351,622.272 1354.39,622.272 1354.39,620.177 1357.79,620.177 1361.18,620.177 1361.18,618.081 1364.58,618.081 1367.97,618.081 1367.97,615.986 1371.37,615.986 1371.37,613.891 1374.76,613.891 1374.76,611.795 1374.76,609.7 1374.76,607.605 1378.16,607.605 1378.16,605.51 1381.55,605.51 1381.55,603.414 1384.95,603.414 1388.34,603.414 1391.74,603.414 1395.13,603.414 1398.53,603.414 1398.53,601.319 1401.92,601.319 1405.32,601.319 1405.32,599.224 1405.32,597.129 1408.71,597.129 1408.71,595.033 1412.11,595.033 1415.5,595.033 1415.5,592.938 1418.9,592.938 1418.9,590.843 1418.9,588.747 1418.9,586.652 1422.29,586.652 1422.29,584.557 1425.69,584.557 1425.69,582.462 1429.08,582.462 1432.48,582.462 1432.48,580.366 1432.48,578.271 1432.48,576.176 1432.48,574.081 1432.48,571.985 1432.48,569.89 1432.48,567.795 1435.87,567.795 1435.87,565.699 1439.27,565.699 1439.27,563.604 1442.67,563.604 1446.06,563.604 1446.06,561.509 1449.46,561.509 1452.85,561.509 1452.85,559.414 1452.85,557.318 1456.25,557.318 1459.64,557.318 1459.64,555.223 1463.04,555.223 1466.43,555.223 1469.83,555.223 1469.83,553.128 1473.22,553.128 1473.22,551.032 1476.62,551.032 1476.62,548.937 1480.01,548.937 1483.41,548.937 1483.41,546.842 1483.41,544.747 1483.41,542.651 1486.8,542.651 1490.2,542.651 1490.2,540.556 1490.2,538.461 1493.59,538.461 1496.99,538.461 1496.99,536.366 1496.99,534.27 1500.38,534.27 1500.38,532.175 1500.38,530.08 1503.78,530.08 1503.78,527.984 1507.17,527.984 1510.57,527.984 1510.57,525.889 1510.57,523.794 1510.57,521.699 1513.96,521.699 1517.36,521.699 1520.75,521.699 1524.15,521.699 1524.15,519.603 1524.15,517.508 1524.15,515.413 1524.15,513.317 1524.15,511.222 1524.15,509.127 1524.15,507.032 1527.54,507.032 1527.54,504.936 1527.54,502.841 1530.94,502.841 1534.33,502.841 1534.33,500.746 1534.33,498.651 1534.33,496.555 1537.73,496.555 1537.73,494.46 1537.73,492.365 1537.73,490.269 1541.12,490.269 1544.52,490.269 1544.52,488.174 1544.52,486.079 1544.52,483.984 1544.52,481.888 1544.52,479.793 1547.91,479.793 1551.31,479.793 1551.31,477.698 1554.7,477.698 1558.1,477.698 1561.49,477.698 1564.89,477.698 1568.28,477.698 1571.68,477.698 1571.68,475.602 1571.68,473.507 1571.68,471.412 1571.68,469.317 1571.68,467.221 1575.07,467.221 1578.47,467.221 1578.47,465.126 1581.86,465.126 1585.26,465.126 1585.26,463.031 1585.26,460.936 1588.65,460.936 1588.65,458.84 1592.05,458.84 1592.05,456.745 1592.05,454.65 1595.44,454.65 1598.84,454.65 1598.84,452.554 1602.23,452.554 1605.63,452.554 1609.03,452.554 1612.42,452.554 1615.82,452.554 1619.21,452.554 1622.61,452.554 1626,452.554 1629.4,452.554 1632.79,452.554 1636.19,452.554 1636.19,450.459 1639.58,450.459 1639.58,448.364 1639.58,446.269 1642.98,446.269 1642.98,444.173 1642.98,442.078 1646.37,442.078 1646.37,439.983 1646.37,437.888 1649.77,437.888 1653.16,437.888 1656.56,437.888 1659.95,437.888 1663.35,437.888 1666.74,437.888 1666.74,435.792 1670.14,435.792 1673.53,435.792 1673.53,433.697 1676.93,433.697 1680.32,433.697 1683.72,433.697 1683.72,431.602 1683.72,429.506 1687.11,429.506 1687.11,427.411 1687.11,425.316 1690.51,425.316 1690.51,423.221 1693.9,423.221 1697.3,423.221 1697.3,421.125 1700.69,421.125 1704.09,421.125 1707.48,421.125 1707.48,419.03 1707.48,416.935 1707.48,414.839 1707.48,412.744 1707.48,410.649 1707.48,408.554 1707.48,406.458 1710.88,406.458 1710.88,404.363 1710.88,402.268 1714.27,402.268 1717.67,402.268 1721.06,402.268 1724.46,402.268 1727.85,402.268 1731.25,402.268 1734.64,402.268 1734.64,400.173 1738.04,400.173 1741.43,400.173 1744.83,400.173 1748.22,400.173 1751.62,400.173 1751.62,398.077 1751.62,395.982 1751.62,393.887 1751.62,391.791 1751.62,389.696 1755.01,389.696 1755.01,387.601 1758.41,387.601 1761.8,387.601 1765.2,387.601 1768.59,387.601 1771.99,387.601 1775.39,387.601 1778.78,387.601 1778.78,385.506 1782.18,385.506 1785.57,385.506 1788.97,385.506 1792.36,385.506 1795.76,385.506 1799.15,385.506 1799.15,383.41 1802.55,383.41 1802.55,381.315 1805.94,381.315 1809.34,381.315 1809.34,379.22 1812.73,379.22 1812.73,377.124 1812.73,375.029 1812.73,372.934 1816.13,372.934 1816.13,370.839 1819.52,370.839 1822.92,370.839 1822.92,368.743 1822.92,366.648 1822.92,364.553 1826.31,364.553 1829.71,364.553 1833.1,364.553 1836.5,364.553 1839.89,364.553 1839.89,362.458 1839.89,360.362 1843.29,360.362 1846.68,360.362 1850.08,360.362 1853.47,360.362 1856.87,360.362 1860.26,360.362 1863.66,360.362 1863.66,358.267 1867.05,358.267 1870.45,358.267 1870.45,356.172 1873.84,356.172 1877.24,356.172 1880.63,356.172 1880.63,354.076 1880.63,351.981 1884.03,351.981 1884.03,349.886 1884.03,347.791 1884.03,345.695 1887.42,345.695 1890.82,345.695 1894.21,345.695 1897.61,345.695 1901,345.695 1901,343.6 1901,341.505 1904.4,341.505 1904.4,339.41 1907.79,339.41 1911.19,339.41 1914.58,339.41 1917.98,339.41 1917.98,337.314 1917.98,335.219 1917.98,333.124 1917.98,331.028 1917.98,328.933 1917.98,326.838 1917.98,324.743 1917.98,322.647 1917.98,320.552 1921.37,320.552 1921.37,318.457 1924.77,318.457 1928.16,318.457 1928.16,316.361 1931.56,316.361 1931.56,314.266 1934.95,314.266 1934.95,312.171 1934.95,310.076 1938.35,310.076 1938.35,307.98 1941.74,307.98 1941.74,305.885 1941.74,303.79 1945.14,303.79 1948.54,303.79 1951.93,303.79 1951.93,301.695 1955.33,301.695 1958.72,301.695 1958.72,299.599 1958.72,297.504 1958.72,295.409 1958.72,293.313 1958.72,291.218 1958.72,289.123 1958.72,287.028 1958.72,284.932 1958.72,282.837 1962.12,282.837 1962.12,280.742 1962.12,278.646 1965.51,278.646 1965.51,276.551 1965.51,274.456 1968.91,274.456 1972.3,274.456 1972.3,272.361 1972.3,270.265 1975.7,270.265 1979.09,270.265 1979.09,268.17 1982.49,268.17 1985.88,268.17 1989.28,268.17 1992.67,268.17 1992.67,266.075 1996.07,266.075 1999.46,266.075 2002.86,266.075 2006.25,266.075 2006.25,263.98 2009.65,263.98 2009.65,261.884 2013.04,261.884 2016.44,261.884 2016.44,259.789 2019.83,259.789 2019.83,257.694 2019.83,255.598 2023.23,255.598 2023.23,253.503 2023.23,251.408 2026.62,251.408 2026.62,249.313 2026.62,247.217 2030.02,247.217 2030.02,245.122 2033.41,245.122 2033.41,243.027 2033.41,240.931 2033.41,238.836 2036.81,238.836 2036.81,236.741 2040.2,236.741 2040.2,234.646 2040.2,232.55 2043.6,232.55 2046.99,232.55 2046.99,230.455 2050.39,230.455 2050.39,228.36 2050.39,226.265 2050.39,224.169 2050.39,222.074 2050.39,219.979 2053.78,219.979 2057.18,219.979 2060.57,219.979 2063.97,219.979 2063.97,217.883 2063.97,215.788 2063.97,213.693 2067.36,213.693 2067.36,211.598 2067.36,209.502 2070.76,209.502 2074.15,209.502 2077.55,209.502 2077.55,207.407 2080.94,207.407 2084.34,207.407 2087.73,207.407 2091.13,207.407 2094.52,207.407 2094.52,205.312 2094.52,203.217 2094.52,201.121 2097.92,201.121 2101.31,201.121 2101.31,199.026 2101.31,196.931 2101.31,194.835 2104.71,194.835 2104.71,192.74 2108.1,192.74 2111.5,192.74 2111.5,190.645 2114.9,190.645 2114.9,188.55 2114.9,186.454 2114.9,184.359 2114.9,182.264 2118.29,182.264 2118.29,180.168 2121.69,180.168 2125.08,180.168 2125.08,178.073 2128.48,178.073 2131.87,178.073 2131.87,175.978 2135.27,175.978 2138.66,175.978 2142.06,175.978 2145.45,175.978 2145.45,173.883 2148.85,173.883 2148.85,171.787 2148.85,169.692 2152.24,169.692 2152.24,167.597 2155.64,167.597 2155.64,165.502 2155.64,163.406 2155.64,161.311 2155.64,159.216 2159.03,159.216 2159.03,157.12 2159.03,155.025 2159.03,152.93 2162.43,152.93 2162.43,150.835 2165.82,150.835 2169.22,150.835 2169.22,148.739 2172.61,148.739 2172.61,146.644 2176.01,146.644 2179.4,146.644 2179.4,144.549 2179.4,142.453 2182.8,142.453 2186.19,142.453 2189.59,142.453 2189.59,140.358 2189.59,138.263 2192.98,138.263 2196.38,138.263 2196.38,136.168 2196.38,134.072 2199.77,134.072 2203.17,134.072 2203.17,131.977 2203.17,129.882 2206.56,129.882 2209.96,129.882 2213.35,129.882 2216.75,129.882 2220.14,129.882 2220.14,127.787 2220.14,125.691 2223.54,125.691 2226.93,125.691 2226.93,123.596 2230.33,123.596 2230.33,121.501 2230.33,119.405 2230.33,117.31 2230.33,115.215 2230.33,113.12 2233.72,113.12 2233.72,111.024 2237.12,111.024 2237.12,108.929 2237.12,106.834 2240.51,106.834 2243.91,106.834 2247.3,106.834 2250.7,106.834 2254.09,106.834 2254.09,104.738 2257.49,104.738 2257.49,102.643 2260.88,102.643 2260.88,100.548 2264.28,100.548 2264.28,98.4527 2264.28,96.3574 2267.67,96.3574 2271.07,96.3574 2274.46,96.3574 2277.86,96.3574 2281.26,96.3574 2284.65,96.3574 2284.65,94.2621 2288.05,94.2621 2288.05,92.1668 2288.05,90.0716 2288.05,87.9763 2291.44,87.9763 \"/>\n",
       "</svg>\n"
      ]
     },
     "execution_count": 22,
     "metadata": {},
     "output_type": "execute_result"
    }
   ],
   "source": [
    "rc = roc_curve(y_pred, y)\n",
    "plt=plot(rc, legend=false)"
   ]
  },
  {
   "cell_type": "code",
   "execution_count": null,
   "id": "4578da81-883e-45ca-8aa9-968787da1244",
   "metadata": {},
   "outputs": [],
   "source": []
  }
 ],
 "metadata": {
  "kernelspec": {
   "display_name": "Julia 1.8.5",
   "language": "julia",
   "name": "julia-1.8"
  },
  "language_info": {
   "file_extension": ".jl",
   "mimetype": "application/julia",
   "name": "julia",
   "version": "1.8.5"
  }
 },
 "nbformat": 4,
 "nbformat_minor": 5
}
