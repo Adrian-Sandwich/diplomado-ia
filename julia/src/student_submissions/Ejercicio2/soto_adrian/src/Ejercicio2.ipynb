{
 "cells": [
  {
   "cell_type": "markdown",
   "metadata": {},
   "source": [
    "# Exercise 2: Regression\n",
    "\n",
    "[https://www.kaggle.com/datasets/sohier/calcofi](https://www.kaggle.com/datasets/sohier/calcofi)\n",
    "\n",
    "Use the `bottle.csv` data from the CalCofi dataset to determine the most important factors of T_degC\n",
    "\n",
    "1. Use the EDA you already have done in Julia\n",
    "2. Use Julia to do linear regressions combining different sets of independent variables until you find the combination that gives you better predictions\n",
    "3. Submit your project following the submittion Guidelines"
   ]
  }
 ],
 "metadata": {
  "language_info": {
   "name": "python"
  }
 },
 "nbformat": 4,
 "nbformat_minor": 2
}
