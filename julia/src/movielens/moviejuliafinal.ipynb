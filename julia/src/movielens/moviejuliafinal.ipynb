{
 "cells": [
  {
   "cell_type": "code",
   "execution_count": 1,
   "metadata": {},
   "outputs": [
    {
     "name": "stderr",
     "output_type": "stream",
     "text": [
      "\u001b[32m\u001b[1m   Resolving\u001b[22m\u001b[39m package versions...\n",
      "\u001b[32m\u001b[1m  No Changes\u001b[22m\u001b[39m to `~/.julia/environments/v1.11/Project.toml`\n",
      "\u001b[32m\u001b[1m  No Changes\u001b[22m\u001b[39m to `~/.julia/environments/v1.11/Manifest.toml`\n",
      "\u001b[32m\u001b[1m   Resolving\u001b[22m\u001b[39m package versions...\n",
      "\u001b[32m\u001b[1m  No Changes\u001b[22m\u001b[39m to `~/.julia/environments/v1.11/Project.toml`\n",
      "\u001b[32m\u001b[1m  No Changes\u001b[22m\u001b[39m to `~/.julia/environments/v1.11/Manifest.toml`\n",
      "\u001b[32m\u001b[1m   Resolving\u001b[22m\u001b[39m package versions...\n",
      "\u001b[32m\u001b[1m  No Changes\u001b[22m\u001b[39m to `~/.julia/environments/v1.11/Project.toml`\n",
      "\u001b[32m\u001b[1m  No Changes\u001b[22m\u001b[39m to `~/.julia/environments/v1.11/Manifest.toml`\n",
      "\u001b[32m\u001b[1m   Resolving\u001b[22m\u001b[39m package versions...\n",
      "\u001b[32m\u001b[1m  No Changes\u001b[22m\u001b[39m to `~/.julia/environments/v1.11/Project.toml`\n",
      "\u001b[32m\u001b[1m  No Changes\u001b[22m\u001b[39m to `~/.julia/environments/v1.11/Manifest.toml`\n",
      "\u001b[32m\u001b[1m   Resolving\u001b[22m\u001b[39m package versions...\n",
      "\u001b[32m\u001b[1m  No Changes\u001b[22m\u001b[39m to `~/.julia/environments/v1.11/Project.toml`\n",
      "\u001b[32m\u001b[1m  No Changes\u001b[22m\u001b[39m to `~/.julia/environments/v1.11/Manifest.toml`\n",
      "\u001b[32m\u001b[1m   Resolving\u001b[22m\u001b[39m package versions...\n",
      "\u001b[32m\u001b[1m  No Changes\u001b[22m\u001b[39m to `~/.julia/environments/v1.11/Project.toml`\n",
      "\u001b[32m\u001b[1m  No Changes\u001b[22m\u001b[39m to `~/.julia/environments/v1.11/Manifest.toml`\n",
      "\u001b[32m\u001b[1m   Resolving\u001b[22m\u001b[39m package versions...\n",
      "\u001b[32m\u001b[1m  No Changes\u001b[22m\u001b[39m to `~/.julia/environments/v1.11/Project.toml`\n",
      "\u001b[32m\u001b[1m  No Changes\u001b[22m\u001b[39m to `~/.julia/environments/v1.11/Manifest.toml`\n",
      "\u001b[32m\u001b[1m   Resolving\u001b[22m\u001b[39m package versions...\n",
      "\u001b[32m\u001b[1m  No Changes\u001b[22m\u001b[39m to `~/.julia/environments/v1.11/Project.toml`\n",
      "\u001b[32m\u001b[1m  No Changes\u001b[22m\u001b[39m to `~/.julia/environments/v1.11/Manifest.toml`\n"
     ]
    }
   ],
   "source": [
    "using Pkg\n",
    "Pkg.add(\"CSVFiles\")\n",
    "Pkg.add(\"CSV\")\n",
    "Pkg.add(\"DataFrames\")\n",
    "Pkg.add(\"Parquet\")\n",
    "Pkg.add(\"FileIO\")\n",
    "Pkg.add(\"DataFramesMeta\")\n",
    "Pkg.add(\"Query\")\n",
    "Pkg.add(\"TidierData\")"
   ]
  },
  {
   "cell_type": "code",
   "execution_count": 2,
   "metadata": {},
   "outputs": [],
   "source": [
    "using CSVFiles\n",
    "using CSV\n",
    "using DataFrames, Query\n",
    "using Parquet\n",
    "using Dates\n",
    "#using DataFramesMeta\n",
    "using Distributed\n",
    "using Base.Threads\n"
   ]
  },
  {
   "cell_type": "code",
   "execution_count": 2,
   "metadata": {},
   "outputs": [
    {
     "data": {
      "text/html": [
       "<div><div style = \"float: left;\"><span>25000095×4 DataFrame</span></div><div style = \"float: right;\"><span style = \"font-style: italic;\">25000070 rows omitted</span></div><div style = \"clear: both;\"></div></div><div class = \"data-frame\" style = \"overflow-x: scroll;\"><table class = \"data-frame\" style = \"margin-bottom: 6px;\"><thead><tr class = \"header\"><th class = \"rowNumber\" style = \"font-weight: bold; text-align: right;\">Row</th><th style = \"text-align: left;\">userId</th><th style = \"text-align: left;\">movieId</th><th style = \"text-align: left;\">rating</th><th style = \"text-align: left;\">timestamp</th></tr><tr class = \"subheader headerLastRow\"><th class = \"rowNumber\" style = \"font-weight: bold; text-align: right;\"></th><th title = \"Int64\" style = \"text-align: left;\">Int64</th><th title = \"Int64\" style = \"text-align: left;\">Int64</th><th title = \"Float64\" style = \"text-align: left;\">Float64</th><th title = \"Int64\" style = \"text-align: left;\">Int64</th></tr></thead><tbody><tr><td class = \"rowNumber\" style = \"font-weight: bold; text-align: right;\">1</td><td style = \"text-align: right;\">1</td><td style = \"text-align: right;\">296</td><td style = \"text-align: right;\">5.0</td><td style = \"text-align: right;\">1147880044</td></tr><tr><td class = \"rowNumber\" style = \"font-weight: bold; text-align: right;\">2</td><td style = \"text-align: right;\">1</td><td style = \"text-align: right;\">306</td><td style = \"text-align: right;\">3.5</td><td style = \"text-align: right;\">1147868817</td></tr><tr><td class = \"rowNumber\" style = \"font-weight: bold; text-align: right;\">3</td><td style = \"text-align: right;\">1</td><td style = \"text-align: right;\">307</td><td style = \"text-align: right;\">5.0</td><td style = \"text-align: right;\">1147868828</td></tr><tr><td class = \"rowNumber\" style = \"font-weight: bold; text-align: right;\">4</td><td style = \"text-align: right;\">1</td><td style = \"text-align: right;\">665</td><td style = \"text-align: right;\">5.0</td><td style = \"text-align: right;\">1147878820</td></tr><tr><td class = \"rowNumber\" style = \"font-weight: bold; text-align: right;\">5</td><td style = \"text-align: right;\">1</td><td style = \"text-align: right;\">899</td><td style = \"text-align: right;\">3.5</td><td style = \"text-align: right;\">1147868510</td></tr><tr><td class = \"rowNumber\" style = \"font-weight: bold; text-align: right;\">6</td><td style = \"text-align: right;\">1</td><td style = \"text-align: right;\">1088</td><td style = \"text-align: right;\">4.0</td><td style = \"text-align: right;\">1147868495</td></tr><tr><td class = \"rowNumber\" style = \"font-weight: bold; text-align: right;\">7</td><td style = \"text-align: right;\">1</td><td style = \"text-align: right;\">1175</td><td style = \"text-align: right;\">3.5</td><td style = \"text-align: right;\">1147868826</td></tr><tr><td class = \"rowNumber\" style = \"font-weight: bold; text-align: right;\">8</td><td style = \"text-align: right;\">1</td><td style = \"text-align: right;\">1217</td><td style = \"text-align: right;\">3.5</td><td style = \"text-align: right;\">1147878326</td></tr><tr><td class = \"rowNumber\" style = \"font-weight: bold; text-align: right;\">9</td><td style = \"text-align: right;\">1</td><td style = \"text-align: right;\">1237</td><td style = \"text-align: right;\">5.0</td><td style = \"text-align: right;\">1147868839</td></tr><tr><td class = \"rowNumber\" style = \"font-weight: bold; text-align: right;\">10</td><td style = \"text-align: right;\">1</td><td style = \"text-align: right;\">1250</td><td style = \"text-align: right;\">4.0</td><td style = \"text-align: right;\">1147868414</td></tr><tr><td class = \"rowNumber\" style = \"font-weight: bold; text-align: right;\">11</td><td style = \"text-align: right;\">1</td><td style = \"text-align: right;\">1260</td><td style = \"text-align: right;\">3.5</td><td style = \"text-align: right;\">1147877857</td></tr><tr><td class = \"rowNumber\" style = \"font-weight: bold; text-align: right;\">12</td><td style = \"text-align: right;\">1</td><td style = \"text-align: right;\">1653</td><td style = \"text-align: right;\">4.0</td><td style = \"text-align: right;\">1147868097</td></tr><tr><td class = \"rowNumber\" style = \"font-weight: bold; text-align: right;\">13</td><td style = \"text-align: right;\">1</td><td style = \"text-align: right;\">2011</td><td style = \"text-align: right;\">2.5</td><td style = \"text-align: right;\">1147868079</td></tr><tr><td style = \"text-align: right;\">&vellip;</td><td style = \"text-align: right;\">&vellip;</td><td style = \"text-align: right;\">&vellip;</td><td style = \"text-align: right;\">&vellip;</td><td style = \"text-align: right;\">&vellip;</td></tr><tr><td class = \"rowNumber\" style = \"font-weight: bold; text-align: right;\">25000084</td><td style = \"text-align: right;\">162541</td><td style = \"text-align: right;\">8905</td><td style = \"text-align: right;\">3.0</td><td style = \"text-align: right;\">1240949310</td></tr><tr><td class = \"rowNumber\" style = \"font-weight: bold; text-align: right;\">25000085</td><td style = \"text-align: right;\">162541</td><td style = \"text-align: right;\">8961</td><td style = \"text-align: right;\">4.0</td><td style = \"text-align: right;\">1240953338</td></tr><tr><td class = \"rowNumber\" style = \"font-weight: bold; text-align: right;\">25000086</td><td style = \"text-align: right;\">162541</td><td style = \"text-align: right;\">8983</td><td style = \"text-align: right;\">4.5</td><td style = \"text-align: right;\">1240953211</td></tr><tr><td class = \"rowNumber\" style = \"font-weight: bold; text-align: right;\">25000087</td><td style = \"text-align: right;\">162541</td><td style = \"text-align: right;\">31658</td><td style = \"text-align: right;\">4.5</td><td style = \"text-align: right;\">1240953287</td></tr><tr><td class = \"rowNumber\" style = \"font-weight: bold; text-align: right;\">25000088</td><td style = \"text-align: right;\">162541</td><td style = \"text-align: right;\">33794</td><td style = \"text-align: right;\">4.0</td><td style = \"text-align: right;\">1240951792</td></tr><tr><td class = \"rowNumber\" style = \"font-weight: bold; text-align: right;\">25000089</td><td style = \"text-align: right;\">162541</td><td style = \"text-align: right;\">41566</td><td style = \"text-align: right;\">4.0</td><td style = \"text-align: right;\">1240952749</td></tr><tr><td class = \"rowNumber\" style = \"font-weight: bold; text-align: right;\">25000090</td><td style = \"text-align: right;\">162541</td><td style = \"text-align: right;\">45517</td><td style = \"text-align: right;\">4.5</td><td style = \"text-align: right;\">1240953353</td></tr><tr><td class = \"rowNumber\" style = \"font-weight: bold; text-align: right;\">25000091</td><td style = \"text-align: right;\">162541</td><td style = \"text-align: right;\">50872</td><td style = \"text-align: right;\">4.5</td><td style = \"text-align: right;\">1240953372</td></tr><tr><td class = \"rowNumber\" style = \"font-weight: bold; text-align: right;\">25000092</td><td style = \"text-align: right;\">162541</td><td style = \"text-align: right;\">55768</td><td style = \"text-align: right;\">2.5</td><td style = \"text-align: right;\">1240951998</td></tr><tr><td class = \"rowNumber\" style = \"font-weight: bold; text-align: right;\">25000093</td><td style = \"text-align: right;\">162541</td><td style = \"text-align: right;\">56176</td><td style = \"text-align: right;\">2.0</td><td style = \"text-align: right;\">1240950697</td></tr><tr><td class = \"rowNumber\" style = \"font-weight: bold; text-align: right;\">25000094</td><td style = \"text-align: right;\">162541</td><td style = \"text-align: right;\">58559</td><td style = \"text-align: right;\">4.0</td><td style = \"text-align: right;\">1240953434</td></tr><tr><td class = \"rowNumber\" style = \"font-weight: bold; text-align: right;\">25000095</td><td style = \"text-align: right;\">162541</td><td style = \"text-align: right;\">63876</td><td style = \"text-align: right;\">5.0</td><td style = \"text-align: right;\">1240952515</td></tr></tbody></table></div>"
      ],
      "text/latex": [
       "\\begin{tabular}{r|cccc}\n",
       "\t& userId & movieId & rating & timestamp\\\\\n",
       "\t\\hline\n",
       "\t& Int64 & Int64 & Float64 & Int64\\\\\n",
       "\t\\hline\n",
       "\t1 & 1 & 296 & 5.0 & 1147880044 \\\\\n",
       "\t2 & 1 & 306 & 3.5 & 1147868817 \\\\\n",
       "\t3 & 1 & 307 & 5.0 & 1147868828 \\\\\n",
       "\t4 & 1 & 665 & 5.0 & 1147878820 \\\\\n",
       "\t5 & 1 & 899 & 3.5 & 1147868510 \\\\\n",
       "\t6 & 1 & 1088 & 4.0 & 1147868495 \\\\\n",
       "\t7 & 1 & 1175 & 3.5 & 1147868826 \\\\\n",
       "\t8 & 1 & 1217 & 3.5 & 1147878326 \\\\\n",
       "\t9 & 1 & 1237 & 5.0 & 1147868839 \\\\\n",
       "\t10 & 1 & 1250 & 4.0 & 1147868414 \\\\\n",
       "\t11 & 1 & 1260 & 3.5 & 1147877857 \\\\\n",
       "\t12 & 1 & 1653 & 4.0 & 1147868097 \\\\\n",
       "\t13 & 1 & 2011 & 2.5 & 1147868079 \\\\\n",
       "\t14 & 1 & 2012 & 2.5 & 1147868068 \\\\\n",
       "\t15 & 1 & 2068 & 2.5 & 1147869044 \\\\\n",
       "\t16 & 1 & 2161 & 3.5 & 1147868609 \\\\\n",
       "\t17 & 1 & 2351 & 4.5 & 1147877957 \\\\\n",
       "\t18 & 1 & 2573 & 4.0 & 1147878923 \\\\\n",
       "\t19 & 1 & 2632 & 5.0 & 1147878248 \\\\\n",
       "\t20 & 1 & 2692 & 5.0 & 1147869100 \\\\\n",
       "\t21 & 1 & 2843 & 4.5 & 1147868891 \\\\\n",
       "\t22 & 1 & 3448 & 4.0 & 1147868480 \\\\\n",
       "\t23 & 1 & 3569 & 5.0 & 1147879603 \\\\\n",
       "\t24 & 1 & 3949 & 5.0 & 1147868678 \\\\\n",
       "\t$\\dots$ & $\\dots$ & $\\dots$ & $\\dots$ & $\\dots$ \\\\\n",
       "\\end{tabular}\n"
      ],
      "text/plain": [
       "\u001b[1m25000095×4 DataFrame\u001b[0m\n",
       "\u001b[1m      Row \u001b[0m│\u001b[1m userId \u001b[0m\u001b[1m movieId \u001b[0m\u001b[1m rating  \u001b[0m\u001b[1m timestamp  \u001b[0m\n",
       "          │\u001b[90m Int64  \u001b[0m\u001b[90m Int64   \u001b[0m\u001b[90m Float64 \u001b[0m\u001b[90m Int64      \u001b[0m\n",
       "──────────┼──────────────────────────────────────\n",
       "        1 │      1      296      5.0  1147880044\n",
       "        2 │      1      306      3.5  1147868817\n",
       "        3 │      1      307      5.0  1147868828\n",
       "        4 │      1      665      5.0  1147878820\n",
       "        5 │      1      899      3.5  1147868510\n",
       "        6 │      1     1088      4.0  1147868495\n",
       "        7 │      1     1175      3.5  1147868826\n",
       "        8 │      1     1217      3.5  1147878326\n",
       "    ⋮     │   ⋮        ⋮        ⋮         ⋮\n",
       " 25000089 │ 162541    41566      4.0  1240952749\n",
       " 25000090 │ 162541    45517      4.5  1240953353\n",
       " 25000091 │ 162541    50872      4.5  1240953372\n",
       " 25000092 │ 162541    55768      2.5  1240951998\n",
       " 25000093 │ 162541    56176      2.0  1240950697\n",
       " 25000094 │ 162541    58559      4.0  1240953434\n",
       " 25000095 │ 162541    63876      5.0  1240952515\n",
       "\u001b[36m                            25000080 rows omitted\u001b[0m"
      ]
     },
     "metadata": {},
     "output_type": "display_data"
    }
   ],
   "source": [
    "df = CSV.read(\"/home/flex/code/code11/ml-25m/ratings.csv\", DataFrame; delim=',', header=true)"
   ]
  },
  {
   "cell_type": "code",
   "execution_count": null,
   "metadata": {},
   "outputs": [],
   "source": [
    "# Definir el número de partes en las que quieres dividir el archivo\n",
    "N = 10\n",
    "\n",
    "\n",
    "# Calcular el tamaño de cada parte\n",
    "num_rows = nrow(df)\n",
    "rows_per_part = div(num_rows, N)\n",
    "\n",
    "\n",
    "# Crear un loop para dividir el DataFrame y guardar cada parte\n",
    "for i in 0:(N-1)\n",
    "    start_row = i * rows_per_part + 1\n",
    "    end_row = (i == N - 1) ? num_rows : (start_row + rows_per_part - 1)\n",
    "\n",
    "\n",
    "    # Crear un DataFrame para la parte actual\n",
    "    part_df = df[start_row:end_row, :]\n",
    "\n",
    "\n",
    "    # Guardar la parte como un nuevo archivo CSV\n",
    "    CSV.write(\"movielens_part_$(i+1).csv\", part_df)\n",
    "end\n",
    "\n",
    "\n",
    "println(\"El archivo ha sido dividido en $N partes.\")\n"
   ]
  },
  {
   "cell_type": "code",
   "execution_count": 2,
   "metadata": {},
   "outputs": [
    {
     "data": {
      "text/plain": [
       "count_ratings_by_genre (generic function with 1 method)"
      ]
     },
     "metadata": {},
     "output_type": "display_data"
    }
   ],
   "source": [
    "finales=Dict{String, Int}()\n",
    "function count_ratings_by_genre(ratings, movies)\n",
    "    # Unir las tablas por 'movieId'\n",
    "    data = innerjoin(ratings, movies, on=:movieId)\n",
    "   \n",
    "    # Inicializar un diccionario para contar las calificaciones por género\n",
    "    genre_count = Dict{String, Int}()\n",
    "   \n",
    "    for row in eachrow(data)\n",
    "        genres = split(row.genres, \"|\")  # Dividir los géneros por '|'\n",
    "        for genre in genres\n",
    "            genre_count[genre] = get(genre_count, genre, 0) + 1\n",
    "        end\n",
    "    end\n",
    "    Base.merge!(+,finales,genre_count)\n",
    "    return genre_count\n",
    "end"
   ]
  },
  {
   "cell_type": "code",
   "execution_count": 3,
   "metadata": {},
   "outputs": [
    {
     "data": {
      "text/html": [
       "<div><div style = \"float: left;\"><span>62423×3 DataFrame</span></div><div style = \"float: right;\"><span style = \"font-style: italic;\">62398 rows omitted</span></div><div style = \"clear: both;\"></div></div><div class = \"data-frame\" style = \"overflow-x: scroll;\"><table class = \"data-frame\" style = \"margin-bottom: 6px;\"><thead><tr class = \"header\"><th class = \"rowNumber\" style = \"font-weight: bold; text-align: right;\">Row</th><th style = \"text-align: left;\">movieId</th><th style = \"text-align: left;\">title</th><th style = \"text-align: left;\">genres</th></tr><tr class = \"subheader headerLastRow\"><th class = \"rowNumber\" style = \"font-weight: bold; text-align: right;\"></th><th title = \"Int64\" style = \"text-align: left;\">Int64</th><th title = \"String\" style = \"text-align: left;\">String</th><th title = \"String\" style = \"text-align: left;\">String</th></tr></thead><tbody><tr><td class = \"rowNumber\" style = \"font-weight: bold; text-align: right;\">1</td><td style = \"text-align: right;\">1</td><td style = \"text-align: left;\">Toy Story (1995)</td><td style = \"text-align: left;\">Adventure|Animation|Children|Comedy|Fantasy</td></tr><tr><td class = \"rowNumber\" style = \"font-weight: bold; text-align: right;\">2</td><td style = \"text-align: right;\">2</td><td style = \"text-align: left;\">Jumanji (1995)</td><td style = \"text-align: left;\">Adventure|Children|Fantasy</td></tr><tr><td class = \"rowNumber\" style = \"font-weight: bold; text-align: right;\">3</td><td style = \"text-align: right;\">3</td><td style = \"text-align: left;\">Grumpier Old Men (1995)</td><td style = \"text-align: left;\">Comedy|Romance</td></tr><tr><td class = \"rowNumber\" style = \"font-weight: bold; text-align: right;\">4</td><td style = \"text-align: right;\">4</td><td style = \"text-align: left;\">Waiting to Exhale (1995)</td><td style = \"text-align: left;\">Comedy|Drama|Romance</td></tr><tr><td class = \"rowNumber\" style = \"font-weight: bold; text-align: right;\">5</td><td style = \"text-align: right;\">5</td><td style = \"text-align: left;\">Father of the Bride Part II (1995)</td><td style = \"text-align: left;\">Comedy</td></tr><tr><td class = \"rowNumber\" style = \"font-weight: bold; text-align: right;\">6</td><td style = \"text-align: right;\">6</td><td style = \"text-align: left;\">Heat (1995)</td><td style = \"text-align: left;\">Action|Crime|Thriller</td></tr><tr><td class = \"rowNumber\" style = \"font-weight: bold; text-align: right;\">7</td><td style = \"text-align: right;\">7</td><td style = \"text-align: left;\">Sabrina (1995)</td><td style = \"text-align: left;\">Comedy|Romance</td></tr><tr><td class = \"rowNumber\" style = \"font-weight: bold; text-align: right;\">8</td><td style = \"text-align: right;\">8</td><td style = \"text-align: left;\">Tom and Huck (1995)</td><td style = \"text-align: left;\">Adventure|Children</td></tr><tr><td class = \"rowNumber\" style = \"font-weight: bold; text-align: right;\">9</td><td style = \"text-align: right;\">9</td><td style = \"text-align: left;\">Sudden Death (1995)</td><td style = \"text-align: left;\">Action</td></tr><tr><td class = \"rowNumber\" style = \"font-weight: bold; text-align: right;\">10</td><td style = \"text-align: right;\">10</td><td style = \"text-align: left;\">GoldenEye (1995)</td><td style = \"text-align: left;\">Action|Adventure|Thriller</td></tr><tr><td class = \"rowNumber\" style = \"font-weight: bold; text-align: right;\">11</td><td style = \"text-align: right;\">11</td><td style = \"text-align: left;\">American President, The (1995)</td><td style = \"text-align: left;\">Comedy|Drama|Romance</td></tr><tr><td class = \"rowNumber\" style = \"font-weight: bold; text-align: right;\">12</td><td style = \"text-align: right;\">12</td><td style = \"text-align: left;\">Dracula: Dead and Loving It (1995)</td><td style = \"text-align: left;\">Comedy|Horror</td></tr><tr><td class = \"rowNumber\" style = \"font-weight: bold; text-align: right;\">13</td><td style = \"text-align: right;\">13</td><td style = \"text-align: left;\">Balto (1995)</td><td style = \"text-align: left;\">Adventure|Animation|Children</td></tr><tr><td style = \"text-align: right;\">&vellip;</td><td style = \"text-align: right;\">&vellip;</td><td style = \"text-align: right;\">&vellip;</td><td style = \"text-align: right;\">&vellip;</td></tr><tr><td class = \"rowNumber\" style = \"font-weight: bold; text-align: right;\">62412</td><td style = \"text-align: right;\">209141</td><td style = \"text-align: left;\">And They Lived Happily Ever After (1976)</td><td style = \"text-align: left;\">Comedy</td></tr><tr><td class = \"rowNumber\" style = \"font-weight: bold; text-align: right;\">62413</td><td style = \"text-align: right;\">209143</td><td style = \"text-align: left;\">The Painting (2019)</td><td style = \"text-align: left;\">Animation|Documentary</td></tr><tr><td class = \"rowNumber\" style = \"font-weight: bold; text-align: right;\">62414</td><td style = \"text-align: right;\">209145</td><td style = \"text-align: left;\">Liberté (2019)</td><td style = \"text-align: left;\">Drama</td></tr><tr><td class = \"rowNumber\" style = \"font-weight: bold; text-align: right;\">62415</td><td style = \"text-align: right;\">209147</td><td style = \"text-align: left;\">The Carpet of Horror (1962)</td><td style = \"text-align: left;\">Crime|Horror</td></tr><tr><td class = \"rowNumber\" style = \"font-weight: bold; text-align: right;\">62416</td><td style = \"text-align: right;\">209151</td><td style = \"text-align: left;\">Mao Zedong 1949 (2019)</td><td style = \"text-align: left;\">(no genres listed)</td></tr><tr><td class = \"rowNumber\" style = \"font-weight: bold; text-align: right;\">62417</td><td style = \"text-align: right;\">209153</td><td style = \"text-align: left;\">Happy Flight (2008)</td><td style = \"text-align: left;\">Comedy|Drama</td></tr><tr><td class = \"rowNumber\" style = \"font-weight: bold; text-align: right;\">62418</td><td style = \"text-align: right;\">209155</td><td style = \"text-align: left;\">Santosh Subramaniam (2008)</td><td style = \"text-align: left;\">Action|Comedy|Romance</td></tr><tr><td class = \"rowNumber\" style = \"font-weight: bold; text-align: right;\">62419</td><td style = \"text-align: right;\">209157</td><td style = \"text-align: left;\">We (2018)</td><td style = \"text-align: left;\">Drama</td></tr><tr><td class = \"rowNumber\" style = \"font-weight: bold; text-align: right;\">62420</td><td style = \"text-align: right;\">209159</td><td style = \"text-align: left;\">Window of the Soul (2001)</td><td style = \"text-align: left;\">Documentary</td></tr><tr><td class = \"rowNumber\" style = \"font-weight: bold; text-align: right;\">62421</td><td style = \"text-align: right;\">209163</td><td style = \"text-align: left;\">Bad Poems (2018)</td><td style = \"text-align: left;\">Comedy|Drama</td></tr><tr><td class = \"rowNumber\" style = \"font-weight: bold; text-align: right;\">62422</td><td style = \"text-align: right;\">209169</td><td style = \"text-align: left;\">A Girl Thing (2001)</td><td style = \"text-align: left;\">(no genres listed)</td></tr><tr><td class = \"rowNumber\" style = \"font-weight: bold; text-align: right;\">62423</td><td style = \"text-align: right;\">209171</td><td style = \"text-align: left;\">Women of Devil&apos;s Island (1962)</td><td style = \"text-align: left;\">Action|Adventure|Drama</td></tr></tbody></table></div>"
      ],
      "text/latex": [
       "\\begin{tabular}{r|ccc}\n",
       "\t& movieId & title & genres\\\\\n",
       "\t\\hline\n",
       "\t& Int64 & String & String\\\\\n",
       "\t\\hline\n",
       "\t1 & 1 & Toy Story (1995) & Adventure|Animation|Children|Comedy|Fantasy \\\\\n",
       "\t2 & 2 & Jumanji (1995) & Adventure|Children|Fantasy \\\\\n",
       "\t3 & 3 & Grumpier Old Men (1995) & Comedy|Romance \\\\\n",
       "\t4 & 4 & Waiting to Exhale (1995) & Comedy|Drama|Romance \\\\\n",
       "\t5 & 5 & Father of the Bride Part II (1995) & Comedy \\\\\n",
       "\t6 & 6 & Heat (1995) & Action|Crime|Thriller \\\\\n",
       "\t7 & 7 & Sabrina (1995) & Comedy|Romance \\\\\n",
       "\t8 & 8 & Tom and Huck (1995) & Adventure|Children \\\\\n",
       "\t9 & 9 & Sudden Death (1995) & Action \\\\\n",
       "\t10 & 10 & GoldenEye (1995) & Action|Adventure|Thriller \\\\\n",
       "\t11 & 11 & American President, The (1995) & Comedy|Drama|Romance \\\\\n",
       "\t12 & 12 & Dracula: Dead and Loving It (1995) & Comedy|Horror \\\\\n",
       "\t13 & 13 & Balto (1995) & Adventure|Animation|Children \\\\\n",
       "\t14 & 14 & Nixon (1995) & Drama \\\\\n",
       "\t15 & 15 & Cutthroat Island (1995) & Action|Adventure|Romance \\\\\n",
       "\t16 & 16 & Casino (1995) & Crime|Drama \\\\\n",
       "\t17 & 17 & Sense and Sensibility (1995) & Drama|Romance \\\\\n",
       "\t18 & 18 & Four Rooms (1995) & Comedy \\\\\n",
       "\t19 & 19 & Ace Ventura: When Nature Calls (1995) & Comedy \\\\\n",
       "\t20 & 20 & Money Train (1995) & Action|Comedy|Crime|Drama|Thriller \\\\\n",
       "\t21 & 21 & Get Shorty (1995) & Comedy|Crime|Thriller \\\\\n",
       "\t22 & 22 & Copycat (1995) & Crime|Drama|Horror|Mystery|Thriller \\\\\n",
       "\t23 & 23 & Assassins (1995) & Action|Crime|Thriller \\\\\n",
       "\t24 & 24 & Powder (1995) & Drama|Sci-Fi \\\\\n",
       "\t$\\dots$ & $\\dots$ & $\\dots$ & $\\dots$ \\\\\n",
       "\\end{tabular}\n"
      ],
      "text/plain": [
       "\u001b[1m62423×3 DataFrame\u001b[0m\n",
       "\u001b[1m   Row \u001b[0m│\u001b[1m movieId \u001b[0m\u001b[1m title                             \u001b[0m\u001b[1m genres                   \u001b[0m ⋯\n",
       "       │\u001b[90m Int64   \u001b[0m\u001b[90m String                            \u001b[0m\u001b[90m String                   \u001b[0m ⋯\n",
       "───────┼────────────────────────────────────────────────────────────────────────\n",
       "     1 │       1  Toy Story (1995)                   Adventure|Animation|Child ⋯\n",
       "     2 │       2  Jumanji (1995)                     Adventure|Children|Fantas\n",
       "     3 │       3  Grumpier Old Men (1995)            Comedy|Romance\n",
       "     4 │       4  Waiting to Exhale (1995)           Comedy|Drama|Romance\n",
       "     5 │       5  Father of the Bride Part II (199…  Comedy                    ⋯\n",
       "     6 │       6  Heat (1995)                        Action|Crime|Thriller\n",
       "     7 │       7  Sabrina (1995)                     Comedy|Romance\n",
       "     8 │       8  Tom and Huck (1995)                Adventure|Children\n",
       "   ⋮   │    ⋮                     ⋮                                  ⋮         ⋱\n",
       " 62417 │  209153  Happy Flight (2008)                Comedy|Drama              ⋯\n",
       " 62418 │  209155  Santosh Subramaniam (2008)         Action|Comedy|Romance\n",
       " 62419 │  209157  We (2018)                          Drama\n",
       " 62420 │  209159  Window of the Soul (2001)          Documentary\n",
       " 62421 │  209163  Bad Poems (2018)                   Comedy|Drama              ⋯\n",
       " 62422 │  209169  A Girl Thing (2001)                (no genres listed)\n",
       " 62423 │  209171  Women of Devil's Island (1962)     Action|Adventure|Drama\n",
       "\u001b[36m                                                 1 column and 62408 rows omitted\u001b[0m"
      ]
     },
     "metadata": {},
     "output_type": "display_data"
    }
   ],
   "source": [
    "movies = CSV.read(\"/home/flex/code/code11/ml-25m/movies.csv\", DataFrame)"
   ]
  },
  {
   "cell_type": "code",
   "execution_count": 4,
   "metadata": {},
   "outputs": [
    {
     "name": "stdout",
     "output_type": "stream",
     "text": [
      "War: 1267346 calificaciones\n",
      "Documentary: 322449 calificaciones\n",
      "Action: 7446918 calificaciones\n",
      "Adventure: 5832424 calificaciones\n",
      "Mystery: 2010995 calificaciones\n",
      "Children: 2124258 calificaciones\n",
      "Thriller: 6763272 calificaciones\n",
      "Sci-Fi: 4325740 calificaciones\n",
      "Comedy: 8926230 calificaciones\n",
      "(no genres listed): 26627 calificaciones\n",
      "IMAX: 1063279 calificaciones\n",
      "Fantasy: 2831585 calificaciones\n",
      "Drama: 10962833 calificaciones\n",
      "Animation: 1630987 calificaciones\n",
      "Western: 483731 calificaciones\n",
      "Horror: 1892183 calificaciones\n",
      "Romance: 4497291 calificaciones\n",
      "Film-Noir: 247227 calificaciones\n",
      "Crime: 4190259 calificaciones\n",
      "Musical: 964252 calificaciones\n",
      "Tiempo total de ejecución: 15892 milliseconds\n"
     ]
    }
   ],
   "source": [
    "start_time = now()\n",
    "Threads.@threads for i=1:10\n",
    "    ratings=CSV.read(\"/home/flex/code/code11/movielens_part_\"*string(i)*\".csv\", DataFrame)\n",
    "    count_ratings_by_genre(ratings, movies)\n",
    "end\n",
    "\n",
    "for (genre, count) in finales\n",
    "    println(\"$genre: $count calificaciones\")\n",
    "end\n",
    "end_time = now()\n",
    "total_time = end_time - start_time\n",
    "println(\"Tiempo total de ejecución: \", total_time)"
   ]
  },
  {
   "cell_type": "markdown",
   "metadata": {},
   "source": [
    "Data analysis"
   ]
  },
  {
   "cell_type": "code",
   "execution_count": 7,
   "metadata": {},
   "outputs": [
    {
     "data": {
      "text/plain": [
       "promedioratings (generic function with 1 method)"
      ]
     },
     "metadata": {},
     "output_type": "display_data"
    }
   ],
   "source": [
    "function promedioratings(ratings, movies)\n",
    "    # Unir las tablas por 'movieId'\n",
    "    data1 = innerjoin(ratings, movies, on=:movieId)\n",
    "   \n",
    "    # Inicializar un diccionario para contar las calificaciones por género\n",
    "    genre_pro= Dict{String, Float64}()\n",
    "    genre_count = Dict{String, Int}()\n",
    "   \n",
    "    for row in eachrow(data1)\n",
    "        genres = split(row.genres, \"|\")  # Dividir los géneros por '|'     \n",
    "           \n",
    "        for genre in genres\n",
    "            genre_count[genre] = get(genre_count, genre, 0) + 1\n",
    "            x=data1.genres.== genre\n",
    "            y= data1[x,1:6].rating\n",
    "            z=Base.sum(y)\n",
    "            genre_pro[genre] = z\n",
    "        end\n",
    "    end\n",
    "    return genre_pro\n",
    "end"
   ]
  },
  {
   "cell_type": "code",
   "execution_count": 4,
   "metadata": {},
   "outputs": [
    {
     "data": {
      "text/html": [
       "<div><div style = \"float: left;\"><span>2500009×4 DataFrame</span></div><div style = \"float: right;\"><span style = \"font-style: italic;\">2499984 rows omitted</span></div><div style = \"clear: both;\"></div></div><div class = \"data-frame\" style = \"overflow-x: scroll;\"><table class = \"data-frame\" style = \"margin-bottom: 6px;\"><thead><tr class = \"header\"><th class = \"rowNumber\" style = \"font-weight: bold; text-align: right;\">Row</th><th style = \"text-align: left;\">userId</th><th style = \"text-align: left;\">movieId</th><th style = \"text-align: left;\">rating</th><th style = \"text-align: left;\">timestamp</th></tr><tr class = \"subheader headerLastRow\"><th class = \"rowNumber\" style = \"font-weight: bold; text-align: right;\"></th><th title = \"Int64\" style = \"text-align: left;\">Int64</th><th title = \"Int64\" style = \"text-align: left;\">Int64</th><th title = \"Float64\" style = \"text-align: left;\">Float64</th><th title = \"Int64\" style = \"text-align: left;\">Int64</th></tr></thead><tbody><tr><td class = \"rowNumber\" style = \"font-weight: bold; text-align: right;\">1</td><td style = \"text-align: right;\">1</td><td style = \"text-align: right;\">296</td><td style = \"text-align: right;\">5.0</td><td style = \"text-align: right;\">1147880044</td></tr><tr><td class = \"rowNumber\" style = \"font-weight: bold; text-align: right;\">2</td><td style = \"text-align: right;\">1</td><td style = \"text-align: right;\">306</td><td style = \"text-align: right;\">3.5</td><td style = \"text-align: right;\">1147868817</td></tr><tr><td class = \"rowNumber\" style = \"font-weight: bold; text-align: right;\">3</td><td style = \"text-align: right;\">1</td><td style = \"text-align: right;\">307</td><td style = \"text-align: right;\">5.0</td><td style = \"text-align: right;\">1147868828</td></tr><tr><td class = \"rowNumber\" style = \"font-weight: bold; text-align: right;\">4</td><td style = \"text-align: right;\">1</td><td style = \"text-align: right;\">665</td><td style = \"text-align: right;\">5.0</td><td style = \"text-align: right;\">1147878820</td></tr><tr><td class = \"rowNumber\" style = \"font-weight: bold; text-align: right;\">5</td><td style = \"text-align: right;\">1</td><td style = \"text-align: right;\">899</td><td style = \"text-align: right;\">3.5</td><td style = \"text-align: right;\">1147868510</td></tr><tr><td class = \"rowNumber\" style = \"font-weight: bold; text-align: right;\">6</td><td style = \"text-align: right;\">1</td><td style = \"text-align: right;\">1088</td><td style = \"text-align: right;\">4.0</td><td style = \"text-align: right;\">1147868495</td></tr><tr><td class = \"rowNumber\" style = \"font-weight: bold; text-align: right;\">7</td><td style = \"text-align: right;\">1</td><td style = \"text-align: right;\">1175</td><td style = \"text-align: right;\">3.5</td><td style = \"text-align: right;\">1147868826</td></tr><tr><td class = \"rowNumber\" style = \"font-weight: bold; text-align: right;\">8</td><td style = \"text-align: right;\">1</td><td style = \"text-align: right;\">1217</td><td style = \"text-align: right;\">3.5</td><td style = \"text-align: right;\">1147878326</td></tr><tr><td class = \"rowNumber\" style = \"font-weight: bold; text-align: right;\">9</td><td style = \"text-align: right;\">1</td><td style = \"text-align: right;\">1237</td><td style = \"text-align: right;\">5.0</td><td style = \"text-align: right;\">1147868839</td></tr><tr><td class = \"rowNumber\" style = \"font-weight: bold; text-align: right;\">10</td><td style = \"text-align: right;\">1</td><td style = \"text-align: right;\">1250</td><td style = \"text-align: right;\">4.0</td><td style = \"text-align: right;\">1147868414</td></tr><tr><td class = \"rowNumber\" style = \"font-weight: bold; text-align: right;\">11</td><td style = \"text-align: right;\">1</td><td style = \"text-align: right;\">1260</td><td style = \"text-align: right;\">3.5</td><td style = \"text-align: right;\">1147877857</td></tr><tr><td class = \"rowNumber\" style = \"font-weight: bold; text-align: right;\">12</td><td style = \"text-align: right;\">1</td><td style = \"text-align: right;\">1653</td><td style = \"text-align: right;\">4.0</td><td style = \"text-align: right;\">1147868097</td></tr><tr><td class = \"rowNumber\" style = \"font-weight: bold; text-align: right;\">13</td><td style = \"text-align: right;\">1</td><td style = \"text-align: right;\">2011</td><td style = \"text-align: right;\">2.5</td><td style = \"text-align: right;\">1147868079</td></tr><tr><td style = \"text-align: right;\">&vellip;</td><td style = \"text-align: right;\">&vellip;</td><td style = \"text-align: right;\">&vellip;</td><td style = \"text-align: right;\">&vellip;</td><td style = \"text-align: right;\">&vellip;</td></tr><tr><td class = \"rowNumber\" style = \"font-weight: bold; text-align: right;\">2499998</td><td style = \"text-align: right;\">16658</td><td style = \"text-align: right;\">8847</td><td style = \"text-align: right;\">0.5</td><td style = \"text-align: right;\">1161882948</td></tr><tr><td class = \"rowNumber\" style = \"font-weight: bold; text-align: right;\">2499999</td><td style = \"text-align: right;\">16658</td><td style = \"text-align: right;\">8854</td><td style = \"text-align: right;\">2.5</td><td style = \"text-align: right;\">1161382612</td></tr><tr><td class = \"rowNumber\" style = \"font-weight: bold; text-align: right;\">2500000</td><td style = \"text-align: right;\">16658</td><td style = \"text-align: right;\">8855</td><td style = \"text-align: right;\">1.0</td><td style = \"text-align: right;\">1161888820</td></tr><tr><td class = \"rowNumber\" style = \"font-weight: bold; text-align: right;\">2500001</td><td style = \"text-align: right;\">16658</td><td style = \"text-align: right;\">8865</td><td style = \"text-align: right;\">3.0</td><td style = \"text-align: right;\">1161363921</td></tr><tr><td class = \"rowNumber\" style = \"font-weight: bold; text-align: right;\">2500002</td><td style = \"text-align: right;\">16658</td><td style = \"text-align: right;\">8874</td><td style = \"text-align: right;\">5.0</td><td style = \"text-align: right;\">1161295743</td></tr><tr><td class = \"rowNumber\" style = \"font-weight: bold; text-align: right;\">2500003</td><td style = \"text-align: right;\">16658</td><td style = \"text-align: right;\">8879</td><td style = \"text-align: right;\">4.5</td><td style = \"text-align: right;\">1161366856</td></tr><tr><td class = \"rowNumber\" style = \"font-weight: bold; text-align: right;\">2500004</td><td style = \"text-align: right;\">16658</td><td style = \"text-align: right;\">8880</td><td style = \"text-align: right;\">3.0</td><td style = \"text-align: right;\">1161385074</td></tr><tr><td class = \"rowNumber\" style = \"font-weight: bold; text-align: right;\">2500005</td><td style = \"text-align: right;\">16658</td><td style = \"text-align: right;\">8894</td><td style = \"text-align: right;\">2.5</td><td style = \"text-align: right;\">1161368022</td></tr><tr><td class = \"rowNumber\" style = \"font-weight: bold; text-align: right;\">2500006</td><td style = \"text-align: right;\">16658</td><td style = \"text-align: right;\">8899</td><td style = \"text-align: right;\">5.0</td><td style = \"text-align: right;\">1161367556</td></tr><tr><td class = \"rowNumber\" style = \"font-weight: bold; text-align: right;\">2500007</td><td style = \"text-align: right;\">16658</td><td style = \"text-align: right;\">8910</td><td style = \"text-align: right;\">5.0</td><td style = \"text-align: right;\">1161363672</td></tr><tr><td class = \"rowNumber\" style = \"font-weight: bold; text-align: right;\">2500008</td><td style = \"text-align: right;\">16658</td><td style = \"text-align: right;\">8917</td><td style = \"text-align: right;\">5.0</td><td style = \"text-align: right;\">1161360909</td></tr><tr><td class = \"rowNumber\" style = \"font-weight: bold; text-align: right;\">2500009</td><td style = \"text-align: right;\">16658</td><td style = \"text-align: right;\">8949</td><td style = \"text-align: right;\">5.0</td><td style = \"text-align: right;\">1161293859</td></tr></tbody></table></div>"
      ],
      "text/latex": [
       "\\begin{tabular}{r|cccc}\n",
       "\t& userId & movieId & rating & timestamp\\\\\n",
       "\t\\hline\n",
       "\t& Int64 & Int64 & Float64 & Int64\\\\\n",
       "\t\\hline\n",
       "\t1 & 1 & 296 & 5.0 & 1147880044 \\\\\n",
       "\t2 & 1 & 306 & 3.5 & 1147868817 \\\\\n",
       "\t3 & 1 & 307 & 5.0 & 1147868828 \\\\\n",
       "\t4 & 1 & 665 & 5.0 & 1147878820 \\\\\n",
       "\t5 & 1 & 899 & 3.5 & 1147868510 \\\\\n",
       "\t6 & 1 & 1088 & 4.0 & 1147868495 \\\\\n",
       "\t7 & 1 & 1175 & 3.5 & 1147868826 \\\\\n",
       "\t8 & 1 & 1217 & 3.5 & 1147878326 \\\\\n",
       "\t9 & 1 & 1237 & 5.0 & 1147868839 \\\\\n",
       "\t10 & 1 & 1250 & 4.0 & 1147868414 \\\\\n",
       "\t11 & 1 & 1260 & 3.5 & 1147877857 \\\\\n",
       "\t12 & 1 & 1653 & 4.0 & 1147868097 \\\\\n",
       "\t13 & 1 & 2011 & 2.5 & 1147868079 \\\\\n",
       "\t14 & 1 & 2012 & 2.5 & 1147868068 \\\\\n",
       "\t15 & 1 & 2068 & 2.5 & 1147869044 \\\\\n",
       "\t16 & 1 & 2161 & 3.5 & 1147868609 \\\\\n",
       "\t17 & 1 & 2351 & 4.5 & 1147877957 \\\\\n",
       "\t18 & 1 & 2573 & 4.0 & 1147878923 \\\\\n",
       "\t19 & 1 & 2632 & 5.0 & 1147878248 \\\\\n",
       "\t20 & 1 & 2692 & 5.0 & 1147869100 \\\\\n",
       "\t21 & 1 & 2843 & 4.5 & 1147868891 \\\\\n",
       "\t22 & 1 & 3448 & 4.0 & 1147868480 \\\\\n",
       "\t23 & 1 & 3569 & 5.0 & 1147879603 \\\\\n",
       "\t24 & 1 & 3949 & 5.0 & 1147868678 \\\\\n",
       "\t$\\dots$ & $\\dots$ & $\\dots$ & $\\dots$ & $\\dots$ \\\\\n",
       "\\end{tabular}\n"
      ],
      "text/plain": [
       "\u001b[1m2500009×4 DataFrame\u001b[0m\n",
       "\u001b[1m     Row \u001b[0m│\u001b[1m userId \u001b[0m\u001b[1m movieId \u001b[0m\u001b[1m rating  \u001b[0m\u001b[1m timestamp  \u001b[0m\n",
       "         │\u001b[90m Int64  \u001b[0m\u001b[90m Int64   \u001b[0m\u001b[90m Float64 \u001b[0m\u001b[90m Int64      \u001b[0m\n",
       "─────────┼──────────────────────────────────────\n",
       "       1 │      1      296      5.0  1147880044\n",
       "       2 │      1      306      3.5  1147868817\n",
       "       3 │      1      307      5.0  1147868828\n",
       "       4 │      1      665      5.0  1147878820\n",
       "       5 │      1      899      3.5  1147868510\n",
       "       6 │      1     1088      4.0  1147868495\n",
       "       7 │      1     1175      3.5  1147868826\n",
       "       8 │      1     1217      3.5  1147878326\n",
       "    ⋮    │   ⋮        ⋮        ⋮         ⋮\n",
       " 2500003 │  16658     8879      4.5  1161366856\n",
       " 2500004 │  16658     8880      3.0  1161385074\n",
       " 2500005 │  16658     8894      2.5  1161368022\n",
       " 2500006 │  16658     8899      5.0  1161367556\n",
       " 2500007 │  16658     8910      5.0  1161363672\n",
       " 2500008 │  16658     8917      5.0  1161360909\n",
       " 2500009 │  16658     8949      5.0  1161293859\n",
       "\u001b[36m                            2499994 rows omitted\u001b[0m"
      ]
     },
     "metadata": {},
     "output_type": "display_data"
    }
   ],
   "source": [
    "ratings=CSV.read(\"/home/flex/code/code11/movielens_part_1.csv\", DataFrame)"
   ]
  },
  {
   "cell_type": "code",
   "execution_count": null,
   "metadata": {},
   "outputs": [],
   "source": [
    "start_time = now()\n",
    "Threads.@threads for i=1:1\n",
    "    ratings=CSV.read(\"/home/flex/code/code11/movielens_part_\"*string(i)*\".csv\", DataFrame)\n",
    "    promedioratings(ratings, movies)\n",
    "    \n",
    "end\n",
    "\n",
    "for (genre, count) in genre_count\n",
    "    for (genre, pro) in genre_pro\n",
    "    println(\"$genre: $pro/ $count promedio\")\n",
    "    end\n",
    "end\n",
    "end_time = now()\n",
    "total_time = end_time - start_time\n",
    "println(\"Tiempo total de ejecución: \", total_time)"
   ]
  }
 ],
 "metadata": {
  "kernelspec": {
   "display_name": "Julia 1.11.1",
   "language": "julia",
   "name": "julia-1.11"
  },
  "language_info": {
   "file_extension": ".jl",
   "mimetype": "application/julia",
   "name": "julia",
   "version": "1.11.1"
  }
 },
 "nbformat": 4,
 "nbformat_minor": 2
}
